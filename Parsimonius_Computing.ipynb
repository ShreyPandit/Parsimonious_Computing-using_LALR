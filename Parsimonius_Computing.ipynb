{
  "nbformat": 4,
  "nbformat_minor": 0,
  "metadata": {
    "colab": {
      "name": "Parsimonius_Computing",
      "provenance": [],
      "collapsed_sections": [
        "lCU9koMoHZMs",
        "NOV4OvzpHgxO",
        "tF2-NCvDLGyZ"
      ],
      "authorship_tag": "ABX9TyMHx4gYGc3brY45h884D/EW",
      "include_colab_link": true
    },
    "kernelspec": {
      "name": "python3",
      "display_name": "Python 3"
    },
    "accelerator": "GPU"
  },
  "cells": [
    {
      "cell_type": "markdown",
      "metadata": {
        "id": "view-in-github",
        "colab_type": "text"
      },
      "source": [
        "<a href=\"https://colab.research.google.com/github/ShreyPandit/Parsimonious_Computing_LALR/blob/main/Parsimonius_Computing.ipynb\" target=\"_parent\"><img src=\"https://colab.research.google.com/assets/colab-badge.svg\" alt=\"Open In Colab\"/></a>"
      ]
    },
    {
      "cell_type": "code",
      "metadata": {
        "id": "U4dMsRlbwy-a",
        "outputId": "250da79a-2460-4634-a92f-3caad30e8758",
        "colab": {
          "base_uri": "https://localhost:8080/",
          "height": 34
        }
      },
      "source": [
        "from google.colab import drive\n",
        "drive.mount('/content/drive')"
      ],
      "execution_count": 1,
      "outputs": [
        {
          "output_type": "stream",
          "text": [
            "Mounted at /content/drive\n"
          ],
          "name": "stdout"
        }
      ]
    },
    {
      "cell_type": "code",
      "metadata": {
        "id": "9j6gDlIsw1cx"
      },
      "source": [
        "import pandas as pd\n",
        "import tensorflow as tf\n",
        "from tensorflow import keras\n",
        "from tensorflow.keras.callbacks import LearningRateScheduler\n",
        "import numpy as np\n",
        "import tensorflow as tf"
      ],
      "execution_count": 2,
      "outputs": []
    },
    {
      "cell_type": "code",
      "metadata": {
        "id": "db6ubMnjyDy0",
        "outputId": "7c480fd2-bc96-467c-9660-7734e790dfde",
        "colab": {
          "base_uri": "https://localhost:8080/",
          "height": 34
        }
      },
      "source": [
        "cd drive/My\\ Drive/DATANPY"
      ],
      "execution_count": 3,
      "outputs": [
        {
          "output_type": "stream",
          "text": [
            "/content/drive/.shortcut-targets-by-id/1_2jEwr_tcvvsTgME4u6n8HiqvH1YGhsH/DATANPY\n"
          ],
          "name": "stdout"
        }
      ]
    },
    {
      "cell_type": "code",
      "metadata": {
        "id": "zS6bweauxz8K"
      },
      "source": [
        "x_train = np.load('bgedv2_X_tr_float64.npy')\n",
        "y_train = np.load('bgedv2_Y_tr_0-4760_float64.npy')\n",
        "x_test = np.load('bgedv2_X_te_float64.npy')\n",
        "y_test = np.load('bgedv2_Y_te_0-4760_float64.npy')\n",
        "x_val = np.load('bgedv2_X_va_float64.npy')\n",
        "y_val = np.load('bgedv2_Y_va_0-4760_float64.npy')"
      ],
      "execution_count": 4,
      "outputs": []
    },
    {
      "cell_type": "code",
      "metadata": {
        "id": "ys9I5oAcyPUR",
        "outputId": "974444c9-516f-49b2-a9f5-0f4fa128e509",
        "colab": {
          "base_uri": "https://localhost:8080/",
          "height": 52
        }
      },
      "source": [
        "print(x_train.shape)\n",
        "print(y_train.shape)"
      ],
      "execution_count": null,
      "outputs": [
        {
          "output_type": "stream",
          "text": [
            "(88807, 943)\n",
            "(88807, 4760)\n"
          ],
          "name": "stdout"
        }
      ]
    },
    {
      "cell_type": "code",
      "metadata": {
        "id": "ies7fVNVzLl2",
        "outputId": "a6dfc52d-e335-4a76-84d0-48513401b328",
        "colab": {
          "base_uri": "https://localhost:8080/",
          "height": 52
        }
      },
      "source": [
        "print(x_test.shape)\n",
        "print(y_test.shape)"
      ],
      "execution_count": null,
      "outputs": [
        {
          "output_type": "stream",
          "text": [
            "(11101, 943)\n",
            "(11101, 4760)\n"
          ],
          "name": "stdout"
        }
      ]
    },
    {
      "cell_type": "code",
      "metadata": {
        "id": "Uwr7dsDfzgcR",
        "outputId": "0a731532-3379-4afe-f3b6-8c0dce0c2f0d",
        "colab": {
          "base_uri": "https://localhost:8080/",
          "height": 52
        }
      },
      "source": [
        "print(x_val.shape)\n",
        "print(y_val.shape)"
      ],
      "execution_count": null,
      "outputs": [
        {
          "output_type": "stream",
          "text": [
            "(11101, 943)\n",
            "(11101, 4760)\n"
          ],
          "name": "stdout"
        }
      ]
    },
    {
      "cell_type": "markdown",
      "metadata": {
        "id": "lCU9koMoHZMs"
      },
      "source": [
        "# 3 layered Relu model-LALR"
      ]
    },
    {
      "cell_type": "code",
      "metadata": {
        "id": "IOMXVvws4RR5"
      },
      "source": [
        "from tensorflow.keras import models\n",
        "from tensorflow.keras import layers\n",
        "\n",
        "model = models.Sequential()\n",
        "model.add(layers.Dense(1024, activation='relu', input_shape=(x_train.shape[1],)))\n",
        "model.add(layers.BatchNormalization())\n",
        "model.add(layers.Dense(5120, activation='relu'))\n",
        "model.add(layers.Dropout(0.2))\n",
        "model.add(layers.Dense(4760,activation = 'relu'))"
      ],
      "execution_count": null,
      "outputs": []
    },
    {
      "cell_type": "code",
      "metadata": {
        "id": "D-gUfGAm_9lW",
        "outputId": "2d939a6c-d38d-4eec-a91d-3b14b9f2e7d1",
        "colab": {
          "base_uri": "https://localhost:8080/",
          "height": 330
        }
      },
      "source": [
        "model.summary()"
      ],
      "execution_count": null,
      "outputs": [
        {
          "output_type": "stream",
          "text": [
            "Model: \"sequential\"\n",
            "_________________________________________________________________\n",
            "Layer (type)                 Output Shape              Param #   \n",
            "=================================================================\n",
            "dense (Dense)                (None, 1024)              966656    \n",
            "_________________________________________________________________\n",
            "batch_normalization (BatchNo (None, 1024)              4096      \n",
            "_________________________________________________________________\n",
            "dense_1 (Dense)              (None, 5120)              5248000   \n",
            "_________________________________________________________________\n",
            "dropout (Dropout)            (None, 5120)              0         \n",
            "_________________________________________________________________\n",
            "dense_2 (Dense)              (None, 4760)              24375960  \n",
            "=================================================================\n",
            "Total params: 30,594,712\n",
            "Trainable params: 30,592,664\n",
            "Non-trainable params: 2,048\n",
            "_________________________________________________________________\n"
          ],
          "name": "stdout"
        }
      ]
    },
    {
      "cell_type": "code",
      "metadata": {
        "id": "eleZmBoO_Jyc"
      },
      "source": [
        "from tensorflow.keras import backend as K\n",
        "func_pen = K.function([model.layers[0].input], [model.layers[-2].output])\n",
        "func_last = K.function([model.layers[0].input], [model.layers[-1].output])"
      ],
      "execution_count": null,
      "outputs": []
    },
    {
      "cell_type": "code",
      "metadata": {
        "id": "RxhI8BapB87z"
      },
      "source": [
        "lrs = []\n",
        "K1 = 0.\n",
        "beta1 = 0.9\n",
        "batch_size=200\n",
        "from tqdm import tqdm"
      ],
      "execution_count": null,
      "outputs": []
    },
    {
      "cell_type": "code",
      "metadata": {
        "id": "jsUU6YCT_Mut"
      },
      "source": [
        "def lr_schedule(epoch):\n",
        "    global K1\n",
        "\n",
        "    Kz = 0.\n",
        "    Ka = 0.\n",
        "    y_norm = 0.\n",
        "    \n",
        "    for i in tqdm(range((len(x_train) - 1) // batch_size + 1)):\n",
        "        start_i = i * batch_size\n",
        "        end_i = start_i + batch_size\n",
        "        xb = x_train[start_i:end_i]\n",
        "        yb = y_train[start_i:end_i]\n",
        "    \t\n",
        "        tmp_pen = np.array(func_pen([xb]))\n",
        "        activ_pen = np.linalg.norm(tmp_pen)\n",
        "        \n",
        "        if activ_pen > Kz:\n",
        "            Kz = activ_pen\n",
        "\n",
        "        tmp_last = np.array(func_last([xb]))\n",
        "        activ_last = np.linalg.norm(tmp_last)\n",
        "        \n",
        "        if activ_last > Ka:\n",
        "            Ka = activ_last\n",
        "        \n",
        "        y_norms = np.linalg.norm(np.array(yb))\n",
        "        if y_norms > y_norm:\n",
        "            y_norm = y_norms\n",
        "\n",
        "\n",
        "    print(\"The value of K_z is \",Kz, \" The value of Ka is \",Ka, \" Value of y is \",y_norm)\n",
        "    K1 = (1/batch_size)*(Ka + y_norm)*Kz\n",
        "    lr = 1 / K1\n",
        "    lr = lr*0.3\n",
        "    lrs.append(lr)\n",
        "    print('Epoch', epoch, 'LR =', lr)\n",
        "    return lr\n"
      ],
      "execution_count": null,
      "outputs": []
    },
    {
      "cell_type": "code",
      "metadata": {
        "id": "TIAzkoS2Baps"
      },
      "source": [
        "lr_scheduler = LearningRateScheduler(lr_schedule)"
      ],
      "execution_count": null,
      "outputs": []
    },
    {
      "cell_type": "code",
      "metadata": {
        "id": "GNz-Y2jABgGH"
      },
      "source": [
        "from tensorflow.keras.optimizers import SGD\n",
        "optimizer = 'adam'\n",
        "model.compile(loss='mae', optimizer=optimizer, metrics=[\"mse\"])"
      ],
      "execution_count": null,
      "outputs": []
    },
    {
      "cell_type": "code",
      "metadata": {
        "id": "6RZgjCDSBjK9",
        "outputId": "9001f639-7aea-4d0f-93b1-d7198f015e0c",
        "colab": {
          "base_uri": "https://localhost:8080/",
          "height": 1000
        }
      },
      "source": [
        "history=model.fit(x_train, y_train, epochs = 100, batch_size = 200,validation_data=(x_test,y_test),callbacks=[lr_scheduler])"
      ],
      "execution_count": null,
      "outputs": [
        {
          "output_type": "stream",
          "text": [
            "100%|██████████| 445/445 [00:10<00:00, 42.21it/s]\n"
          ],
          "name": "stderr"
        },
        {
          "output_type": "stream",
          "text": [
            "The value of K_z is  303.42325  The value of Ka is  214.33691  Value of y is  1052.7268806322327\n",
            "Epoch 0 LR = 0.00015606442461437985\n",
            "Epoch 1/100\n",
            "445/445 [==============================] - 8s 19ms/step - loss: 0.6360 - mse: 0.7491 - val_loss: 0.5975 - val_mse: 0.6808\n"
          ],
          "name": "stdout"
        },
        {
          "output_type": "stream",
          "text": [
            "100%|██████████| 445/445 [00:07<00:00, 58.53it/s]"
          ],
          "name": "stderr"
        },
        {
          "output_type": "stream",
          "text": [
            "The value of K_z is  362.35773  The value of Ka is  604.2255  Value of y is  1052.7268806322327\n",
            "Epoch 1 LR = 9.993179530042122e-05\n",
            "Epoch 2/100\n",
            "\r  1/445 [..............................] - ETA: 0s - loss: 0.6219 - mse: 0.7708"
          ],
          "name": "stdout"
        },
        {
          "output_type": "stream",
          "text": [
            "\n"
          ],
          "name": "stderr"
        },
        {
          "output_type": "stream",
          "text": [
            "445/445 [==============================] - 8s 18ms/step - loss: 0.5938 - mse: 0.6627 - val_loss: 0.5818 - val_mse: 0.6500\n"
          ],
          "name": "stdout"
        },
        {
          "output_type": "stream",
          "text": [
            "100%|██████████| 445/445 [00:07<00:00, 58.37it/s]\n"
          ],
          "name": "stderr"
        },
        {
          "output_type": "stream",
          "text": [
            "The value of K_z is  333.32672  The value of Ka is  629.8015  Value of y is  1052.7268806322327\n",
            "Epoch 2 LR = 0.00010698397200120858\n",
            "Epoch 3/100\n",
            "445/445 [==============================] - 8s 18ms/step - loss: 0.5824 - mse: 0.6398 - val_loss: 0.5733 - val_mse: 0.6326\n"
          ],
          "name": "stdout"
        },
        {
          "output_type": "stream",
          "text": [
            "100%|██████████| 445/445 [00:07<00:00, 58.76it/s]"
          ],
          "name": "stderr"
        },
        {
          "output_type": "stream",
          "text": [
            "The value of K_z is  317.5613  The value of Ka is  648.70966  Value of y is  1052.7268806322327\n",
            "Epoch 3 LR = 0.00011104727639380468\n",
            "Epoch 4/100\n",
            "\r  1/445 [..............................] - ETA: 0s - loss: 0.5910 - mse: 0.6947"
          ],
          "name": "stdout"
        },
        {
          "output_type": "stream",
          "text": [
            "\n"
          ],
          "name": "stderr"
        },
        {
          "output_type": "stream",
          "text": [
            "445/445 [==============================] - 8s 18ms/step - loss: 0.5739 - mse: 0.6232 - val_loss: 0.5666 - val_mse: 0.6191\n"
          ],
          "name": "stdout"
        },
        {
          "output_type": "stream",
          "text": [
            "100%|██████████| 445/445 [00:07<00:00, 59.79it/s]"
          ],
          "name": "stderr"
        },
        {
          "output_type": "stream",
          "text": [
            "The value of K_z is  306.7667  The value of Ka is  667.5639  Value of y is  1052.7268806322327\n",
            "Epoch 4 LR = 0.00011369495203629074\n",
            "Epoch 5/100\n",
            "  4/445 [..............................] - ETA: 7s - loss: 0.5633 - mse: 0.5941"
          ],
          "name": "stdout"
        },
        {
          "output_type": "stream",
          "text": [
            "\n"
          ],
          "name": "stderr"
        },
        {
          "output_type": "stream",
          "text": [
            "445/445 [==============================] - 8s 18ms/step - loss: 0.5675 - mse: 0.6100 - val_loss: 0.5614 - val_mse: 0.6083\n"
          ],
          "name": "stdout"
        },
        {
          "output_type": "stream",
          "text": [
            "100%|██████████| 445/445 [00:07<00:00, 59.40it/s]"
          ],
          "name": "stderr"
        },
        {
          "output_type": "stream",
          "text": [
            "The value of K_z is  296.48236  The value of Ka is  665.9836  Value of y is  1052.7268806322327\n",
            "Epoch 5 LR = 0.00011774695085166382\n",
            "Epoch 6/100\n",
            "  4/445 [..............................] - ETA: 6s - loss: 0.5650 - mse: 0.6095"
          ],
          "name": "stdout"
        },
        {
          "output_type": "stream",
          "text": [
            "\n"
          ],
          "name": "stderr"
        },
        {
          "output_type": "stream",
          "text": [
            "445/445 [==============================] - 8s 18ms/step - loss: 0.5626 - mse: 0.6003 - val_loss: 0.5578 - val_mse: 0.6002\n"
          ],
          "name": "stdout"
        },
        {
          "output_type": "stream",
          "text": [
            "100%|██████████| 445/445 [00:07<00:00, 59.37it/s]"
          ],
          "name": "stderr"
        },
        {
          "output_type": "stream",
          "text": [
            "The value of K_z is  288.15045  The value of Ka is  662.5668  Value of y is  1052.7268806322327\n",
            "Epoch 6 LR = 0.0001213929498991842\n",
            "Epoch 7/100\n",
            "\r  1/445 [..............................] - ETA: 0s - loss: 0.5545 - mse: 0.5702"
          ],
          "name": "stdout"
        },
        {
          "output_type": "stream",
          "text": [
            "\n"
          ],
          "name": "stderr"
        },
        {
          "output_type": "stream",
          "text": [
            "445/445 [==============================] - 8s 18ms/step - loss: 0.5582 - mse: 0.5912 - val_loss: 0.5544 - val_mse: 0.5929\n"
          ],
          "name": "stdout"
        },
        {
          "output_type": "stream",
          "text": [
            "100%|██████████| 445/445 [00:07<00:00, 60.06it/s]\n"
          ],
          "name": "stderr"
        },
        {
          "output_type": "stream",
          "text": [
            "The value of K_z is  283.31125  The value of Ka is  675.48737  Value of y is  1052.7268806322327\n",
            "Epoch 7 LR = 0.00012254337893486555\n",
            "Epoch 8/100\n",
            "445/445 [==============================] - 8s 18ms/step - loss: 0.5548 - mse: 0.5842 - val_loss: 0.5518 - val_mse: 0.5869\n"
          ],
          "name": "stdout"
        },
        {
          "output_type": "stream",
          "text": [
            "100%|██████████| 445/445 [00:07<00:00, 59.61it/s]"
          ],
          "name": "stderr"
        },
        {
          "output_type": "stream",
          "text": [
            "The value of K_z is  278.0511  The value of Ka is  687.074  Value of y is  1052.7268806322327\n",
            "Epoch 8 LR = 0.0001240301057705413\n",
            "Epoch 9/100\n",
            "\r  1/445 [..............................] - ETA: 0s - loss: 0.5551 - mse: 0.5891"
          ],
          "name": "stdout"
        },
        {
          "output_type": "stream",
          "text": [
            "\n"
          ],
          "name": "stderr"
        },
        {
          "output_type": "stream",
          "text": [
            "445/445 [==============================] - 8s 18ms/step - loss: 0.5518 - mse: 0.5779 - val_loss: 0.5495 - val_mse: 0.5814\n"
          ],
          "name": "stdout"
        },
        {
          "output_type": "stream",
          "text": [
            "100%|██████████| 445/445 [00:07<00:00, 59.16it/s]"
          ],
          "name": "stderr"
        },
        {
          "output_type": "stream",
          "text": [
            "The value of K_z is  275.67795  The value of Ka is  694.47205  Value of y is  1052.7268806322327\n",
            "Epoch 9 LR = 0.0001245681081448461\n",
            "Epoch 10/100\n",
            "  4/445 [..............................] - ETA: 6s - loss: 0.5535 - mse: 0.5816"
          ],
          "name": "stdout"
        },
        {
          "output_type": "stream",
          "text": [
            "\n"
          ],
          "name": "stderr"
        },
        {
          "output_type": "stream",
          "text": [
            "445/445 [==============================] - 8s 18ms/step - loss: 0.5493 - mse: 0.5723 - val_loss: 0.5475 - val_mse: 0.5773\n"
          ],
          "name": "stdout"
        },
        {
          "output_type": "stream",
          "text": [
            "100%|██████████| 445/445 [00:07<00:00, 59.94it/s]"
          ],
          "name": "stderr"
        },
        {
          "output_type": "stream",
          "text": [
            "The value of K_z is  271.84354  The value of Ka is  703.1498  Value of y is  1052.7268806322327\n",
            "Epoch 10 LR = 0.00012570085534727952\n",
            "Epoch 11/100\n",
            "\r  1/445 [..............................] - ETA: 0s - loss: 0.5493 - mse: 0.5610"
          ],
          "name": "stdout"
        },
        {
          "output_type": "stream",
          "text": [
            "\n"
          ],
          "name": "stderr"
        },
        {
          "output_type": "stream",
          "text": [
            "445/445 [==============================] - 8s 19ms/step - loss: 0.5470 - mse: 0.5679 - val_loss: 0.5458 - val_mse: 0.5741\n"
          ],
          "name": "stdout"
        },
        {
          "output_type": "stream",
          "text": [
            "100%|██████████| 445/445 [00:07<00:00, 59.02it/s]"
          ],
          "name": "stderr"
        },
        {
          "output_type": "stream",
          "text": [
            "The value of K_z is  270.67603  The value of Ka is  701.1274  Value of y is  1052.7268806322327\n",
            "Epoch 11 LR = 0.0001263886157960504\n",
            "Epoch 12/100\n",
            "\r  1/445 [..............................] - ETA: 0s - loss: 0.5393 - mse: 0.5500"
          ],
          "name": "stdout"
        },
        {
          "output_type": "stream",
          "text": [
            "\n"
          ],
          "name": "stderr"
        },
        {
          "output_type": "stream",
          "text": [
            "445/445 [==============================] - 8s 19ms/step - loss: 0.5454 - mse: 0.5650 - val_loss: 0.5445 - val_mse: 0.5714\n"
          ],
          "name": "stdout"
        },
        {
          "output_type": "stream",
          "text": [
            "100%|██████████| 445/445 [00:07<00:00, 58.18it/s]"
          ],
          "name": "stderr"
        },
        {
          "output_type": "stream",
          "text": [
            "The value of K_z is  266.52997  The value of Ka is  690.65424  Value of y is  1052.7268806322327\n",
            "Epoch 12 LR = 0.0001291257524287936\n",
            "Epoch 13/100\n",
            "\r  1/445 [..............................] - ETA: 0s - loss: 0.5518 - mse: 0.5912"
          ],
          "name": "stdout"
        },
        {
          "output_type": "stream",
          "text": [
            "\n"
          ],
          "name": "stderr"
        },
        {
          "output_type": "stream",
          "text": [
            "445/445 [==============================] - 8s 19ms/step - loss: 0.5439 - mse: 0.5622 - val_loss: 0.5437 - val_mse: 0.5698\n"
          ],
          "name": "stdout"
        },
        {
          "output_type": "stream",
          "text": [
            "100%|██████████| 445/445 [00:07<00:00, 60.01it/s]"
          ],
          "name": "stderr"
        },
        {
          "output_type": "stream",
          "text": [
            "The value of K_z is  265.824  The value of Ka is  708.7122  Value of y is  1052.7268806322327\n",
            "Epoch 13 LR = 0.00012814138708827587\n",
            "Epoch 14/100\n",
            "  4/445 [..............................] - ETA: 7s - loss: 0.5570 - mse: 0.5924"
          ],
          "name": "stdout"
        },
        {
          "output_type": "stream",
          "text": [
            "\n"
          ],
          "name": "stderr"
        },
        {
          "output_type": "stream",
          "text": [
            "445/445 [==============================] - 8s 19ms/step - loss: 0.5426 - mse: 0.5600 - val_loss: 0.5426 - val_mse: 0.5681\n"
          ],
          "name": "stdout"
        },
        {
          "output_type": "stream",
          "text": [
            "100%|██████████| 445/445 [00:07<00:00, 58.13it/s]"
          ],
          "name": "stderr"
        },
        {
          "output_type": "stream",
          "text": [
            "The value of K_z is  263.4349  The value of Ka is  700.8378  Value of y is  1052.7268806322327\n",
            "Epoch 14 LR = 0.00012988414312865485\n",
            "Epoch 15/100\n",
            "  4/445 [..............................] - ETA: 7s - loss: 0.5402 - mse: 0.5488"
          ],
          "name": "stdout"
        },
        {
          "output_type": "stream",
          "text": [
            "\n"
          ],
          "name": "stderr"
        },
        {
          "output_type": "stream",
          "text": [
            "445/445 [==============================] - 8s 19ms/step - loss: 0.5414 - mse: 0.5575 - val_loss: 0.5416 - val_mse: 0.5657\n"
          ],
          "name": "stdout"
        },
        {
          "output_type": "stream",
          "text": [
            "100%|██████████| 445/445 [00:07<00:00, 56.72it/s]\n"
          ],
          "name": "stderr"
        },
        {
          "output_type": "stream",
          "text": [
            "The value of K_z is  262.31476  The value of Ka is  702.5485  Value of y is  1052.7268806322327\n",
            "Epoch 15 LR = 0.00013031165417432312\n",
            "Epoch 16/100\n",
            "445/445 [==============================] - 8s 19ms/step - loss: 0.5403 - mse: 0.5552 - val_loss: 0.5414 - val_mse: 0.5646\n"
          ],
          "name": "stdout"
        },
        {
          "output_type": "stream",
          "text": [
            "100%|██████████| 445/445 [00:07<00:00, 58.59it/s]"
          ],
          "name": "stderr"
        },
        {
          "output_type": "stream",
          "text": [
            "The value of K_z is  261.9824  The value of Ka is  718.65497  Value of y is  1052.7268806322327\n",
            "Epoch 16 LR = 0.00012929060215810677\n",
            "Epoch 17/100\n",
            "\r  1/445 [..............................] - ETA: 0s - loss: 0.5365 - mse: 0.5502"
          ],
          "name": "stdout"
        },
        {
          "output_type": "stream",
          "text": [
            "\n"
          ],
          "name": "stderr"
        },
        {
          "output_type": "stream",
          "text": [
            "445/445 [==============================] - 8s 19ms/step - loss: 0.5390 - mse: 0.5529 - val_loss: 0.5398 - val_mse: 0.5623\n"
          ],
          "name": "stdout"
        },
        {
          "output_type": "stream",
          "text": [
            "100%|██████████| 445/445 [00:07<00:00, 59.71it/s]\n"
          ],
          "name": "stderr"
        },
        {
          "output_type": "stream",
          "text": [
            "The value of K_z is  260.663  The value of Ka is  718.43225  Value of y is  1052.7268806322327\n",
            "Epoch 17 LR = 0.00012996137209900918\n",
            "Epoch 18/100\n",
            "445/445 [==============================] - 8s 19ms/step - loss: 0.5380 - mse: 0.5508 - val_loss: 0.5397 - val_mse: 0.5609\n"
          ],
          "name": "stdout"
        },
        {
          "output_type": "stream",
          "text": [
            "100%|██████████| 445/445 [00:07<00:00, 57.90it/s]\n"
          ],
          "name": "stderr"
        },
        {
          "output_type": "stream",
          "text": [
            "The value of K_z is  257.92535  The value of Ka is  691.9485  Value of y is  1052.7268806322327\n",
            "Epoch 18 LR = 0.00013333451507857892\n",
            "Epoch 19/100\n",
            "445/445 [==============================] - 8s 19ms/step - loss: 0.5372 - mse: 0.5491 - val_loss: 0.5385 - val_mse: 0.5595\n"
          ],
          "name": "stdout"
        },
        {
          "output_type": "stream",
          "text": [
            "100%|██████████| 445/445 [00:07<00:00, 58.25it/s]\n"
          ],
          "name": "stderr"
        },
        {
          "output_type": "stream",
          "text": [
            "The value of K_z is  257.9734  The value of Ka is  711.98846  Value of y is  1052.7268806322327\n",
            "Epoch 19 LR = 0.00013179583313840707\n",
            "Epoch 20/100\n",
            "445/445 [==============================] - 8s 19ms/step - loss: 0.5363 - mse: 0.5475 - val_loss: 0.5379 - val_mse: 0.5583\n"
          ],
          "name": "stdout"
        },
        {
          "output_type": "stream",
          "text": [
            "100%|██████████| 445/445 [00:07<00:00, 58.83it/s]"
          ],
          "name": "stderr"
        },
        {
          "output_type": "stream",
          "text": [
            "The value of K_z is  257.29654  The value of Ka is  709.1867  Value of y is  1052.7268806322327\n",
            "Epoch 20 LR = 0.0001323526681394769\n",
            "Epoch 21/100\n",
            "\r  1/445 [..............................] - ETA: 0s - loss: 0.5316 - mse: 0.5386"
          ],
          "name": "stdout"
        },
        {
          "output_type": "stream",
          "text": [
            "\n"
          ],
          "name": "stderr"
        },
        {
          "output_type": "stream",
          "text": [
            "445/445 [==============================] - 8s 19ms/step - loss: 0.5356 - mse: 0.5460 - val_loss: 0.5375 - val_mse: 0.5576\n"
          ],
          "name": "stdout"
        },
        {
          "output_type": "stream",
          "text": [
            "100%|██████████| 445/445 [00:07<00:00, 59.27it/s]\n"
          ],
          "name": "stderr"
        },
        {
          "output_type": "stream",
          "text": [
            "The value of K_z is  255.85652  The value of Ka is  713.5216  Value of y is  1052.7268806322327\n",
            "Epoch 21 LR = 0.00013277091743941908\n",
            "Epoch 22/100\n",
            "445/445 [==============================] - 8s 19ms/step - loss: 0.5351 - mse: 0.5449 - val_loss: 0.5374 - val_mse: 0.5565\n"
          ],
          "name": "stdout"
        },
        {
          "output_type": "stream",
          "text": [
            "100%|██████████| 445/445 [00:07<00:00, 56.94it/s]\n"
          ],
          "name": "stderr"
        },
        {
          "output_type": "stream",
          "text": [
            "The value of K_z is  256.19855  The value of Ka is  715.636  Value of y is  1052.7268806322327\n",
            "Epoch 22 LR = 0.0001324351295239907\n",
            "Epoch 23/100\n",
            "445/445 [==============================] - 8s 19ms/step - loss: 0.5344 - mse: 0.5435 - val_loss: 0.5369 - val_mse: 0.5555\n"
          ],
          "name": "stdout"
        },
        {
          "output_type": "stream",
          "text": [
            "100%|██████████| 445/445 [00:07<00:00, 59.04it/s]"
          ],
          "name": "stderr"
        },
        {
          "output_type": "stream",
          "text": [
            "The value of K_z is  253.90863  The value of Ka is  711.982  Value of y is  1052.7268806322327\n",
            "Epoch 23 LR = 0.00013390620983241662\n",
            "Epoch 24/100\n",
            "\r  1/445 [..............................] - ETA: 0s - loss: 0.5368 - mse: 0.5415"
          ],
          "name": "stdout"
        },
        {
          "output_type": "stream",
          "text": [
            "\n"
          ],
          "name": "stderr"
        },
        {
          "output_type": "stream",
          "text": [
            "445/445 [==============================] - 8s 19ms/step - loss: 0.5339 - mse: 0.5425 - val_loss: 0.5363 - val_mse: 0.5545\n"
          ],
          "name": "stdout"
        },
        {
          "output_type": "stream",
          "text": [
            "100%|██████████| 445/445 [00:07<00:00, 58.94it/s]\n"
          ],
          "name": "stderr"
        },
        {
          "output_type": "stream",
          "text": [
            "The value of K_z is  255.11096  The value of Ka is  717.06525  Value of y is  1052.7268806322327\n",
            "Epoch 24 LR = 0.0001328923163131343\n",
            "Epoch 25/100\n",
            "445/445 [==============================] - 8s 19ms/step - loss: 0.5333 - mse: 0.5414 - val_loss: 0.5361 - val_mse: 0.5542\n"
          ],
          "name": "stdout"
        },
        {
          "output_type": "stream",
          "text": [
            "100%|██████████| 445/445 [00:07<00:00, 58.32it/s]\n"
          ],
          "name": "stderr"
        },
        {
          "output_type": "stream",
          "text": [
            "The value of K_z is  253.00848  The value of Ka is  717.4181  Value of y is  1052.7268806322327\n",
            "Epoch 25 LR = 0.00013396993001325787\n",
            "Epoch 26/100\n",
            "445/445 [==============================] - 8s 19ms/step - loss: 0.5328 - mse: 0.5402 - val_loss: 0.5356 - val_mse: 0.5532\n"
          ],
          "name": "stdout"
        },
        {
          "output_type": "stream",
          "text": [
            "100%|██████████| 445/445 [00:07<00:00, 57.09it/s]"
          ],
          "name": "stderr"
        },
        {
          "output_type": "stream",
          "text": [
            "The value of K_z is  254.27051  The value of Ka is  719.43555  Value of y is  1052.7268806322327\n",
            "Epoch 26 LR = 0.00013315323903006712\n",
            "Epoch 27/100\n",
            "\r  1/445 [..............................] - ETA: 0s - loss: 0.5277 - mse: 0.5143"
          ],
          "name": "stdout"
        },
        {
          "output_type": "stream",
          "text": [
            "\n"
          ],
          "name": "stderr"
        },
        {
          "output_type": "stream",
          "text": [
            "445/445 [==============================] - 8s 19ms/step - loss: 0.5322 - mse: 0.5391 - val_loss: 0.5354 - val_mse: 0.5525\n"
          ],
          "name": "stdout"
        },
        {
          "output_type": "stream",
          "text": [
            "100%|██████████| 445/445 [00:07<00:00, 58.14it/s]\n"
          ],
          "name": "stderr"
        },
        {
          "output_type": "stream",
          "text": [
            "The value of K_z is  254.0845  The value of Ka is  742.08777  Value of y is  1052.7268806322327\n",
            "Epoch 27 LR = 0.00013156896762339242\n",
            "Epoch 28/100\n",
            "445/445 [==============================] - 8s 19ms/step - loss: 0.5318 - mse: 0.5380 - val_loss: 0.5349 - val_mse: 0.5515\n"
          ],
          "name": "stdout"
        },
        {
          "output_type": "stream",
          "text": [
            "100%|██████████| 445/445 [00:07<00:00, 56.46it/s]\n"
          ],
          "name": "stderr"
        },
        {
          "output_type": "stream",
          "text": [
            "The value of K_z is  252.59795  The value of Ka is  729.44867  Value of y is  1052.7268806322327\n",
            "Epoch 28 LR = 0.00013328183215065094\n",
            "Epoch 29/100\n",
            "445/445 [==============================] - 8s 19ms/step - loss: 0.5314 - mse: 0.5373 - val_loss: 0.5346 - val_mse: 0.5512\n"
          ],
          "name": "stdout"
        },
        {
          "output_type": "stream",
          "text": [
            "100%|██████████| 445/445 [00:07<00:00, 58.19it/s]"
          ],
          "name": "stderr"
        },
        {
          "output_type": "stream",
          "text": [
            "The value of K_z is  251.65102  The value of Ka is  725.572  Value of y is  1052.7268806322327\n",
            "Epoch 29 LR = 0.0001340749987186585\n",
            "Epoch 30/100\n",
            "  4/445 [..............................] - ETA: 7s - loss: 0.5311 - mse: 0.5365"
          ],
          "name": "stdout"
        },
        {
          "output_type": "stream",
          "text": [
            "\n"
          ],
          "name": "stderr"
        },
        {
          "output_type": "stream",
          "text": [
            "445/445 [==============================] - 8s 19ms/step - loss: 0.5309 - mse: 0.5365 - val_loss: 0.5347 - val_mse: 0.5507\n"
          ],
          "name": "stdout"
        },
        {
          "output_type": "stream",
          "text": [
            "100%|██████████| 445/445 [00:07<00:00, 56.64it/s]\n"
          ],
          "name": "stderr"
        },
        {
          "output_type": "stream",
          "text": [
            "The value of K_z is  249.70747  The value of Ka is  715.7589  Value of y is  1052.7268806322327\n",
            "Epoch 30 LR = 0.00013586829777998923\n",
            "Epoch 31/100\n",
            "445/445 [==============================] - 8s 19ms/step - loss: 0.5307 - mse: 0.5360 - val_loss: 0.5342 - val_mse: 0.5505\n"
          ],
          "name": "stdout"
        },
        {
          "output_type": "stream",
          "text": [
            "100%|██████████| 445/445 [00:07<00:00, 58.56it/s]\n"
          ],
          "name": "stderr"
        },
        {
          "output_type": "stream",
          "text": [
            "The value of K_z is  248.53238  The value of Ka is  717.8165  Value of y is  1052.7268806322327\n",
            "Epoch 31 LR = 0.000136352057032098\n",
            "Epoch 32/100\n",
            "445/445 [==============================] - 8s 19ms/step - loss: 0.5304 - mse: 0.5354 - val_loss: 0.5341 - val_mse: 0.5500\n"
          ],
          "name": "stdout"
        },
        {
          "output_type": "stream",
          "text": [
            "100%|██████████| 445/445 [00:07<00:00, 59.35it/s]"
          ],
          "name": "stderr"
        },
        {
          "output_type": "stream",
          "text": [
            "The value of K_z is  248.2188  The value of Ka is  727.04486  Value of y is  1052.7268806322327\n",
            "Epoch 32 LR = 0.0001358164201460795\n",
            "Epoch 33/100\n",
            "\r  1/445 [..............................] - ETA: 0s - loss: 0.5338 - mse: 0.5529"
          ],
          "name": "stdout"
        },
        {
          "output_type": "stream",
          "text": [
            "\n"
          ],
          "name": "stderr"
        },
        {
          "output_type": "stream",
          "text": [
            "445/445 [==============================] - 8s 19ms/step - loss: 0.5300 - mse: 0.5347 - val_loss: 0.5338 - val_mse: 0.5495\n"
          ],
          "name": "stdout"
        },
        {
          "output_type": "stream",
          "text": [
            "100%|██████████| 445/445 [00:07<00:00, 58.79it/s]"
          ],
          "name": "stderr"
        },
        {
          "output_type": "stream",
          "text": [
            "The value of K_z is  247.67618  The value of Ka is  721.9669  Value of y is  1052.7268806322327\n",
            "Epoch 33 LR = 0.0001365034353140468\n",
            "Epoch 34/100\n",
            "  4/445 [..............................] - ETA: 6s - loss: 0.5296 - mse: 0.5193"
          ],
          "name": "stdout"
        },
        {
          "output_type": "stream",
          "text": [
            "\n"
          ],
          "name": "stderr"
        },
        {
          "output_type": "stream",
          "text": [
            "445/445 [==============================] - 8s 19ms/step - loss: 0.5299 - mse: 0.5342 - val_loss: 0.5337 - val_mse: 0.5492\n"
          ],
          "name": "stdout"
        },
        {
          "output_type": "stream",
          "text": [
            "100%|██████████| 445/445 [00:07<00:00, 58.28it/s]\n"
          ],
          "name": "stderr"
        },
        {
          "output_type": "stream",
          "text": [
            "The value of K_z is  247.7818  The value of Ka is  731.7279  Value of y is  1052.7268806322327\n",
            "Epoch 34 LR = 0.00013569889139621386\n",
            "Epoch 35/100\n",
            "445/445 [==============================] - 9s 19ms/step - loss: 0.5294 - mse: 0.5334 - val_loss: 0.5339 - val_mse: 0.5489\n"
          ],
          "name": "stdout"
        },
        {
          "output_type": "stream",
          "text": [
            "100%|██████████| 445/445 [00:07<00:00, 57.14it/s]\n"
          ],
          "name": "stderr"
        },
        {
          "output_type": "stream",
          "text": [
            "The value of K_z is  247.3514  The value of Ka is  726.3576  Value of y is  1052.7268806322327\n",
            "Epoch 35 LR = 0.00013634534479203077\n",
            "Epoch 36/100\n",
            "445/445 [==============================] - 8s 19ms/step - loss: 0.5291 - mse: 0.5328 - val_loss: 0.5332 - val_mse: 0.5485\n"
          ],
          "name": "stdout"
        },
        {
          "output_type": "stream",
          "text": [
            "100%|██████████| 445/445 [00:07<00:00, 58.32it/s]"
          ],
          "name": "stderr"
        },
        {
          "output_type": "stream",
          "text": [
            "The value of K_z is  245.69441  The value of Ka is  726.4463  Value of y is  1052.7268806322327\n",
            "Epoch 36 LR = 0.00013725802645124044\n",
            "Epoch 37/100\n",
            "\r  1/445 [..............................] - ETA: 0s - loss: 0.5207 - mse: 0.5155"
          ],
          "name": "stdout"
        },
        {
          "output_type": "stream",
          "text": [
            "\n"
          ],
          "name": "stderr"
        },
        {
          "output_type": "stream",
          "text": [
            "445/445 [==============================] - 8s 19ms/step - loss: 0.5289 - mse: 0.5324 - val_loss: 0.5336 - val_mse: 0.5488\n"
          ],
          "name": "stdout"
        },
        {
          "output_type": "stream",
          "text": [
            "100%|██████████| 445/445 [00:07<00:00, 59.45it/s]"
          ],
          "name": "stderr"
        },
        {
          "output_type": "stream",
          "text": [
            "The value of K_z is  245.67368  The value of Ka is  731.5297  Value of y is  1052.7268806322327\n",
            "Epoch 37 LR = 0.0001368785241602406\n",
            "Epoch 38/100\n",
            "\r  1/445 [..............................] - ETA: 0s - loss: 0.5362 - mse: 0.5428"
          ],
          "name": "stdout"
        },
        {
          "output_type": "stream",
          "text": [
            "\n"
          ],
          "name": "stderr"
        },
        {
          "output_type": "stream",
          "text": [
            "445/445 [==============================] - 8s 19ms/step - loss: 0.5286 - mse: 0.5318 - val_loss: 0.5334 - val_mse: 0.5485\n"
          ],
          "name": "stdout"
        },
        {
          "output_type": "stream",
          "text": [
            "100%|██████████| 445/445 [00:07<00:00, 59.72it/s]"
          ],
          "name": "stderr"
        },
        {
          "output_type": "stream",
          "text": [
            "The value of K_z is  244.38876  The value of Ka is  723.75775  Value of y is  1052.7268806322327\n",
            "Epoch 38 LR = 0.00013820016501181446\n",
            "Epoch 39/100\n",
            "\r  1/445 [..............................] - ETA: 0s - loss: 0.5304 - mse: 0.5257"
          ],
          "name": "stdout"
        },
        {
          "output_type": "stream",
          "text": [
            "\n"
          ],
          "name": "stderr"
        },
        {
          "output_type": "stream",
          "text": [
            "445/445 [==============================] - 8s 19ms/step - loss: 0.5285 - mse: 0.5314 - val_loss: 0.5329 - val_mse: 0.5476\n"
          ],
          "name": "stdout"
        },
        {
          "output_type": "stream",
          "text": [
            "100%|██████████| 445/445 [00:07<00:00, 57.97it/s]\n"
          ],
          "name": "stderr"
        },
        {
          "output_type": "stream",
          "text": [
            "The value of K_z is  243.31439  The value of Ka is  720.5969  Value of y is  1052.7268806322327\n",
            "Epoch 39 LR = 0.0001390578172714439\n",
            "Epoch 40/100\n",
            "445/445 [==============================] - 8s 19ms/step - loss: 0.5282 - mse: 0.5309 - val_loss: 0.5329 - val_mse: 0.5476\n"
          ],
          "name": "stdout"
        },
        {
          "output_type": "stream",
          "text": [
            "100%|██████████| 445/445 [00:07<00:00, 59.54it/s]"
          ],
          "name": "stderr"
        },
        {
          "output_type": "stream",
          "text": [
            "The value of K_z is  243.3498  The value of Ka is  727.2277  Value of y is  1052.7268806322327\n",
            "Epoch 40 LR = 0.00013851963683131244\n",
            "Epoch 41/100\n",
            "\r  1/445 [..............................] - ETA: 0s - loss: 0.5347 - mse: 0.5490"
          ],
          "name": "stdout"
        },
        {
          "output_type": "stream",
          "text": [
            "\n"
          ],
          "name": "stderr"
        },
        {
          "output_type": "stream",
          "text": [
            "445/445 [==============================] - 8s 19ms/step - loss: 0.5280 - mse: 0.5304 - val_loss: 0.5327 - val_mse: 0.5473\n"
          ],
          "name": "stdout"
        },
        {
          "output_type": "stream",
          "text": [
            "100%|██████████| 445/445 [00:07<00:00, 59.14it/s]"
          ],
          "name": "stderr"
        },
        {
          "output_type": "stream",
          "text": [
            "The value of K_z is  242.01671  The value of Ka is  731.40265  Value of y is  1052.7268806322327\n",
            "Epoch 41 LR = 0.00013895670875103082\n",
            "Epoch 42/100\n",
            "\r  1/445 [..............................] - ETA: 0s - loss: 0.5279 - mse: 0.5401"
          ],
          "name": "stdout"
        },
        {
          "output_type": "stream",
          "text": [
            "\n"
          ],
          "name": "stderr"
        },
        {
          "output_type": "stream",
          "text": [
            "445/445 [==============================] - 8s 19ms/step - loss: 0.5278 - mse: 0.5300 - val_loss: 0.5331 - val_mse: 0.5473\n"
          ],
          "name": "stdout"
        },
        {
          "output_type": "stream",
          "text": [
            "100%|██████████| 445/445 [00:07<00:00, 58.40it/s]"
          ],
          "name": "stderr"
        },
        {
          "output_type": "stream",
          "text": [
            "The value of K_z is  241.66708  The value of Ka is  731.9492  Value of y is  1052.7268806322327\n",
            "Epoch 42 LR = 0.00013911512216462443\n",
            "Epoch 43/100\n",
            "\r  1/445 [..............................] - ETA: 0s - loss: 0.5362 - mse: 0.5770"
          ],
          "name": "stdout"
        },
        {
          "output_type": "stream",
          "text": [
            "\n"
          ],
          "name": "stderr"
        },
        {
          "output_type": "stream",
          "text": [
            "445/445 [==============================] - 8s 19ms/step - loss: 0.5276 - mse: 0.5297 - val_loss: 0.5329 - val_mse: 0.5471\n"
          ],
          "name": "stdout"
        },
        {
          "output_type": "stream",
          "text": [
            "100%|██████████| 445/445 [00:07<00:00, 58.65it/s]"
          ],
          "name": "stderr"
        },
        {
          "output_type": "stream",
          "text": [
            "The value of K_z is  239.42574  The value of Ka is  725.12646  Value of y is  1052.7268806322327\n",
            "Epoch 43 LR = 0.00014095629857289904\n",
            "Epoch 44/100\n",
            "\r  1/445 [..............................] - ETA: 0s - loss: 0.5248 - mse: 0.5350"
          ],
          "name": "stdout"
        },
        {
          "output_type": "stream",
          "text": [
            "\n"
          ],
          "name": "stderr"
        },
        {
          "output_type": "stream",
          "text": [
            "445/445 [==============================] - 8s 19ms/step - loss: 0.5273 - mse: 0.5291 - val_loss: 0.5325 - val_mse: 0.5464\n"
          ],
          "name": "stdout"
        },
        {
          "output_type": "stream",
          "text": [
            "100%|██████████| 445/445 [00:07<00:00, 58.84it/s]"
          ],
          "name": "stderr"
        },
        {
          "output_type": "stream",
          "text": [
            "The value of K_z is  240.37932  The value of Ka is  732.51886  Value of y is  1052.7268806322327\n",
            "Epoch 44 LR = 0.00013981576579517595\n",
            "Epoch 45/100\n",
            "\r  1/445 [..............................] - ETA: 0s - loss: 0.5255 - mse: 0.5271"
          ],
          "name": "stdout"
        },
        {
          "output_type": "stream",
          "text": [
            "\n"
          ],
          "name": "stderr"
        },
        {
          "output_type": "stream",
          "text": [
            "445/445 [==============================] - 8s 19ms/step - loss: 0.5271 - mse: 0.5287 - val_loss: 0.5323 - val_mse: 0.5461\n"
          ],
          "name": "stdout"
        },
        {
          "output_type": "stream",
          "text": [
            "100%|██████████| 445/445 [00:07<00:00, 59.80it/s]\n"
          ],
          "name": "stderr"
        },
        {
          "output_type": "stream",
          "text": [
            "The value of K_z is  239.5505  The value of Ka is  724.1239  Value of y is  1052.7268806322327\n",
            "Epoch 45 LR = 0.00014096237197381873\n",
            "Epoch 46/100\n",
            "445/445 [==============================] - 8s 19ms/step - loss: 0.5270 - mse: 0.5283 - val_loss: 0.5326 - val_mse: 0.5464\n"
          ],
          "name": "stdout"
        },
        {
          "output_type": "stream",
          "text": [
            "100%|██████████| 445/445 [00:07<00:00, 60.08it/s]"
          ],
          "name": "stderr"
        },
        {
          "output_type": "stream",
          "text": [
            "The value of K_z is  238.43309  The value of Ka is  731.1321  Value of y is  1052.7268806322327\n",
            "Epoch 46 LR = 0.00014106660310457815\n",
            "Epoch 47/100\n",
            "\r  1/445 [..............................] - ETA: 0s - loss: 0.5349 - mse: 0.5350"
          ],
          "name": "stdout"
        },
        {
          "output_type": "stream",
          "text": [
            "\n"
          ],
          "name": "stderr"
        },
        {
          "output_type": "stream",
          "text": [
            "445/445 [==============================] - 8s 19ms/step - loss: 0.5268 - mse: 0.5280 - val_loss: 0.5333 - val_mse: 0.5468\n"
          ],
          "name": "stdout"
        },
        {
          "output_type": "stream",
          "text": [
            "100%|██████████| 445/445 [00:07<00:00, 59.13it/s]"
          ],
          "name": "stderr"
        },
        {
          "output_type": "stream",
          "text": [
            "The value of K_z is  237.19366  The value of Ka is  732.1237  Value of y is  1052.7268806322327\n",
            "Epoch 47 LR = 0.00014172494471459678\n",
            "Epoch 48/100\n",
            "\r  1/445 [..............................] - ETA: 0s - loss: 0.5183 - mse: 0.5058"
          ],
          "name": "stdout"
        },
        {
          "output_type": "stream",
          "text": [
            "\n"
          ],
          "name": "stderr"
        },
        {
          "output_type": "stream",
          "text": [
            "445/445 [==============================] - 8s 19ms/step - loss: 0.5268 - mse: 0.5278 - val_loss: 0.5320 - val_mse: 0.5457\n"
          ],
          "name": "stdout"
        },
        {
          "output_type": "stream",
          "text": [
            "100%|██████████| 445/445 [00:07<00:00, 58.74it/s]\n"
          ],
          "name": "stderr"
        },
        {
          "output_type": "stream",
          "text": [
            "The value of K_z is  236.5389  The value of Ka is  729.56116  Value of y is  1052.7268806322327\n",
            "Epoch 48 LR = 0.00014232159265811125\n",
            "Epoch 49/100\n",
            "445/445 [==============================] - 8s 19ms/step - loss: 0.5265 - mse: 0.5274 - val_loss: 0.5324 - val_mse: 0.5460\n"
          ],
          "name": "stdout"
        },
        {
          "output_type": "stream",
          "text": [
            "100%|██████████| 445/445 [00:07<00:00, 59.10it/s]"
          ],
          "name": "stderr"
        },
        {
          "output_type": "stream",
          "text": [
            "The value of K_z is  235.52472  The value of Ka is  727.9906  Value of y is  1052.7268806322327\n",
            "Epoch 49 LR = 0.00014306049831206284\n",
            "Epoch 50/100\n",
            "\r  1/445 [..............................] - ETA: 0s - loss: 0.5197 - mse: 0.5074"
          ],
          "name": "stdout"
        },
        {
          "output_type": "stream",
          "text": [
            "\n"
          ],
          "name": "stderr"
        },
        {
          "output_type": "stream",
          "text": [
            "445/445 [==============================] - 8s 19ms/step - loss: 0.5263 - mse: 0.5269 - val_loss: 0.5320 - val_mse: 0.5455\n"
          ],
          "name": "stdout"
        },
        {
          "output_type": "stream",
          "text": [
            "100%|██████████| 445/445 [00:07<00:00, 59.30it/s]\n"
          ],
          "name": "stderr"
        },
        {
          "output_type": "stream",
          "text": [
            "The value of K_z is  235.2363  The value of Ka is  720.83325  Value of y is  1052.7268806322327\n",
            "Epoch 50 LR = 0.0001438139441589178\n",
            "Epoch 51/100\n",
            "445/445 [==============================] - 8s 19ms/step - loss: 0.5263 - mse: 0.5268 - val_loss: 0.5322 - val_mse: 0.5460\n"
          ],
          "name": "stdout"
        },
        {
          "output_type": "stream",
          "text": [
            "100%|██████████| 445/445 [00:07<00:00, 59.17it/s]\n"
          ],
          "name": "stderr"
        },
        {
          "output_type": "stream",
          "text": [
            "The value of K_z is  235.24854  The value of Ka is  745.00165  Value of y is  1052.7268806322327\n",
            "Epoch 51 LR = 0.00014187315022339388\n",
            "Epoch 52/100\n",
            "445/445 [==============================] - 8s 19ms/step - loss: 0.5260 - mse: 0.5263 - val_loss: 0.5319 - val_mse: 0.5451\n"
          ],
          "name": "stdout"
        },
        {
          "output_type": "stream",
          "text": [
            "100%|██████████| 445/445 [00:07<00:00, 59.56it/s]"
          ],
          "name": "stderr"
        },
        {
          "output_type": "stream",
          "text": [
            "The value of K_z is  234.05312  The value of Ka is  726.8372  Value of y is  1052.7268806322327\n",
            "Epoch 52 LR = 0.00014405329196677015\n",
            "Epoch 53/100\n",
            "\r  1/445 [..............................] - ETA: 0s - loss: 0.5192 - mse: 0.4991"
          ],
          "name": "stdout"
        },
        {
          "output_type": "stream",
          "text": [
            "\n"
          ],
          "name": "stderr"
        },
        {
          "output_type": "stream",
          "text": [
            "445/445 [==============================] - 8s 19ms/step - loss: 0.5258 - mse: 0.5258 - val_loss: 0.5322 - val_mse: 0.5454\n"
          ],
          "name": "stdout"
        },
        {
          "output_type": "stream",
          "text": [
            "100%|██████████| 445/445 [00:07<00:00, 58.37it/s]"
          ],
          "name": "stderr"
        },
        {
          "output_type": "stream",
          "text": [
            "The value of K_z is  233.93935  The value of Ka is  740.3272  Value of y is  1052.7268806322327\n",
            "Epoch 53 LR = 0.00014303904024275238\n",
            "Epoch 54/100\n",
            "\r  1/445 [..............................] - ETA: 0s - loss: 0.5235 - mse: 0.5021"
          ],
          "name": "stdout"
        },
        {
          "output_type": "stream",
          "text": [
            "\n"
          ],
          "name": "stderr"
        },
        {
          "output_type": "stream",
          "text": [
            "445/445 [==============================] - 8s 19ms/step - loss: 0.5257 - mse: 0.5256 - val_loss: 0.5319 - val_mse: 0.5453\n"
          ],
          "name": "stdout"
        },
        {
          "output_type": "stream",
          "text": [
            "100%|██████████| 445/445 [00:07<00:00, 57.65it/s]"
          ],
          "name": "stderr"
        },
        {
          "output_type": "stream",
          "text": [
            "The value of K_z is  233.43665  The value of Ka is  742.87445  Value of y is  1052.7268806322327\n",
            "Epoch 54 LR = 0.00014314371949698376\n",
            "Epoch 55/100\n",
            "\r  1/445 [..............................] - ETA: 0s - loss: 0.5090 - mse: 0.4724"
          ],
          "name": "stdout"
        },
        {
          "output_type": "stream",
          "text": [
            "\n"
          ],
          "name": "stderr"
        },
        {
          "output_type": "stream",
          "text": [
            "445/445 [==============================] - 8s 19ms/step - loss: 0.5256 - mse: 0.5253 - val_loss: 0.5318 - val_mse: 0.5449\n"
          ],
          "name": "stdout"
        },
        {
          "output_type": "stream",
          "text": [
            "100%|██████████| 445/445 [00:07<00:00, 58.74it/s]"
          ],
          "name": "stderr"
        },
        {
          "output_type": "stream",
          "text": [
            "The value of K_z is  232.16982  The value of Ka is  733.50854  Value of y is  1052.7268806322327\n",
            "Epoch 55 LR = 0.00014467943252852996\n",
            "Epoch 56/100\n",
            "\r  1/445 [..............................] - ETA: 0s - loss: 0.5131 - mse: 0.5054"
          ],
          "name": "stdout"
        },
        {
          "output_type": "stream",
          "text": [
            "\n"
          ],
          "name": "stderr"
        },
        {
          "output_type": "stream",
          "text": [
            "445/445 [==============================] - 8s 19ms/step - loss: 0.5254 - mse: 0.5249 - val_loss: 0.5314 - val_mse: 0.5444\n"
          ],
          "name": "stdout"
        },
        {
          "output_type": "stream",
          "text": [
            "100%|██████████| 445/445 [00:07<00:00, 59.08it/s]"
          ],
          "name": "stderr"
        },
        {
          "output_type": "stream",
          "text": [
            "The value of K_z is  231.09308  The value of Ka is  730.95685  Value of y is  1052.7268806322327\n",
            "Epoch 56 LR = 0.00014556147962645845\n",
            "Epoch 57/100\n",
            "\r  1/445 [..............................] - ETA: 0s - loss: 0.5301 - mse: 0.5382"
          ],
          "name": "stdout"
        },
        {
          "output_type": "stream",
          "text": [
            "\n"
          ],
          "name": "stderr"
        },
        {
          "output_type": "stream",
          "text": [
            "445/445 [==============================] - 8s 19ms/step - loss: 0.5253 - mse: 0.5247 - val_loss: 0.5326 - val_mse: 0.5454\n"
          ],
          "name": "stdout"
        },
        {
          "output_type": "stream",
          "text": [
            "100%|██████████| 445/445 [00:07<00:00, 59.33it/s]"
          ],
          "name": "stderr"
        },
        {
          "output_type": "stream",
          "text": [
            "The value of K_z is  230.00269  The value of Ka is  742.54803  Value of y is  1052.7268806322327\n",
            "Epoch 57 LR = 0.00014530728248962426\n",
            "Epoch 58/100\n",
            "\r  1/445 [..............................] - ETA: 0s - loss: 0.5239 - mse: 0.5138"
          ],
          "name": "stdout"
        },
        {
          "output_type": "stream",
          "text": [
            "\n"
          ],
          "name": "stderr"
        },
        {
          "output_type": "stream",
          "text": [
            "445/445 [==============================] - 8s 19ms/step - loss: 0.5252 - mse: 0.5244 - val_loss: 0.5315 - val_mse: 0.5444\n"
          ],
          "name": "stdout"
        },
        {
          "output_type": "stream",
          "text": [
            "100%|██████████| 445/445 [00:07<00:00, 59.74it/s]"
          ],
          "name": "stderr"
        },
        {
          "output_type": "stream",
          "text": [
            "The value of K_z is  229.1071  The value of Ka is  724.19183  Value of y is  1052.7268806322327\n",
            "Epoch 58 LR = 0.00014738223502794973\n",
            "Epoch 59/100\n",
            "\r  1/445 [..............................] - ETA: 0s - loss: 0.5379 - mse: 0.5731"
          ],
          "name": "stdout"
        },
        {
          "output_type": "stream",
          "text": [
            "\n"
          ],
          "name": "stderr"
        },
        {
          "output_type": "stream",
          "text": [
            "445/445 [==============================] - 8s 19ms/step - loss: 0.5251 - mse: 0.5242 - val_loss: 0.5317 - val_mse: 0.5444\n"
          ],
          "name": "stdout"
        },
        {
          "output_type": "stream",
          "text": [
            "100%|██████████| 445/445 [00:07<00:00, 60.05it/s]\n"
          ],
          "name": "stderr"
        },
        {
          "output_type": "stream",
          "text": [
            "The value of K_z is  229.12988  The value of Ka is  741.604  Value of y is  1052.7268806322327\n",
            "Epoch 59 LR = 0.00014593752780745495\n",
            "Epoch 60/100\n",
            "445/445 [==============================] - 8s 19ms/step - loss: 0.5249 - mse: 0.5238 - val_loss: 0.5317 - val_mse: 0.5445\n"
          ],
          "name": "stdout"
        },
        {
          "output_type": "stream",
          "text": [
            "100%|██████████| 445/445 [00:07<00:00, 58.77it/s]"
          ],
          "name": "stderr"
        },
        {
          "output_type": "stream",
          "text": [
            "The value of K_z is  228.89238  The value of Ka is  750.92804  Value of y is  1052.7268806322327\n",
            "Epoch 60 LR = 0.00014533374512094323\n",
            "Epoch 61/100\n",
            "\r  1/445 [..............................] - ETA: 0s - loss: 0.5238 - mse: 0.5099"
          ],
          "name": "stdout"
        },
        {
          "output_type": "stream",
          "text": [
            "\n"
          ],
          "name": "stderr"
        },
        {
          "output_type": "stream",
          "text": [
            "445/445 [==============================] - 8s 19ms/step - loss: 0.5248 - mse: 0.5236 - val_loss: 0.5313 - val_mse: 0.5439\n"
          ],
          "name": "stdout"
        },
        {
          "output_type": "stream",
          "text": [
            "100%|██████████| 445/445 [00:07<00:00, 58.27it/s]"
          ],
          "name": "stderr"
        },
        {
          "output_type": "stream",
          "text": [
            "The value of K_z is  226.62386  The value of Ka is  723.9325  Value of y is  1052.7268806322327\n",
            "Epoch 61 LR = 0.0001490189346618002\n",
            "Epoch 62/100\n",
            "  4/445 [..............................] - ETA: 7s - loss: 0.5257 - mse: 0.5250"
          ],
          "name": "stdout"
        },
        {
          "output_type": "stream",
          "text": [
            "\n"
          ],
          "name": "stderr"
        },
        {
          "output_type": "stream",
          "text": [
            "445/445 [==============================] - 8s 19ms/step - loss: 0.5247 - mse: 0.5235 - val_loss: 0.5314 - val_mse: 0.5442\n"
          ],
          "name": "stdout"
        },
        {
          "output_type": "stream",
          "text": [
            "100%|██████████| 445/445 [00:07<00:00, 58.95it/s]\n"
          ],
          "name": "stderr"
        },
        {
          "output_type": "stream",
          "text": [
            "The value of K_z is  227.33223  The value of Ka is  736.78864  Value of y is  1052.7268806322327\n",
            "Epoch 62 LR = 0.00014748734941279958\n",
            "Epoch 63/100\n",
            "445/445 [==============================] - 8s 19ms/step - loss: 0.5246 - mse: 0.5231 - val_loss: 0.5315 - val_mse: 0.5441\n"
          ],
          "name": "stdout"
        },
        {
          "output_type": "stream",
          "text": [
            "100%|██████████| 445/445 [00:07<00:00, 58.79it/s]"
          ],
          "name": "stderr"
        },
        {
          "output_type": "stream",
          "text": [
            "The value of K_z is  224.3742  The value of Ka is  717.65094  Value of y is  1052.7268806322327\n",
            "Epoch 63 LR = 0.00015104708909455434\n",
            "Epoch 64/100\n",
            "  4/445 [..............................] - ETA: 6s - loss: 0.5208 - mse: 0.5091"
          ],
          "name": "stdout"
        },
        {
          "output_type": "stream",
          "text": [
            "\n"
          ],
          "name": "stderr"
        },
        {
          "output_type": "stream",
          "text": [
            "445/445 [==============================] - 8s 19ms/step - loss: 0.5247 - mse: 0.5232 - val_loss: 0.5313 - val_mse: 0.5439\n"
          ],
          "name": "stdout"
        },
        {
          "output_type": "stream",
          "text": [
            "100%|██████████| 445/445 [00:07<00:00, 60.41it/s]\n"
          ],
          "name": "stderr"
        },
        {
          "output_type": "stream",
          "text": [
            "The value of K_z is  226.44649  The value of Ka is  740.2872  Value of y is  1052.7268806322327\n",
            "Epoch 64 LR = 0.0001477753406044822\n",
            "Epoch 65/100\n",
            "445/445 [==============================] - 8s 19ms/step - loss: 0.5243 - mse: 0.5226 - val_loss: 0.5310 - val_mse: 0.5435\n"
          ],
          "name": "stdout"
        },
        {
          "output_type": "stream",
          "text": [
            "100%|██████████| 445/445 [00:07<00:00, 58.96it/s]"
          ],
          "name": "stderr"
        },
        {
          "output_type": "stream",
          "text": [
            "The value of K_z is  224.42056  The value of Ka is  730.5598  Value of y is  1052.7268806322327\n",
            "Epoch 65 LR = 0.00014992271347495994\n",
            "Epoch 66/100\n",
            "\r  1/445 [..............................] - ETA: 0s - loss: 0.5053 - mse: 0.4685"
          ],
          "name": "stdout"
        },
        {
          "output_type": "stream",
          "text": [
            "\n"
          ],
          "name": "stderr"
        },
        {
          "output_type": "stream",
          "text": [
            "445/445 [==============================] - 8s 19ms/step - loss: 0.5243 - mse: 0.5225 - val_loss: 0.5312 - val_mse: 0.5437\n"
          ],
          "name": "stdout"
        },
        {
          "output_type": "stream",
          "text": [
            "100%|██████████| 445/445 [00:07<00:00, 58.11it/s]"
          ],
          "name": "stderr"
        },
        {
          "output_type": "stream",
          "text": [
            "The value of K_z is  223.33957  The value of Ka is  727.52344  Value of y is  1052.7268806322327\n",
            "Epoch 66 LR = 0.00015090530395897838\n",
            "Epoch 67/100\n",
            "  4/445 [..............................] - ETA: 7s - loss: 0.5288 - mse: 0.5373"
          ],
          "name": "stdout"
        },
        {
          "output_type": "stream",
          "text": [
            "\n"
          ],
          "name": "stderr"
        },
        {
          "output_type": "stream",
          "text": [
            "445/445 [==============================] - 8s 19ms/step - loss: 0.5242 - mse: 0.5223 - val_loss: 0.5310 - val_mse: 0.5434\n"
          ],
          "name": "stdout"
        },
        {
          "output_type": "stream",
          "text": [
            "100%|██████████| 445/445 [00:07<00:00, 58.98it/s]\n"
          ],
          "name": "stderr"
        },
        {
          "output_type": "stream",
          "text": [
            "The value of K_z is  223.73189  The value of Ka is  734.8776  Value of y is  1052.7268806322327\n",
            "Epoch 67 LR = 0.00015002095394919305\n",
            "Epoch 68/100\n",
            "445/445 [==============================] - 8s 19ms/step - loss: 0.5241 - mse: 0.5220 - val_loss: 0.5310 - val_mse: 0.5434\n"
          ],
          "name": "stdout"
        },
        {
          "output_type": "stream",
          "text": [
            "100%|██████████| 445/445 [00:07<00:00, 57.68it/s]\n"
          ],
          "name": "stderr"
        },
        {
          "output_type": "stream",
          "text": [
            "The value of K_z is  224.17746  The value of Ka is  742.5902  Value of y is  1052.7268806322327\n",
            "Epoch 68 LR = 0.00014907957348700708\n",
            "Epoch 69/100\n",
            "445/445 [==============================] - 8s 19ms/step - loss: 0.5239 - mse: 0.5217 - val_loss: 0.5311 - val_mse: 0.5434\n"
          ],
          "name": "stdout"
        },
        {
          "output_type": "stream",
          "text": [
            "100%|██████████| 445/445 [00:07<00:00, 59.53it/s]"
          ],
          "name": "stderr"
        },
        {
          "output_type": "stream",
          "text": [
            "The value of K_z is  223.30298  The value of Ka is  739.6111  Value of y is  1052.7268806322327\n",
            "Epoch 69 LR = 0.0001499121492297998\n",
            "Epoch 70/100\n",
            "\r  1/445 [..............................] - ETA: 0s - loss: 0.5283 - mse: 0.5318"
          ],
          "name": "stdout"
        },
        {
          "output_type": "stream",
          "text": [
            "\n"
          ],
          "name": "stderr"
        },
        {
          "output_type": "stream",
          "text": [
            "445/445 [==============================] - 8s 19ms/step - loss: 0.5239 - mse: 0.5216 - val_loss: 0.5312 - val_mse: 0.5435\n"
          ],
          "name": "stdout"
        },
        {
          "output_type": "stream",
          "text": [
            "100%|██████████| 445/445 [00:07<00:00, 57.84it/s]"
          ],
          "name": "stderr"
        },
        {
          "output_type": "stream",
          "text": [
            "The value of K_z is  219.91711  The value of Ka is  716.8658  Value of y is  1052.7268806322327\n",
            "Epoch 70 LR = 0.00015417675936058711\n",
            "Epoch 71/100\n",
            "  4/445 [..............................] - ETA: 7s - loss: 0.5211 - mse: 0.5130"
          ],
          "name": "stdout"
        },
        {
          "output_type": "stream",
          "text": [
            "\n"
          ],
          "name": "stderr"
        },
        {
          "output_type": "stream",
          "text": [
            "445/445 [==============================] - 8s 19ms/step - loss: 0.5239 - mse: 0.5214 - val_loss: 0.5311 - val_mse: 0.5434\n"
          ],
          "name": "stdout"
        },
        {
          "output_type": "stream",
          "text": [
            "100%|██████████| 445/445 [00:07<00:00, 59.26it/s]\n"
          ],
          "name": "stderr"
        },
        {
          "output_type": "stream",
          "text": [
            "The value of K_z is  219.80577  The value of Ka is  731.0175  Value of y is  1052.7268806322327\n",
            "Epoch 71 LR = 0.00015303104287072157\n",
            "Epoch 72/100\n",
            "445/445 [==============================] - 8s 19ms/step - loss: 0.5238 - mse: 0.5213 - val_loss: 0.5314 - val_mse: 0.5434\n"
          ],
          "name": "stdout"
        },
        {
          "output_type": "stream",
          "text": [
            "100%|██████████| 445/445 [00:07<00:00, 59.42it/s]"
          ],
          "name": "stderr"
        },
        {
          "output_type": "stream",
          "text": [
            "The value of K_z is  219.07707  The value of Ka is  727.4193  Value of y is  1052.7268806322327\n",
            "Epoch 72 LR = 0.0001538504080999017\n",
            "Epoch 73/100\n",
            "  4/445 [..............................] - ETA: 6s - loss: 0.5254 - mse: 0.5264"
          ],
          "name": "stdout"
        },
        {
          "output_type": "stream",
          "text": [
            "\n"
          ],
          "name": "stderr"
        },
        {
          "output_type": "stream",
          "text": [
            "445/445 [==============================] - 8s 19ms/step - loss: 0.5237 - mse: 0.5210 - val_loss: 0.5314 - val_mse: 0.5432\n"
          ],
          "name": "stdout"
        },
        {
          "output_type": "stream",
          "text": [
            "100%|██████████| 445/445 [00:07<00:00, 58.44it/s]"
          ],
          "name": "stderr"
        },
        {
          "output_type": "stream",
          "text": [
            "The value of K_z is  219.09033  The value of Ka is  731.5629  Value of y is  1052.7268806322327\n",
            "Epoch 73 LR = 0.00015348383500633385\n",
            "Epoch 74/100\n",
            "\r  1/445 [..............................] - ETA: 0s - loss: 0.5227 - mse: 0.5247"
          ],
          "name": "stdout"
        },
        {
          "output_type": "stream",
          "text": [
            "\n"
          ],
          "name": "stderr"
        },
        {
          "output_type": "stream",
          "text": [
            "445/445 [==============================] - 9s 19ms/step - loss: 0.5236 - mse: 0.5208 - val_loss: 0.5309 - val_mse: 0.5430\n"
          ],
          "name": "stdout"
        },
        {
          "output_type": "stream",
          "text": [
            "100%|██████████| 445/445 [00:07<00:00, 59.02it/s]"
          ],
          "name": "stderr"
        },
        {
          "output_type": "stream",
          "text": [
            "The value of K_z is  219.98657  The value of Ka is  737.9854  Value of y is  1052.7268806322327\n",
            "Epoch 74 LR = 0.0001523102961465028\n",
            "Epoch 75/100\n",
            "\r  1/445 [..............................] - ETA: 0s - loss: 0.5099 - mse: 0.4806"
          ],
          "name": "stdout"
        },
        {
          "output_type": "stream",
          "text": [
            "\n"
          ],
          "name": "stderr"
        },
        {
          "output_type": "stream",
          "text": [
            "445/445 [==============================] - 8s 19ms/step - loss: 0.5234 - mse: 0.5206 - val_loss: 0.5308 - val_mse: 0.5431\n"
          ],
          "name": "stdout"
        },
        {
          "output_type": "stream",
          "text": [
            "100%|██████████| 445/445 [00:07<00:00, 57.86it/s]\n"
          ],
          "name": "stderr"
        },
        {
          "output_type": "stream",
          "text": [
            "The value of K_z is  218.89467  The value of Ka is  736.4945  Value of y is  1052.7268806322327\n",
            "Epoch 75 LR = 0.00015319760841663355\n",
            "Epoch 76/100\n",
            "445/445 [==============================] - 8s 19ms/step - loss: 0.5233 - mse: 0.5203 - val_loss: 0.5309 - val_mse: 0.5431\n"
          ],
          "name": "stdout"
        },
        {
          "output_type": "stream",
          "text": [
            "100%|██████████| 445/445 [00:07<00:00, 59.25it/s]"
          ],
          "name": "stderr"
        },
        {
          "output_type": "stream",
          "text": [
            "The value of K_z is  217.59314  The value of Ka is  731.0466  Value of y is  1052.7268806322327\n",
            "Epoch 76 LR = 0.00015458464611890627\n",
            "Epoch 77/100\n",
            "  4/445 [..............................] - ETA: 7s - loss: 0.5233 - mse: 0.5176"
          ],
          "name": "stdout"
        },
        {
          "output_type": "stream",
          "text": [
            "\n"
          ],
          "name": "stderr"
        },
        {
          "output_type": "stream",
          "text": [
            "445/445 [==============================] - 8s 19ms/step - loss: 0.5233 - mse: 0.5200 - val_loss: 0.5309 - val_mse: 0.5428\n"
          ],
          "name": "stdout"
        },
        {
          "output_type": "stream",
          "text": [
            "100%|██████████| 445/445 [00:07<00:00, 58.62it/s]"
          ],
          "name": "stderr"
        },
        {
          "output_type": "stream",
          "text": [
            "The value of K_z is  217.42229  The value of Ka is  740.2505  Value of y is  1052.7268806322327\n",
            "Epoch 77 LR = 0.0001539119649978943\n",
            "Epoch 78/100\n",
            "  4/445 [..............................] - ETA: 7s - loss: 0.5212 - mse: 0.5221"
          ],
          "name": "stdout"
        },
        {
          "output_type": "stream",
          "text": [
            "\n"
          ],
          "name": "stderr"
        },
        {
          "output_type": "stream",
          "text": [
            "445/445 [==============================] - 8s 19ms/step - loss: 0.5232 - mse: 0.5198 - val_loss: 0.5306 - val_mse: 0.5422\n"
          ],
          "name": "stdout"
        },
        {
          "output_type": "stream",
          "text": [
            "100%|██████████| 445/445 [00:07<00:00, 58.68it/s]\n"
          ],
          "name": "stderr"
        },
        {
          "output_type": "stream",
          "text": [
            "The value of K_z is  215.82968  The value of Ka is  734.9342  Value of y is  1052.7268806322327\n",
            "Epoch 78 LR = 0.00015550877295629468\n",
            "Epoch 79/100\n",
            "445/445 [==============================] - 8s 19ms/step - loss: 0.5231 - mse: 0.5195 - val_loss: 0.5310 - val_mse: 0.5426\n"
          ],
          "name": "stdout"
        },
        {
          "output_type": "stream",
          "text": [
            "100%|██████████| 445/445 [00:07<00:00, 58.06it/s]"
          ],
          "name": "stderr"
        },
        {
          "output_type": "stream",
          "text": [
            "The value of K_z is  215.34886  The value of Ka is  736.61176  Value of y is  1052.7268806322327\n",
            "Epoch 79 LR = 0.00015570986581210354\n",
            "Epoch 80/100\n",
            "\r  1/445 [..............................] - ETA: 0s - loss: 0.5168 - mse: 0.4904"
          ],
          "name": "stdout"
        },
        {
          "output_type": "stream",
          "text": [
            "\n"
          ],
          "name": "stderr"
        },
        {
          "output_type": "stream",
          "text": [
            "445/445 [==============================] - 8s 19ms/step - loss: 0.5231 - mse: 0.5194 - val_loss: 0.5310 - val_mse: 0.5426\n"
          ],
          "name": "stdout"
        },
        {
          "output_type": "stream",
          "text": [
            "100%|██████████| 445/445 [00:07<00:00, 59.81it/s]\n"
          ],
          "name": "stderr"
        },
        {
          "output_type": "stream",
          "text": [
            "The value of K_z is  214.62074  The value of Ka is  735.93964  Value of y is  1052.7268806322327\n",
            "Epoch 80 LR = 0.00015629683350495762\n",
            "Epoch 81/100\n",
            "445/445 [==============================] - 8s 19ms/step - loss: 0.5229 - mse: 0.5192 - val_loss: 0.5312 - val_mse: 0.5424\n"
          ],
          "name": "stdout"
        },
        {
          "output_type": "stream",
          "text": [
            "100%|██████████| 445/445 [00:07<00:00, 57.53it/s]"
          ],
          "name": "stderr"
        },
        {
          "output_type": "stream",
          "text": [
            "The value of K_z is  214.49187  The value of Ka is  734.16644  Value of y is  1052.7268806322327\n",
            "Epoch 81 LR = 0.0001565459349225537\n",
            "Epoch 82/100\n",
            "\r  1/445 [..............................] - ETA: 0s - loss: 0.5139 - mse: 0.4882"
          ],
          "name": "stdout"
        },
        {
          "output_type": "stream",
          "text": [
            "\n"
          ],
          "name": "stderr"
        },
        {
          "output_type": "stream",
          "text": [
            "445/445 [==============================] - 8s 19ms/step - loss: 0.5228 - mse: 0.5190 - val_loss: 0.5308 - val_mse: 0.5424\n"
          ],
          "name": "stdout"
        },
        {
          "output_type": "stream",
          "text": [
            "100%|██████████| 445/445 [00:07<00:00, 58.26it/s]\n"
          ],
          "name": "stderr"
        },
        {
          "output_type": "stream",
          "text": [
            "The value of K_z is  213.98257  The value of Ka is  734.65265  Value of y is  1052.7268806322327\n",
            "Epoch 82 LR = 0.00015687583929791343\n",
            "Epoch 83/100\n",
            "445/445 [==============================] - 8s 19ms/step - loss: 0.5228 - mse: 0.5189 - val_loss: 0.5308 - val_mse: 0.5423\n"
          ],
          "name": "stdout"
        },
        {
          "output_type": "stream",
          "text": [
            "100%|██████████| 445/445 [00:07<00:00, 57.49it/s]"
          ],
          "name": "stderr"
        },
        {
          "output_type": "stream",
          "text": [
            "The value of K_z is  212.46292  The value of Ka is  733.24176  Value of y is  1052.7268806322327\n",
            "Epoch 83 LR = 0.00015812271879736358\n",
            "Epoch 84/100\n",
            "\r  1/445 [..............................] - ETA: 0s - loss: 0.5155 - mse: 0.4923"
          ],
          "name": "stdout"
        },
        {
          "output_type": "stream",
          "text": [
            "\n"
          ],
          "name": "stderr"
        },
        {
          "output_type": "stream",
          "text": [
            "445/445 [==============================] - 8s 19ms/step - loss: 0.5227 - mse: 0.5187 - val_loss: 0.5304 - val_mse: 0.5423\n"
          ],
          "name": "stdout"
        },
        {
          "output_type": "stream",
          "text": [
            "100%|██████████| 445/445 [00:07<00:00, 57.91it/s]"
          ],
          "name": "stderr"
        },
        {
          "output_type": "stream",
          "text": [
            "The value of K_z is  211.78918  The value of Ka is  733.8332  Value of y is  1052.7268806322327\n",
            "Epoch 84 LR = 0.00015857322127158196\n",
            "Epoch 85/100\n",
            "  4/445 [..............................] - ETA: 7s - loss: 0.5216 - mse: 0.5075"
          ],
          "name": "stdout"
        },
        {
          "output_type": "stream",
          "text": [
            "\n"
          ],
          "name": "stderr"
        },
        {
          "output_type": "stream",
          "text": [
            "445/445 [==============================] - 8s 19ms/step - loss: 0.5226 - mse: 0.5186 - val_loss: 0.5315 - val_mse: 0.5426\n"
          ],
          "name": "stdout"
        },
        {
          "output_type": "stream",
          "text": [
            "100%|██████████| 445/445 [00:07<00:00, 58.06it/s]"
          ],
          "name": "stderr"
        },
        {
          "output_type": "stream",
          "text": [
            "The value of K_z is  210.76637  The value of Ka is  732.22455  Value of y is  1052.7268806322327\n",
            "Epoch 85 LR = 0.0001594863526830251\n",
            "Epoch 86/100\n",
            "  4/445 [..............................] - ETA: 6s - loss: 0.5384 - mse: 0.5763"
          ],
          "name": "stdout"
        },
        {
          "output_type": "stream",
          "text": [
            "\n"
          ],
          "name": "stderr"
        },
        {
          "output_type": "stream",
          "text": [
            "445/445 [==============================] - 8s 19ms/step - loss: 0.5228 - mse: 0.5186 - val_loss: 0.5307 - val_mse: 0.5424\n"
          ],
          "name": "stdout"
        },
        {
          "output_type": "stream",
          "text": [
            "100%|██████████| 445/445 [00:07<00:00, 58.01it/s]"
          ],
          "name": "stderr"
        },
        {
          "output_type": "stream",
          "text": [
            "The value of K_z is  210.74493  The value of Ka is  736.64215  Value of y is  1052.7268806322327\n",
            "Epoch 86 LR = 0.0001591087961644711\n",
            "Epoch 87/100\n",
            "\r  1/445 [..............................] - ETA: 0s - loss: 0.5091 - mse: 0.4909"
          ],
          "name": "stdout"
        },
        {
          "output_type": "stream",
          "text": [
            "\n"
          ],
          "name": "stderr"
        },
        {
          "output_type": "stream",
          "text": [
            "445/445 [==============================] - 8s 19ms/step - loss: 0.5226 - mse: 0.5185 - val_loss: 0.5306 - val_mse: 0.5421\n"
          ],
          "name": "stdout"
        },
        {
          "output_type": "stream",
          "text": [
            "100%|██████████| 445/445 [00:07<00:00, 57.42it/s]"
          ],
          "name": "stderr"
        },
        {
          "output_type": "stream",
          "text": [
            "The value of K_z is  211.589  The value of Ka is  739.8196  Value of y is  1052.7268806322327\n",
            "Epoch 87 LR = 0.00015819317193626413\n",
            "Epoch 88/100\n",
            "\r  1/445 [..............................] - ETA: 0s - loss: 0.5245 - mse: 0.5139"
          ],
          "name": "stdout"
        },
        {
          "output_type": "stream",
          "text": [
            "\n"
          ],
          "name": "stderr"
        },
        {
          "output_type": "stream",
          "text": [
            "445/445 [==============================] - 8s 19ms/step - loss: 0.5224 - mse: 0.5182 - val_loss: 0.5304 - val_mse: 0.5420\n"
          ],
          "name": "stdout"
        },
        {
          "output_type": "stream",
          "text": [
            "100%|██████████| 445/445 [00:07<00:00, 59.01it/s]"
          ],
          "name": "stderr"
        },
        {
          "output_type": "stream",
          "text": [
            "The value of K_z is  210.41023  The value of Ka is  737.4883  Value of y is  1052.7268806322327\n",
            "Epoch 88 LR = 0.00015928657094611056\n",
            "Epoch 89/100\n",
            "\r  1/445 [..............................] - ETA: 0s - loss: 0.5290 - mse: 0.5442"
          ],
          "name": "stdout"
        },
        {
          "output_type": "stream",
          "text": [
            "\n"
          ],
          "name": "stderr"
        },
        {
          "output_type": "stream",
          "text": [
            "445/445 [==============================] - 8s 19ms/step - loss: 0.5223 - mse: 0.5180 - val_loss: 0.5306 - val_mse: 0.5421\n"
          ],
          "name": "stdout"
        },
        {
          "output_type": "stream",
          "text": [
            "100%|██████████| 445/445 [00:07<00:00, 57.32it/s]"
          ],
          "name": "stderr"
        },
        {
          "output_type": "stream",
          "text": [
            "The value of K_z is  208.38367  The value of Ka is  733.06744  Value of y is  1052.7268806322327\n",
            "Epoch 89 LR = 0.0001612338171366614\n",
            "Epoch 90/100\n",
            "\r  1/445 [..............................] - ETA: 0s - loss: 0.5227 - mse: 0.5265"
          ],
          "name": "stdout"
        },
        {
          "output_type": "stream",
          "text": [
            "\n"
          ],
          "name": "stderr"
        },
        {
          "output_type": "stream",
          "text": [
            "445/445 [==============================] - 8s 19ms/step - loss: 0.5223 - mse: 0.5180 - val_loss: 0.5308 - val_mse: 0.5425\n"
          ],
          "name": "stdout"
        },
        {
          "output_type": "stream",
          "text": [
            "100%|██████████| 445/445 [00:07<00:00, 57.43it/s]"
          ],
          "name": "stderr"
        },
        {
          "output_type": "stream",
          "text": [
            "The value of K_z is  209.38113  The value of Ka is  741.0021  Value of y is  1052.7268806322327\n",
            "Epoch 90 LR = 0.0001597558917537051\n",
            "Epoch 91/100\n",
            "\r  1/445 [..............................] - ETA: 0s - loss: 0.5094 - mse: 0.4777"
          ],
          "name": "stdout"
        },
        {
          "output_type": "stream",
          "text": [
            "\n"
          ],
          "name": "stderr"
        },
        {
          "output_type": "stream",
          "text": [
            "445/445 [==============================] - 8s 19ms/step - loss: 0.5223 - mse: 0.5178 - val_loss: 0.5304 - val_mse: 0.5420\n"
          ],
          "name": "stdout"
        },
        {
          "output_type": "stream",
          "text": [
            "100%|██████████| 445/445 [00:07<00:00, 58.56it/s]"
          ],
          "name": "stderr"
        },
        {
          "output_type": "stream",
          "text": [
            "The value of K_z is  207.49101  The value of Ka is  734.5794  Value of y is  1052.7268806322327\n",
            "Epoch 91 LR = 0.0001617904851025799\n",
            "Epoch 92/100\n",
            "\r  1/445 [..............................] - ETA: 0s - loss: 0.5096 - mse: 0.4778"
          ],
          "name": "stdout"
        },
        {
          "output_type": "stream",
          "text": [
            "\n"
          ],
          "name": "stderr"
        },
        {
          "output_type": "stream",
          "text": [
            "445/445 [==============================] - 8s 19ms/step - loss: 0.5222 - mse: 0.5177 - val_loss: 0.5308 - val_mse: 0.5423\n"
          ],
          "name": "stdout"
        },
        {
          "output_type": "stream",
          "text": [
            "100%|██████████| 445/445 [00:07<00:00, 59.08it/s]\n"
          ],
          "name": "stderr"
        },
        {
          "output_type": "stream",
          "text": [
            "The value of K_z is  207.51833  The value of Ka is  737.12524  Value of y is  1052.7268806322327\n",
            "Epoch 92 LR = 0.00016153909436115248\n",
            "Epoch 93/100\n",
            "445/445 [==============================] - 8s 19ms/step - loss: 0.5222 - mse: 0.5176 - val_loss: 0.5305 - val_mse: 0.5422\n"
          ],
          "name": "stdout"
        },
        {
          "output_type": "stream",
          "text": [
            "100%|██████████| 445/445 [00:07<00:00, 56.91it/s]\n"
          ],
          "name": "stderr"
        },
        {
          "output_type": "stream",
          "text": [
            "The value of K_z is  206.62596  The value of Ka is  740.155  Value of y is  1052.7268806322327\n",
            "Epoch 93 LR = 0.00016196257692916693\n",
            "Epoch 94/100\n",
            "445/445 [==============================] - 8s 19ms/step - loss: 0.5222 - mse: 0.5176 - val_loss: 0.5305 - val_mse: 0.5422\n"
          ],
          "name": "stdout"
        },
        {
          "output_type": "stream",
          "text": [
            "100%|██████████| 445/445 [00:07<00:00, 58.53it/s]"
          ],
          "name": "stderr"
        },
        {
          "output_type": "stream",
          "text": [
            "The value of K_z is  206.31496  The value of Ka is  739.751  Value of y is  1052.7268806322327\n",
            "Epoch 94 LR = 0.00016224328756377334\n",
            "Epoch 95/100\n",
            "\r  1/445 [..............................] - ETA: 0s - loss: 0.5254 - mse: 0.5150"
          ],
          "name": "stdout"
        },
        {
          "output_type": "stream",
          "text": [
            "\n"
          ],
          "name": "stderr"
        },
        {
          "output_type": "stream",
          "text": [
            "445/445 [==============================] - 8s 19ms/step - loss: 0.5221 - mse: 0.5175 - val_loss: 0.5306 - val_mse: 0.5419\n"
          ],
          "name": "stdout"
        },
        {
          "output_type": "stream",
          "text": [
            "100%|██████████| 445/445 [00:07<00:00, 57.87it/s]"
          ],
          "name": "stderr"
        },
        {
          "output_type": "stream",
          "text": [
            "The value of K_z is  205.59409  The value of Ka is  738.9188  Value of y is  1052.7268806322327\n",
            "Epoch 95 LR = 0.00016288777862497267\n",
            "Epoch 96/100\n",
            "\r  1/445 [..............................] - ETA: 0s - loss: 0.5264 - mse: 0.5174"
          ],
          "name": "stdout"
        },
        {
          "output_type": "stream",
          "text": [
            "\n"
          ],
          "name": "stderr"
        },
        {
          "output_type": "stream",
          "text": [
            "445/445 [==============================] - 8s 19ms/step - loss: 0.5220 - mse: 0.5173 - val_loss: 0.5307 - val_mse: 0.5422\n"
          ],
          "name": "stdout"
        },
        {
          "output_type": "stream",
          "text": [
            "100%|██████████| 445/445 [00:07<00:00, 58.01it/s]"
          ],
          "name": "stderr"
        },
        {
          "output_type": "stream",
          "text": [
            "The value of K_z is  203.17604  The value of Ka is  724.7673  Value of y is  1052.7268806322327\n",
            "Epoch 96 LR = 0.00016613861151822145\n",
            "Epoch 97/100\n",
            "\r  1/445 [..............................] - ETA: 0s - loss: 0.5232 - mse: 0.5334"
          ],
          "name": "stdout"
        },
        {
          "output_type": "stream",
          "text": [
            "\n"
          ],
          "name": "stderr"
        },
        {
          "output_type": "stream",
          "text": [
            "445/445 [==============================] - 8s 19ms/step - loss: 0.5221 - mse: 0.5173 - val_loss: 0.5305 - val_mse: 0.5422\n"
          ],
          "name": "stdout"
        },
        {
          "output_type": "stream",
          "text": [
            "100%|██████████| 445/445 [00:07<00:00, 58.35it/s]"
          ],
          "name": "stderr"
        },
        {
          "output_type": "stream",
          "text": [
            "The value of K_z is  203.83827  The value of Ka is  745.563  Value of y is  1052.7268806322327\n",
            "Epoch 97 LR = 0.00016368384700877776\n",
            "Epoch 98/100\n",
            "\r  1/445 [..............................] - ETA: 0s - loss: 0.5228 - mse: 0.5186"
          ],
          "name": "stdout"
        },
        {
          "output_type": "stream",
          "text": [
            "\n"
          ],
          "name": "stderr"
        },
        {
          "output_type": "stream",
          "text": [
            "445/445 [==============================] - 8s 19ms/step - loss: 0.5218 - mse: 0.5170 - val_loss: 0.5304 - val_mse: 0.5421\n"
          ],
          "name": "stdout"
        },
        {
          "output_type": "stream",
          "text": [
            "100%|██████████| 445/445 [00:07<00:00, 57.85it/s]\n"
          ],
          "name": "stderr"
        },
        {
          "output_type": "stream",
          "text": [
            "The value of K_z is  203.88461  The value of Ka is  742.5315  Value of y is  1052.7268806322327\n",
            "Epoch 98 LR = 0.0001639229789225824\n",
            "Epoch 99/100\n",
            "445/445 [==============================] - 8s 19ms/step - loss: 0.5218 - mse: 0.5170 - val_loss: 0.5304 - val_mse: 0.5417\n"
          ],
          "name": "stdout"
        },
        {
          "output_type": "stream",
          "text": [
            "100%|██████████| 445/445 [00:07<00:00, 57.89it/s]"
          ],
          "name": "stderr"
        },
        {
          "output_type": "stream",
          "text": [
            "The value of K_z is  202.67645  The value of Ka is  729.60065  Value of y is  1052.7268806322327\n",
            "Epoch 99 LR = 0.00016609648477955988\n",
            "Epoch 100/100\n",
            "\r  1/445 [..............................] - ETA: 0s - loss: 0.5197 - mse: 0.5233"
          ],
          "name": "stdout"
        },
        {
          "output_type": "stream",
          "text": [
            "\n"
          ],
          "name": "stderr"
        },
        {
          "output_type": "stream",
          "text": [
            "445/445 [==============================] - 8s 19ms/step - loss: 0.5218 - mse: 0.5169 - val_loss: 0.5312 - val_mse: 0.5423\n"
          ],
          "name": "stdout"
        }
      ]
    },
    {
      "cell_type": "code",
      "metadata": {
        "id": "KzjXBKyUgXh7",
        "outputId": "ac38985c-da58-4697-f3f3-dd79476c6179",
        "colab": {
          "base_uri": "https://localhost:8080/",
          "height": 281
        }
      },
      "source": [
        "%matplotlib inline\n",
        "import matplotlib.pyplot as plt\n",
        "loss = history.history['loss']\n",
        "val_loss = history.history['val_loss']\n",
        "\n",
        "epochs = range(len(loss))\n",
        "\n",
        "plt.plot(epochs, loss, 'r', label='Training Loss')\n",
        "plt.plot(epochs, val_loss, 'b', label='Validation Loss')\n",
        "plt.title('Training and validation loss')\n",
        "plt.legend()\n",
        "plt.savefig('loss.png')\n",
        "plt.show()\n"
      ],
      "execution_count": null,
      "outputs": [
        {
          "output_type": "display_data",
          "data": {
            "image/png": "[encoded data removed]",
            "text/plain": [
              "<Figure size 432x288 with 1 Axes>"
            ]
          },
          "metadata": {
            "tags": [],
            "needs_background": "light"
          }
        }
      ]
    },
    {
      "cell_type": "markdown",
      "metadata": {
        "id": "NOV4OvzpHgxO"
      },
      "source": [
        "# 3 layered Relu Model (Paper architechture) - LALR"
      ]
    },
    {
      "cell_type": "code",
      "metadata": {
        "id": "GDB0J8nY48dR"
      },
      "source": [
        "from tensorflow.keras import models\n",
        "from tensorflow.keras import layers\n",
        "\n",
        "model = models.Sequential()\n",
        "model.add(layers.Dense(9000, activation='relu', input_shape=(x_train.shape[1],)))\n",
        "model.add(layers.Dropout(0.2))\n",
        "model.add(layers.Dense(9000, activation='relu'))\n",
        "model.add(layers.Dense(4760, activation='relu'))"
      ],
      "execution_count": null,
      "outputs": []
    },
    {
      "cell_type": "code",
      "metadata": {
        "id": "q46E0vH5IizZ"
      },
      "source": [
        "from tensorflow.keras import backend as K\n",
        "func_pen = K.function([model.layers[0].input], [model.layers[-2].output])\n",
        "func_last = K.function([model.layers[0].input], [model.layers[-1].output])"
      ],
      "execution_count": null,
      "outputs": []
    },
    {
      "cell_type": "code",
      "metadata": {
        "id": "4lZrWjzSInsK"
      },
      "source": [
        "lrs = []\n",
        "K1 = 0.\n",
        "beta1 = 0.9\n",
        "batch_size=200\n",
        "from tqdm import tqdm"
      ],
      "execution_count": null,
      "outputs": []
    },
    {
      "cell_type": "code",
      "metadata": {
        "id": "teQaXDnIIsRx"
      },
      "source": [
        "def lr_schedule(epoch):\n",
        "    global K1\n",
        "\n",
        "    Kz = 0.\n",
        "    Ka = 0.\n",
        "    y_norm = 0.\n",
        "    \n",
        "    for i in range((len(x_train) - 1) // batch_size + 1):\n",
        "        start_i = i * batch_size\n",
        "        end_i = start_i + batch_size\n",
        "        xb = x_train[start_i:end_i]\n",
        "        yb = y_train[start_i:end_i]\n",
        "    \t\n",
        "        tmp_pen = np.array(func_pen([xb]))\n",
        "        activ_pen = np.linalg.norm(tmp_pen)\n",
        "        \n",
        "        if activ_pen > Kz:\n",
        "            Kz = activ_pen\n",
        "\n",
        "        tmp_last = np.array(func_last([xb]))\n",
        "        activ_last = np.linalg.norm(tmp_last)\n",
        "        \n",
        "        if activ_last > Ka:\n",
        "            Ka = activ_last\n",
        "        \n",
        "        y_norms = np.linalg.norm(np.array(yb))\n",
        "        if y_norms > y_norm:\n",
        "            y_norm = y_norms\n",
        "\n",
        "\n",
        "    print(\"The value of K_z is \",Kz, \" The value of Ka is \",Ka, \" Value of y is \",y_norm)\n",
        "    K1 = (1/batch_size)*(Ka + y_norm)*Kz\n",
        "    lr = 1 / K1\n",
        "    lr = lr*0.3\n",
        "    lrs.append(lr)\n",
        "    print('Epoch', epoch, 'LR =', lr)\n",
        "    return lr\n"
      ],
      "execution_count": null,
      "outputs": []
    },
    {
      "cell_type": "code",
      "metadata": {
        "id": "pk5Ko5mqIssl"
      },
      "source": [
        "lr_scheduler = LearningRateScheduler(lr_schedule)"
      ],
      "execution_count": null,
      "outputs": []
    },
    {
      "cell_type": "code",
      "metadata": {
        "id": "oMiSP_VZIwHR"
      },
      "source": [
        "optimizer = 'adam'\n",
        "model.compile(loss='mae', optimizer=optimizer, metrics=[\"mse\"])"
      ],
      "execution_count": null,
      "outputs": []
    },
    {
      "cell_type": "code",
      "metadata": {
        "id": "nCNUztULI2QO",
        "outputId": "32a3ab42-9674-4252-d266-e949f26ffb86",
        "colab": {
          "base_uri": "https://localhost:8080/",
          "height": 1000
        }
      },
      "source": [
        "history=model.fit(x_train, y_train, epochs = 100, batch_size = 200,validation_data=(x_test,y_test),callbacks=[lr_scheduler])"
      ],
      "execution_count": null,
      "outputs": [
        {
          "output_type": "stream",
          "text": [
            "The value of K_z is  307.9327  The value of Ka is  185.17705  Value of y is  1052.7268806322327\n",
            "Epoch 0 LR = 0.00015740136234614006\n",
            "Epoch 1/100\n",
            "  2/445 [..............................] - ETA: 29s - loss: 0.7633 - mse: 1.0308WARNING:tensorflow:Callbacks method `on_train_batch_end` is slow compared to the batch time (batch time: 0.0361s vs `on_train_batch_end` time: 0.0988s). Check your callbacks.\n",
            "445/445 [==============================] - 65s 147ms/step - loss: 0.6186 - mse: 0.7231 - val_loss: 0.5891 - val_mse: 0.6701\n",
            "The value of K_z is  451.33582  The value of Ka is  606.8568  Value of y is  1052.7268806322327\n",
            "Epoch 1 LR = 8.010364782168967e-05\n",
            "Epoch 2/100\n",
            "445/445 [==============================] - 65s 147ms/step - loss: 0.5766 - mse: 0.6420 - val_loss: 0.5722 - val_mse: 0.6393\n",
            "The value of K_z is  454.1984  The value of Ka is  638.80853  Value of y is  1052.7268806322327\n",
            "Epoch 2 LR = 7.809523946533422e-05\n",
            "Epoch 3/100\n",
            "445/445 [==============================] - 65s 147ms/step - loss: 0.5658 - mse: 0.6208 - val_loss: 0.5643 - val_mse: 0.6226\n",
            "The value of K_z is  445.56238  The value of Ka is  653.67926  Value of y is  1052.7268806322327\n",
            "Epoch 3 LR = 7.891514011672497e-05\n",
            "Epoch 4/100\n",
            "445/445 [==============================] - 65s 147ms/step - loss: 0.5576 - mse: 0.6038 - val_loss: 0.5575 - val_mse: 0.6079\n",
            "The value of K_z is  441.63614  The value of Ka is  679.42847  Value of y is  1052.7268806322327\n",
            "Epoch 4 LR = 7.84331770615015e-05\n",
            "Epoch 5/100\n",
            "445/445 [==============================] - 65s 147ms/step - loss: 0.5504 - mse: 0.5892 - val_loss: 0.5523 - val_mse: 0.5968\n",
            "The value of K_z is  428.54636  The value of Ka is  666.5802  Value of y is  1052.7268806322327\n",
            "Epoch 5 LR = 8.143291698618887e-05\n",
            "Epoch 6/100\n",
            "445/445 [==============================] - 65s 147ms/step - loss: 0.5451 - mse: 0.5787 - val_loss: 0.5486 - val_mse: 0.5890\n",
            "The value of K_z is  428.94876  The value of Ka is  690.47644  Value of y is  1052.7268806322327\n",
            "Epoch 6 LR = 8.024126894281852e-05\n",
            "Epoch 7/100\n",
            "445/445 [==============================] - 65s 147ms/step - loss: 0.5408 - mse: 0.5704 - val_loss: 0.5451 - val_mse: 0.5821\n",
            "The value of K_z is  422.5961  The value of Ka is  689.33704  Value of y is  1052.7268806322327\n",
            "Epoch 7 LR = 8.15007640981663e-05\n",
            "Epoch 8/100\n",
            "445/445 [==============================] - 66s 147ms/step - loss: 0.5368 - mse: 0.5629 - val_loss: 0.5424 - val_mse: 0.5755\n",
            "The value of K_z is  418.22147  The value of Ka is  690.05414  Value of y is  1052.7268806322327\n",
            "Epoch 8 LR = 8.231938345335984e-05\n",
            "Epoch 9/100\n",
            "445/445 [==============================] - 66s 147ms/step - loss: 0.5333 - mse: 0.5560 - val_loss: 0.5400 - val_mse: 0.5710\n",
            "The value of K_z is  419.20395  The value of Ka is  711.2095  Value of y is  1052.7268806322327\n",
            "Epoch 9 LR = 8.114148927087234e-05\n",
            "Epoch 10/100\n",
            "445/445 [==============================] - 66s 147ms/step - loss: 0.5305 - mse: 0.5507 - val_loss: 0.5383 - val_mse: 0.5672\n",
            "The value of K_z is  414.8807  The value of Ka is  704.94434  Value of y is  1052.7268806322327\n",
            "Epoch 10 LR = 8.227925870625193e-05\n",
            "Epoch 11/100\n",
            "445/445 [==============================] - 66s 147ms/step - loss: 0.5282 - mse: 0.5464 - val_loss: 0.5370 - val_mse: 0.5645\n",
            "The value of K_z is  416.34824  The value of Ka is  715.0989  Value of y is  1052.7268806322327\n",
            "Epoch 11 LR = 8.1518290566217e-05\n",
            "Epoch 12/100\n",
            "445/445 [==============================] - 66s 147ms/step - loss: 0.5259 - mse: 0.5422 - val_loss: 0.5355 - val_mse: 0.5610\n",
            "The value of K_z is  414.48465  The value of Ka is  721.05756  Value of y is  1052.7268806322327\n",
            "Epoch 12 LR = 8.160973340064922e-05\n",
            "Epoch 13/100\n",
            "445/445 [==============================] - 65s 147ms/step - loss: 0.5236 - mse: 0.5382 - val_loss: 0.5345 - val_mse: 0.5591\n",
            "The value of K_z is  410.3085  The value of Ka is  708.61395  Value of y is  1052.7268806322327\n",
            "Epoch 13 LR = 8.302279129203475e-05\n",
            "Epoch 14/100\n",
            "445/445 [==============================] - 65s 147ms/step - loss: 0.5218 - mse: 0.5349 - val_loss: 0.5332 - val_mse: 0.5565\n",
            "The value of K_z is  409.85495  The value of Ka is  714.29553  Value of y is  1052.7268806322327\n",
            "Epoch 14 LR = 8.284742369069122e-05\n",
            "Epoch 15/100\n",
            "445/445 [==============================] - 65s 147ms/step - loss: 0.5200 - mse: 0.5320 - val_loss: 0.5325 - val_mse: 0.5548\n",
            "The value of K_z is  409.98785  The value of Ka is  710.761  Value of y is  1052.7268806322327\n",
            "Epoch 15 LR = 8.298656404738643e-05\n",
            "Epoch 16/100\n",
            "445/445 [==============================] - 65s 147ms/step - loss: 0.5184 - mse: 0.5289 - val_loss: 0.5312 - val_mse: 0.5526\n",
            "The value of K_z is  411.914  The value of Ka is  726.9847  Value of y is  1052.7268806322327\n",
            "Epoch 16 LR = 8.184555054628677e-05\n",
            "Epoch 17/100\n",
            "445/445 [==============================] - 65s 147ms/step - loss: 0.5169 - mse: 0.5262 - val_loss: 0.5306 - val_mse: 0.5515\n",
            "The value of K_z is  412.08313  The value of Ka is  723.69006  Value of y is  1052.7268806322327\n",
            "Epoch 17 LR = 8.196369110525075e-05\n",
            "Epoch 18/100\n",
            "445/445 [==============================] - 65s 147ms/step - loss: 0.5156 - mse: 0.5241 - val_loss: 0.5299 - val_mse: 0.5501\n",
            "The value of K_z is  411.6726  The value of Ka is  723.86615  Value of y is  1052.7268806322327\n",
            "Epoch 18 LR = 8.203729389808024e-05\n",
            "Epoch 19/100\n",
            "445/445 [==============================] - 65s 147ms/step - loss: 0.5143 - mse: 0.5219 - val_loss: 0.5294 - val_mse: 0.5493\n",
            "The value of K_z is  413.72134  The value of Ka is  729.8345  Value of y is  1052.7268806322327\n",
            "Epoch 19 LR = 8.135773268205797e-05\n",
            "Epoch 20/100\n",
            "445/445 [==============================] - 65s 146ms/step - loss: 0.5131 - mse: 0.5200 - val_loss: 0.5290 - val_mse: 0.5483\n",
            "The value of K_z is  414.0807  The value of Ka is  725.7776  Value of y is  1052.7268806322327\n",
            "Epoch 20 LR = 8.1472550655304e-05\n",
            "Epoch 21/100\n",
            "445/445 [==============================] - 65s 146ms/step - loss: 0.5120 - mse: 0.5181 - val_loss: 0.5285 - val_mse: 0.5476\n",
            "The value of K_z is  414.82654  The value of Ka is  724.1909  Value of y is  1052.7268806322327\n",
            "Epoch 21 LR = 8.139868346996554e-05\n",
            "Epoch 22/100\n",
            "445/445 [==============================] - 65s 147ms/step - loss: 0.5109 - mse: 0.5164 - val_loss: 0.5284 - val_mse: 0.5469\n",
            "The value of K_z is  413.9938  The value of Ka is  725.71893  Value of y is  1052.7268806322327\n",
            "Epoch 22 LR = 8.149233664067543e-05\n",
            "Epoch 23/100\n",
            "445/445 [==============================] - 65s 147ms/step - loss: 0.5100 - mse: 0.5150 - val_loss: 0.5286 - val_mse: 0.5472\n",
            "The value of K_z is  418.96985  The value of Ka is  743.9186  Value of y is  1052.7268806322327\n",
            "Epoch 23 LR = 7.970876793521125e-05\n",
            "Epoch 24/100\n",
            "445/445 [==============================] - 65s 146ms/step - loss: 0.5091 - mse: 0.5135 - val_loss: 0.5277 - val_mse: 0.5459\n",
            "The value of K_z is  418.35895  The value of Ka is  737.03534  Value of y is  1052.7268806322327\n",
            "Epoch 24 LR = 8.013216046751063e-05\n",
            "Epoch 25/100\n",
            "445/445 [==============================] - 65s 146ms/step - loss: 0.5081 - mse: 0.5118 - val_loss: 0.5274 - val_mse: 0.5455\n",
            "The value of K_z is  418.54797  The value of Ka is  733.3041  Value of y is  1052.7268806322327\n",
            "Epoch 25 LR = 8.026330234808927e-05\n",
            "Epoch 26/100\n",
            "445/445 [==============================] - 65s 146ms/step - loss: 0.5073 - mse: 0.5104 - val_loss: 0.5273 - val_mse: 0.5450\n",
            "The value of K_z is  418.28497  The value of Ka is  731.48627  Value of y is  1052.7268806322327\n",
            "Epoch 26 LR = 8.039559471567562e-05\n",
            "Epoch 27/100\n",
            "445/445 [==============================] - 65s 146ms/step - loss: 0.5064 - mse: 0.5087 - val_loss: 0.5269 - val_mse: 0.5439\n",
            "The value of K_z is  418.56342  The value of Ka is  730.6642  Value of y is  1052.7268806322327\n",
            "Epoch 27 LR = 8.03791478539675e-05\n",
            "Epoch 28/100\n",
            "445/445 [==============================] - 65s 146ms/step - loss: 0.5055 - mse: 0.5072 - val_loss: 0.5265 - val_mse: 0.5434\n",
            "The value of K_z is  422.5061  The value of Ka is  740.201  Value of y is  1052.7268806322327\n",
            "Epoch 28 LR = 7.920551921951444e-05\n",
            "Epoch 29/100\n",
            "445/445 [==============================] - 65s 146ms/step - loss: 0.5047 - mse: 0.5059 - val_loss: 0.5264 - val_mse: 0.5432\n",
            "The value of K_z is  421.44876  The value of Ka is  738.90814  Value of y is  1052.7268806322327\n",
            "Epoch 29 LR = 7.946153047857775e-05\n",
            "Epoch 30/100\n",
            "445/445 [==============================] - 65s 146ms/step - loss: 0.5040 - mse: 0.5048 - val_loss: 0.5264 - val_mse: 0.5430\n",
            "The value of K_z is  422.55475  The value of Ka is  738.9217  Value of y is  1052.7268806322327\n",
            "Epoch 30 LR = 7.925294985664674e-05\n",
            "Epoch 31/100\n",
            "445/445 [==============================] - 65s 146ms/step - loss: 0.5034 - mse: 0.5038 - val_loss: 0.5262 - val_mse: 0.5426\n",
            "The value of K_z is  422.77634  The value of Ka is  732.84644  Value of y is  1052.7268806322327\n",
            "Epoch 31 LR = 7.948092118131045e-05\n",
            "Epoch 32/100\n",
            "445/445 [==============================] - 65s 146ms/step - loss: 0.5025 - mse: 0.5022 - val_loss: 0.5259 - val_mse: 0.5420\n",
            "The value of K_z is  422.7429  The value of Ka is  732.41656  Value of y is  1052.7268806322327\n",
            "Epoch 32 LR = 7.950635056240489e-05\n",
            "Epoch 33/100\n",
            "445/445 [==============================] - 65s 146ms/step - loss: 0.5019 - mse: 0.5011 - val_loss: 0.5258 - val_mse: 0.5418\n",
            "The value of K_z is  422.20068  The value of Ka is  732.37573  Value of y is  1052.7268806322327\n",
            "Epoch 33 LR = 7.96102765404353e-05\n",
            "Epoch 34/100\n",
            "445/445 [==============================] - 65s 146ms/step - loss: 0.5013 - mse: 0.5002 - val_loss: 0.5256 - val_mse: 0.5415\n",
            "The value of K_z is  425.36362  The value of Ka is  738.607  Value of y is  1052.7268806322327\n",
            "Epoch 34 LR = 7.874343780232307e-05\n",
            "Epoch 35/100\n",
            "445/445 [==============================] - 65s 146ms/step - loss: 0.5006 - mse: 0.4991 - val_loss: 0.5254 - val_mse: 0.5411\n",
            "The value of K_z is  426.3799  The value of Ka is  741.17334  Value of y is  1052.7268806322327\n",
            "Epoch 35 LR = 7.844336766486908e-05\n",
            "Epoch 36/100\n",
            "445/445 [==============================] - 65s 146ms/step - loss: 0.4999 - mse: 0.4980 - val_loss: 0.5254 - val_mse: 0.5408\n",
            "The value of K_z is  426.50058  The value of Ka is  739.344  Value of y is  1052.7268806322327\n",
            "Epoch 36 LR = 7.850122661470671e-05\n",
            "Epoch 37/100\n",
            "445/445 [==============================] - 65s 146ms/step - loss: 0.4994 - mse: 0.4971 - val_loss: 0.5254 - val_mse: 0.5407\n",
            "The value of K_z is  427.31525  The value of Ka is  742.01904  Value of y is  1052.7268806322327\n",
            "Epoch 37 LR = 7.823478368391192e-05\n",
            "Epoch 38/100\n",
            "445/445 [==============================] - 65s 146ms/step - loss: 0.4987 - mse: 0.4960 - val_loss: 0.5251 - val_mse: 0.5403\n",
            "The value of K_z is  429.20627  The value of Ka is  742.5873  Value of y is  1052.7268806322327\n",
            "Epoch 38 LR = 7.786543926418159e-05\n",
            "Epoch 39/100\n",
            "445/445 [==============================] - 65s 146ms/step - loss: 0.4982 - mse: 0.4952 - val_loss: 0.5250 - val_mse: 0.5400\n",
            "The value of K_z is  427.39288  The value of Ka is  739.41785  Value of y is  1052.7268806322327\n",
            "Epoch 39 LR = 7.833410490683234e-05\n",
            "Epoch 40/100\n",
            "445/445 [==============================] - 65s 146ms/step - loss: 0.4977 - mse: 0.4944 - val_loss: 0.5252 - val_mse: 0.5402\n",
            "The value of K_z is  428.34113  The value of Ka is  744.21643  Value of y is  1052.7268806322327\n",
            "Epoch 40 LR = 7.795197094396698e-05\n",
            "Epoch 41/100\n",
            "445/445 [==============================] - 65s 146ms/step - loss: 0.4973 - mse: 0.4935 - val_loss: 0.5252 - val_mse: 0.5398\n",
            "The value of K_z is  429.89493  The value of Ka is  743.7628  Value of y is  1052.7268806322327\n",
            "Epoch 41 LR = 7.768983482130489e-05\n",
            "Epoch 42/100\n",
            "445/445 [==============================] - 65s 146ms/step - loss: 0.4967 - mse: 0.4925 - val_loss: 0.5247 - val_mse: 0.5394\n",
            "The value of K_z is  432.97437  The value of Ka is  746.7237  Value of y is  1052.7268806322327\n",
            "Epoch 42 LR = 7.701035826576707e-05\n",
            "Epoch 43/100\n",
            "445/445 [==============================] - 65s 146ms/step - loss: 0.4962 - mse: 0.4917 - val_loss: 0.5247 - val_mse: 0.5394\n",
            "The value of K_z is  433.81985  The value of Ka is  750.7446  Value of y is  1052.7268806322327\n",
            "Epoch 43 LR = 7.668890555180735e-05\n",
            "Epoch 44/100\n",
            "445/445 [==============================] - 65s 146ms/step - loss: 0.4957 - mse: 0.4909 - val_loss: 0.5248 - val_mse: 0.5391\n",
            "The value of K_z is  431.35052  The value of Ka is  742.3065  Value of y is  1052.7268806322327\n",
            "Epoch 44 LR = 7.749048620999981e-05\n",
            "Epoch 45/100\n",
            "445/445 [==============================] - 65s 146ms/step - loss: 0.4953 - mse: 0.4902 - val_loss: 0.5247 - val_mse: 0.5391\n",
            "The value of K_z is  435.92374  The value of Ka is  754.6715  Value of y is  1052.7268806322327\n",
            "Epoch 45 LR = 7.615296934053529e-05\n",
            "Epoch 46/100\n",
            "445/445 [==============================] - 65s 145ms/step - loss: 0.4947 - mse: 0.4893 - val_loss: 0.5245 - val_mse: 0.5385\n",
            "The value of K_z is  431.9212  The value of Ka is  741.1042  Value of y is  1052.7268806322327\n",
            "Epoch 46 LR = 7.743997147590843e-05\n",
            "Epoch 47/100\n",
            "445/445 [==============================] - 65s 145ms/step - loss: 0.4944 - mse: 0.4886 - val_loss: 0.5245 - val_mse: 0.5385\n",
            "The value of K_z is  434.44745  The value of Ka is  751.8382  Value of y is  1052.7268806322327\n",
            "Epoch 47 LR = 7.653171594895023e-05\n",
            "Epoch 48/100\n",
            "445/445 [==============================] - 65s 146ms/step - loss: 0.4939 - mse: 0.4879 - val_loss: 0.5245 - val_mse: 0.5384\n",
            "The value of K_z is  433.38712  The value of Ka is  747.55927  Value of y is  1052.7268806322327\n",
            "Epoch 48 LR = 7.690130599074296e-05\n",
            "Epoch 49/100\n",
            "445/445 [==============================] - 65s 145ms/step - loss: 0.4936 - mse: 0.4873 - val_loss: 0.5246 - val_mse: 0.5385\n",
            "The value of K_z is  438.42944  The value of Ka is  759.4413  Value of y is  1052.7268806322327\n",
            "Epoch 49 LR = 7.551844547748586e-05\n",
            "Epoch 50/100\n",
            "445/445 [==============================] - 65s 145ms/step - loss: 0.4932 - mse: 0.4867 - val_loss: 0.5248 - val_mse: 0.5383\n",
            "The value of K_z is  435.64072  The value of Ka is  745.785  Value of y is  1052.7268806322327\n",
            "Epoch 50 LR = 7.65789631954126e-05\n",
            "Epoch 51/100\n",
            "445/445 [==============================] - 65s 145ms/step - loss: 0.4930 - mse: 0.4863 - val_loss: 0.5244 - val_mse: 0.5382\n",
            "The value of K_z is  435.1213  The value of Ka is  751.73  Value of y is  1052.7268806322327\n",
            "Epoch 51 LR = 7.641777628090633e-05\n",
            "Epoch 52/100\n",
            "445/445 [==============================] - 65s 145ms/step - loss: 0.4925 - mse: 0.4855 - val_loss: 0.5246 - val_mse: 0.5383\n",
            "The value of K_z is  438.1975  The value of Ka is  749.9804  Value of y is  1052.7268806322327\n",
            "Epoch 52 LR = 7.595495847056835e-05\n",
            "Epoch 53/100\n",
            "445/445 [==============================] - 65s 145ms/step - loss: 0.4921 - mse: 0.4850 - val_loss: 0.5245 - val_mse: 0.5383\n",
            "The value of K_z is  437.8898  The value of Ka is  758.1537  Value of y is  1052.7268806322327\n",
            "Epoch 53 LR = 7.56652745139812e-05\n",
            "Epoch 54/100\n",
            "445/445 [==============================] - 65s 145ms/step - loss: 0.4918 - mse: 0.4845 - val_loss: 0.5244 - val_mse: 0.5380\n",
            "The value of K_z is  437.25705  The value of Ka is  751.722  Value of y is  1052.7268806322327\n",
            "Epoch 54 LR = 7.604485757795223e-05\n",
            "Epoch 55/100\n",
            "445/445 [==============================] - 65s 145ms/step - loss: 0.4915 - mse: 0.4839 - val_loss: 0.5244 - val_mse: 0.5381\n",
            "The value of K_z is  438.0926  The value of Ka is  753.0966  Value of y is  1052.7268806322327\n",
            "Epoch 55 LR = 7.584204632247889e-05\n",
            "Epoch 56/100\n",
            "445/445 [==============================] - 65s 145ms/step - loss: 0.4912 - mse: 0.4834 - val_loss: 0.5244 - val_mse: 0.5382\n",
            "The value of K_z is  440.4667  The value of Ka is  762.6559  Value of y is  1052.7268806322327\n",
            "Epoch 56 LR = 7.50360487112696e-05\n",
            "Epoch 57/100\n",
            "445/445 [==============================] - 65s 145ms/step - loss: 0.4908 - mse: 0.4829 - val_loss: 0.5244 - val_mse: 0.5385\n",
            "The value of K_z is  443.66153  The value of Ka is  769.03046  Value of y is  1052.7268806322327\n",
            "Epoch 57 LR = 7.42350406930745e-05\n",
            "Epoch 58/100\n",
            "445/445 [==============================] - 65s 145ms/step - loss: 0.4905 - mse: 0.4824 - val_loss: 0.5244 - val_mse: 0.5379\n",
            "The value of K_z is  437.65704  The value of Ka is  752.91565  Value of y is  1052.7268806322327\n",
            "Epoch 58 LR = 7.592513147521933e-05\n",
            "Epoch 59/100\n",
            "445/445 [==============================] - 65s 145ms/step - loss: 0.4903 - mse: 0.4821 - val_loss: 0.5244 - val_mse: 0.5378\n",
            "The value of K_z is  438.04584  The value of Ka is  752.6579  Value of y is  1052.7268806322327\n",
            "Epoch 59 LR = 7.586857309248959e-05\n",
            "Epoch 60/100\n",
            "445/445 [==============================] - 65s 145ms/step - loss: 0.4900 - mse: 0.4816 - val_loss: 0.5244 - val_mse: 0.5377\n",
            "The value of K_z is  441.49585  The value of Ka is  762.86523  Value of y is  1052.7268806322327\n",
            "Epoch 60 LR = 7.485250469650247e-05\n",
            "Epoch 61/100\n",
            "445/445 [==============================] - 65s 145ms/step - loss: 0.4896 - mse: 0.4809 - val_loss: 0.5245 - val_mse: 0.5376\n",
            "The value of K_z is  439.48578  The value of Ka is  755.15686  Value of y is  1052.7268806322327\n",
            "Epoch 61 LR = 7.55154691681911e-05\n",
            "Epoch 62/100\n",
            "445/445 [==============================] - 65s 146ms/step - loss: 0.4894 - mse: 0.4804 - val_loss: 0.5244 - val_mse: 0.5374\n",
            "The value of K_z is  441.6797  The value of Ka is  757.38367  Value of y is  1052.7268806322327\n",
            "Epoch 62 LR = 7.504793114218567e-05\n",
            "Epoch 63/100\n",
            "445/445 [==============================] - 65s 146ms/step - loss: 0.4891 - mse: 0.4799 - val_loss: 0.5243 - val_mse: 0.5374\n",
            "The value of K_z is  439.3745  The value of Ka is  757.7597  Value of y is  1052.7268806322327\n",
            "Epoch 63 LR = 7.542600045440063e-05\n",
            "Epoch 64/100\n",
            "445/445 [==============================] - 65s 146ms/step - loss: 0.4888 - mse: 0.4795 - val_loss: 0.5244 - val_mse: 0.5373\n",
            "The value of K_z is  440.26068  The value of Ka is  763.1633  Value of y is  1052.7268806322327\n",
            "Epoch 64 LR = 7.505018408191022e-05\n",
            "Epoch 65/100\n",
            "445/445 [==============================] - 65s 146ms/step - loss: 0.4885 - mse: 0.4789 - val_loss: 0.5243 - val_mse: 0.5371\n",
            "The value of K_z is  439.1571  The value of Ka is  757.45776  Value of y is  1052.7268806322327\n",
            "Epoch 65 LR = 7.547592789919508e-05\n",
            "Epoch 66/100\n",
            "445/445 [==============================] - 65s 146ms/step - loss: 0.4883 - mse: 0.4785 - val_loss: 0.5243 - val_mse: 0.5372\n",
            "The value of K_z is  441.7341  The value of Ka is  755.89453  Value of y is  1052.7268806322327\n",
            "Epoch 66 LR = 7.51004701377338e-05\n",
            "Epoch 67/100\n",
            "445/445 [==============================] - 65s 146ms/step - loss: 0.4880 - mse: 0.4781 - val_loss: 0.5242 - val_mse: 0.5370\n",
            "The value of K_z is  440.06186  The value of Ka is  758.2452  Value of y is  1052.7268806322327\n",
            "Epoch 67 LR = 7.528800191787068e-05\n",
            "Epoch 68/100\n",
            "445/445 [==============================] - 65s 146ms/step - loss: 0.4877 - mse: 0.4778 - val_loss: 0.5244 - val_mse: 0.5372\n",
            "The value of K_z is  438.08392  The value of Ka is  757.0242  Value of y is  1052.7268806322327\n",
            "Epoch 68 LR = 7.567894986795254e-05\n",
            "Epoch 69/100\n",
            "445/445 [==============================] - 65s 145ms/step - loss: 0.4876 - mse: 0.4775 - val_loss: 0.5243 - val_mse: 0.5371\n",
            "The value of K_z is  440.77347  The value of Ka is  760.626  Value of y is  1052.7268806322327\n",
            "Epoch 69 LR = 7.506776483436841e-05\n",
            "Epoch 70/100\n",
            "445/445 [==============================] - 65s 145ms/step - loss: 0.4873 - mse: 0.4770 - val_loss: 0.5243 - val_mse: 0.5371\n",
            "The value of K_z is  439.58386  The value of Ka is  762.5725  Value of y is  1052.7268806322327\n",
            "Epoch 70 LR = 7.519020138998176e-05\n",
            "Epoch 71/100\n",
            "445/445 [==============================] - 65s 145ms/step - loss: 0.4871 - mse: 0.4766 - val_loss: 0.5243 - val_mse: 0.5372\n",
            "The value of K_z is  440.50717  The value of Ka is  765.9445  Value of y is  1052.7268806322327\n",
            "Epoch 71 LR = 7.489348326797053e-05\n",
            "Epoch 72/100\n",
            "445/445 [==============================] - 65s 146ms/step - loss: 0.4869 - mse: 0.4764 - val_loss: 0.5243 - val_mse: 0.5371\n",
            "The value of K_z is  441.45667  The value of Ka is  761.5697  Value of y is  1052.7268806322327\n",
            "Epoch 72 LR = 7.491260332125807e-05\n",
            "Epoch 73/100\n",
            "445/445 [==============================] - 65s 146ms/step - loss: 0.4867 - mse: 0.4760 - val_loss: 0.5243 - val_mse: 0.5372\n",
            "The value of K_z is  440.44708  The value of Ka is  769.0352  Value of y is  1052.7268806322327\n",
            "Epoch 73 LR = 7.477662343141878e-05\n",
            "Epoch 74/100\n",
            "445/445 [==============================] - 65s 145ms/step - loss: 0.4864 - mse: 0.4757 - val_loss: 0.5244 - val_mse: 0.5372\n",
            "The value of K_z is  436.88492  The value of Ka is  758.72906  Value of y is  1052.7268806322327\n",
            "Epoch 74 LR = 7.581522379395971e-05\n",
            "Epoch 75/100\n",
            "445/445 [==============================] - 65s 145ms/step - loss: 0.4863 - mse: 0.4754 - val_loss: 0.5245 - val_mse: 0.5372\n",
            "The value of K_z is  441.36658  The value of Ka is  760.72125  Value of y is  1052.7268806322327\n",
            "Epoch 75 LR = 7.496294999947125e-05\n",
            "Epoch 76/100\n",
            "445/445 [==============================] - 65s 146ms/step - loss: 0.4861 - mse: 0.4751 - val_loss: 0.5244 - val_mse: 0.5372\n",
            "The value of K_z is  438.82977  The value of Ka is  760.49664  Value of y is  1052.7268806322327\n",
            "Epoch 76 LR = 7.540563829611708e-05\n",
            "Epoch 77/100\n",
            "445/445 [==============================] - 65s 145ms/step - loss: 0.4859 - mse: 0.4749 - val_loss: 0.5244 - val_mse: 0.5373\n",
            "The value of K_z is  440.73996  The value of Ka is  766.2028  Value of y is  1052.7268806322327\n",
            "Epoch 77 LR = 7.484329657584541e-05\n",
            "Epoch 78/100\n",
            "445/445 [==============================] - 65s 146ms/step - loss: 0.4856 - mse: 0.4746 - val_loss: 0.5247 - val_mse: 0.5374\n",
            "The value of K_z is  440.3562  The value of Ka is  761.2593  Value of y is  1052.7268806322327\n",
            "Epoch 78 LR = 7.511266397236081e-05\n",
            "Epoch 79/100\n",
            "445/445 [==============================] - 65s 146ms/step - loss: 0.4855 - mse: 0.4743 - val_loss: 0.5245 - val_mse: 0.5373\n",
            "The value of K_z is  438.68866  The value of Ka is  771.3642  Value of y is  1052.7268806322327\n",
            "Epoch 79 LR = 7.498049852260824e-05\n",
            "Epoch 80/100\n",
            "445/445 [==============================] - 65s 146ms/step - loss: 0.4853 - mse: 0.4741 - val_loss: 0.5246 - val_mse: 0.5378\n",
            "The value of K_z is  442.0261  The value of Ka is  773.8995  Value of y is  1052.7268806322327\n",
            "Epoch 80 LR = 7.431108878402137e-05\n",
            "Epoch 81/100\n",
            "445/445 [==============================] - 65s 146ms/step - loss: 0.4853 - mse: 0.4744 - val_loss: 0.5246 - val_mse: 0.5375\n",
            "The value of K_z is  437.4572  The value of Ka is  759.2431  Value of y is  1052.7268806322327\n",
            "Epoch 81 LR = 7.569455988857334e-05\n",
            "Epoch 82/100\n",
            "445/445 [==============================] - 65s 146ms/step - loss: 0.4851 - mse: 0.4737 - val_loss: 0.5245 - val_mse: 0.5374\n",
            "The value of K_z is  439.71518  The value of Ka is  766.8866  Value of y is  1052.7268806322327\n",
            "Epoch 82 LR = 7.498953270851922e-05\n",
            "Epoch 83/100\n",
            "445/445 [==============================] - 65s 146ms/step - loss: 0.4847 - mse: 0.4733 - val_loss: 0.5246 - val_mse: 0.5375\n",
            "The value of K_z is  438.51257  The value of Ka is  760.3222  Value of y is  1052.7268806322327\n",
            "Epoch 83 LR = 7.54674434794388e-05\n",
            "Epoch 84/100\n",
            "445/445 [==============================] - 65s 145ms/step - loss: 0.4846 - mse: 0.4731 - val_loss: 0.5246 - val_mse: 0.5375\n",
            "The value of K_z is  439.1494  The value of Ka is  767.77814  Value of y is  1052.7268806322327\n",
            "Epoch 84 LR = 7.504937199093207e-05\n",
            "Epoch 85/100\n",
            "445/445 [==============================] - 65s 145ms/step - loss: 0.4845 - mse: 0.4729 - val_loss: 0.5247 - val_mse: 0.5376\n",
            "The value of K_z is  440.6545  The value of Ka is  764.3693  Value of y is  1052.7268806322327\n",
            "Epoch 85 LR = 7.493334318869093e-05\n",
            "Epoch 86/100\n",
            "445/445 [==============================] - 65s 146ms/step - loss: 0.4843 - mse: 0.4727 - val_loss: 0.5247 - val_mse: 0.5375\n",
            "The value of K_z is  441.0715  The value of Ka is  766.36755  Value of y is  1052.7268806322327\n",
            "Epoch 86 LR = 7.478026606974573e-05\n",
            "Epoch 87/100\n",
            "445/445 [==============================] - 65s 146ms/step - loss: 0.4841 - mse: 0.4724 - val_loss: 0.5247 - val_mse: 0.5377\n",
            "The value of K_z is  438.29117  The value of Ka is  762.8257  Value of y is  1052.7268806322327\n",
            "Epoch 87 LR = 7.540145105540917e-05\n",
            "Epoch 88/100\n",
            "445/445 [==============================] - 65s 145ms/step - loss: 0.4841 - mse: 0.4725 - val_loss: 0.5248 - val_mse: 0.5377\n",
            "The value of K_z is  439.92392  The value of Ka is  770.32745  Value of y is  1052.7268806322327\n",
            "Epoch 88 LR = 7.481248171905557e-05\n",
            "Epoch 89/100\n",
            "445/445 [==============================] - 65s 145ms/step - loss: 0.4838 - mse: 0.4720 - val_loss: 0.5248 - val_mse: 0.5378\n",
            "The value of K_z is  441.58994  The value of Ka is  773.4838  Value of y is  1052.7268806322327\n",
            "Epoch 89 LR = 7.440141571851241e-05\n",
            "Epoch 90/100\n",
            "445/445 [==============================] - 65s 146ms/step - loss: 0.4836 - mse: 0.4718 - val_loss: 0.5247 - val_mse: 0.5376\n",
            "The value of K_z is  437.8427  The value of Ka is  771.8864  Value of y is  1052.7268806322327\n",
            "Epoch 90 LR = 7.51038654708619e-05\n",
            "Epoch 91/100\n",
            "445/445 [==============================] - 65s 146ms/step - loss: 0.4835 - mse: 0.4715 - val_loss: 0.5249 - val_mse: 0.5378\n",
            "The value of K_z is  439.01675  The value of Ka is  767.12164  Value of y is  1052.7268806322327\n",
            "Epoch 91 LR = 7.509913161227103e-05\n",
            "Epoch 92/100\n",
            "445/445 [==============================] - 65s 146ms/step - loss: 0.4834 - mse: 0.4714 - val_loss: 0.5250 - val_mse: 0.5380\n",
            "The value of K_z is  432.5637  The value of Ka is  765.0775  Value of y is  1052.7268806322327\n",
            "Epoch 92 LR = 7.630518325239114e-05\n",
            "Epoch 93/100\n",
            "445/445 [==============================] - 65s 146ms/step - loss: 0.4833 - mse: 0.4712 - val_loss: 0.5249 - val_mse: 0.5379\n",
            "The value of K_z is  437.09024  The value of Ka is  767.5917  Value of y is  1052.7268806322327\n",
            "Epoch 93 LR = 7.541066052126428e-05\n",
            "Epoch 94/100\n",
            "445/445 [==============================] - 65s 146ms/step - loss: 0.4831 - mse: 0.4710 - val_loss: 0.5249 - val_mse: 0.5378\n",
            "The value of K_z is  434.92227  The value of Ka is  764.52045  Value of y is  1052.7268806322327\n",
            "Epoch 94 LR = 7.591464469783784e-05\n",
            "Epoch 95/100\n",
            "445/445 [==============================] - 65s 146ms/step - loss: 0.4830 - mse: 0.4708 - val_loss: 0.5249 - val_mse: 0.5380\n",
            "The value of K_z is  439.99005  The value of Ka is  772.7677  Value of y is  1052.7268806322327\n",
            "Epoch 95 LR = 7.470124598001866e-05\n",
            "Epoch 96/100\n",
            "445/445 [==============================] - 65s 147ms/step - loss: 0.4828 - mse: 0.4706 - val_loss: 0.5249 - val_mse: 0.5378\n",
            "The value of K_z is  432.91376  The value of Ka is  762.9977  Value of y is  1052.7268806322327\n",
            "Epoch 96 LR = 7.633081418741657e-05\n",
            "Epoch 97/100\n",
            "445/445 [==============================] - 65s 146ms/step - loss: 0.4827 - mse: 0.4703 - val_loss: 0.5249 - val_mse: 0.5378\n",
            "The value of K_z is  437.1808  The value of Ka is  768.64856  Value of y is  1052.7268806322327\n",
            "Epoch 97 LR = 7.535129273847939e-05\n",
            "Epoch 98/100\n",
            "445/445 [==============================] - 65s 146ms/step - loss: 0.4826 - mse: 0.4702 - val_loss: 0.5251 - val_mse: 0.5377\n",
            "The value of K_z is  434.5166  The value of Ka is  757.72906  Value of y is  1052.7268806322327\n",
            "Epoch 98 LR = 7.627055642494498e-05\n",
            "Epoch 99/100\n",
            "445/445 [==============================] - 65s 146ms/step - loss: 0.4824 - mse: 0.4699 - val_loss: 0.5251 - val_mse: 0.5378\n",
            "The value of K_z is  435.3268  The value of Ka is  767.04614  Value of y is  1052.7268806322327\n",
            "Epoch 99 LR = 7.573883325453622e-05\n",
            "Epoch 100/100\n",
            "445/445 [==============================] - 65s 146ms/step - loss: 0.4822 - mse: 0.4696 - val_loss: 0.5250 - val_mse: 0.5377\n"
          ],
          "name": "stdout"
        }
      ]
    },
    {
      "cell_type": "code",
      "metadata": {
        "id": "ohwuVB_USFz0",
        "outputId": "172f1751-5269-4780-cde9-fa82f422f69a",
        "colab": {
          "base_uri": "https://localhost:8080/",
          "height": 281
        }
      },
      "source": [
        "%matplotlib inline\n",
        "import matplotlib.pyplot as plt\n",
        "loss = history.history['loss']\n",
        "val_loss = history.history['val_loss']\n",
        "\n",
        "epochs = range(len(loss))\n",
        "\n",
        "plt.plot(epochs, loss, 'r', label='Training Loss')\n",
        "plt.plot(epochs, val_loss, 'b', label='Validation Loss')\n",
        "plt.title('Training and validation loss')\n",
        "plt.legend()\n",
        "plt.show()\n"
      ],
      "execution_count": null,
      "outputs": [
        {
          "output_type": "display_data",
          "data": {
            "image/png": "[encoded data removed]",
            "text/plain": [
              "<Figure size 432x288 with 1 Axes>"
            ]
          },
          "metadata": {
            "tags": [],
            "needs_background": "light"
          }
        }
      ]
    },
    {
      "cell_type": "code",
      "metadata": {
        "id": "PdhzIiWrDuzf"
      },
      "source": [
        "data1 = pd.DataFrame([history.history['loss'],history.history['val_loss']])\n",
        "data1.to_csv(\"Relu100.csv\")"
      ],
      "execution_count": null,
      "outputs": []
    },
    {
      "cell_type": "markdown",
      "metadata": {
        "id": "tF2-NCvDLGyZ"
      },
      "source": [
        "# A-relu - LALR"
      ]
    },
    {
      "cell_type": "code",
      "metadata": {
        "id": "uyQ3XV4bLlGU"
      },
      "source": [
        "import tensorflow as tf\n",
        "from keras.layers import Activation\n",
        "import tensorflow.keras.backend as K\n",
        "from tensorflow.keras import layers"
      ],
      "execution_count": null,
      "outputs": []
    },
    {
      "cell_type": "code",
      "metadata": {
        "id": "BZV3JER0QECb"
      },
      "source": [
        "@tf.function\n",
        "def ARELU(act):\n",
        "  k = 0.54\n",
        "  n = 1.30\n",
        "  #print(act)\n",
        "  x = act-act\n",
        "  y = tf.where(act<=0,x,act)\n",
        "  y = k * K.pow(y,n)\n",
        "  t = tf.where(act<0,x,y)\n",
        "  return t"
      ],
      "execution_count": null,
      "outputs": []
    },
    {
      "cell_type": "code",
      "metadata": {
        "id": "ney84Ud5OEHN"
      },
      "source": [
        "from tensorflow.keras import models\n",
        "from tensorflow.keras import layers\n",
        "\n",
        "model = models.Sequential()\n",
        "model.add(layers.Dense(9000,activation= ARELU,input_shape=(x_train.shape[1],)))\n",
        "model.add(layers.Dropout(0.2))\n",
        "model.add(layers.Dense(9000,activation = ARELU))\n",
        "model.add(layers.Dense(4760,activation = ARELU))"
      ],
      "execution_count": null,
      "outputs": []
    },
    {
      "cell_type": "code",
      "metadata": {
        "id": "RVk_1omlMfqM",
        "outputId": "02e6fab1-0a1e-455e-d221-94c72ee60428",
        "colab": {
          "base_uri": "https://localhost:8080/",
          "height": 295
        }
      },
      "source": [
        "model.summary()"
      ],
      "execution_count": null,
      "outputs": [
        {
          "output_type": "stream",
          "text": [
            "Model: \"sequential_2\"\n",
            "_________________________________________________________________\n",
            "Layer (type)                 Output Shape              Param #   \n",
            "=================================================================\n",
            "dense_6 (Dense)              (None, 9000)              8496000   \n",
            "_________________________________________________________________\n",
            "dropout_2 (Dropout)          (None, 9000)              0         \n",
            "_________________________________________________________________\n",
            "dense_7 (Dense)              (None, 9000)              81009000  \n",
            "_________________________________________________________________\n",
            "dense_8 (Dense)              (None, 4760)              42844760  \n",
            "=================================================================\n",
            "Total params: 132,349,760\n",
            "Trainable params: 132,349,760\n",
            "Non-trainable params: 0\n",
            "_________________________________________________________________\n"
          ],
          "name": "stdout"
        }
      ]
    },
    {
      "cell_type": "code",
      "metadata": {
        "id": "JMe36C18Rh7s"
      },
      "source": [
        "from tensorflow.keras import backend as K\n",
        "func_pen = K.function([model.layers[0].input], [model.layers[-2].output])\n",
        "func_last = K.function([model.layers[0].input], [model.layers[-1].output])"
      ],
      "execution_count": null,
      "outputs": []
    },
    {
      "cell_type": "code",
      "metadata": {
        "id": "S-puhWX1SWXM"
      },
      "source": [
        "lrs = []\n",
        "K1 = 0.\n",
        "beta1 = 0.9\n",
        "batch_size=200\n",
        "from tqdm import tqdm"
      ],
      "execution_count": null,
      "outputs": []
    },
    {
      "cell_type": "code",
      "metadata": {
        "id": "GADEAGbfSZ7P"
      },
      "source": [
        "def lr_schedule(epoch):\n",
        "    global K1\n",
        "\n",
        "    Kz = 0.\n",
        "    Ka = 0.\n",
        "    y_norm = 0.\n",
        "    \n",
        "    for i in range((len(x_train) - 1) // batch_size + 1):\n",
        "        start_i = i * batch_size\n",
        "        end_i = start_i + batch_size\n",
        "        xb = x_train[start_i:end_i]\n",
        "        yb = y_train[start_i:end_i]\n",
        "    \t\n",
        "        tmp_pen = np.array(func_pen([xb]))\n",
        "        activ_pen = np.linalg.norm(tmp_pen)\n",
        "        \n",
        "        if activ_pen > Kz:\n",
        "            Kz = activ_pen\n",
        "\n",
        "        tmp_last = np.array(func_last([xb]))\n",
        "        activ_last = np.linalg.norm(tmp_last)\n",
        "        \n",
        "        if activ_last > Ka:\n",
        "            Ka = activ_last\n",
        "        \n",
        "        y_norms = np.linalg.norm(np.array(yb))\n",
        "        if y_norms > y_norm:\n",
        "            y_norm = y_norms\n",
        "\n",
        "\n",
        "    print(\"The value of K_z is \",Kz, \" The value of Ka is \",Ka, \" Value of y is \",y_norm)\n",
        "    K1 = (1/batch_size)*(Ka + y_norm)*Kz\n",
        "    lr = 1 / K1\n",
        "    lr = lr*0.3\n",
        "    lrs.append(lr)\n",
        "    print('Epoch', epoch, 'LR =', lr)\n",
        "    return lr\n"
      ],
      "execution_count": null,
      "outputs": []
    },
    {
      "cell_type": "code",
      "metadata": {
        "id": "HzVXATl9Scqf"
      },
      "source": [
        "lr_scheduler = LearningRateScheduler(lr_schedule)"
      ],
      "execution_count": null,
      "outputs": []
    },
    {
      "cell_type": "code",
      "metadata": {
        "id": "dwTASnrPSfuV"
      },
      "source": [
        "optimizer = 'adam'\n",
        "model.compile(loss='mae', optimizer=optimizer, metrics=[\"mse\"])"
      ],
      "execution_count": null,
      "outputs": []
    },
    {
      "cell_type": "code",
      "metadata": {
        "id": "U9560kviSkym",
        "outputId": "a9812a42-2328-408a-ae71-46cfda2e0019",
        "colab": {
          "base_uri": "https://localhost:8080/",
          "height": 1000
        }
      },
      "source": [
        "history=model.fit(x_train, y_train, epochs = 100, batch_size = 200,validation_data=(x_test,y_test),callbacks=[lr_scheduler])"
      ],
      "execution_count": null,
      "outputs": [
        {
          "output_type": "stream",
          "text": [
            "The value of K_z is  59.419014  The value of Ka is  10.147014  Value of y is  1052.7268806322327\n",
            "Epoch 0 LR = 0.0009500447654444336\n",
            "Epoch 1/100\n",
            "  2/445 [..............................] - ETA: 19s - loss: 0.7525 - mse: 1.0016WARNING:tensorflow:Callbacks method `on_train_batch_end` is slow compared to the batch time (batch time: 0.0292s vs `on_train_batch_end` time: 0.0568s). Check your callbacks.\n",
            "445/445 [==============================] - 38s 86ms/step - loss: 0.5959 - mse: 0.6514 - val_loss: 0.5808 - val_mse: 0.6217\n",
            "The value of K_z is  388.55844  The value of Ka is  755.6896  Value of y is  1052.7268806322327\n",
            "Epoch 1 LR = 8.538792342841863e-05\n",
            "Epoch 2/100\n",
            "445/445 [==============================] - 38s 85ms/step - loss: 0.5491 - mse: 0.5690 - val_loss: 0.5479 - val_mse: 0.5725\n",
            "The value of K_z is  367.574  The value of Ka is  684.66473  Value of y is  1052.7268806322327\n",
            "Epoch 2 LR = 9.395258611191462e-05\n",
            "Epoch 3/100\n",
            "445/445 [==============================] - 37s 84ms/step - loss: 0.5424 - mse: 0.5592 - val_loss: 0.5443 - val_mse: 0.5672\n",
            "The value of K_z is  379.69873  The value of Ka is  702.92584  Value of y is  1052.7268806322327\n",
            "Epoch 3 LR = 9.000642060318892e-05\n",
            "Epoch 4/100\n",
            "445/445 [==============================] - 37s 84ms/step - loss: 0.5384 - mse: 0.5534 - val_loss: 0.5415 - val_mse: 0.5628\n",
            "The value of K_z is  389.05054  The value of Ka is  705.8491  Value of y is  1052.7268806322327\n",
            "Epoch 4 LR = 8.769686912782026e-05\n",
            "Epoch 5/100\n",
            "445/445 [==============================] - 37s 84ms/step - loss: 0.5352 - mse: 0.5487 - val_loss: 0.5392 - val_mse: 0.5596\n",
            "The value of K_z is  392.96466  The value of Ka is  700.5127  Value of y is  1052.7268806322327\n",
            "Epoch 5 LR = 8.708763343470806e-05\n",
            "Epoch 6/100\n",
            "445/445 [==============================] - 37s 84ms/step - loss: 0.5325 - mse: 0.5448 - val_loss: 0.5375 - val_mse: 0.5570\n",
            "The value of K_z is  396.77036  The value of Ka is  697.169  Value of y is  1052.7268806322327\n",
            "Epoch 6 LR = 8.64171269876134e-05\n",
            "Epoch 7/100\n",
            "445/445 [==============================] - 37s 84ms/step - loss: 0.5302 - mse: 0.5416 - val_loss: 0.5360 - val_mse: 0.5547\n",
            "The value of K_z is  404.61288  The value of Ka is  706.8147  Value of y is  1052.7268806322327\n",
            "Epoch 7 LR = 8.427757065872831e-05\n",
            "Epoch 8/100\n",
            "445/445 [==============================] - 37s 84ms/step - loss: 0.5281 - mse: 0.5385 - val_loss: 0.5344 - val_mse: 0.5524\n",
            "The value of K_z is  412.21606  The value of Ka is  717.2384  Value of y is  1052.7268806322327\n",
            "Epoch 8 LR = 8.223592646755715e-05\n",
            "Epoch 9/100\n",
            "445/445 [==============================] - 37s 84ms/step - loss: 0.5262 - mse: 0.5359 - val_loss: 0.5333 - val_mse: 0.5511\n",
            "The value of K_z is  414.52814  The value of Ka is  717.2831  Value of y is  1052.7268806322327\n",
            "Epoch 9 LR = 8.1775183060246e-05\n",
            "Epoch 10/100\n",
            "445/445 [==============================] - 37s 83ms/step - loss: 0.5246 - mse: 0.5337 - val_loss: 0.5328 - val_mse: 0.5499\n",
            "The value of K_z is  418.33017  The value of Ka is  719.51385  Value of y is  1052.7268806322327\n",
            "Epoch 10 LR = 8.092996431663491e-05\n",
            "Epoch 11/100\n",
            "445/445 [==============================] - 37s 84ms/step - loss: 0.5231 - mse: 0.5316 - val_loss: 0.5317 - val_mse: 0.5486\n",
            "The value of K_z is  421.5454  The value of Ka is  712.80884  Value of y is  1052.7268806322327\n",
            "Epoch 11 LR = 8.061769507888661e-05\n",
            "Epoch 12/100\n",
            "445/445 [==============================] - 37s 84ms/step - loss: 0.5217 - mse: 0.5296 - val_loss: 0.5308 - val_mse: 0.5473\n",
            "The value of K_z is  432.32803  The value of Ka is  741.5416  Value of y is  1052.7268806322327\n",
            "Epoch 12 LR = 7.734823688368544e-05\n",
            "Epoch 13/100\n",
            "445/445 [==============================] - 37s 84ms/step - loss: 0.5203 - mse: 0.5275 - val_loss: 0.5300 - val_mse: 0.5460\n",
            "The value of K_z is  429.63116  The value of Ka is  713.77716  Value of y is  1052.7268806322327\n",
            "Epoch 13 LR = 7.905709254647864e-05\n",
            "Epoch 14/100\n",
            "445/445 [==============================] - 37s 84ms/step - loss: 0.5192 - mse: 0.5258 - val_loss: 0.5293 - val_mse: 0.5450\n",
            "The value of K_z is  434.76752  The value of Ka is  725.3657  Value of y is  1052.7268806322327\n",
            "Epoch 14 LR = 7.761394990717811e-05\n",
            "Epoch 15/100\n",
            "445/445 [==============================] - 37s 84ms/step - loss: 0.5181 - mse: 0.5242 - val_loss: 0.5289 - val_mse: 0.5445\n",
            "The value of K_z is  436.10742  The value of Ka is  725.4778  Value of y is  1052.7268806322327\n",
            "Epoch 15 LR = 7.737061120277037e-05\n",
            "Epoch 16/100\n",
            "445/445 [==============================] - 37s 84ms/step - loss: 0.5171 - mse: 0.5228 - val_loss: 0.5289 - val_mse: 0.5443\n",
            "The value of K_z is  443.99292  The value of Ka is  735.8622  Value of y is  1052.7268806322327\n",
            "Epoch 16 LR = 7.555524789205923e-05\n",
            "Epoch 17/100\n",
            "445/445 [==============================] - 37s 84ms/step - loss: 0.5161 - mse: 0.5213 - val_loss: 0.5281 - val_mse: 0.5432\n",
            "The value of K_z is  445.70786  The value of Ka is  736.7625  Value of y is  1052.7268806322327\n",
            "Epoch 17 LR = 7.522666931108014e-05\n",
            "Epoch 18/100\n",
            "445/445 [==============================] - 37s 84ms/step - loss: 0.5152 - mse: 0.5200 - val_loss: 0.5277 - val_mse: 0.5423\n",
            "The value of K_z is  448.3289  The value of Ka is  730.4098  Value of y is  1052.7268806322327\n",
            "Epoch 18 LR = 7.505331782011521e-05\n",
            "Epoch 19/100\n",
            "445/445 [==============================] - 37s 84ms/step - loss: 0.5144 - mse: 0.5187 - val_loss: 0.5274 - val_mse: 0.5419\n",
            "The value of K_z is  449.5678  The value of Ka is  723.6231  Value of y is  1052.7268806322327\n",
            "Epoch 19 LR = 7.51324421310103e-05\n",
            "Epoch 20/100\n",
            "445/445 [==============================] - 37s 84ms/step - loss: 0.5136 - mse: 0.5176 - val_loss: 0.5269 - val_mse: 0.5417\n",
            "The value of K_z is  455.33167  The value of Ka is  726.1422  Value of y is  1052.7268806322327\n",
            "Epoch 20 LR = 7.407632144032346e-05\n",
            "Epoch 21/100\n",
            "445/445 [==============================] - 37s 84ms/step - loss: 0.5128 - mse: 0.5165 - val_loss: 0.5267 - val_mse: 0.5410\n",
            "The value of K_z is  458.47964  The value of Ka is  734.7922  Value of y is  1052.7268806322327\n",
            "Epoch 21 LR = 7.321170331660443e-05\n",
            "Epoch 22/100\n",
            "445/445 [==============================] - 37s 84ms/step - loss: 0.5120 - mse: 0.5150 - val_loss: 0.5262 - val_mse: 0.5404\n",
            "The value of K_z is  461.71768  The value of Ka is  725.4643  Value of y is  1052.7268806322327\n",
            "Epoch 22 LR = 7.307962215711673e-05\n",
            "Epoch 23/100\n",
            "445/445 [==============================] - 37s 84ms/step - loss: 0.5113 - mse: 0.5137 - val_loss: 0.5265 - val_mse: 0.5401\n",
            "The value of K_z is  464.65454  The value of Ka is  735.6588  Value of y is  1052.7268806322327\n",
            "Epoch 23 LR = 7.220377054788708e-05\n",
            "Epoch 24/100\n",
            "445/445 [==============================] - 37s 83ms/step - loss: 0.5106 - mse: 0.5125 - val_loss: 0.5260 - val_mse: 0.5396\n",
            "The value of K_z is  466.1047  The value of Ka is  729.69464  Value of y is  1052.7268806322327\n",
            "Epoch 24 LR = 7.221997693452464e-05\n",
            "Epoch 25/100\n",
            "445/445 [==============================] - 37s 84ms/step - loss: 0.5099 - mse: 0.5115 - val_loss: 0.5258 - val_mse: 0.5395\n",
            "The value of K_z is  472.94644  The value of Ka is  744.0006  Value of y is  1052.7268806322327\n",
            "Epoch 25 LR = 7.0608514601434e-05\n",
            "Epoch 26/100\n",
            "445/445 [==============================] - 37s 84ms/step - loss: 0.5093 - mse: 0.5104 - val_loss: 0.5256 - val_mse: 0.5391\n",
            "The value of K_z is  469.023  The value of Ka is  714.27277  Value of y is  1052.7268806322327\n",
            "Epoch 26 LR = 7.239701130098813e-05\n",
            "Epoch 27/100\n",
            "445/445 [==============================] - 37s 84ms/step - loss: 0.5089 - mse: 0.5098 - val_loss: 0.5252 - val_mse: 0.5386\n",
            "The value of K_z is  473.31055  The value of Ka is  725.0996  Value of y is  1052.7268806322327\n",
            "Epoch 27 LR = 7.13042958305778e-05\n",
            "Epoch 28/100\n",
            "445/445 [==============================] - 37s 84ms/step - loss: 0.5081 - mse: 0.5086 - val_loss: 0.5249 - val_mse: 0.5382\n",
            "The value of K_z is  479.6852  The value of Ka is  736.576  Value of y is  1052.7268806322327\n",
            "Epoch 28 LR = 6.990545434755372e-05\n",
            "Epoch 29/100\n",
            "445/445 [==============================] - 37s 84ms/step - loss: 0.5075 - mse: 0.5075 - val_loss: 0.5249 - val_mse: 0.5382\n",
            "The value of K_z is  484.7965  The value of Ka is  753.71985  Value of y is  1052.7268806322327\n",
            "Epoch 29 LR = 6.851199401251041e-05\n",
            "Epoch 30/100\n",
            "445/445 [==============================] - 37s 84ms/step - loss: 0.5069 - mse: 0.5065 - val_loss: 0.5246 - val_mse: 0.5377\n",
            "The value of K_z is  478.99466  The value of Ka is  731.91156  Value of y is  1052.7268806322327\n",
            "Epoch 30 LR = 7.018920700218261e-05\n",
            "Epoch 31/100\n",
            "445/445 [==============================] - 37s 84ms/step - loss: 0.5065 - mse: 0.5058 - val_loss: 0.5244 - val_mse: 0.5375\n",
            "The value of K_z is  484.17868  The value of Ka is  742.60065  Value of y is  1052.7268806322327\n",
            "Epoch 31 LR = 6.902428203679287e-05\n",
            "Epoch 32/100\n",
            "445/445 [==============================] - 37s 84ms/step - loss: 0.5059 - mse: 0.5050 - val_loss: 0.5244 - val_mse: 0.5373\n",
            "The value of K_z is  485.88303  The value of Ka is  736.2966  Value of y is  1052.7268806322327\n",
            "Epoch 32 LR = 6.902453497113997e-05\n",
            "Epoch 33/100\n",
            "445/445 [==============================] - 37s 84ms/step - loss: 0.5055 - mse: 0.5041 - val_loss: 0.5242 - val_mse: 0.5370\n",
            "The value of K_z is  490.72266  The value of Ka is  738.86774  Value of y is  1052.7268806322327\n",
            "Epoch 33 LR = 6.824571559080556e-05\n",
            "Epoch 34/100\n",
            "445/445 [==============================] - 37s 84ms/step - loss: 0.5050 - mse: 0.5034 - val_loss: 0.5243 - val_mse: 0.5372\n",
            "The value of K_z is  492.83047  The value of Ka is  743.9218  Value of y is  1052.7268806322327\n",
            "Epoch 34 LR = 6.776267299171202e-05\n",
            "Epoch 35/100\n",
            "445/445 [==============================] - 37s 83ms/step - loss: 0.5046 - mse: 0.5028 - val_loss: 0.5240 - val_mse: 0.5369\n",
            "The value of K_z is  493.08633  The value of Ka is  741.67456  Value of y is  1052.7268806322327\n",
            "Epoch 35 LR = 6.781233123132402e-05\n",
            "Epoch 36/100\n",
            "445/445 [==============================] - 37s 84ms/step - loss: 0.5042 - mse: 0.5021 - val_loss: 0.5239 - val_mse: 0.5366\n",
            "The value of K_z is  494.57135  The value of Ka is  739.1661  Value of y is  1052.7268806322327\n",
            "Epoch 36 LR = 6.770336167013358e-05\n",
            "Epoch 37/100\n",
            "445/445 [==============================] - 37s 84ms/step - loss: 0.5037 - mse: 0.5015 - val_loss: 0.5238 - val_mse: 0.5366\n",
            "The value of K_z is  496.96228  The value of Ka is  746.6804  Value of y is  1052.7268806322327\n",
            "Epoch 37 LR = 6.709626502430637e-05\n",
            "Epoch 38/100\n",
            "445/445 [==============================] - 37s 84ms/step - loss: 0.5033 - mse: 0.5008 - val_loss: 0.5238 - val_mse: 0.5365\n",
            "The value of K_z is  498.05515  The value of Ka is  743.8939  Value of y is  1052.7268806322327\n",
            "Epoch 38 LR = 6.70528737641884e-05\n",
            "Epoch 39/100\n",
            "445/445 [==============================] - 37s 84ms/step - loss: 0.5030 - mse: 0.5003 - val_loss: 0.5238 - val_mse: 0.5368\n",
            "The value of K_z is  502.87494  The value of Ka is  749.8537  Value of y is  1052.7268806322327\n",
            "Epoch 39 LR = 6.61906383907164e-05\n",
            "Epoch 40/100\n",
            "445/445 [==============================] - 37s 84ms/step - loss: 0.5025 - mse: 0.4995 - val_loss: 0.5239 - val_mse: 0.5364\n",
            "The value of K_z is  499.91028  The value of Ka is  752.0354  Value of y is  1052.7268806322327\n",
            "Epoch 40 LR = 6.650268477452111e-05\n",
            "Epoch 41/100\n",
            "445/445 [==============================] - 37s 84ms/step - loss: 0.5023 - mse: 0.4988 - val_loss: 0.5234 - val_mse: 0.5359\n",
            "The value of K_z is  502.21912  The value of Ka is  746.23413  Value of y is  1052.7268806322327\n",
            "Epoch 41 LR = 6.641042504564832e-05\n",
            "Epoch 42/100\n",
            "445/445 [==============================] - 37s 84ms/step - loss: 0.5018 - mse: 0.4982 - val_loss: 0.5234 - val_mse: 0.5359\n",
            "The value of K_z is  507.9947  The value of Ka is  754.96936  Value of y is  1052.7268806322327\n",
            "Epoch 42 LR = 6.533811828927103e-05\n",
            "Epoch 43/100\n",
            "445/445 [==============================] - 37s 84ms/step - loss: 0.5014 - mse: 0.4975 - val_loss: 0.5233 - val_mse: 0.5357\n",
            "The value of K_z is  506.56622  The value of Ka is  744.1076  Value of y is  1052.7268806322327\n",
            "Epoch 43 LR = 6.59184440601708e-05\n",
            "Epoch 44/100\n",
            "445/445 [==============================] - 37s 84ms/step - loss: 0.5011 - mse: 0.4969 - val_loss: 0.5233 - val_mse: 0.5354\n",
            "The value of K_z is  505.05493  The value of Ka is  753.35297  Value of y is  1052.7268806322327\n",
            "Epoch 44 LR = 6.577724621096662e-05\n",
            "Epoch 45/100\n",
            "445/445 [==============================] - 37s 84ms/step - loss: 0.5007 - mse: 0.4963 - val_loss: 0.5232 - val_mse: 0.5354\n",
            "The value of K_z is  507.2507  The value of Ka is  750.1444  Value of y is  1052.7268806322327\n",
            "Epoch 45 LR = 6.560906837134353e-05\n",
            "Epoch 46/100\n",
            "445/445 [==============================] - 37s 84ms/step - loss: 0.5004 - mse: 0.4958 - val_loss: 0.5233 - val_mse: 0.5355\n",
            "The value of K_z is  509.4818  The value of Ka is  760.12427  Value of y is  1052.7268806322327\n",
            "Epoch 46 LR = 6.496215450413716e-05\n",
            "Epoch 47/100\n",
            "445/445 [==============================] - 37s 84ms/step - loss: 0.5001 - mse: 0.4953 - val_loss: 0.5232 - val_mse: 0.5355\n",
            "The value of K_z is  515.2227  The value of Ka is  765.43646  Value of y is  1052.7268806322327\n",
            "Epoch 47 LR = 6.405062164420318e-05\n",
            "Epoch 48/100\n",
            "445/445 [==============================] - 37s 84ms/step - loss: 0.4998 - mse: 0.4948 - val_loss: 0.5230 - val_mse: 0.5350\n",
            "The value of K_z is  509.11588  The value of Ka is  746.951  Value of y is  1052.7268806322327\n",
            "Epoch 48 LR = 6.548469887441447e-05\n",
            "Epoch 49/100\n",
            "445/445 [==============================] - 37s 84ms/step - loss: 0.4995 - mse: 0.4943 - val_loss: 0.5230 - val_mse: 0.5351\n",
            "The value of K_z is  514.64233  The value of Ka is  756.11725  Value of y is  1052.7268806322327\n",
            "Epoch 49 LR = 6.445321683994865e-05\n",
            "Epoch 50/100\n",
            "445/445 [==============================] - 37s 84ms/step - loss: 0.4992 - mse: 0.4939 - val_loss: 0.5229 - val_mse: 0.5349\n",
            "The value of K_z is  512.9613  The value of Ka is  746.99347  Value of y is  1052.7268806322327\n",
            "Epoch 50 LR = 6.499225692649259e-05\n",
            "Epoch 51/100\n",
            "445/445 [==============================] - 37s 84ms/step - loss: 0.4990 - mse: 0.4935 - val_loss: 0.5229 - val_mse: 0.5347\n",
            "The value of K_z is  512.7155  The value of Ka is  743.57056  Value of y is  1052.7268806322327\n",
            "Epoch 51 LR = 6.514731786566007e-05\n",
            "Epoch 52/100\n",
            "445/445 [==============================] - 37s 84ms/step - loss: 0.4987 - mse: 0.4930 - val_loss: 0.5229 - val_mse: 0.5350\n",
            "The value of K_z is  519.90216  The value of Ka is  764.53125  Value of y is  1052.7268806322327\n",
            "Epoch 52 LR = 6.350574386818964e-05\n",
            "Epoch 53/100\n",
            "445/445 [==============================] - 37s 84ms/step - loss: 0.4984 - mse: 0.4926 - val_loss: 0.5228 - val_mse: 0.5346\n",
            "The value of K_z is  512.5672  The value of Ka is  743.83203  Value of y is  1052.7268806322327\n",
            "Epoch 53 LR = 6.515668435607467e-05\n",
            "Epoch 54/100\n",
            "445/445 [==============================] - 37s 84ms/step - loss: 0.4982 - mse: 0.4923 - val_loss: 0.5228 - val_mse: 0.5349\n",
            "The value of K_z is  515.3395  The value of Ka is  755.8641  Value of y is  1052.7268806322327\n",
            "Epoch 54 LR = 6.437503570490257e-05\n",
            "Epoch 55/100\n",
            "445/445 [==============================] - 37s 84ms/step - loss: 0.4980 - mse: 0.4919 - val_loss: 0.5228 - val_mse: 0.5347\n",
            "The value of K_z is  516.1013  The value of Ka is  754.1031  Value of y is  1052.7268806322327\n",
            "Epoch 55 LR = 6.434265783263995e-05\n",
            "Epoch 56/100\n",
            "445/445 [==============================] - 37s 84ms/step - loss: 0.4977 - mse: 0.4915 - val_loss: 0.5229 - val_mse: 0.5347\n",
            "The value of K_z is  519.0396  The value of Ka is  754.18823  Value of y is  1052.7268806322327\n",
            "Epoch 56 LR = 6.397539803959842e-05\n",
            "Epoch 57/100\n",
            "445/445 [==============================] - 37s 84ms/step - loss: 0.4975 - mse: 0.4911 - val_loss: 0.5228 - val_mse: 0.5347\n",
            "The value of K_z is  519.84973  The value of Ka is  759.8589  Value of y is  1052.7268806322327\n",
            "Epoch 57 LR = 6.367586611134851e-05\n",
            "Epoch 58/100\n",
            "445/445 [==============================] - 37s 84ms/step - loss: 0.4972 - mse: 0.4908 - val_loss: 0.5229 - val_mse: 0.5348\n",
            "The value of K_z is  519.3535  The value of Ka is  754.5476  Value of y is  1052.7268806322327\n",
            "Epoch 58 LR = 6.392401673828205e-05\n",
            "Epoch 59/100\n",
            "445/445 [==============================] - 37s 84ms/step - loss: 0.4970 - mse: 0.4904 - val_loss: 0.5227 - val_mse: 0.5346\n",
            "The value of K_z is  521.81024  The value of Ka is  757.9902  Value of y is  1052.7268806322327\n",
            "Epoch 59 LR = 6.350209591052983e-05\n",
            "Epoch 60/100\n",
            "445/445 [==============================] - 37s 84ms/step - loss: 0.4968 - mse: 0.4900 - val_loss: 0.5228 - val_mse: 0.5347\n",
            "The value of K_z is  522.00507  The value of Ka is  763.9699  Value of y is  1052.7268806322327\n",
            "Epoch 60 LR = 6.326945358365925e-05\n",
            "Epoch 61/100\n",
            "445/445 [==============================] - 37s 84ms/step - loss: 0.4966 - mse: 0.4898 - val_loss: 0.5226 - val_mse: 0.5344\n",
            "The value of K_z is  521.1206  The value of Ka is  752.55206  Value of y is  1052.7268806322327\n",
            "Epoch 61 LR = 6.377767570703157e-05\n",
            "Epoch 62/100\n",
            "445/445 [==============================] - 37s 84ms/step - loss: 0.4964 - mse: 0.4895 - val_loss: 0.5229 - val_mse: 0.5348\n",
            "The value of K_z is  524.6946  The value of Ka is  755.3391  Value of y is  1052.7268806322327\n",
            "Epoch 62 LR = 6.324561131311e-05\n",
            "Epoch 63/100\n",
            "445/445 [==============================] - 37s 84ms/step - loss: 0.4962 - mse: 0.4892 - val_loss: 0.5227 - val_mse: 0.5346\n",
            "The value of K_z is  521.5447  The value of Ka is  759.1628  Value of y is  1052.7268806322327\n",
            "Epoch 63 LR = 6.349331256059614e-05\n",
            "Epoch 64/100\n",
            "445/445 [==============================] - 37s 84ms/step - loss: 0.4961 - mse: 0.4890 - val_loss: 0.5228 - val_mse: 0.5349\n",
            "The value of K_z is  527.56274  The value of Ka is  768.42755  Value of y is  1052.7268806322327\n",
            "Epoch 64 LR = 6.24497000453557e-05\n",
            "Epoch 65/100\n",
            "445/445 [==============================] - 37s 84ms/step - loss: 0.4958 - mse: 0.4886 - val_loss: 0.5227 - val_mse: 0.5344\n",
            "The value of K_z is  523.0179  The value of Ka is  757.8407  Value of y is  1052.7268806322327\n",
            "Epoch 65 LR = 6.336070082347564e-05\n",
            "Epoch 66/100\n",
            "445/445 [==============================] - 37s 84ms/step - loss: 0.4956 - mse: 0.4883 - val_loss: 0.5225 - val_mse: 0.5343\n",
            "The value of K_z is  520.60785  The value of Ka is  748.6681  Value of y is  1052.7268806322327\n",
            "Epoch 66 LR = 6.397813745873808e-05\n",
            "Epoch 67/100\n",
            "445/445 [==============================] - 37s 84ms/step - loss: 0.4955 - mse: 0.4881 - val_loss: 0.5227 - val_mse: 0.5344\n",
            "The value of K_z is  515.7584  The value of Ka is  736.6063  Value of y is  1052.7268806322327\n",
            "Epoch 67 LR = 6.501501995725858e-05\n",
            "Epoch 68/100\n",
            "445/445 [==============================] - 37s 83ms/step - loss: 0.4956 - mse: 0.4884 - val_loss: 0.5227 - val_mse: 0.5344\n",
            "The value of K_z is  524.07056  The value of Ka is  747.9866  Value of y is  1052.7268806322327\n",
            "Epoch 68 LR = 6.35794666483935e-05\n",
            "Epoch 69/100\n",
            "445/445 [==============================] - 37s 84ms/step - loss: 0.4951 - mse: 0.4876 - val_loss: 0.5226 - val_mse: 0.5344\n",
            "The value of K_z is  528.4054  The value of Ka is  760.7687  Value of y is  1052.7268806322327\n",
            "Epoch 69 LR = 6.261343223825646e-05\n",
            "Epoch 70/100\n",
            "445/445 [==============================] - 37s 84ms/step - loss: 0.4948 - mse: 0.4872 - val_loss: 0.5226 - val_mse: 0.5346\n",
            "The value of K_z is  529.3125  The value of Ka is  759.5453  Value of y is  1052.7268806322327\n",
            "Epoch 70 LR = 6.254832429426527e-05\n",
            "Epoch 71/100\n",
            "445/445 [==============================] - 37s 84ms/step - loss: 0.4947 - mse: 0.4870 - val_loss: 0.5228 - val_mse: 0.5344\n",
            "The value of K_z is  522.09283  The value of Ka is  751.887  Value of y is  1052.7268806322327\n",
            "Epoch 71 LR = 6.36823700970526e-05\n",
            "Epoch 72/100\n",
            "445/445 [==============================] - 37s 84ms/step - loss: 0.4945 - mse: 0.4867 - val_loss: 0.5226 - val_mse: 0.5344\n",
            "The value of K_z is  526.6547  The value of Ka is  759.31274  Value of y is  1052.7268806322327\n",
            "Epoch 72 LR = 6.28720434386648e-05\n",
            "Epoch 73/100\n",
            "445/445 [==============================] - 37s 84ms/step - loss: 0.4944 - mse: 0.4864 - val_loss: 0.5226 - val_mse: 0.5342\n",
            "The value of K_z is  530.3839  The value of Ka is  760.8636  Value of y is  1052.7268806322327\n",
            "Epoch 73 LR = 6.23765979649088e-05\n",
            "Epoch 74/100\n",
            "445/445 [==============================] - 37s 84ms/step - loss: 0.4941 - mse: 0.4859 - val_loss: 0.5225 - val_mse: 0.5340\n",
            "The value of K_z is  526.2457  The value of Ka is  760.1521  Value of y is  1052.7268806322327\n",
            "Epoch 74 LR = 6.289177528012866e-05\n",
            "Epoch 75/100\n",
            "445/445 [==============================] - 37s 84ms/step - loss: 0.4939 - mse: 0.4856 - val_loss: 0.5224 - val_mse: 0.5340\n",
            "The value of K_z is  530.33057  The value of Ka is  762.6049  Value of y is  1052.7268806322327\n",
            "Epoch 75 LR = 6.232303233804729e-05\n",
            "Epoch 76/100\n",
            "445/445 [==============================] - 37s 84ms/step - loss: 0.4938 - mse: 0.4855 - val_loss: 0.5227 - val_mse: 0.5344\n",
            "The value of K_z is  532.1828  The value of Ka is  774.6906  Value of y is  1052.7268806322327\n",
            "Epoch 76 LR = 6.169537921398785e-05\n",
            "Epoch 77/100\n",
            "445/445 [==============================] - 37s 84ms/step - loss: 0.4936 - mse: 0.4850 - val_loss: 0.5225 - val_mse: 0.5339\n",
            "The value of K_z is  526.02795  The value of Ka is  761.3927  Value of y is  1052.7268806322327\n",
            "Epoch 77 LR = 6.287478535675522e-05\n",
            "Epoch 78/100\n",
            "445/445 [==============================] - 37s 84ms/step - loss: 0.4935 - mse: 0.4849 - val_loss: 0.5224 - val_mse: 0.5339\n",
            "The value of K_z is  531.41736  The value of Ka is  767.9531  Value of y is  1052.7268806322327\n",
            "Epoch 78 LR = 6.201287856271424e-05\n",
            "Epoch 79/100\n",
            "445/445 [==============================] - 37s 84ms/step - loss: 0.4933 - mse: 0.4846 - val_loss: 0.5223 - val_mse: 0.5338\n",
            "The value of K_z is  528.5279  The value of Ka is  761.08307  Value of y is  1052.7268806322327\n",
            "Epoch 79 LR = 6.258806982311191e-05\n",
            "Epoch 80/100\n",
            "445/445 [==============================] - 37s 84ms/step - loss: 0.4932 - mse: 0.4845 - val_loss: 0.5224 - val_mse: 0.5338\n",
            "The value of K_z is  531.3992  The value of Ka is  768.39136  Value of y is  1052.7268806322327\n",
            "Epoch 80 LR = 6.20000778700771e-05\n",
            "Epoch 81/100\n",
            "445/445 [==============================] - 37s 84ms/step - loss: 0.4930 - mse: 0.4841 - val_loss: 0.5228 - val_mse: 0.5340\n",
            "The value of K_z is  527.8646  The value of Ka is  760.01117  Value of y is  1052.7268806322327\n",
            "Epoch 81 LR = 6.270376835431167e-05\n",
            "Epoch 82/100\n",
            "445/445 [==============================] - 37s 83ms/step - loss: 0.4929 - mse: 0.4840 - val_loss: 0.5224 - val_mse: 0.5337\n",
            "The value of K_z is  528.8885  The value of Ka is  756.0755  Value of y is  1052.7268806322327\n",
            "Epoch 82 LR = 6.271855077151979e-05\n",
            "Epoch 83/100\n",
            "445/445 [==============================] - 37s 84ms/step - loss: 0.4928 - mse: 0.4838 - val_loss: 0.5225 - val_mse: 0.5339\n",
            "The value of K_z is  535.8345  The value of Ka is  772.24194  Value of y is  1052.7268806322327\n",
            "Epoch 83 LR = 6.135714598549882e-05\n",
            "Epoch 84/100\n",
            "445/445 [==============================] - 37s 84ms/step - loss: 0.4925 - mse: 0.4833 - val_loss: 0.5223 - val_mse: 0.5335\n",
            "The value of K_z is  530.78754  The value of Ka is  762.0959  Value of y is  1052.7268806322327\n",
            "Epoch 84 LR = 6.228684236856813e-05\n",
            "Epoch 85/100\n",
            "445/445 [==============================] - 37s 84ms/step - loss: 0.4923 - mse: 0.4830 - val_loss: 0.5225 - val_mse: 0.5337\n",
            "The value of K_z is  533.0842  The value of Ka is  768.5805  Value of y is  1052.7268806322327\n",
            "Epoch 85 LR = 6.179767949465598e-05\n",
            "Epoch 86/100\n",
            "445/445 [==============================] - 37s 84ms/step - loss: 0.4922 - mse: 0.4828 - val_loss: 0.5223 - val_mse: 0.5334\n",
            "The value of K_z is  532.82465  The value of Ka is  764.1093  Value of y is  1052.7268806322327\n",
            "Epoch 86 LR = 6.197994294174134e-05\n",
            "Epoch 87/100\n",
            "445/445 [==============================] - 37s 84ms/step - loss: 0.4921 - mse: 0.4825 - val_loss: 0.5224 - val_mse: 0.5336\n",
            "The value of K_z is  531.8114  The value of Ka is  763.10614  Value of y is  1052.7268806322327\n",
            "Epoch 87 LR = 6.213233813957556e-05\n",
            "Epoch 88/100\n",
            "445/445 [==============================] - 37s 84ms/step - loss: 0.4919 - mse: 0.4824 - val_loss: 0.5223 - val_mse: 0.5334\n",
            "The value of K_z is  533.508  The value of Ka is  767.579  Value of y is  1052.7268806322327\n",
            "Epoch 88 LR = 6.178256726100705e-05\n",
            "Epoch 89/100\n",
            "445/445 [==============================] - 37s 84ms/step - loss: 0.4918 - mse: 0.4822 - val_loss: 0.5224 - val_mse: 0.5335\n",
            "The value of K_z is  531.9815  The value of Ka is  765.4966  Value of y is  1052.7268806322327\n",
            "Epoch 89 LR = 6.203081080116396e-05\n",
            "Epoch 90/100\n",
            "445/445 [==============================] - 37s 84ms/step - loss: 0.4917 - mse: 0.4820 - val_loss: 0.5223 - val_mse: 0.5335\n",
            "The value of K_z is  535.1013  The value of Ka is  766.21533  Value of y is  1052.7268806322327\n",
            "Epoch 90 LR = 6.16447829184201e-05\n",
            "Epoch 91/100\n",
            "445/445 [==============================] - 37s 84ms/step - loss: 0.4915 - mse: 0.4818 - val_loss: 0.5225 - val_mse: 0.5336\n",
            "The value of K_z is  532.5561  The value of Ka is  757.71606  Value of y is  1052.7268806322327\n",
            "Epoch 91 LR = 6.223017912409235e-05\n",
            "Epoch 92/100\n",
            "445/445 [==============================] - 37s 84ms/step - loss: 0.4915 - mse: 0.4817 - val_loss: 0.5223 - val_mse: 0.5335\n",
            "The value of K_z is  532.1435  The value of Ka is  767.1392  Value of y is  1052.7268806322327\n",
            "Epoch 92 LR = 6.195595537188186e-05\n",
            "Epoch 93/100\n",
            "445/445 [==============================] - 37s 84ms/step - loss: 0.4913 - mse: 0.4815 - val_loss: 0.5223 - val_mse: 0.5334\n",
            "The value of K_z is  532.0245  The value of Ka is  763.2494  Value of y is  1052.7268806322327\n",
            "Epoch 93 LR = 6.210255516272122e-05\n",
            "Epoch 94/100\n",
            "445/445 [==============================] - 37s 84ms/step - loss: 0.4912 - mse: 0.4813 - val_loss: 0.5225 - val_mse: 0.5336\n",
            "The value of K_z is  535.881  The value of Ka is  770.9683  Value of y is  1052.7268806322327\n",
            "Epoch 94 LR = 6.139466732827805e-05\n",
            "Epoch 95/100\n",
            "445/445 [==============================] - 37s 84ms/step - loss: 0.4910 - mse: 0.4810 - val_loss: 0.5225 - val_mse: 0.5336\n",
            "The value of K_z is  536.2079  The value of Ka is  768.40283  Value of y is  1052.7268806322327\n",
            "Epoch 95 LR = 6.144367361900258e-05\n",
            "Epoch 96/100\n",
            "445/445 [==============================] - 37s 84ms/step - loss: 0.4909 - mse: 0.4809 - val_loss: 0.5226 - val_mse: 0.5336\n",
            "The value of K_z is  534.5617  The value of Ka is  773.7969  Value of y is  1052.7268806322327\n",
            "Epoch 96 LR = 6.145087633854691e-05\n",
            "Epoch 97/100\n",
            "445/445 [==============================] - 37s 84ms/step - loss: 0.4909 - mse: 0.4809 - val_loss: 0.5224 - val_mse: 0.5334\n",
            "The value of K_z is  532.2895  The value of Ka is  764.4036  Value of y is  1052.7268806322327\n",
            "Epoch 97 LR = 6.20322080176238e-05\n",
            "Epoch 98/100\n",
            "445/445 [==============================] - 37s 83ms/step - loss: 0.4907 - mse: 0.4806 - val_loss: 0.5226 - val_mse: 0.5338\n",
            "The value of K_z is  535.10205  The value of Ka is  776.0405  Value of y is  1052.7268806322327\n",
            "Epoch 98 LR = 6.13135075985882e-05\n",
            "Epoch 99/100\n",
            "445/445 [==============================] - 37s 84ms/step - loss: 0.4905 - mse: 0.4803 - val_loss: 0.5221 - val_mse: 0.5332\n",
            "The value of K_z is  534.5553  The value of Ka is  770.7344  Value of y is  1052.7268806322327\n",
            "Epoch 99 LR = 6.155482093953051e-05\n",
            "Epoch 100/100\n",
            "445/445 [==============================] - 37s 84ms/step - loss: 0.4904 - mse: 0.4801 - val_loss: 0.5223 - val_mse: 0.5333\n"
          ],
          "name": "stdout"
        }
      ]
    },
    {
      "cell_type": "code",
      "metadata": {
        "id": "QiD0wfTM10Qu",
        "outputId": "3eb5d64a-5d14-46af-8ca4-eae28eaff74d",
        "colab": {
          "base_uri": "https://localhost:8080/",
          "height": 281
        }
      },
      "source": [
        "%matplotlib inline\n",
        "import matplotlib.pyplot as plt\n",
        "loss = history.history['loss']\n",
        "val_loss = history.history['val_loss']\n",
        "\n",
        "epochs = range(len(loss))\n",
        "\n",
        "plt.plot(epochs, loss, 'r', label='Training Loss')\n",
        "plt.plot(epochs, val_loss, 'b', label='Validation Loss')\n",
        "plt.title('Training and validation loss')\n",
        "plt.legend()\n",
        "plt.savefig('loss.png')\n",
        "plt.show()\n"
      ],
      "execution_count": null,
      "outputs": [
        {
          "output_type": "display_data",
          "data": {
            "image/png": "[encoded data removed]",
            "text/plain": [
              "<Figure size 432x288 with 1 Axes>"
            ]
          },
          "metadata": {
            "tags": [],
            "needs_background": "light"
          }
        }
      ]
    },
    {
      "cell_type": "code",
      "metadata": {
        "id": "RmJCI26c10Yo"
      },
      "source": [
        "data1 = pd.DataFrame([history.history['loss'],history.history['val_loss']])\n",
        "data1.to_csv(\"arelu.csv\")"
      ],
      "execution_count": null,
      "outputs": []
    },
    {
      "cell_type": "markdown",
      "metadata": {
        "id": "RyNy-_GFEZcg"
      },
      "source": [
        "# Sigmoid - LALR"
      ]
    },
    {
      "cell_type": "code",
      "metadata": {
        "id": "kAGbQ4RMUwDB"
      },
      "source": [
        "from tensorflow.keras import models\n",
        "from tensorflow.keras import layers\n",
        "\n",
        "model = models.Sequential()\n",
        "model.add(layers.Dense(9000, activation='sigmoid', input_shape=(x_train.shape[1],)))\n",
        "model.add(layers.Dropout(0.2))\n",
        "model.add(layers.Dense(9000, activation='sigmoid'))\n",
        "model.add(layers.Dense(4760, activation='relu'))"
      ],
      "execution_count": null,
      "outputs": []
    },
    {
      "cell_type": "code",
      "metadata": {
        "id": "RepxFF_bEg1F"
      },
      "source": [
        "from tensorflow.keras import backend as K\n",
        "func_pen = K.function([model.layers[0].input], [model.layers[-2].output])\n",
        "func_last = K.function([model.layers[0].input], [model.layers[-1].output])"
      ],
      "execution_count": null,
      "outputs": []
    },
    {
      "cell_type": "code",
      "metadata": {
        "id": "PCM5vIyLEjt5"
      },
      "source": [
        "lrs = []\n",
        "K1 = 0.\n",
        "beta1 = 0.9\n",
        "batch_size=200\n",
        "from tqdm import tqdm"
      ],
      "execution_count": null,
      "outputs": []
    },
    {
      "cell_type": "code",
      "metadata": {
        "id": "UkgupuoZEmsj"
      },
      "source": [
        "def lr_schedule(epoch):\n",
        "    global K1\n",
        "\n",
        "    Kz = 0.\n",
        "    Ka = 0.\n",
        "    y_norm = 0.\n",
        "    \n",
        "    for i in range((len(x_train) - 1) // batch_size + 1):\n",
        "        start_i = i * batch_size\n",
        "        end_i = start_i + batch_size\n",
        "        xb = x_train[start_i:end_i]\n",
        "        yb = y_train[start_i:end_i]\n",
        "    \t\n",
        "        tmp_pen = np.array(func_pen([xb]))\n",
        "        activ_pen = np.linalg.norm(tmp_pen)\n",
        "        \n",
        "        if activ_pen > Kz:\n",
        "            Kz = activ_pen\n",
        "\n",
        "        tmp_last = np.array(func_last([xb]))\n",
        "        activ_last = np.linalg.norm(tmp_last)\n",
        "        \n",
        "        if activ_last > Ka:\n",
        "            Ka = activ_last\n",
        "        \n",
        "        y_norms = np.linalg.norm(np.array(yb))\n",
        "        if y_norms > y_norm:\n",
        "            y_norm = y_norms\n",
        "\n",
        "\n",
        "    print(\"The value of K_z is \",Kz, \" The value of Ka is \",Ka, \" Value of y is \",y_norm)\n",
        "    K1 = (1/batch_size)*(Ka + y_norm)*Kz\n",
        "    lr = 1 / K1\n",
        "    lr = lr*0.3\n",
        "    lrs.append(lr)\n",
        "    print('Epoch', epoch, 'LR =', lr)\n",
        "    return lr\n"
      ],
      "execution_count": null,
      "outputs": []
    },
    {
      "cell_type": "code",
      "metadata": {
        "id": "fiROShnvEqe7"
      },
      "source": [
        "lr_scheduler = LearningRateScheduler(lr_schedule)"
      ],
      "execution_count": null,
      "outputs": []
    },
    {
      "cell_type": "code",
      "metadata": {
        "id": "txYMjmGkEsdW"
      },
      "source": [
        "optimizer = 'adam'\n",
        "model.compile(loss='mae', optimizer=optimizer, metrics=[\"mse\"])"
      ],
      "execution_count": null,
      "outputs": []
    },
    {
      "cell_type": "code",
      "metadata": {
        "id": "OeT8qqU7Eu6h",
        "outputId": "826ecf13-63f7-4c71-c060-1a6896e692bf",
        "colab": {
          "base_uri": "https://localhost:8080/",
          "height": 1000
        }
      },
      "source": [
        "history=model.fit(x_train, y_train, epochs = 100, batch_size = 200,validation_data=(x_test,y_test),callbacks=[lr_scheduler])"
      ],
      "execution_count": null,
      "outputs": [
        {
          "output_type": "stream",
          "text": [
            "The value of K_z is  687.73627  The value of Ka is  290.97476  Value of y is  1052.7268806322327\n",
            "Epoch 0 LR = 6.492717025767726e-05\n",
            "Epoch 1/100\n",
            "  2/445 [..............................] - ETA: 29s - loss: 0.7761 - mse: 1.0283WARNING:tensorflow:Callbacks method `on_train_batch_end` is slow compared to the batch time (batch time: 0.0332s vs `on_train_batch_end` time: 0.0996s). Check your callbacks.\n",
            "445/445 [==============================] - 62s 139ms/step - loss: 0.7460 - mse: 0.9918 - val_loss: 0.7475 - val_mse: 1.0024\n",
            "The value of K_z is  585.4787  The value of Ka is  94.09681  Value of y is  1052.7268806322327\n",
            "Epoch 1 LR = 8.936006908302536e-05\n",
            "Epoch 2/100\n",
            "445/445 [==============================] - 62s 139ms/step - loss: 0.7431 - mse: 0.9871 - val_loss: 0.7461 - val_mse: 1.0000\n",
            "The value of K_z is  471.5679  The value of Ka is  107.53359  Value of y is  1052.7268806322327\n",
            "Epoch 2 LR = 0.00010966082707474122\n",
            "Epoch 3/100\n",
            "445/445 [==============================] - 62s 140ms/step - loss: 0.7415 - mse: 0.9844 - val_loss: 0.7442 - val_mse: 0.9967\n",
            "The value of K_z is  371.46375  The value of Ka is  125.69779  Value of y is  1052.7268806322327\n",
            "Epoch 3 LR = 0.0001370670262582472\n",
            "Epoch 4/100\n",
            "445/445 [==============================] - 62s 139ms/step - loss: 0.7385 - mse: 0.9787 - val_loss: 0.7390 - val_mse: 0.9864\n",
            "The value of K_z is  291.73843  The value of Ka is  164.50389  Value of y is  1052.7268806322327\n",
            "Epoch 4 LR = 0.00016896030328467147\n",
            "Epoch 5/100\n",
            "445/445 [==============================] - 62s 140ms/step - loss: 0.7190 - mse: 0.9374 - val_loss: 0.7003 - val_mse: 0.9017\n",
            "The value of K_z is  227.77487  The value of Ka is  350.29678  Value of y is  1052.7268806322327\n",
            "Epoch 5 LR = 0.00018775021514895598\n",
            "Epoch 6/100\n",
            "445/445 [==============================] - 62s 140ms/step - loss: 0.6671 - mse: 0.8258 - val_loss: 0.6482 - val_mse: 0.7896\n",
            "The value of K_z is  203.08934  The value of Ka is  478.12357  Value of y is  1052.7268806322327\n",
            "Epoch 6 LR = 0.0001929884671044731\n",
            "Epoch 7/100\n",
            "445/445 [==============================] - 63s 141ms/step - loss: 0.6263 - mse: 0.7393 - val_loss: 0.6147 - val_mse: 0.7192\n",
            "The value of K_z is  200.76743  The value of Ka is  557.2273  Value of y is  1052.7268806322327\n",
            "Epoch 7 LR = 0.00018562842745016984\n",
            "Epoch 8/100\n",
            "445/445 [==============================] - 63s 141ms/step - loss: 0.6012 - mse: 0.6874 - val_loss: 0.5957 - val_mse: 0.6805\n",
            "The value of K_z is  202.98569  The value of Ka is  601.4953  Value of y is  1052.7268806322327\n",
            "Epoch 8 LR = 0.0001786866036441457\n",
            "Epoch 9/100\n",
            "445/445 [==============================] - 63s 141ms/step - loss: 0.5851 - mse: 0.6548 - val_loss: 0.5817 - val_mse: 0.6520\n",
            "The value of K_z is  204.02275  The value of Ka is  626.13336  Value of y is  1052.7268806322327\n",
            "Epoch 9 LR = 0.00017516934534763157\n",
            "Epoch 10/100\n",
            "445/445 [==============================] - 63s 141ms/step - loss: 0.5736 - mse: 0.6320 - val_loss: 0.5729 - val_mse: 0.6340\n",
            "The value of K_z is  203.04662  The value of Ka is  636.6115  Value of y is  1052.7268806322327\n",
            "Epoch 10 LR = 0.0001749197481676613\n",
            "Epoch 11/100\n",
            "445/445 [==============================] - 63s 141ms/step - loss: 0.5650 - mse: 0.6155 - val_loss: 0.5658 - val_mse: 0.6203\n",
            "The value of K_z is  203.75687  The value of Ka is  651.7491  Value of y is  1052.7268806322327\n",
            "Epoch 11 LR = 0.00017276195729844582\n",
            "Epoch 12/100\n",
            "445/445 [==============================] - 63s 141ms/step - loss: 0.5583 - mse: 0.6027 - val_loss: 0.5603 - val_mse: 0.6092\n",
            "The value of K_z is  204.05212  The value of Ka is  663.6957  Value of y is  1052.7268806322327\n",
            "Epoch 12 LR = 0.00017131126288149245\n",
            "Epoch 13/100\n",
            "445/445 [==============================] - 63s 141ms/step - loss: 0.5525 - mse: 0.5916 - val_loss: 0.5553 - val_mse: 0.5989\n",
            "The value of K_z is  206.53876  The value of Ka is  678.71796  Value of y is  1052.7268806322327\n",
            "Epoch 13 LR = 0.000167780324863673\n",
            "Epoch 14/100\n",
            "445/445 [==============================] - 63s 141ms/step - loss: 0.5479 - mse: 0.5831 - val_loss: 0.5521 - val_mse: 0.5933\n",
            "The value of K_z is  205.86461  The value of Ka is  677.8731  Value of y is  1052.7268806322327\n",
            "Epoch 14 LR = 0.00016841193377212184\n",
            "Epoch 15/100\n",
            "445/445 [==============================] - 63s 141ms/step - loss: 0.5445 - mse: 0.5768 - val_loss: 0.5493 - val_mse: 0.5875\n",
            "The value of K_z is  206.41293  The value of Ka is  682.25397  Value of y is  1052.7268806322327\n",
            "Epoch 15 LR = 0.00016754044307405342\n",
            "Epoch 16/100\n",
            "445/445 [==============================] - 63s 141ms/step - loss: 0.5412 - mse: 0.5708 - val_loss: 0.5469 - val_mse: 0.5830\n",
            "The value of K_z is  206.03685  The value of Ka is  686.628  Value of y is  1052.7268806322327\n",
            "Epoch 16 LR = 0.00016742416862847376\n",
            "Epoch 17/100\n",
            "445/445 [==============================] - 63s 141ms/step - loss: 0.5385 - mse: 0.5659 - val_loss: 0.5451 - val_mse: 0.5791\n",
            "The value of K_z is  206.29404  The value of Ka is  688.1856  Value of y is  1052.7268806322327\n",
            "Epoch 17 LR = 0.0001670658309816951\n",
            "Epoch 18/100\n",
            "445/445 [==============================] - 63s 141ms/step - loss: 0.5363 - mse: 0.5621 - val_loss: 0.5436 - val_mse: 0.5761\n",
            "The value of K_z is  207.63945  The value of Ka is  695.6355  Value of y is  1052.7268806322327\n",
            "Epoch 18 LR = 0.00016527605103449085\n",
            "Epoch 19/100\n",
            "445/445 [==============================] - 63s 141ms/step - loss: 0.5339 - mse: 0.5579 - val_loss: 0.5419 - val_mse: 0.5727\n",
            "The value of K_z is  206.52481  The value of Ka is  693.08606  Value of y is  1052.7268806322327\n",
            "Epoch 19 LR = 0.00016641072366771454\n",
            "Epoch 20/100\n",
            "445/445 [==============================] - 63s 141ms/step - loss: 0.5318 - mse: 0.5540 - val_loss: 0.5403 - val_mse: 0.5694\n",
            "The value of K_z is  209.07094  The value of Ka is  703.1777  Value of y is  1052.7268806322327\n",
            "Epoch 20 LR = 0.0001634393691256474\n",
            "Epoch 21/100\n",
            "445/445 [==============================] - 63s 141ms/step - loss: 0.5298 - mse: 0.5505 - val_loss: 0.5389 - val_mse: 0.5668\n",
            "The value of K_z is  208.06459  The value of Ka is  703.0895  Value of y is  1052.7268806322327\n",
            "Epoch 21 LR = 0.00016423812699352698\n",
            "Epoch 22/100\n",
            "445/445 [==============================] - 63s 141ms/step - loss: 0.5281 - mse: 0.5477 - val_loss: 0.5380 - val_mse: 0.5649\n",
            "The value of K_z is  209.53473  The value of Ka is  713.4487  Value of y is  1052.7268806322327\n",
            "Epoch 22 LR = 0.00016212924201879076\n",
            "Epoch 23/100\n",
            "445/445 [==============================] - 63s 141ms/step - loss: 0.5267 - mse: 0.5452 - val_loss: 0.5373 - val_mse: 0.5634\n",
            "The value of K_z is  209.38913  The value of Ka is  707.3368  Value of y is  1052.7268806322327\n",
            "Epoch 23 LR = 0.0001628053751698663\n",
            "Epoch 24/100\n",
            "445/445 [==============================] - 63s 141ms/step - loss: 0.5255 - mse: 0.5433 - val_loss: 0.5366 - val_mse: 0.5620\n",
            "The value of K_z is  209.79094  The value of Ka is  710.0728  Value of y is  1052.7268806322327\n",
            "Epoch 24 LR = 0.0001622413517332012\n",
            "Epoch 25/100\n",
            "445/445 [==============================] - 63s 141ms/step - loss: 0.5244 - mse: 0.5414 - val_loss: 0.5362 - val_mse: 0.5611\n",
            "The value of K_z is  210.022  The value of Ka is  713.7035  Value of y is  1052.7268806322327\n",
            "Epoch 25 LR = 0.000161729755734201\n",
            "Epoch 26/100\n",
            "445/445 [==============================] - 63s 141ms/step - loss: 0.5233 - mse: 0.5397 - val_loss: 0.5355 - val_mse: 0.5598\n",
            "The value of K_z is  209.87337  The value of Ka is  712.89484  Value of y is  1052.7268806322327\n",
            "Epoch 26 LR = 0.00016191842017030034\n",
            "Epoch 27/100\n",
            "445/445 [==============================] - 63s 142ms/step - loss: 0.5222 - mse: 0.5378 - val_loss: 0.5348 - val_mse: 0.5584\n",
            "The value of K_z is  209.71979  The value of Ka is  711.6337  Value of y is  1052.7268806322327\n",
            "Epoch 27 LR = 0.00016215281335400658\n",
            "Epoch 28/100\n",
            "445/445 [==============================] - 63s 142ms/step - loss: 0.5212 - mse: 0.5361 - val_loss: 0.5345 - val_mse: 0.5574\n",
            "The value of K_z is  210.26822  The value of Ka is  717.45844  Value of y is  1052.7268806322327\n",
            "Epoch 28 LR = 0.0001611977146582857\n",
            "Epoch 29/100\n",
            "445/445 [==============================] - 63s 142ms/step - loss: 0.5202 - mse: 0.5342 - val_loss: 0.5339 - val_mse: 0.5562\n",
            "The value of K_z is  211.50543  The value of Ka is  724.20917  Value of y is  1052.7268806322327\n",
            "Epoch 29 LR = 0.0001596459577481491\n",
            "Epoch 30/100\n",
            "445/445 [==============================] - 63s 142ms/step - loss: 0.5193 - mse: 0.5327 - val_loss: 0.5335 - val_mse: 0.5554\n",
            "The value of K_z is  210.7994  The value of Ka is  719.69696  Value of y is  1052.7268806322327\n",
            "Epoch 30 LR = 0.0001605884520556267\n",
            "Epoch 31/100\n",
            "445/445 [==============================] - 63s 141ms/step - loss: 0.5185 - mse: 0.5314 - val_loss: 0.5332 - val_mse: 0.5546\n",
            "The value of K_z is  211.41203  The value of Ka is  723.88873  Value of y is  1052.7268806322327\n",
            "Epoch 31 LR = 0.00015974529406793196\n",
            "Epoch 32/100\n",
            "445/445 [==============================] - 63s 141ms/step - loss: 0.5178 - mse: 0.5303 - val_loss: 0.5329 - val_mse: 0.5540\n",
            "The value of K_z is  210.88081  The value of Ka is  719.88983  Value of y is  1052.7268806322327\n",
            "Epoch 32 LR = 0.00016050898277511876\n",
            "Epoch 33/100\n",
            "445/445 [==============================] - 63s 142ms/step - loss: 0.5169 - mse: 0.5288 - val_loss: 0.5325 - val_mse: 0.5533\n",
            "The value of K_z is  211.4636  The value of Ka is  723.6892  Value of y is  1052.7268806322327\n",
            "Epoch 33 LR = 0.00015972428260714288\n",
            "Epoch 34/100\n",
            "445/445 [==============================] - 64s 143ms/step - loss: 0.5161 - mse: 0.5276 - val_loss: 0.5321 - val_mse: 0.5524\n",
            "The value of K_z is  211.52908  The value of Ka is  723.158  Value of y is  1052.7268806322327\n",
            "Epoch 34 LR = 0.00015972259167491056\n",
            "Epoch 35/100\n",
            "445/445 [==============================] - 63s 140ms/step - loss: 0.5153 - mse: 0.5263 - val_loss: 0.5319 - val_mse: 0.5518\n",
            "The value of K_z is  211.4154  The value of Ka is  723.03467  Value of y is  1052.7268806322327\n",
            "Epoch 35 LR = 0.0001598195754337302\n",
            "Epoch 36/100\n",
            "445/445 [==============================] - 63s 142ms/step - loss: 0.5147 - mse: 0.5253 - val_loss: 0.5316 - val_mse: 0.5511\n",
            "The value of K_z is  212.09152  The value of Ka is  726.7049  Value of y is  1052.7268806322327\n",
            "Epoch 36 LR = 0.00015898150344894542\n",
            "Epoch 37/100\n",
            "445/445 [==============================] - 63s 142ms/step - loss: 0.5139 - mse: 0.5239 - val_loss: 0.5312 - val_mse: 0.5502\n",
            "The value of K_z is  211.76738  The value of Ka is  724.4508  Value of y is  1052.7268806322327\n",
            "Epoch 37 LR = 0.00015942680240304096\n",
            "Epoch 38/100\n",
            "445/445 [==============================] - 63s 142ms/step - loss: 0.5132 - mse: 0.5228 - val_loss: 0.5310 - val_mse: 0.5498\n",
            "The value of K_z is  211.9377  The value of Ka is  724.6911  Value of y is  1052.7268806322327\n",
            "Epoch 38 LR = 0.00015927714675940716\n",
            "Epoch 39/100\n",
            "445/445 [==============================] - 63s 141ms/step - loss: 0.5126 - mse: 0.5218 - val_loss: 0.5308 - val_mse: 0.5494\n",
            "The value of K_z is  212.31566  The value of Ka is  727.30597  Value of y is  1052.7268806322327\n",
            "Epoch 39 LR = 0.0001587600430842385\n",
            "Epoch 40/100\n",
            "445/445 [==============================] - 63s 141ms/step - loss: 0.5120 - mse: 0.5208 - val_loss: 0.5306 - val_mse: 0.5489\n",
            "The value of K_z is  212.44872  The value of Ka is  728.0547  Value of y is  1052.7268806322327\n",
            "Epoch 40 LR = 0.00015859390381850862\n",
            "Epoch 41/100\n",
            "445/445 [==============================] - 64s 143ms/step - loss: 0.5115 - mse: 0.5201 - val_loss: 0.5306 - val_mse: 0.5488\n",
            "The value of K_z is  212.01295  The value of Ka is  726.5209  Value of y is  1052.7268806322327\n",
            "Epoch 41 LR = 0.0001590568675832444\n",
            "Epoch 42/100\n",
            "445/445 [==============================] - 63s 141ms/step - loss: 0.5110 - mse: 0.5194 - val_loss: 0.5303 - val_mse: 0.5486\n",
            "The value of K_z is  212.4769  The value of Ka is  730.5646  Value of y is  1052.7268806322327\n",
            "Epoch 42 LR = 0.0001583496850261049\n",
            "Epoch 43/100\n",
            "445/445 [==============================] - 63s 142ms/step - loss: 0.5105 - mse: 0.5188 - val_loss: 0.5302 - val_mse: 0.5484\n",
            "The value of K_z is  212.79536  The value of Ka is  730.9657  Value of y is  1052.7268806322327\n",
            "Epoch 43 LR = 0.00015807714444551535\n",
            "Epoch 44/100\n",
            "445/445 [==============================] - 62s 140ms/step - loss: 0.5100 - mse: 0.5179 - val_loss: 0.5301 - val_mse: 0.5479\n",
            "The value of K_z is  212.70776  The value of Ka is  730.33545  Value of y is  1052.7268806322327\n",
            "Epoch 44 LR = 0.00015819814395076935\n",
            "Epoch 45/100\n",
            "445/445 [==============================] - 63s 142ms/step - loss: 0.5095 - mse: 0.5170 - val_loss: 0.5299 - val_mse: 0.5476\n",
            "The value of K_z is  212.55452  The value of Ka is  729.8619  Value of y is  1052.7268806322327\n",
            "Epoch 45 LR = 0.00015835425705469815\n",
            "Epoch 46/100\n",
            "445/445 [==============================] - 63s 142ms/step - loss: 0.5091 - mse: 0.5163 - val_loss: 0.5298 - val_mse: 0.5473\n",
            "The value of K_z is  212.89882  The value of Ka is  733.71106  Value of y is  1052.7268806322327\n",
            "Epoch 46 LR = 0.00015775751784532303\n",
            "Epoch 47/100\n",
            "445/445 [==============================] - 63s 142ms/step - loss: 0.5086 - mse: 0.5156 - val_loss: 0.5297 - val_mse: 0.5470\n",
            "The value of K_z is  213.12346  The value of Ka is  733.5177  Value of y is  1052.7268806322327\n",
            "Epoch 47 LR = 0.00015760829478232287\n",
            "Epoch 48/100\n",
            "445/445 [==============================] - 63s 141ms/step - loss: 0.5081 - mse: 0.5149 - val_loss: 0.5297 - val_mse: 0.5468\n",
            "The value of K_z is  212.96375  The value of Ka is  731.6402  Value of y is  1052.7268806322327\n",
            "Epoch 48 LR = 0.00015789245335286127\n",
            "Epoch 49/100\n",
            "445/445 [==============================] - 63s 142ms/step - loss: 0.5077 - mse: 0.5143 - val_loss: 0.5295 - val_mse: 0.5466\n",
            "The value of K_z is  213.6218  The value of Ka is  735.1382  Value of y is  1052.7268806322327\n",
            "Epoch 49 LR = 0.00015709810664439074\n",
            "Epoch 50/100\n",
            "445/445 [==============================] - 63s 142ms/step - loss: 0.5074 - mse: 0.5137 - val_loss: 0.5295 - val_mse: 0.5466\n",
            "The value of K_z is  213.04051  The value of Ka is  735.08276  Value of y is  1052.7268806322327\n",
            "Epoch 50 LR = 0.00015753163383301757\n",
            "Epoch 51/100\n",
            "445/445 [==============================] - 63s 142ms/step - loss: 0.5070 - mse: 0.5131 - val_loss: 0.5294 - val_mse: 0.5463\n",
            "The value of K_z is  213.30069  The value of Ka is  735.5865  Value of y is  1052.7268806322327\n",
            "Epoch 51 LR = 0.0001572951630011113\n",
            "Epoch 52/100\n",
            "445/445 [==============================] - 63s 141ms/step - loss: 0.5066 - mse: 0.5124 - val_loss: 0.5294 - val_mse: 0.5462\n",
            "The value of K_z is  213.14307  The value of Ka is  735.30585  Value of y is  1052.7268806322327\n",
            "Epoch 52 LR = 0.00015743619215041212\n",
            "Epoch 53/100\n",
            "445/445 [==============================] - 63s 142ms/step - loss: 0.5062 - mse: 0.5119 - val_loss: 0.5293 - val_mse: 0.5460\n",
            "The value of K_z is  213.4159  The value of Ka is  736.249  Value of y is  1052.7268806322327\n",
            "Epoch 53 LR = 0.00015715203174345208\n",
            "Epoch 54/100\n",
            "445/445 [==============================] - 63s 142ms/step - loss: 0.5059 - mse: 0.5113 - val_loss: 0.5293 - val_mse: 0.5458\n",
            "The value of K_z is  213.11937  The value of Ka is  736.4058  Value of y is  1052.7268806322327\n",
            "Epoch 54 LR = 0.00015735689358462179\n",
            "Epoch 55/100\n",
            "445/445 [==============================] - 63s 141ms/step - loss: 0.5055 - mse: 0.5108 - val_loss: 0.5292 - val_mse: 0.5457\n",
            "The value of K_z is  213.67696  The value of Ka is  739.1002  Value of y is  1052.7268806322327\n",
            "Epoch 55 LR = 0.00015671027079816886\n",
            "Epoch 56/100\n",
            "445/445 [==============================] - 63s 142ms/step - loss: 0.5051 - mse: 0.5102 - val_loss: 0.5291 - val_mse: 0.5454\n",
            "The value of K_z is  214.10042  The value of Ka is  739.6564  Value of y is  1052.7268806322327\n",
            "Epoch 56 LR = 0.00015635178998979496\n",
            "Epoch 57/100\n",
            "445/445 [==============================] - 63s 142ms/step - loss: 0.5048 - mse: 0.5096 - val_loss: 0.5290 - val_mse: 0.5454\n",
            "The value of K_z is  213.67259  The value of Ka is  739.4062  Value of y is  1052.7268806322327\n",
            "Epoch 57 LR = 0.00015668671587530777\n",
            "Epoch 58/100\n",
            "445/445 [==============================] - 63s 141ms/step - loss: 0.5045 - mse: 0.5091 - val_loss: 0.5290 - val_mse: 0.5452\n",
            "The value of K_z is  213.7294  The value of Ka is  738.78406  Value of y is  1052.7268806322327\n",
            "Epoch 58 LR = 0.00015669946668610689\n",
            "Epoch 59/100\n",
            "445/445 [==============================] - 63s 142ms/step - loss: 0.5041 - mse: 0.5085 - val_loss: 0.5289 - val_mse: 0.5449\n",
            "The value of K_z is  213.57736  The value of Ka is  736.7049  Value of y is  1052.7268806322327\n",
            "Epoch 59 LR = 0.0001569932164218389\n",
            "Epoch 60/100\n",
            "445/445 [==============================] - 63s 141ms/step - loss: 0.5038 - mse: 0.5080 - val_loss: 0.5288 - val_mse: 0.5447\n",
            "The value of K_z is  213.43599  The value of Ka is  736.9447  Value of y is  1052.7268806322327\n",
            "Epoch 60 LR = 0.00015707615309787468\n",
            "Epoch 61/100\n",
            "445/445 [==============================] - 63s 142ms/step - loss: 0.5034 - mse: 0.5075 - val_loss: 0.5288 - val_mse: 0.5448\n",
            "The value of K_z is  213.72469  The value of Ka is  740.4151  Value of y is  1052.7268806322327\n",
            "Epoch 61 LR = 0.00015656038659636918\n",
            "Epoch 62/100\n",
            "445/445 [==============================] - 63s 142ms/step - loss: 0.5031 - mse: 0.5070 - val_loss: 0.5287 - val_mse: 0.5446\n",
            "The value of K_z is  213.93562  The value of Ka is  741.85425  Value of y is  1052.7268806322327\n",
            "Epoch 62 LR = 0.00015628059188874796\n",
            "Epoch 63/100\n",
            "445/445 [==============================] - 63s 142ms/step - loss: 0.5028 - mse: 0.5066 - val_loss: 0.5287 - val_mse: 0.5446\n",
            "The value of K_z is  213.39168  The value of Ka is  737.4947  Value of y is  1052.7268806322327\n",
            "Epoch 63 LR = 0.00015706050390830377\n",
            "Epoch 64/100\n",
            "445/445 [==============================] - 63s 141ms/step - loss: 0.5026 - mse: 0.5062 - val_loss: 0.5287 - val_mse: 0.5446\n",
            "The value of K_z is  213.77565  The value of Ka is  742.29675  Value of y is  1052.7268806322327\n",
            "Epoch 64 LR = 0.0001563589854402458\n",
            "Epoch 65/100\n",
            "445/445 [==============================] - 63s 142ms/step - loss: 0.5023 - mse: 0.5058 - val_loss: 0.5287 - val_mse: 0.5446\n",
            "The value of K_z is  213.91028  The value of Ka is  741.73016  Value of y is  1052.7268806322327\n",
            "Epoch 65 LR = 0.00015630991645664035\n",
            "Epoch 66/100\n",
            "445/445 [==============================] - 63s 142ms/step - loss: 0.5020 - mse: 0.5054 - val_loss: 0.5287 - val_mse: 0.5446\n",
            "The value of K_z is  213.05894  The value of Ka is  740.2899  Value of y is  1052.7268806322327\n",
            "Epoch 66 LR = 0.00015706055239920701\n",
            "Epoch 67/100\n",
            "445/445 [==============================] - 63s 141ms/step - loss: 0.5019 - mse: 0.5052 - val_loss: 0.5287 - val_mse: 0.5445\n",
            "The value of K_z is  213.32697  The value of Ka is  739.8537  Value of y is  1052.7268806322327\n",
            "Epoch 67 LR = 0.00015690139612291087\n",
            "Epoch 68/100\n",
            "445/445 [==============================] - 63s 141ms/step - loss: 0.5016 - mse: 0.5047 - val_loss: 0.5287 - val_mse: 0.5444\n",
            "The value of K_z is  213.15546  The value of Ka is  739.87714  Value of y is  1052.7268806322327\n",
            "Epoch 68 LR = 0.00015702558879684668\n",
            "Epoch 69/100\n",
            "445/445 [==============================] - 63s 142ms/step - loss: 0.5013 - mse: 0.5043 - val_loss: 0.5287 - val_mse: 0.5445\n",
            "The value of K_z is  213.92435  The value of Ka is  742.1153  Value of y is  1052.7268806322327\n",
            "Epoch 69 LR = 0.0001562660985248385\n",
            "Epoch 70/100\n",
            "445/445 [==============================] - 63s 141ms/step - loss: 0.5011 - mse: 0.5038 - val_loss: 0.5286 - val_mse: 0.5442\n",
            "The value of K_z is  213.01064  The value of Ka is  739.20294  Value of y is  1052.7268806322327\n",
            "Epoch 70 LR = 0.00015719146633946248\n",
            "Epoch 71/100\n",
            "445/445 [==============================] - 63s 141ms/step - loss: 0.5008 - mse: 0.5034 - val_loss: 0.5285 - val_mse: 0.5440\n",
            "The value of K_z is  213.83122  The value of Ka is  743.4635  Value of y is  1052.7268806322327\n",
            "Epoch 71 LR = 0.0001562168099473009\n",
            "Epoch 72/100\n",
            "445/445 [==============================] - 63s 142ms/step - loss: 0.5005 - mse: 0.5028 - val_loss: 0.5286 - val_mse: 0.5440\n",
            "The value of K_z is  213.70572  The value of Ka is  743.8261  Value of y is  1052.7268806322327\n",
            "Epoch 72 LR = 0.00015627700305712047\n",
            "Epoch 73/100\n",
            "445/445 [==============================] - 63s 142ms/step - loss: 0.5003 - mse: 0.5025 - val_loss: 0.5285 - val_mse: 0.5438\n",
            "The value of K_z is  213.53427  The value of Ka is  743.1377  Value of y is  1052.7268806322327\n",
            "Epoch 73 LR = 0.00015646243300961878\n",
            "Epoch 74/100\n",
            "445/445 [==============================] - 63s 141ms/step - loss: 0.5000 - mse: 0.5019 - val_loss: 0.5286 - val_mse: 0.5438\n",
            "The value of K_z is  213.417  The value of Ka is  741.6742  Value of y is  1052.7268806322327\n",
            "Epoch 74 LR = 0.0001566760824102925\n",
            "Epoch 75/100\n",
            "445/445 [==============================] - 63s 142ms/step - loss: 0.4998 - mse: 0.5016 - val_loss: 0.5285 - val_mse: 0.5437\n",
            "The value of K_z is  213.26996  The value of Ka is  742.2096  Value of y is  1052.7268806322327\n",
            "Epoch 75 LR = 0.00015673734391204825\n",
            "Epoch 76/100\n",
            "445/445 [==============================] - 63s 142ms/step - loss: 0.4996 - mse: 0.5013 - val_loss: 0.5285 - val_mse: 0.5438\n",
            "The value of K_z is  213.38942  The value of Ka is  742.2271  Value of y is  1052.7268806322327\n",
            "Epoch 76 LR = 0.00015664806943263462\n",
            "Epoch 77/100\n",
            "445/445 [==============================] - 63s 142ms/step - loss: 0.4995 - mse: 0.5011 - val_loss: 0.5286 - val_mse: 0.5438\n",
            "The value of K_z is  213.52838  The value of Ka is  743.1839  Value of y is  1052.7268806322327\n",
            "Epoch 77 LR = 0.0001564627233760103\n",
            "Epoch 78/100\n",
            "445/445 [==============================] - 63s 142ms/step - loss: 0.4992 - mse: 0.5007 - val_loss: 0.5285 - val_mse: 0.5436\n",
            "The value of K_z is  213.26785  The value of Ka is  741.8657  Value of y is  1052.7268806322327\n",
            "Epoch 78 LR = 0.00015676892509583097\n",
            "Epoch 79/100\n",
            "445/445 [==============================] - 63s 142ms/step - loss: 0.4990 - mse: 0.5003 - val_loss: 0.5285 - val_mse: 0.5436\n",
            "The value of K_z is  213.70067  The value of Ka is  747.5681  Value of y is  1052.7268806322327\n",
            "Epoch 79 LR = 0.00015595585920125755\n",
            "Epoch 80/100\n",
            "445/445 [==============================] - 63s 142ms/step - loss: 0.4987 - mse: 0.4999 - val_loss: 0.5285 - val_mse: 0.5436\n",
            "The value of K_z is  213.59564  The value of Ka is  745.3653  Value of y is  1052.7268806322327\n",
            "Epoch 80 LR = 0.0001562236971049284\n",
            "Epoch 81/100\n",
            "445/445 [==============================] - 63s 142ms/step - loss: 0.4985 - mse: 0.4995 - val_loss: 0.5284 - val_mse: 0.5435\n",
            "The value of K_z is  213.44745  The value of Ka is  745.2002  Value of y is  1052.7268806322327\n",
            "Epoch 81 LR = 0.00015634651654662136\n",
            "Epoch 82/100\n",
            "445/445 [==============================] - 63s 141ms/step - loss: 0.4983 - mse: 0.4992 - val_loss: 0.5284 - val_mse: 0.5435\n",
            "The value of K_z is  213.05748  The value of Ka is  744.09314  Value of y is  1052.7268806322327\n",
            "Epoch 82 LR = 0.00015672918917785904\n",
            "Epoch 83/100\n",
            "445/445 [==============================] - 63s 142ms/step - loss: 0.4982 - mse: 0.4990 - val_loss: 0.5285 - val_mse: 0.5435\n",
            "The value of K_z is  213.10797  The value of Ka is  745.98553  Value of y is  1052.7268806322327\n",
            "Epoch 83 LR = 0.00015652720250905366\n",
            "Epoch 84/100\n",
            "445/445 [==============================] - 63s 142ms/step - loss: 0.4980 - mse: 0.4987 - val_loss: 0.5285 - val_mse: 0.5435\n",
            "The value of K_z is  213.34985  The value of Ka is  747.2133  Value of y is  1052.7268806322327\n",
            "Epoch 84 LR = 0.00015624309206666137\n",
            "Epoch 85/100\n",
            "445/445 [==============================] - 63s 142ms/step - loss: 0.4978 - mse: 0.4983 - val_loss: 0.5284 - val_mse: 0.5435\n",
            "The value of K_z is  213.24991  The value of Ka is  745.5098  Value of y is  1052.7268806322327\n",
            "Epoch 85 LR = 0.0001564643997456923\n",
            "Epoch 86/100\n",
            "445/445 [==============================] - 63s 141ms/step - loss: 0.4976 - mse: 0.4980 - val_loss: 0.5284 - val_mse: 0.5434\n",
            "The value of K_z is  213.71243  The value of Ka is  746.9014  Value of y is  1052.7268806322327\n",
            "Epoch 86 LR = 0.0001560050460234802\n",
            "Epoch 87/100\n",
            "445/445 [==============================] - 63s 142ms/step - loss: 0.4975 - mse: 0.4978 - val_loss: 0.5284 - val_mse: 0.5434\n",
            "The value of K_z is  213.10922  The value of Ka is  742.9617  Value of y is  1052.7268806322327\n",
            "Epoch 87 LR = 0.00015678986723998342\n",
            "Epoch 88/100\n",
            "445/445 [==============================] - 63s 142ms/step - loss: 0.4973 - mse: 0.4976 - val_loss: 0.5286 - val_mse: 0.5436\n",
            "The value of K_z is  213.54517  The value of Ka is  749.25745  Value of y is  1052.7268806322327\n",
            "Epoch 88 LR = 0.00015592311277726214\n",
            "Epoch 89/100\n",
            "445/445 [==============================] - 63s 142ms/step - loss: 0.4971 - mse: 0.4973 - val_loss: 0.5285 - val_mse: 0.5435\n",
            "The value of K_z is  213.05374  The value of Ka is  744.94415  Value of y is  1052.7268806322327\n",
            "Epoch 89 LR = 0.00015665774274108425\n",
            "Epoch 90/100\n",
            "445/445 [==============================] - 63s 141ms/step - loss: 0.4970 - mse: 0.4970 - val_loss: 0.5285 - val_mse: 0.5435\n",
            "The value of K_z is  212.9378  The value of Ka is  744.083  Value of y is  1052.7268806322327\n",
            "Epoch 90 LR = 0.00015681815791834754\n",
            "Epoch 91/100\n",
            "445/445 [==============================] - 63s 142ms/step - loss: 0.4968 - mse: 0.4967 - val_loss: 0.5284 - val_mse: 0.5434\n",
            "The value of K_z is  213.43866  The value of Ka is  746.9985  Value of y is  1052.7268806322327\n",
            "Epoch 91 LR = 0.0001561967273615259\n",
            "Epoch 92/100\n",
            "445/445 [==============================] - 63s 142ms/step - loss: 0.4966 - mse: 0.4963 - val_loss: 0.5284 - val_mse: 0.5433\n",
            "The value of K_z is  213.17662  The value of Ka is  746.83606  Value of y is  1052.7268806322327\n",
            "Epoch 92 LR = 0.0001564028406276353\n",
            "Epoch 93/100\n",
            "445/445 [==============================] - 63s 142ms/step - loss: 0.4964 - mse: 0.4960 - val_loss: 0.5285 - val_mse: 0.5431\n",
            "The value of K_z is  212.56798  The value of Ka is  745.15216  Value of y is  1052.7268806322327\n",
            "Epoch 93 LR = 0.00015699757325023342\n",
            "Epoch 94/100\n",
            "445/445 [==============================] - 63s 141ms/step - loss: 0.4963 - mse: 0.4956 - val_loss: 0.5285 - val_mse: 0.5432\n",
            "The value of K_z is  213.16565  The value of Ka is  748.49615  Value of y is  1052.7268806322327\n",
            "Epoch 94 LR = 0.00015626673434237953\n",
            "Epoch 95/100\n",
            "445/445 [==============================] - 63s 141ms/step - loss: 0.4961 - mse: 0.4954 - val_loss: 0.5284 - val_mse: 0.5431\n",
            "The value of K_z is  212.96394  The value of Ka is  748.30664  Value of y is  1052.7268806322327\n",
            "Epoch 95 LR = 0.00015643119905296257\n",
            "Epoch 96/100\n",
            "445/445 [==============================] - 62s 140ms/step - loss: 0.4959 - mse: 0.4951 - val_loss: 0.5285 - val_mse: 0.5432\n",
            "The value of K_z is  213.38356  The value of Ka is  750.6381  Value of y is  1052.7268806322327\n",
            "Epoch 96 LR = 0.00015592173412137046\n",
            "Epoch 97/100\n",
            "445/445 [==============================] - 63s 142ms/step - loss: 0.4957 - mse: 0.4948 - val_loss: 0.5285 - val_mse: 0.5432\n",
            "The value of K_z is  212.85443  The value of Ka is  747.07056  Value of y is  1052.7268806322327\n",
            "Epoch 97 LR = 0.00015661917272124368\n",
            "Epoch 98/100\n",
            "445/445 [==============================] - 63s 141ms/step - loss: 0.4956 - mse: 0.4946 - val_loss: 0.5284 - val_mse: 0.5432\n",
            "The value of K_z is  213.23767  The value of Ka is  748.61487  Value of y is  1052.7268806322327\n",
            "Epoch 98 LR = 0.0001562036599854384\n",
            "Epoch 99/100\n",
            "445/445 [==============================] - 63s 141ms/step - loss: 0.4954 - mse: 0.4943 - val_loss: 0.5284 - val_mse: 0.5431\n",
            "The value of K_z is  212.83365  The value of Ka is  748.6416  Value of y is  1052.7268806322327\n",
            "Epoch 99 LR = 0.00015649785891028067\n",
            "Epoch 100/100\n",
            "445/445 [==============================] - 63s 141ms/step - loss: 0.4953 - mse: 0.4939 - val_loss: 0.5284 - val_mse: 0.5429\n"
          ],
          "name": "stdout"
        }
      ]
    },
    {
      "cell_type": "code",
      "metadata": {
        "id": "KLlVezCXEzEm",
        "outputId": "2b9dd915-fa8b-48ef-d9a0-e3414294369c",
        "colab": {
          "base_uri": "https://localhost:8080/",
          "height": 281
        }
      },
      "source": [
        "%matplotlib inline\n",
        "import matplotlib.pyplot as plt\n",
        "loss = history.history['loss']\n",
        "val_loss = history.history['val_loss']\n",
        "\n",
        "epochs = range(len(loss))\n",
        "\n",
        "plt.plot(epochs, loss, 'r', label='Training Loss')\n",
        "plt.plot(epochs, val_loss, 'b', label='Validation Loss')\n",
        "plt.title('Training and validation loss')\n",
        "plt.legend()\n",
        "plt.savefig('loss.png')\n",
        "plt.show()\n"
      ],
      "execution_count": null,
      "outputs": [
        {
          "output_type": "display_data",
          "data": {
            "image/png": "[encoded data removed]",
            "text/plain": [
              "<Figure size 432x288 with 1 Axes>"
            ]
          },
          "metadata": {
            "tags": [],
            "needs_background": "light"
          }
        }
      ]
    },
    {
      "cell_type": "code",
      "metadata": {
        "id": "iF5inzqjE7tp"
      },
      "source": [
        "data1 = pd.DataFrame([history.history['loss'],history.history['val_loss']])\n",
        "data1.to_csv(\"Sigmoid.csv\")"
      ],
      "execution_count": null,
      "outputs": []
    },
    {
      "cell_type": "markdown",
      "metadata": {
        "id": "xZu0up_FZ30Z"
      },
      "source": [
        "# Tanh - LALR"
      ]
    },
    {
      "cell_type": "code",
      "metadata": {
        "id": "BATV1wIZuQlN"
      },
      "source": [
        "from tensorflow.keras import models\n",
        "from tensorflow.keras import layers\n",
        "\n",
        "model = models.Sequential()\n",
        "model.add(layers.Dense(9000, activation='tanh', input_shape=(x_train.shape[1],)))\n",
        "model.add(layers.Dropout(0.2))\n",
        "model.add(layers.Dense(9000, activation='tanh'))\n",
        "model.add(layers.Dense(4760, activation='relu'))"
      ],
      "execution_count": null,
      "outputs": []
    },
    {
      "cell_type": "code",
      "metadata": {
        "id": "of6A1be2dFW-"
      },
      "source": [
        "from tensorflow.keras import backend as K\n",
        "func_pen = K.function([model.layers[0].input], [model.layers[-2].output])\n",
        "func_last = K.function([model.layers[0].input], [model.layers[-1].output])"
      ],
      "execution_count": null,
      "outputs": []
    },
    {
      "cell_type": "code",
      "metadata": {
        "id": "GaMHX3EddKMT"
      },
      "source": [
        "lrs = []\n",
        "K1 = 0.\n",
        "beta1 = 0.9\n",
        "batch_size=200\n",
        "from tqdm import tqdm"
      ],
      "execution_count": null,
      "outputs": []
    },
    {
      "cell_type": "code",
      "metadata": {
        "id": "6sRGb4eXdL88"
      },
      "source": [
        "def lr_schedule(epoch):\n",
        "    global K1\n",
        "\n",
        "    Kz = 0.\n",
        "    Ka = 0.\n",
        "    y_norm = 0.\n",
        "    \n",
        "    for i in range((len(x_train) - 1) // batch_size + 1):\n",
        "        start_i = i * batch_size\n",
        "        end_i = start_i + batch_size\n",
        "        xb = x_train[start_i:end_i]\n",
        "        yb = y_train[start_i:end_i]\n",
        "    \t\n",
        "        tmp_pen = np.array(func_pen([xb]))\n",
        "        activ_pen = np.linalg.norm(tmp_pen)\n",
        "        \n",
        "        if activ_pen > Kz:\n",
        "            Kz = activ_pen\n",
        "\n",
        "        tmp_last = np.array(func_last([xb]))\n",
        "        activ_last = np.linalg.norm(tmp_last)\n",
        "        \n",
        "        if activ_last > Ka:\n",
        "            Ka = activ_last\n",
        "        \n",
        "        y_norms = np.linalg.norm(np.array(yb))\n",
        "        if y_norms > y_norm:\n",
        "            y_norm = y_norms\n",
        "\n",
        "\n",
        "    print(\"The value of K_z is \",Kz, \" The value of Ka is \",Ka, \" Value of y is \",y_norm)\n",
        "    K1 = (1/batch_size)*(Ka + y_norm)*Kz\n",
        "    lr = 1 / K1\n",
        "    lr = lr*0.3\n",
        "    lrs.append(lr)\n",
        "    print('Epoch', epoch, 'LR =', lr)\n",
        "    return lr\n"
      ],
      "execution_count": null,
      "outputs": []
    },
    {
      "cell_type": "code",
      "metadata": {
        "id": "rnrps8fedNui"
      },
      "source": [
        "lr_scheduler = LearningRateScheduler(lr_schedule)"
      ],
      "execution_count": null,
      "outputs": []
    },
    {
      "cell_type": "code",
      "metadata": {
        "id": "PyVPuK0GdP-G"
      },
      "source": [
        "optimizer = 'adam'\n",
        "model.compile(loss='mae', optimizer=optimizer, metrics=[\"mse\"])"
      ],
      "execution_count": null,
      "outputs": []
    },
    {
      "cell_type": "code",
      "metadata": {
        "id": "RL1OVC9EdSp_",
        "outputId": "5fd23c94-7bb0-44e4-c22d-2a3e295fe323",
        "colab": {
          "base_uri": "https://localhost:8080/",
          "height": 1000
        }
      },
      "source": [
        "history=model.fit(x_train, y_train, epochs = 100, batch_size = 200,validation_data=(x_test,y_test),callbacks=[lr_scheduler])"
      ],
      "execution_count": null,
      "outputs": [
        {
          "output_type": "stream",
          "text": [
            "The value of K_z is  448.9263  The value of Ka is  263.3161  Value of y is  1052.7268806322327\n",
            "Epoch 0 LR = 0.00010155612650312227\n",
            "Epoch 1/100\n",
            "  2/445 [..............................] - ETA: 14s - loss: 0.7968 - mse: 1.0949WARNING:tensorflow:Callbacks method `on_train_batch_end` is slow compared to the batch time (batch time: 0.0182s vs `on_train_batch_end` time: 0.0458s). Check your callbacks.\n",
            "445/445 [==============================] - 33s 74ms/step - loss: 0.5842 - mse: 0.6196 - val_loss: 0.5614 - val_mse: 0.5850\n",
            "The value of K_z is  523.5753  The value of Ka is  685.8551  Value of y is  1052.7268806322327\n",
            "Epoch 1 LR = 6.591388515699199e-05\n",
            "Epoch 2/100\n",
            "445/445 [==============================] - 37s 82ms/step - loss: 0.5584 - mse: 0.5745 - val_loss: 0.5545 - val_mse: 0.5752\n",
            "The value of K_z is  523.1439  The value of Ka is  697.98224  Value of y is  1052.7268806322327\n",
            "Epoch 2 LR = 6.551127823985698e-05\n",
            "Epoch 3/100\n",
            "445/445 [==============================] - 36s 81ms/step - loss: 0.5546 - mse: 0.5683 - val_loss: 0.5528 - val_mse: 0.5724\n",
            "The value of K_z is  528.28375  The value of Ka is  700.18317  Value of y is  1052.7268806322327\n",
            "Epoch 3 LR = 6.479244460585413e-05\n",
            "Epoch 4/100\n",
            "445/445 [==============================] - 36s 82ms/step - loss: 0.5524 - mse: 0.5648 - val_loss: 0.5519 - val_mse: 0.5707\n",
            "The value of K_z is  539.096  The value of Ka is  705.4019  Value of y is  1052.7268806322327\n",
            "Epoch 4 LR = 6.330448015120919e-05\n",
            "Epoch 5/100\n",
            "445/445 [==============================] - 37s 82ms/step - loss: 0.5508 - mse: 0.5621 - val_loss: 0.5510 - val_mse: 0.5693\n",
            "The value of K_z is  552.4554  The value of Ka is  706.4481  Value of y is  1052.7268806322327\n",
            "Epoch 5 LR = 6.173692521634376e-05\n",
            "Epoch 6/100\n",
            "445/445 [==============================] - 36s 82ms/step - loss: 0.5493 - mse: 0.5599 - val_loss: 0.5503 - val_mse: 0.5679\n",
            "The value of K_z is  571.7852  The value of Ka is  711.20026  Value of y is  1052.7268806322327\n",
            "Epoch 6 LR = 5.948913931873284e-05\n",
            "Epoch 7/100\n",
            "445/445 [==============================] - 36s 82ms/step - loss: 0.5479 - mse: 0.5577 - val_loss: 0.5493 - val_mse: 0.5667\n",
            "The value of K_z is  590.96857  The value of Ka is  712.1246  Value of y is  1052.7268806322327\n",
            "Epoch 7 LR = 5.752792528613994e-05\n",
            "Epoch 8/100\n",
            "445/445 [==============================] - 36s 82ms/step - loss: 0.5465 - mse: 0.5557 - val_loss: 0.5484 - val_mse: 0.5654\n",
            "The value of K_z is  610.6655  The value of Ka is  712.0354  Value of y is  1052.7268806322327\n",
            "Epoch 8 LR = 5.5675180435089794e-05\n",
            "Epoch 9/100\n",
            "445/445 [==============================] - 36s 82ms/step - loss: 0.5451 - mse: 0.5537 - val_loss: 0.5475 - val_mse: 0.5642\n",
            "The value of K_z is  631.55725  The value of Ka is  715.21655  Value of y is  1052.7268806322327\n",
            "Epoch 9 LR = 5.3736596894475065e-05\n",
            "Epoch 10/100\n",
            "445/445 [==============================] - 37s 82ms/step - loss: 0.5437 - mse: 0.5518 - val_loss: 0.5465 - val_mse: 0.5626\n",
            "The value of K_z is  649.2434  The value of Ka is  711.191  Value of y is  1052.7268806322327\n",
            "Epoch 10 LR = 5.239204422252147e-05\n",
            "Epoch 11/100\n",
            "445/445 [==============================] - 37s 82ms/step - loss: 0.5423 - mse: 0.5497 - val_loss: 0.5455 - val_mse: 0.5614\n",
            "The value of K_z is  666.96857  The value of Ka is  713.9381  Value of y is  1052.7268806322327\n",
            "Epoch 11 LR = 5.0920385232401995e-05\n",
            "Epoch 12/100\n",
            "445/445 [==============================] - 37s 82ms/step - loss: 0.5410 - mse: 0.5479 - val_loss: 0.5447 - val_mse: 0.5601\n",
            "The value of K_z is  682.7293  The value of Ka is  716.2256  Value of y is  1052.7268806322327\n",
            "Epoch 12 LR = 4.968056657166357e-05\n",
            "Epoch 13/100\n",
            "445/445 [==============================] - 36s 82ms/step - loss: 0.5397 - mse: 0.5461 - val_loss: 0.5438 - val_mse: 0.5592\n",
            "The value of K_z is  697.7989  The value of Ka is  717.0572  Value of y is  1052.7268806322327\n",
            "Epoch 13 LR = 4.858483082542929e-05\n",
            "Epoch 14/100\n",
            "445/445 [==============================] - 37s 82ms/step - loss: 0.5384 - mse: 0.5444 - val_loss: 0.5430 - val_mse: 0.5579\n",
            "The value of K_z is  711.33417  The value of Ka is  719.48126  Value of y is  1052.7268806322327\n",
            "Epoch 14 LR = 4.759516678609181e-05\n",
            "Epoch 15/100\n",
            "445/445 [==============================] - 37s 82ms/step - loss: 0.5373 - mse: 0.5429 - val_loss: 0.5425 - val_mse: 0.5572\n",
            "The value of K_z is  722.85016  The value of Ka is  719.3938  Value of y is  1052.7268806322327\n",
            "Epoch 15 LR = 4.6839222358830055e-05\n",
            "Epoch 16/100\n",
            "445/445 [==============================] - 37s 82ms/step - loss: 0.5362 - mse: 0.5415 - val_loss: 0.5417 - val_mse: 0.5561\n",
            "The value of K_z is  733.2651  The value of Ka is  721.1436  Value of y is  1052.7268806322327\n",
            "Epoch 16 LR = 4.612839450125477e-05\n",
            "Epoch 17/100\n",
            "445/445 [==============================] - 37s 82ms/step - loss: 0.5352 - mse: 0.5401 - val_loss: 0.5408 - val_mse: 0.5550\n",
            "The value of K_z is  743.2336  The value of Ka is  723.14636  Value of y is  1052.7268806322327\n",
            "Epoch 17 LR = 4.5458380808634996e-05\n",
            "Epoch 18/100\n",
            "445/445 [==============================] - 37s 82ms/step - loss: 0.5342 - mse: 0.5387 - val_loss: 0.5403 - val_mse: 0.5543\n",
            "The value of K_z is  752.41974  The value of Ka is  722.7699  Value of y is  1052.7268806322327\n",
            "Epoch 18 LR = 4.491290863917559e-05\n",
            "Epoch 19/100\n",
            "445/445 [==============================] - 36s 82ms/step - loss: 0.5332 - mse: 0.5374 - val_loss: 0.5398 - val_mse: 0.5536\n",
            "The value of K_z is  760.21454  The value of Ka is  724.6764  Value of y is  1052.7268806322327\n",
            "Epoch 19 LR = 4.440471674620924e-05\n",
            "Epoch 20/100\n",
            "445/445 [==============================] - 37s 82ms/step - loss: 0.5324 - mse: 0.5363 - val_loss: 0.5394 - val_mse: 0.5529\n",
            "The value of K_z is  767.00934  The value of Ka is  724.55084  Value of y is  1052.7268806322327\n",
            "Epoch 20 LR = 4.401445225081178e-05\n",
            "Epoch 21/100\n",
            "445/445 [==============================] - 37s 82ms/step - loss: 0.5315 - mse: 0.5351 - val_loss: 0.5387 - val_mse: 0.5522\n",
            "The value of K_z is  774.82056  The value of Ka is  727.13983  Value of y is  1052.7268806322327\n",
            "Epoch 21 LR = 4.3507350367213725e-05\n",
            "Epoch 22/100\n",
            "445/445 [==============================] - 37s 82ms/step - loss: 0.5307 - mse: 0.5341 - val_loss: 0.5382 - val_mse: 0.5516\n",
            "The value of K_z is  780.7006  The value of Ka is  725.53827  Value of y is  1052.7268806322327\n",
            "Epoch 22 LR = 4.321855152925297e-05\n",
            "Epoch 23/100\n",
            "445/445 [==============================] - 36s 82ms/step - loss: 0.5299 - mse: 0.5330 - val_loss: 0.5379 - val_mse: 0.5510\n",
            "The value of K_z is  787.03357  The value of Ka is  726.20795  Value of y is  1052.7268806322327\n",
            "Epoch 23 LR = 4.285465034398484e-05\n",
            "Epoch 24/100\n",
            "445/445 [==============================] - 37s 82ms/step - loss: 0.5292 - mse: 0.5320 - val_loss: 0.5374 - val_mse: 0.5506\n",
            "The value of K_z is  793.00836  The value of Ka is  727.67346  Value of y is  1052.7268806322327\n",
            "Epoch 24 LR = 4.249675943910862e-05\n",
            "Epoch 25/100\n",
            "445/445 [==============================] - 37s 82ms/step - loss: 0.5285 - mse: 0.5311 - val_loss: 0.5371 - val_mse: 0.5499\n",
            "The value of K_z is  797.72925  The value of Ka is  728.4108  Value of y is  1052.7268806322327\n",
            "Epoch 25 LR = 4.2227778695633135e-05\n",
            "Epoch 26/100\n",
            "445/445 [==============================] - 37s 82ms/step - loss: 0.5277 - mse: 0.5301 - val_loss: 0.5366 - val_mse: 0.5494\n",
            "The value of K_z is  803.0269  The value of Ka is  727.6369  Value of y is  1052.7268806322327\n",
            "Epoch 26 LR = 4.196743214144997e-05\n",
            "Epoch 27/100\n",
            "445/445 [==============================] - 37s 82ms/step - loss: 0.5271 - mse: 0.5292 - val_loss: 0.5364 - val_mse: 0.5491\n",
            "The value of K_z is  808.0145  The value of Ka is  729.26117  Value of y is  1052.7268806322327\n",
            "Epoch 27 LR = 4.167036403564693e-05\n",
            "Epoch 28/100\n",
            "445/445 [==============================] - 37s 82ms/step - loss: 0.5264 - mse: 0.5284 - val_loss: 0.5360 - val_mse: 0.5485\n",
            "The value of K_z is  812.54333  The value of Ka is  729.5904  Value of y is  1052.7268806322327\n",
            "Epoch 28 LR = 4.143045491193941e-05\n",
            "Epoch 29/100\n",
            "445/445 [==============================] - 37s 82ms/step - loss: 0.5258 - mse: 0.5276 - val_loss: 0.5358 - val_mse: 0.5482\n",
            "The value of K_z is  816.7341  The value of Ka is  729.9705  Value of y is  1052.7268806322327\n",
            "Epoch 29 LR = 4.120908263570542e-05\n",
            "Epoch 30/100\n",
            "445/445 [==============================] - 37s 82ms/step - loss: 0.5252 - mse: 0.5268 - val_loss: 0.5355 - val_mse: 0.5482\n",
            "The value of K_z is  821.9574  The value of Ka is  734.2285  Value of y is  1052.7268806322327\n",
            "Epoch 30 LR = 4.0849639637204905e-05\n",
            "Epoch 31/100\n",
            "445/445 [==============================] - 37s 82ms/step - loss: 0.5247 - mse: 0.5264 - val_loss: 0.5351 - val_mse: 0.5475\n",
            "The value of K_z is  823.853  The value of Ka is  729.9086  Value of y is  1052.7268806322327\n",
            "Epoch 31 LR = 4.0854411112965636e-05\n",
            "Epoch 32/100\n",
            "445/445 [==============================] - 36s 82ms/step - loss: 0.5240 - mse: 0.5253 - val_loss: 0.5350 - val_mse: 0.5471\n",
            "The value of K_z is  828.27655  The value of Ka is  730.83417  Value of y is  1052.7268806322327\n",
            "Epoch 32 LR = 4.061513539130443e-05\n",
            "Epoch 33/100\n",
            "445/445 [==============================] - 37s 82ms/step - loss: 0.5235 - mse: 0.5246 - val_loss: 0.5346 - val_mse: 0.5467\n",
            "The value of K_z is  831.73615  The value of Ka is  731.1248  Value of y is  1052.7268806322327\n",
            "Epoch 33 LR = 4.043960726499761e-05\n",
            "Epoch 34/100\n",
            "445/445 [==============================] - 36s 82ms/step - loss: 0.5229 - mse: 0.5239 - val_loss: 0.5343 - val_mse: 0.5464\n",
            "The value of K_z is  835.6002  The value of Ka is  732.6796  Value of y is  1052.7268806322327\n",
            "Epoch 34 LR = 4.0217548257433686e-05\n",
            "Epoch 35/100\n",
            "445/445 [==============================] - 36s 82ms/step - loss: 0.5224 - mse: 0.5232 - val_loss: 0.5342 - val_mse: 0.5461\n",
            "The value of K_z is  838.7649  The value of Ka is  733.5702  Value of y is  1052.7268806322327\n",
            "Epoch 35 LR = 4.0045831896049206e-05\n",
            "Epoch 36/100\n",
            "445/445 [==============================] - 36s 82ms/step - loss: 0.5219 - mse: 0.5225 - val_loss: 0.5341 - val_mse: 0.5460\n",
            "The value of K_z is  842.1079  The value of Ka is  733.40283  Value of y is  1052.7268806322327\n",
            "Epoch 36 LR = 3.9890594470644354e-05\n",
            "Epoch 37/100\n",
            "445/445 [==============================] - 37s 82ms/step - loss: 0.5214 - mse: 0.5219 - val_loss: 0.5338 - val_mse: 0.5457\n",
            "The value of K_z is  845.3466  The value of Ka is  734.7707  Value of y is  1052.7268806322327\n",
            "Epoch 37 LR = 3.9707356045817366e-05\n",
            "Epoch 38/100\n",
            "445/445 [==============================] - 37s 82ms/step - loss: 0.5209 - mse: 0.5213 - val_loss: 0.5337 - val_mse: 0.5454\n",
            "The value of K_z is  847.9914  The value of Ka is  734.6038  Value of y is  1052.7268806322327\n",
            "Epoch 38 LR = 3.9587209568077084e-05\n",
            "Epoch 39/100\n",
            "445/445 [==============================] - 37s 82ms/step - loss: 0.5205 - mse: 0.5207 - val_loss: 0.5334 - val_mse: 0.5452\n",
            "The value of K_z is  850.58185  The value of Ka is  736.13226  Value of y is  1052.7268806322327\n",
            "Epoch 39 LR = 3.9432925181569733e-05\n",
            "Epoch 40/100\n",
            "445/445 [==============================] - 37s 82ms/step - loss: 0.5200 - mse: 0.5201 - val_loss: 0.5332 - val_mse: 0.5449\n",
            "The value of K_z is  853.41254  The value of Ka is  734.1809  Value of y is  1052.7268806322327\n",
            "Epoch 40 LR = 3.934504896958939e-05\n",
            "Epoch 41/100\n",
            "445/445 [==============================] - 37s 82ms/step - loss: 0.5196 - mse: 0.5195 - val_loss: 0.5332 - val_mse: 0.5447\n",
            "The value of K_z is  855.02155  The value of Ka is  733.5172  Value of y is  1052.7268806322327\n",
            "Epoch 41 LR = 3.928559963402249e-05\n",
            "Epoch 42/100\n",
            "445/445 [==============================] - 36s 82ms/step - loss: 0.5192 - mse: 0.5190 - val_loss: 0.5329 - val_mse: 0.5445\n",
            "The value of K_z is  858.56744  The value of Ka is  734.5976  Value of y is  1052.7268806322327\n",
            "Epoch 42 LR = 3.909970055085342e-05\n",
            "Epoch 43/100\n",
            "445/445 [==============================] - 37s 83ms/step - loss: 0.5187 - mse: 0.5184 - val_loss: 0.5329 - val_mse: 0.5443\n",
            "The value of K_z is  861.06256  The value of Ka is  737.2616  Value of y is  1052.7268806322327\n",
            "Epoch 43 LR = 3.8928377988771085e-05\n",
            "Epoch 44/100\n",
            "445/445 [==============================] - 36s 82ms/step - loss: 0.5183 - mse: 0.5179 - val_loss: 0.5328 - val_mse: 0.5442\n",
            "The value of K_z is  863.6746  The value of Ka is  736.87335  Value of y is  1052.7268806322327\n",
            "Epoch 44 LR = 3.881906444022853e-05\n",
            "Epoch 45/100\n",
            "445/445 [==============================] - 36s 82ms/step - loss: 0.5179 - mse: 0.5173 - val_loss: 0.5325 - val_mse: 0.5438\n",
            "The value of K_z is  865.9782  The value of Ka is  736.46735  Value of y is  1052.7268806322327\n",
            "Epoch 45 LR = 3.872458726760375e-05\n",
            "Epoch 46/100\n",
            "445/445 [==============================] - 37s 82ms/step - loss: 0.5175 - mse: 0.5168 - val_loss: 0.5324 - val_mse: 0.5438\n",
            "The value of K_z is  868.44806  The value of Ka is  738.34644  Value of y is  1052.7268806322327\n",
            "Epoch 46 LR = 3.857394330051524e-05\n",
            "Epoch 47/100\n",
            "445/445 [==============================] - 37s 82ms/step - loss: 0.5171 - mse: 0.5163 - val_loss: 0.5323 - val_mse: 0.5435\n",
            "The value of K_z is  870.2082  The value of Ka is  736.1131  Value of y is  1052.7268806322327\n",
            "Epoch 47 LR = 3.854398300907929e-05\n",
            "Epoch 48/100\n",
            "445/445 [==============================] - 36s 82ms/step - loss: 0.5167 - mse: 0.5158 - val_loss: 0.5322 - val_mse: 0.5434\n",
            "The value of K_z is  872.3539  The value of Ka is  737.4555  Value of y is  1052.7268806322327\n",
            "Epoch 48 LR = 3.84203460967232e-05\n",
            "Epoch 49/100\n",
            "445/445 [==============================] - 37s 82ms/step - loss: 0.5163 - mse: 0.5153 - val_loss: 0.5322 - val_mse: 0.5434\n",
            "The value of K_z is  874.6075  The value of Ka is  739.3852  Value of y is  1052.7268806322327\n",
            "Epoch 49 LR = 3.828008522110197e-05\n",
            "Epoch 50/100\n",
            "445/445 [==============================] - 37s 82ms/step - loss: 0.5160 - mse: 0.5149 - val_loss: 0.5319 - val_mse: 0.5431\n",
            "The value of K_z is  876.1516  The value of Ka is  738.0451  Value of y is  1052.7268806322327\n",
            "Epoch 50 LR = 3.824121608993663e-05\n",
            "Epoch 51/100\n",
            "445/445 [==============================] - 37s 82ms/step - loss: 0.5156 - mse: 0.5144 - val_loss: 0.5319 - val_mse: 0.5430\n",
            "The value of K_z is  878.0208  The value of Ka is  739.4781  Value of y is  1052.7268806322327\n",
            "Epoch 51 LR = 3.812929387486395e-05\n",
            "Epoch 52/100\n",
            "445/445 [==============================] - 37s 82ms/step - loss: 0.5153 - mse: 0.5140 - val_loss: 0.5318 - val_mse: 0.5429\n",
            "The value of K_z is  881.1212  The value of Ka is  740.1726  Value of y is  1052.7268806322327\n",
            "Epoch 52 LR = 3.798041001038659e-05\n",
            "Epoch 53/100\n",
            "445/445 [==============================] - 36s 82ms/step - loss: 0.5150 - mse: 0.5136 - val_loss: 0.5318 - val_mse: 0.5428\n",
            "The value of K_z is  882.71954  The value of Ka is  740.5028  Value of y is  1052.7268806322327\n",
            "Epoch 53 LR = 3.7904658484813336e-05\n",
            "Epoch 54/100\n",
            "445/445 [==============================] - 36s 82ms/step - loss: 0.5146 - mse: 0.5131 - val_loss: 0.5316 - val_mse: 0.5426\n",
            "The value of K_z is  884.1932  The value of Ka is  738.8406  Value of y is  1052.7268806322327\n",
            "Epoch 54 LR = 3.787659466774555e-05\n",
            "Epoch 55/100\n",
            "445/445 [==============================] - 37s 83ms/step - loss: 0.5143 - mse: 0.5127 - val_loss: 0.5317 - val_mse: 0.5427\n",
            "The value of K_z is  886.77045  The value of Ka is  742.7836  Value of y is  1052.7268806322327\n",
            "Epoch 55 LR = 3.768357416466959e-05\n",
            "Epoch 56/100\n",
            "445/445 [==============================] - 36s 82ms/step - loss: 0.5140 - mse: 0.5123 - val_loss: 0.5315 - val_mse: 0.5425\n",
            "The value of K_z is  887.6811  The value of Ka is  740.4801  Value of y is  1052.7268806322327\n",
            "Epoch 56 LR = 3.76932738692961e-05\n",
            "Epoch 57/100\n",
            "445/445 [==============================] - 36s 82ms/step - loss: 0.5136 - mse: 0.5119 - val_loss: 0.5314 - val_mse: 0.5423\n",
            "The value of K_z is  890.0125  The value of Ka is  742.2855  Value of y is  1052.7268806322327\n",
            "Epoch 57 LR = 3.755672242678103e-05\n",
            "Epoch 58/100\n",
            "445/445 [==============================] - 36s 82ms/step - loss: 0.5133 - mse: 0.5114 - val_loss: 0.5315 - val_mse: 0.5423\n",
            "The value of K_z is  891.00885  The value of Ka is  741.69666  Value of y is  1052.7268806322327\n",
            "Epoch 58 LR = 3.752703702660394e-05\n",
            "Epoch 59/100\n",
            "445/445 [==============================] - 37s 82ms/step - loss: 0.5130 - mse: 0.5111 - val_loss: 0.5313 - val_mse: 0.5421\n",
            "The value of K_z is  893.34155  The value of Ka is  741.2716  Value of y is  1052.7268806322327\n",
            "Epoch 59 LR = 3.743791403855257e-05\n",
            "Epoch 60/100\n",
            "445/445 [==============================] - 36s 82ms/step - loss: 0.5127 - mse: 0.5107 - val_loss: 0.5312 - val_mse: 0.5420\n",
            "The value of K_z is  894.2956  The value of Ka is  741.54956  Value of y is  1052.7268806322327\n",
            "Epoch 60 LR = 3.739218164378184e-05\n",
            "Epoch 61/100\n",
            "445/445 [==============================] - 37s 82ms/step - loss: 0.5124 - mse: 0.5103 - val_loss: 0.5312 - val_mse: 0.5418\n",
            "The value of K_z is  896.5631  The value of Ka is  743.5649  Value of y is  1052.7268806322327\n",
            "Epoch 61 LR = 3.725576683206044e-05\n",
            "Epoch 62/100\n",
            "445/445 [==============================] - 36s 82ms/step - loss: 0.5122 - mse: 0.5100 - val_loss: 0.5310 - val_mse: 0.5418\n",
            "The value of K_z is  897.46185  The value of Ka is  741.7982  Value of y is  1052.7268806322327\n",
            "Epoch 62 LR = 3.725509848475821e-05\n",
            "Epoch 63/100\n",
            "445/445 [==============================] - 36s 82ms/step - loss: 0.5118 - mse: 0.5095 - val_loss: 0.5311 - val_mse: 0.5418\n",
            "The value of K_z is  899.0291  The value of Ka is  743.768  Value of y is  1052.7268806322327\n",
            "Epoch 63 LR = 3.714937479136143e-05\n",
            "Epoch 64/100\n",
            "445/445 [==============================] - 36s 82ms/step - loss: 0.5116 - mse: 0.5092 - val_loss: 0.5310 - val_mse: 0.5417\n",
            "The value of K_z is  900.416  The value of Ka is  742.38025  Value of y is  1052.7268806322327\n",
            "Epoch 64 LR = 3.712082907553665e-05\n",
            "Epoch 65/100\n",
            "445/445 [==============================] - 36s 82ms/step - loss: 0.5113 - mse: 0.5088 - val_loss: 0.5309 - val_mse: 0.5417\n",
            "The value of K_z is  902.85333  The value of Ka is  743.5649  Value of y is  1052.7268806322327\n",
            "Epoch 65 LR = 3.699620413015655e-05\n",
            "Epoch 66/100\n",
            "445/445 [==============================] - 36s 82ms/step - loss: 0.5110 - mse: 0.5085 - val_loss: 0.5308 - val_mse: 0.5416\n",
            "The value of K_z is  902.83527  The value of Ka is  741.6591  Value of y is  1052.7268806322327\n",
            "Epoch 66 LR = 3.703623775904076e-05\n",
            "Epoch 67/100\n",
            "445/445 [==============================] - 36s 82ms/step - loss: 0.5108 - mse: 0.5082 - val_loss: 0.5308 - val_mse: 0.5415\n",
            "The value of K_z is  904.6081  The value of Ka is  742.05963  Value of y is  1052.7268806322327\n",
            "Epoch 67 LR = 3.695540654943403e-05\n",
            "Epoch 68/100\n",
            "445/445 [==============================] - 36s 82ms/step - loss: 0.5105 - mse: 0.5078 - val_loss: 0.5308 - val_mse: 0.5415\n",
            "The value of K_z is  906.743  The value of Ka is  744.07745  Value of y is  1052.7268806322327\n",
            "Epoch 68 LR = 3.682699318500106e-05\n",
            "Epoch 69/100\n",
            "445/445 [==============================] - 36s 82ms/step - loss: 0.5102 - mse: 0.5075 - val_loss: 0.5308 - val_mse: 0.5415\n",
            "The value of K_z is  907.28094  The value of Ka is  743.224  Value of y is  1052.7268806322327\n",
            "Epoch 69 LR = 3.6822647153561894e-05\n",
            "Epoch 70/100\n",
            "445/445 [==============================] - 36s 82ms/step - loss: 0.5100 - mse: 0.5072 - val_loss: 0.5309 - val_mse: 0.5415\n",
            "The value of K_z is  908.51904  The value of Ka is  744.9658  Value of y is  1052.7268806322327\n",
            "Epoch 70 LR = 3.673683693485877e-05\n",
            "Epoch 71/100\n",
            "445/445 [==============================] - 36s 82ms/step - loss: 0.5097 - mse: 0.5068 - val_loss: 0.5308 - val_mse: 0.5415\n",
            "The value of K_z is  909.88367  The value of Ka is  745.6748  Value of y is  1052.7268806322327\n",
            "Epoch 71 LR = 3.666727876210647e-05\n",
            "Epoch 72/100\n",
            "445/445 [==============================] - 36s 82ms/step - loss: 0.5095 - mse: 0.5065 - val_loss: 0.5307 - val_mse: 0.5413\n",
            "The value of K_z is  911.3445  The value of Ka is  745.7181  Value of y is  1052.7268806322327\n",
            "Epoch 72 LR = 3.6607623053028994e-05\n",
            "Epoch 73/100\n",
            "445/445 [==============================] - 36s 82ms/step - loss: 0.5092 - mse: 0.5062 - val_loss: 0.5307 - val_mse: 0.5413\n",
            "The value of K_z is  912.07715  The value of Ka is  743.44104  Value of y is  1052.7268806322327\n",
            "Epoch 73 LR = 3.6624587320724864e-05\n",
            "Epoch 74/100\n",
            "445/445 [==============================] - 36s 82ms/step - loss: 0.5090 - mse: 0.5059 - val_loss: 0.5307 - val_mse: 0.5414\n",
            "The value of K_z is  914.6936  The value of Ka is  746.1156  Value of y is  1052.7268806322327\n",
            "Epoch 74 LR = 3.646552521135311e-05\n",
            "Epoch 75/100\n",
            "445/445 [==============================] - 37s 82ms/step - loss: 0.5088 - mse: 0.5056 - val_loss: 0.5306 - val_mse: 0.5413\n",
            "The value of K_z is  914.37274  The value of Ka is  745.21533  Value of y is  1052.7268806322327\n",
            "Epoch 75 LR = 3.649658678448325e-05\n",
            "Epoch 76/100\n",
            "445/445 [==============================] - 36s 82ms/step - loss: 0.5085 - mse: 0.5053 - val_loss: 0.5307 - val_mse: 0.5412\n",
            "The value of K_z is  916.2517  The value of Ka is  746.5097  Value of y is  1052.7268806322327\n",
            "Epoch 76 LR = 3.6395541001992255e-05\n",
            "Epoch 77/100\n",
            "445/445 [==============================] - 37s 82ms/step - loss: 0.5083 - mse: 0.5050 - val_loss: 0.5306 - val_mse: 0.5411\n",
            "The value of K_z is  917.41437  The value of Ka is  745.1623  Value of y is  1052.7268806322327\n",
            "Epoch 77 LR = 3.637665790857998e-05\n",
            "Epoch 78/100\n",
            "445/445 [==============================] - 37s 82ms/step - loss: 0.5081 - mse: 0.5047 - val_loss: 0.5305 - val_mse: 0.5411\n",
            "The value of K_z is  918.4101  The value of Ka is  745.95966  Value of y is  1052.7268806322327\n",
            "Epoch 78 LR = 3.632111043752909e-05\n",
            "Epoch 79/100\n",
            "445/445 [==============================] - 37s 82ms/step - loss: 0.5079 - mse: 0.5045 - val_loss: 0.5305 - val_mse: 0.5411\n",
            "The value of K_z is  919.1064  The value of Ka is  745.9019  Value of y is  1052.7268806322327\n",
            "Epoch 79 LR = 3.629475967956568e-05\n",
            "Epoch 80/100\n",
            "445/445 [==============================] - 37s 82ms/step - loss: 0.5076 - mse: 0.5041 - val_loss: 0.5306 - val_mse: 0.5411\n",
            "The value of K_z is  920.5507  The value of Ka is  745.35596  Value of y is  1052.7268806322327\n",
            "Epoch 80 LR = 3.6248816562762566e-05\n",
            "Epoch 81/100\n",
            "445/445 [==============================] - 37s 82ms/step - loss: 0.5074 - mse: 0.5039 - val_loss: 0.5305 - val_mse: 0.5411\n",
            "The value of K_z is  921.33075  The value of Ka is  747.1705  Value of y is  1052.7268806322327\n",
            "Epoch 81 LR = 3.6181614856079514e-05\n",
            "Epoch 82/100\n",
            "445/445 [==============================] - 37s 83ms/step - loss: 0.5072 - mse: 0.5036 - val_loss: 0.5304 - val_mse: 0.5410\n",
            "The value of K_z is  922.6185  The value of Ka is  745.17084  Value of y is  1052.7268806322327\n",
            "Epoch 82 LR = 3.6171298221318953e-05\n",
            "Epoch 83/100\n",
            "445/445 [==============================] - 37s 82ms/step - loss: 0.5070 - mse: 0.5034 - val_loss: 0.5306 - val_mse: 0.5411\n",
            "The value of K_z is  923.00555  The value of Ka is  746.0402  Value of y is  1052.7268806322327\n",
            "Epoch 83 LR = 3.61386562195093e-05\n",
            "Epoch 84/100\n",
            "445/445 [==============================] - 37s 82ms/step - loss: 0.5068 - mse: 0.5031 - val_loss: 0.5307 - val_mse: 0.5411\n",
            "The value of K_z is  924.42084  The value of Ka is  747.5739  Value of y is  1052.7268806322327\n",
            "Epoch 84 LR = 3.605258844508799e-05\n",
            "Epoch 85/100\n",
            "445/445 [==============================] - 37s 82ms/step - loss: 0.5066 - mse: 0.5028 - val_loss: 0.5306 - val_mse: 0.5410\n",
            "The value of K_z is  925.4288  The value of Ka is  745.30597  Value of y is  1052.7268806322327\n",
            "Epoch 85 LR = 3.6058746934546155e-05\n",
            "Epoch 86/100\n",
            "445/445 [==============================] - 37s 82ms/step - loss: 0.5064 - mse: 0.5026 - val_loss: 0.5305 - val_mse: 0.5410\n",
            "The value of K_z is  925.86017  The value of Ka is  746.34436  Value of y is  1052.7268806322327\n",
            "Epoch 86 LR = 3.602114292156212e-05\n",
            "Epoch 87/100\n",
            "445/445 [==============================] - 37s 82ms/step - loss: 0.5062 - mse: 0.5023 - val_loss: 0.5305 - val_mse: 0.5409\n",
            "The value of K_z is  926.49786  The value of Ka is  746.5417  Value of y is  1052.7268806322327\n",
            "Epoch 87 LR = 3.59924023435662e-05\n",
            "Epoch 88/100\n",
            "445/445 [==============================] - 37s 82ms/step - loss: 0.5060 - mse: 0.5021 - val_loss: 0.5305 - val_mse: 0.5410\n",
            "The value of K_z is  928.8644  The value of Ka is  746.8883  Value of y is  1052.7268806322327\n",
            "Epoch 88 LR = 3.5893787897256597e-05\n",
            "Epoch 89/100\n",
            "445/445 [==============================] - 37s 82ms/step - loss: 0.5058 - mse: 0.5018 - val_loss: 0.5305 - val_mse: 0.5409\n",
            "The value of K_z is  928.9491  The value of Ka is  747.5274  Value of y is  1052.7268806322327\n",
            "Epoch 89 LR = 3.587777320457199e-05\n",
            "Epoch 90/100\n",
            "445/445 [==============================] - 37s 82ms/step - loss: 0.5056 - mse: 0.5016 - val_loss: 0.5304 - val_mse: 0.5409\n",
            "The value of K_z is  930.4424  The value of Ka is  748.03235  Value of y is  1052.7268806322327\n",
            "Epoch 90 LR = 3.5810148027922715e-05\n",
            "Epoch 91/100\n",
            "445/445 [==============================] - 36s 82ms/step - loss: 0.5054 - mse: 0.5013 - val_loss: 0.5305 - val_mse: 0.5410\n",
            "The value of K_z is  931.2051  The value of Ka is  748.66656  Value of y is  1052.7268806322327\n",
            "Epoch 91 LR = 3.576822069476553e-05\n",
            "Epoch 92/100\n",
            "445/445 [==============================] - 36s 82ms/step - loss: 0.5053 - mse: 0.5011 - val_loss: 0.5305 - val_mse: 0.5410\n",
            "The value of K_z is  932.1946  The value of Ka is  747.94696  Value of y is  1052.7268806322327\n",
            "Epoch 92 LR = 3.5744532500569784e-05\n",
            "Epoch 93/100\n",
            "445/445 [==============================] - 36s 82ms/step - loss: 0.5051 - mse: 0.5008 - val_loss: 0.5305 - val_mse: 0.5409\n",
            "The value of K_z is  932.7338  The value of Ka is  746.2276  Value of y is  1052.7268806322327\n",
            "Epoch 93 LR = 3.575801063007832e-05\n",
            "Epoch 94/100\n",
            "445/445 [==============================] - 37s 82ms/step - loss: 0.5049 - mse: 0.5006 - val_loss: 0.5305 - val_mse: 0.5409\n",
            "The value of K_z is  933.1689  The value of Ka is  747.7168  Value of y is  1052.7268806322327\n",
            "Epoch 94 LR = 3.571177700991461e-05\n",
            "Epoch 95/100\n",
            "445/445 [==============================] - 37s 82ms/step - loss: 0.5047 - mse: 0.5004 - val_loss: 0.5304 - val_mse: 0.5409\n",
            "The value of K_z is  934.2484  The value of Ka is  747.5687  Value of y is  1052.7268806322327\n",
            "Epoch 95 LR = 3.567344570902374e-05\n",
            "Epoch 96/100\n",
            "445/445 [==============================] - 36s 82ms/step - loss: 0.5046 - mse: 0.5002 - val_loss: 0.5305 - val_mse: 0.5410\n",
            "The value of K_z is  935.31586  The value of Ka is  748.62476  Value of y is  1052.7268806322327\n",
            "Epoch 96 LR = 3.561184338146057e-05\n",
            "Epoch 97/100\n",
            "445/445 [==============================] - 36s 81ms/step - loss: 0.5044 - mse: 0.4999 - val_loss: 0.5305 - val_mse: 0.5409\n",
            "The value of K_z is  936.1409  The value of Ka is  749.5597  Value of y is  1052.7268806322327\n",
            "Epoch 97 LR = 3.556199930752379e-05\n",
            "Epoch 98/100\n",
            "445/445 [==============================] - 36s 82ms/step - loss: 0.5042 - mse: 0.4998 - val_loss: 0.5304 - val_mse: 0.5409\n",
            "The value of K_z is  936.80505  The value of Ka is  750.04474  Value of y is  1052.7268806322327\n",
            "Epoch 98 LR = 3.5527227171115144e-05\n",
            "Epoch 99/100\n",
            "445/445 [==============================] - 37s 83ms/step - loss: 0.5040 - mse: 0.4995 - val_loss: 0.5306 - val_mse: 0.5411\n",
            "The value of K_z is  937.55927  The value of Ka is  750.1384  Value of y is  1052.7268806322327\n",
            "Epoch 99 LR = 3.549680285344926e-05\n",
            "Epoch 100/100\n",
            "445/445 [==============================] - 37s 82ms/step - loss: 0.5039 - mse: 0.4993 - val_loss: 0.5304 - val_mse: 0.5409\n"
          ],
          "name": "stdout"
        }
      ]
    },
    {
      "cell_type": "code",
      "metadata": {
        "id": "e1EhgJlydVXX",
        "outputId": "e322be11-f499-469a-a921-077f1cdb125b",
        "colab": {
          "base_uri": "https://localhost:8080/",
          "height": 281
        }
      },
      "source": [
        "%matplotlib inline\n",
        "import matplotlib.pyplot as plt\n",
        "loss = history.history['loss']\n",
        "val_loss = history.history['val_loss']\n",
        "\n",
        "epochs = range(len(loss))\n",
        "\n",
        "plt.plot(epochs, loss, 'r', label='Training Loss')\n",
        "plt.plot(epochs, val_loss, 'b', label='Validation Loss')\n",
        "plt.title('Training and validation loss')\n",
        "plt.legend()\n",
        "plt.savefig('loss.png')\n",
        "plt.show()\n"
      ],
      "execution_count": null,
      "outputs": [
        {
          "output_type": "display_data",
          "data": {
            "image/png": "[encoded data removed]",
            "text/plain": [
              "<Figure size 432x288 with 1 Axes>"
            ]
          },
          "metadata": {
            "tags": [],
            "needs_background": "light"
          }
        }
      ]
    },
    {
      "cell_type": "code",
      "metadata": {
        "id": "ivVtZ3cJw5ar"
      },
      "source": [
        "data1 = pd.DataFrame([history.history['loss'],history.history['val_loss']])\n",
        "data1.to_csv(\"Tanh.csv\")"
      ],
      "execution_count": null,
      "outputs": []
    },
    {
      "cell_type": "markdown",
      "metadata": {
        "id": "9ABFwgCIF3E4"
      },
      "source": [
        "# Relu Constant"
      ]
    },
    {
      "cell_type": "code",
      "metadata": {
        "id": "poLQ1_OKx4Ei"
      },
      "source": [
        "from tensorflow.keras import models\n",
        "from tensorflow.keras import layers\n",
        "\n",
        "model = models.Sequential()\n",
        "model.add(layers.Dense(9000, activation='relu', input_shape=(x_train.shape[1],)))\n",
        "model.add(layers.Dropout(0.2))\n",
        "model.add(layers.Dense(9000, activation='relu'))\n",
        "model.add(layers.Dense(4760, activation='relu'))"
      ],
      "execution_count": null,
      "outputs": []
    },
    {
      "cell_type": "code",
      "metadata": {
        "id": "4MMhANRYGn3w"
      },
      "source": [
        "optimizer = tf.keras.optimizers.Adam(5e-7)\n",
        "model.compile(loss='mae', optimizer=optimizer, metrics=[\"mse\"])"
      ],
      "execution_count": null,
      "outputs": []
    },
    {
      "cell_type": "code",
      "metadata": {
        "id": "Arb8YALHGrUy",
        "outputId": "1d2ea465-a47d-46d9-d761-f0087348a0ae",
        "colab": {
          "base_uri": "https://localhost:8080/",
          "height": 1000
        }
      },
      "source": [
        "history=model.fit(x_train, y_train, epochs = 100, batch_size = 200,validation_data=(x_test,y_test))"
      ],
      "execution_count": null,
      "outputs": [
        {
          "output_type": "stream",
          "text": [
            "Epoch 1/100\n",
            "445/445 [==============================] - 20s 44ms/step - loss: 0.7543 - mse: 0.9987 - val_loss: 0.7422 - val_mse: 0.9842\n",
            "Epoch 2/100\n",
            "445/445 [==============================] - 19s 43ms/step - loss: 0.7309 - mse: 0.9539 - val_loss: 0.7200 - val_mse: 0.9379\n",
            "Epoch 3/100\n",
            "445/445 [==============================] - 19s 43ms/step - loss: 0.7112 - mse: 0.9112 - val_loss: 0.7019 - val_mse: 0.8975\n",
            "Epoch 4/100\n",
            "445/445 [==============================] - 19s 43ms/step - loss: 0.6961 - mse: 0.8769 - val_loss: 0.6879 - val_mse: 0.8659\n",
            "Epoch 5/100\n",
            "445/445 [==============================] - 19s 43ms/step - loss: 0.6843 - mse: 0.8499 - val_loss: 0.6770 - val_mse: 0.8412\n",
            "Epoch 6/100\n",
            "445/445 [==============================] - 19s 43ms/step - loss: 0.6750 - mse: 0.8286 - val_loss: 0.6683 - val_mse: 0.8216\n",
            "Epoch 7/100\n",
            "445/445 [==============================] - 19s 43ms/step - loss: 0.6675 - mse: 0.8116 - val_loss: 0.6612 - val_mse: 0.8057\n",
            "Epoch 8/100\n",
            "445/445 [==============================] - 19s 43ms/step - loss: 0.6613 - mse: 0.7975 - val_loss: 0.6552 - val_mse: 0.7922\n",
            "Epoch 9/100\n",
            "445/445 [==============================] - 19s 43ms/step - loss: 0.6558 - mse: 0.7853 - val_loss: 0.6500 - val_mse: 0.7807\n",
            "Epoch 10/100\n",
            "445/445 [==============================] - 19s 43ms/step - loss: 0.6512 - mse: 0.7750 - val_loss: 0.6455 - val_mse: 0.7710\n",
            "Epoch 11/100\n",
            "445/445 [==============================] - 19s 43ms/step - loss: 0.6473 - mse: 0.7662 - val_loss: 0.6417 - val_mse: 0.7627\n",
            "Epoch 12/100\n",
            "445/445 [==============================] - 19s 43ms/step - loss: 0.6438 - mse: 0.7586 - val_loss: 0.6383 - val_mse: 0.7555\n",
            "Epoch 13/100\n",
            "445/445 [==============================] - 19s 43ms/step - loss: 0.6407 - mse: 0.7519 - val_loss: 0.6353 - val_mse: 0.7491\n",
            "Epoch 14/100\n",
            "445/445 [==============================] - 19s 43ms/step - loss: 0.6379 - mse: 0.7459 - val_loss: 0.6326 - val_mse: 0.7433\n",
            "Epoch 15/100\n",
            "445/445 [==============================] - 19s 43ms/step - loss: 0.6354 - mse: 0.7405 - val_loss: 0.6301 - val_mse: 0.7381\n",
            "Epoch 16/100\n",
            "445/445 [==============================] - 19s 43ms/step - loss: 0.6331 - mse: 0.7356 - val_loss: 0.6278 - val_mse: 0.7333\n",
            "Epoch 17/100\n",
            "445/445 [==============================] - 19s 43ms/step - loss: 0.6310 - mse: 0.7310 - val_loss: 0.6258 - val_mse: 0.7289\n",
            "Epoch 18/100\n",
            "445/445 [==============================] - 19s 43ms/step - loss: 0.6290 - mse: 0.7268 - val_loss: 0.6239 - val_mse: 0.7249\n",
            "Epoch 19/100\n",
            "445/445 [==============================] - 19s 43ms/step - loss: 0.6272 - mse: 0.7230 - val_loss: 0.6221 - val_mse: 0.7212\n",
            "Epoch 20/100\n",
            "445/445 [==============================] - 19s 43ms/step - loss: 0.6255 - mse: 0.7194 - val_loss: 0.6205 - val_mse: 0.7178\n",
            "Epoch 21/100\n",
            "445/445 [==============================] - 19s 43ms/step - loss: 0.6239 - mse: 0.7161 - val_loss: 0.6189 - val_mse: 0.7147\n",
            "Epoch 22/100\n",
            "445/445 [==============================] - 19s 43ms/step - loss: 0.6225 - mse: 0.7131 - val_loss: 0.6175 - val_mse: 0.7118\n",
            "Epoch 23/100\n",
            "445/445 [==============================] - 19s 43ms/step - loss: 0.6211 - mse: 0.7102 - val_loss: 0.6161 - val_mse: 0.7090\n",
            "Epoch 24/100\n",
            "445/445 [==============================] - 19s 43ms/step - loss: 0.6198 - mse: 0.7075 - val_loss: 0.6148 - val_mse: 0.7064\n",
            "Epoch 25/100\n",
            "445/445 [==============================] - 19s 43ms/step - loss: 0.6185 - mse: 0.7049 - val_loss: 0.6136 - val_mse: 0.7039\n",
            "Epoch 26/100\n",
            "445/445 [==============================] - 19s 43ms/step - loss: 0.6173 - mse: 0.7024 - val_loss: 0.6125 - val_mse: 0.7015\n",
            "Epoch 27/100\n",
            "445/445 [==============================] - 19s 43ms/step - loss: 0.6162 - mse: 0.7001 - val_loss: 0.6113 - val_mse: 0.6992\n",
            "Epoch 28/100\n",
            "445/445 [==============================] - 19s 43ms/step - loss: 0.6151 - mse: 0.6978 - val_loss: 0.6103 - val_mse: 0.6971\n",
            "Epoch 29/100\n",
            "445/445 [==============================] - 19s 43ms/step - loss: 0.6140 - mse: 0.6958 - val_loss: 0.6093 - val_mse: 0.6952\n",
            "Epoch 30/100\n",
            "445/445 [==============================] - 19s 43ms/step - loss: 0.6131 - mse: 0.6939 - val_loss: 0.6083 - val_mse: 0.6935\n",
            "Epoch 31/100\n",
            "445/445 [==============================] - 19s 43ms/step - loss: 0.6122 - mse: 0.6921 - val_loss: 0.6075 - val_mse: 0.6918\n",
            "Epoch 32/100\n",
            "445/445 [==============================] - 19s 43ms/step - loss: 0.6113 - mse: 0.6904 - val_loss: 0.6066 - val_mse: 0.6901\n",
            "Epoch 33/100\n",
            "445/445 [==============================] - 19s 43ms/step - loss: 0.6104 - mse: 0.6888 - val_loss: 0.6058 - val_mse: 0.6885\n",
            "Epoch 34/100\n",
            "445/445 [==============================] - 19s 43ms/step - loss: 0.6096 - mse: 0.6871 - val_loss: 0.6050 - val_mse: 0.6869\n",
            "Epoch 35/100\n",
            "445/445 [==============================] - 19s 43ms/step - loss: 0.6088 - mse: 0.6856 - val_loss: 0.6042 - val_mse: 0.6855\n",
            "Epoch 36/100\n",
            "445/445 [==============================] - 19s 43ms/step - loss: 0.6080 - mse: 0.6841 - val_loss: 0.6035 - val_mse: 0.6841\n",
            "Epoch 37/100\n",
            "445/445 [==============================] - 19s 43ms/step - loss: 0.6073 - mse: 0.6826 - val_loss: 0.6028 - val_mse: 0.6827\n",
            "Epoch 38/100\n",
            "445/445 [==============================] - 19s 43ms/step - loss: 0.6066 - mse: 0.6812 - val_loss: 0.6021 - val_mse: 0.6814\n",
            "Epoch 39/100\n",
            "445/445 [==============================] - 19s 43ms/step - loss: 0.6059 - mse: 0.6799 - val_loss: 0.6014 - val_mse: 0.6800\n",
            "Epoch 40/100\n",
            "445/445 [==============================] - 19s 43ms/step - loss: 0.6052 - mse: 0.6785 - val_loss: 0.6007 - val_mse: 0.6787\n",
            "Epoch 41/100\n",
            "445/445 [==============================] - 19s 43ms/step - loss: 0.6045 - mse: 0.6772 - val_loss: 0.6000 - val_mse: 0.6775\n",
            "Epoch 42/100\n",
            "445/445 [==============================] - 19s 43ms/step - loss: 0.6038 - mse: 0.6759 - val_loss: 0.5994 - val_mse: 0.6763\n",
            "Epoch 43/100\n",
            "445/445 [==============================] - 19s 43ms/step - loss: 0.6032 - mse: 0.6747 - val_loss: 0.5988 - val_mse: 0.6752\n",
            "Epoch 44/100\n",
            "445/445 [==============================] - 19s 43ms/step - loss: 0.6026 - mse: 0.6736 - val_loss: 0.5982 - val_mse: 0.6741\n",
            "Epoch 45/100\n",
            "445/445 [==============================] - 19s 43ms/step - loss: 0.6020 - mse: 0.6725 - val_loss: 0.5976 - val_mse: 0.6731\n",
            "Epoch 46/100\n",
            "445/445 [==============================] - 19s 43ms/step - loss: 0.6014 - mse: 0.6714 - val_loss: 0.5971 - val_mse: 0.6720\n",
            "Epoch 47/100\n",
            "445/445 [==============================] - 19s 43ms/step - loss: 0.6009 - mse: 0.6703 - val_loss: 0.5965 - val_mse: 0.6709\n",
            "Epoch 48/100\n",
            "445/445 [==============================] - 19s 43ms/step - loss: 0.6003 - mse: 0.6692 - val_loss: 0.5960 - val_mse: 0.6699\n",
            "Epoch 49/100\n",
            "445/445 [==============================] - 19s 43ms/step - loss: 0.5998 - mse: 0.6681 - val_loss: 0.5955 - val_mse: 0.6689\n",
            "Epoch 50/100\n",
            "445/445 [==============================] - 19s 43ms/step - loss: 0.5992 - mse: 0.6671 - val_loss: 0.5950 - val_mse: 0.6680\n",
            "Epoch 51/100\n",
            "445/445 [==============================] - 19s 43ms/step - loss: 0.5987 - mse: 0.6661 - val_loss: 0.5945 - val_mse: 0.6670\n",
            "Epoch 52/100\n",
            "445/445 [==============================] - 19s 43ms/step - loss: 0.5982 - mse: 0.6652 - val_loss: 0.5940 - val_mse: 0.6661\n",
            "Epoch 53/100\n",
            "445/445 [==============================] - 19s 43ms/step - loss: 0.5977 - mse: 0.6642 - val_loss: 0.5936 - val_mse: 0.6652\n",
            "Epoch 54/100\n",
            "445/445 [==============================] - 19s 43ms/step - loss: 0.5973 - mse: 0.6633 - val_loss: 0.5931 - val_mse: 0.6644\n",
            "Epoch 55/100\n",
            "445/445 [==============================] - 19s 43ms/step - loss: 0.5968 - mse: 0.6624 - val_loss: 0.5927 - val_mse: 0.6635\n",
            "Epoch 56/100\n",
            "445/445 [==============================] - 19s 43ms/step - loss: 0.5963 - mse: 0.6616 - val_loss: 0.5922 - val_mse: 0.6627\n",
            "Epoch 57/100\n",
            "445/445 [==============================] - 19s 43ms/step - loss: 0.5959 - mse: 0.6607 - val_loss: 0.5918 - val_mse: 0.6619\n",
            "Epoch 58/100\n",
            "445/445 [==============================] - 19s 43ms/step - loss: 0.5954 - mse: 0.6599 - val_loss: 0.5914 - val_mse: 0.6611\n",
            "Epoch 59/100\n",
            "445/445 [==============================] - 19s 43ms/step - loss: 0.5950 - mse: 0.6590 - val_loss: 0.5910 - val_mse: 0.6604\n",
            "Epoch 60/100\n",
            "445/445 [==============================] - 19s 43ms/step - loss: 0.5946 - mse: 0.6583 - val_loss: 0.5906 - val_mse: 0.6596\n",
            "Epoch 61/100\n",
            "445/445 [==============================] - 19s 43ms/step - loss: 0.5941 - mse: 0.6575 - val_loss: 0.5902 - val_mse: 0.6589\n",
            "Epoch 62/100\n",
            "445/445 [==============================] - 19s 43ms/step - loss: 0.5937 - mse: 0.6568 - val_loss: 0.5898 - val_mse: 0.6582\n",
            "Epoch 63/100\n",
            "445/445 [==============================] - 19s 43ms/step - loss: 0.5933 - mse: 0.6560 - val_loss: 0.5894 - val_mse: 0.6575\n",
            "Epoch 64/100\n",
            "445/445 [==============================] - 19s 43ms/step - loss: 0.5929 - mse: 0.6552 - val_loss: 0.5890 - val_mse: 0.6567\n",
            "Epoch 65/100\n",
            "445/445 [==============================] - 19s 43ms/step - loss: 0.5925 - mse: 0.6544 - val_loss: 0.5886 - val_mse: 0.6560\n",
            "Epoch 66/100\n",
            "445/445 [==============================] - 19s 43ms/step - loss: 0.5921 - mse: 0.6536 - val_loss: 0.5882 - val_mse: 0.6553\n",
            "Epoch 67/100\n",
            "445/445 [==============================] - 19s 43ms/step - loss: 0.5917 - mse: 0.6529 - val_loss: 0.5879 - val_mse: 0.6546\n",
            "Epoch 68/100\n",
            "445/445 [==============================] - 19s 43ms/step - loss: 0.5914 - mse: 0.6522 - val_loss: 0.5876 - val_mse: 0.6540\n",
            "Epoch 69/100\n",
            "445/445 [==============================] - 19s 43ms/step - loss: 0.5910 - mse: 0.6516 - val_loss: 0.5872 - val_mse: 0.6534\n",
            "Epoch 70/100\n",
            "445/445 [==============================] - 19s 43ms/step - loss: 0.5907 - mse: 0.6509 - val_loss: 0.5869 - val_mse: 0.6527\n",
            "Epoch 71/100\n",
            "445/445 [==============================] - 19s 43ms/step - loss: 0.5903 - mse: 0.6503 - val_loss: 0.5866 - val_mse: 0.6522\n",
            "Epoch 72/100\n",
            "445/445 [==============================] - 19s 43ms/step - loss: 0.5900 - mse: 0.6497 - val_loss: 0.5863 - val_mse: 0.6516\n",
            "Epoch 73/100\n",
            "445/445 [==============================] - 19s 43ms/step - loss: 0.5897 - mse: 0.6491 - val_loss: 0.5860 - val_mse: 0.6511\n",
            "Epoch 74/100\n",
            "445/445 [==============================] - 19s 43ms/step - loss: 0.5893 - mse: 0.6485 - val_loss: 0.5857 - val_mse: 0.6505\n",
            "Epoch 75/100\n",
            "445/445 [==============================] - 19s 43ms/step - loss: 0.5890 - mse: 0.6479 - val_loss: 0.5853 - val_mse: 0.6500\n",
            "Epoch 76/100\n",
            "445/445 [==============================] - 19s 43ms/step - loss: 0.5887 - mse: 0.6473 - val_loss: 0.5850 - val_mse: 0.6494\n",
            "Epoch 77/100\n",
            "445/445 [==============================] - 19s 43ms/step - loss: 0.5884 - mse: 0.6467 - val_loss: 0.5847 - val_mse: 0.6489\n",
            "Epoch 78/100\n",
            "445/445 [==============================] - 19s 43ms/step - loss: 0.5881 - mse: 0.6462 - val_loss: 0.5844 - val_mse: 0.6483\n",
            "Epoch 79/100\n",
            "445/445 [==============================] - 19s 43ms/step - loss: 0.5878 - mse: 0.6456 - val_loss: 0.5842 - val_mse: 0.6478\n",
            "Epoch 80/100\n",
            "445/445 [==============================] - 19s 43ms/step - loss: 0.5875 - mse: 0.6450 - val_loss: 0.5839 - val_mse: 0.6472\n",
            "Epoch 81/100\n",
            "445/445 [==============================] - 19s 43ms/step - loss: 0.5871 - mse: 0.6444 - val_loss: 0.5836 - val_mse: 0.6467\n",
            "Epoch 82/100\n",
            "445/445 [==============================] - 19s 43ms/step - loss: 0.5868 - mse: 0.6439 - val_loss: 0.5833 - val_mse: 0.6462\n",
            "Epoch 83/100\n",
            "445/445 [==============================] - 19s 43ms/step - loss: 0.5866 - mse: 0.6434 - val_loss: 0.5831 - val_mse: 0.6458\n",
            "Epoch 84/100\n",
            "445/445 [==============================] - 19s 43ms/step - loss: 0.5863 - mse: 0.6429 - val_loss: 0.5828 - val_mse: 0.6453\n",
            "Epoch 85/100\n",
            "445/445 [==============================] - 19s 43ms/step - loss: 0.5860 - mse: 0.6424 - val_loss: 0.5825 - val_mse: 0.6448\n",
            "Epoch 86/100\n",
            "445/445 [==============================] - 19s 43ms/step - loss: 0.5857 - mse: 0.6419 - val_loss: 0.5823 - val_mse: 0.6444\n",
            "Epoch 87/100\n",
            "445/445 [==============================] - 19s 43ms/step - loss: 0.5855 - mse: 0.6414 - val_loss: 0.5820 - val_mse: 0.6439\n",
            "Epoch 88/100\n",
            "445/445 [==============================] - 19s 43ms/step - loss: 0.5852 - mse: 0.6409 - val_loss: 0.5818 - val_mse: 0.6435\n",
            "Epoch 89/100\n",
            "445/445 [==============================] - 19s 43ms/step - loss: 0.5849 - mse: 0.6405 - val_loss: 0.5815 - val_mse: 0.6431\n",
            "Epoch 90/100\n",
            "445/445 [==============================] - 19s 43ms/step - loss: 0.5847 - mse: 0.6400 - val_loss: 0.5813 - val_mse: 0.6427\n",
            "Epoch 91/100\n",
            "445/445 [==============================] - 19s 43ms/step - loss: 0.5844 - mse: 0.6396 - val_loss: 0.5811 - val_mse: 0.6423\n",
            "Epoch 92/100\n",
            "445/445 [==============================] - 19s 43ms/step - loss: 0.5842 - mse: 0.6391 - val_loss: 0.5808 - val_mse: 0.6419\n",
            "Epoch 93/100\n",
            "445/445 [==============================] - 19s 43ms/step - loss: 0.5839 - mse: 0.6387 - val_loss: 0.5806 - val_mse: 0.6415\n",
            "Epoch 94/100\n",
            "445/445 [==============================] - 19s 43ms/step - loss: 0.5837 - mse: 0.6382 - val_loss: 0.5804 - val_mse: 0.6411\n",
            "Epoch 95/100\n",
            "445/445 [==============================] - 19s 43ms/step - loss: 0.5834 - mse: 0.6378 - val_loss: 0.5802 - val_mse: 0.6407\n",
            "Epoch 96/100\n",
            "445/445 [==============================] - 19s 43ms/step - loss: 0.5832 - mse: 0.6374 - val_loss: 0.5799 - val_mse: 0.6403\n",
            "Epoch 97/100\n",
            "445/445 [==============================] - 19s 43ms/step - loss: 0.5829 - mse: 0.6370 - val_loss: 0.5797 - val_mse: 0.6399\n",
            "Epoch 98/100\n",
            "445/445 [==============================] - 19s 43ms/step - loss: 0.5827 - mse: 0.6366 - val_loss: 0.5795 - val_mse: 0.6396\n",
            "Epoch 99/100\n",
            "445/445 [==============================] - 19s 43ms/step - loss: 0.5825 - mse: 0.6362 - val_loss: 0.5793 - val_mse: 0.6391\n",
            "Epoch 100/100\n",
            "445/445 [==============================] - 19s 43ms/step - loss: 0.5823 - mse: 0.6358 - val_loss: 0.5791 - val_mse: 0.6388\n"
          ],
          "name": "stdout"
        }
      ]
    },
    {
      "cell_type": "code",
      "metadata": {
        "id": "r7-Gji5mGwQZ",
        "outputId": "34823d3f-0b25-4e09-a25f-c5ab931e678a",
        "colab": {
          "base_uri": "https://localhost:8080/",
          "height": 281
        }
      },
      "source": [
        "%matplotlib inline\n",
        "import matplotlib.pyplot as plt\n",
        "loss = history.history['loss']\n",
        "val_loss = history.history['val_loss']\n",
        "\n",
        "epochs = range(len(loss))\n",
        "\n",
        "plt.plot(epochs, loss, 'r', label='Training Loss')\n",
        "plt.plot(epochs, val_loss, 'b', label='Validation Loss')\n",
        "plt.title('Training and validation loss')\n",
        "plt.legend()\n",
        "plt.show()\n"
      ],
      "execution_count": null,
      "outputs": [
        {
          "output_type": "display_data",
          "data": {
            "image/png": "[encoded data removed]",
            "text/plain": [
              "<Figure size 432x288 with 1 Axes>"
            ]
          },
          "metadata": {
            "tags": [],
            "needs_background": "light"
          }
        }
      ]
    },
    {
      "cell_type": "code",
      "metadata": {
        "id": "A-aUeT3ULWcI"
      },
      "source": [
        "data1 = pd.DataFrame([history.history['loss'],history.history['val_loss']])\n",
        "data1.to_csv(\"relu_cont.csv\")"
      ],
      "execution_count": null,
      "outputs": []
    },
    {
      "cell_type": "markdown",
      "metadata": {
        "id": "LhuwMeUPWwiy"
      },
      "source": [
        "# Sigmoid Constant"
      ]
    },
    {
      "cell_type": "code",
      "metadata": {
        "id": "KktK8RWUVp7n"
      },
      "source": [
        "from tensorflow.keras import models\n",
        "from tensorflow.keras import layers\n",
        "\n",
        "model = models.Sequential()\n",
        "model.add(layers.Dense(9000, activation='sigmoid', input_shape=(x_train.shape[1],)))\n",
        "model.add(layers.Dropout(0.2))\n",
        "model.add(layers.Dense(9000, activation='sigmoid'))\n",
        "model.add(layers.Dense(4760, activation='relu'))"
      ],
      "execution_count": null,
      "outputs": []
    },
    {
      "cell_type": "code",
      "metadata": {
        "id": "jaEVM677W4qU"
      },
      "source": [
        "optimizer = tf.keras.optimizers.Adam(5e-7)\n",
        "model.compile(loss='mae', optimizer=optimizer, metrics=[\"mse\"])"
      ],
      "execution_count": null,
      "outputs": []
    },
    {
      "cell_type": "code",
      "metadata": {
        "id": "Tarz85q9W62S",
        "outputId": "44e4bed6-a3d6-41cf-b9bf-cab7acd325be",
        "colab": {
          "base_uri": "https://localhost:8080/",
          "height": 1000
        }
      },
      "source": [
        "history=model.fit(x_train, y_train, epochs = 100, batch_size = 200,validation_data=(x_test,y_test))"
      ],
      "execution_count": null,
      "outputs": [
        {
          "output_type": "stream",
          "text": [
            "Epoch 1/100\n",
            "445/445 [==============================] - 20s 44ms/step - loss: 0.7688 - mse: 1.0339 - val_loss: 0.7520 - val_mse: 1.0106\n",
            "Epoch 2/100\n",
            "445/445 [==============================] - 19s 43ms/step - loss: 0.7486 - mse: 0.9963 - val_loss: 0.7507 - val_mse: 1.0079\n",
            "Epoch 3/100\n",
            "445/445 [==============================] - 19s 43ms/step - loss: 0.7472 - mse: 0.9935 - val_loss: 0.7488 - val_mse: 1.0038\n",
            "Epoch 4/100\n",
            "445/445 [==============================] - 19s 43ms/step - loss: 0.7453 - mse: 0.9894 - val_loss: 0.7463 - val_mse: 0.9985\n",
            "Epoch 5/100\n",
            "445/445 [==============================] - 19s 43ms/step - loss: 0.7428 - mse: 0.9840 - val_loss: 0.7434 - val_mse: 0.9924\n",
            "Epoch 6/100\n",
            "445/445 [==============================] - 19s 43ms/step - loss: 0.7400 - mse: 0.9779 - val_loss: 0.7405 - val_mse: 0.9861\n",
            "Epoch 7/100\n",
            "445/445 [==============================] - 19s 43ms/step - loss: 0.7371 - mse: 0.9718 - val_loss: 0.7377 - val_mse: 0.9802\n",
            "Epoch 8/100\n",
            "445/445 [==============================] - 19s 43ms/step - loss: 0.7345 - mse: 0.9661 - val_loss: 0.7352 - val_mse: 0.9748\n",
            "Epoch 9/100\n",
            "445/445 [==============================] - 19s 43ms/step - loss: 0.7321 - mse: 0.9608 - val_loss: 0.7329 - val_mse: 0.9696\n",
            "Epoch 10/100\n",
            "445/445 [==============================] - 19s 43ms/step - loss: 0.7298 - mse: 0.9557 - val_loss: 0.7307 - val_mse: 0.9647\n",
            "Epoch 11/100\n",
            "445/445 [==============================] - 19s 43ms/step - loss: 0.7277 - mse: 0.9510 - val_loss: 0.7287 - val_mse: 0.9601\n",
            "Epoch 12/100\n",
            "445/445 [==============================] - 19s 43ms/step - loss: 0.7258 - mse: 0.9466 - val_loss: 0.7268 - val_mse: 0.9558\n",
            "Epoch 13/100\n",
            "445/445 [==============================] - 19s 43ms/step - loss: 0.7238 - mse: 0.9422 - val_loss: 0.7249 - val_mse: 0.9513\n",
            "Epoch 14/100\n",
            "445/445 [==============================] - 19s 43ms/step - loss: 0.7220 - mse: 0.9381 - val_loss: 0.7232 - val_mse: 0.9474\n",
            "Epoch 15/100\n",
            "445/445 [==============================] - 19s 43ms/step - loss: 0.7204 - mse: 0.9345 - val_loss: 0.7215 - val_mse: 0.9438\n",
            "Epoch 16/100\n",
            "445/445 [==============================] - 19s 43ms/step - loss: 0.7188 - mse: 0.9310 - val_loss: 0.7200 - val_mse: 0.9403\n",
            "Epoch 17/100\n",
            "445/445 [==============================] - 19s 43ms/step - loss: 0.7173 - mse: 0.9275 - val_loss: 0.7185 - val_mse: 0.9369\n",
            "Epoch 18/100\n",
            "445/445 [==============================] - 19s 43ms/step - loss: 0.7159 - mse: 0.9243 - val_loss: 0.7171 - val_mse: 0.9337\n",
            "Epoch 19/100\n",
            "445/445 [==============================] - 19s 43ms/step - loss: 0.7145 - mse: 0.9212 - val_loss: 0.7157 - val_mse: 0.9307\n",
            "Epoch 20/100\n",
            "445/445 [==============================] - 19s 43ms/step - loss: 0.7132 - mse: 0.9182 - val_loss: 0.7144 - val_mse: 0.9276\n",
            "Epoch 21/100\n",
            "445/445 [==============================] - 19s 43ms/step - loss: 0.7119 - mse: 0.9153 - val_loss: 0.7131 - val_mse: 0.9247\n",
            "Epoch 22/100\n",
            "445/445 [==============================] - 19s 43ms/step - loss: 0.7107 - mse: 0.9124 - val_loss: 0.7118 - val_mse: 0.9218\n",
            "Epoch 23/100\n",
            "445/445 [==============================] - 19s 43ms/step - loss: 0.7094 - mse: 0.9096 - val_loss: 0.7106 - val_mse: 0.9190\n",
            "Epoch 24/100\n",
            "445/445 [==============================] - 19s 43ms/step - loss: 0.7083 - mse: 0.9069 - val_loss: 0.7094 - val_mse: 0.9162\n",
            "Epoch 25/100\n",
            "445/445 [==============================] - 19s 43ms/step - loss: 0.7071 - mse: 0.9044 - val_loss: 0.7083 - val_mse: 0.9136\n",
            "Epoch 26/100\n",
            "445/445 [==============================] - 19s 43ms/step - loss: 0.7061 - mse: 0.9018 - val_loss: 0.7072 - val_mse: 0.9110\n",
            "Epoch 27/100\n",
            "445/445 [==============================] - 19s 43ms/step - loss: 0.7050 - mse: 0.8993 - val_loss: 0.7061 - val_mse: 0.9084\n",
            "Epoch 28/100\n",
            "445/445 [==============================] - 19s 43ms/step - loss: 0.7039 - mse: 0.8968 - val_loss: 0.7050 - val_mse: 0.9059\n",
            "Epoch 29/100\n",
            "445/445 [==============================] - 19s 43ms/step - loss: 0.7029 - mse: 0.8944 - val_loss: 0.7040 - val_mse: 0.9035\n",
            "Epoch 30/100\n",
            "445/445 [==============================] - 19s 43ms/step - loss: 0.7018 - mse: 0.8920 - val_loss: 0.7029 - val_mse: 0.9010\n",
            "Epoch 31/100\n",
            "445/445 [==============================] - 19s 43ms/step - loss: 0.7008 - mse: 0.8897 - val_loss: 0.7019 - val_mse: 0.8986\n",
            "Epoch 32/100\n",
            "445/445 [==============================] - 19s 43ms/step - loss: 0.6998 - mse: 0.8873 - val_loss: 0.7008 - val_mse: 0.8963\n",
            "Epoch 33/100\n",
            "445/445 [==============================] - 19s 43ms/step - loss: 0.6988 - mse: 0.8851 - val_loss: 0.6999 - val_mse: 0.8940\n",
            "Epoch 34/100\n",
            "445/445 [==============================] - 19s 43ms/step - loss: 0.6979 - mse: 0.8829 - val_loss: 0.6989 - val_mse: 0.8918\n",
            "Epoch 35/100\n",
            "445/445 [==============================] - 19s 43ms/step - loss: 0.6969 - mse: 0.8808 - val_loss: 0.6980 - val_mse: 0.8897\n",
            "Epoch 36/100\n",
            "445/445 [==============================] - 19s 43ms/step - loss: 0.6961 - mse: 0.8787 - val_loss: 0.6971 - val_mse: 0.8876\n",
            "Epoch 37/100\n",
            "445/445 [==============================] - 19s 43ms/step - loss: 0.6951 - mse: 0.8766 - val_loss: 0.6961 - val_mse: 0.8854\n",
            "Epoch 38/100\n",
            "445/445 [==============================] - 19s 43ms/step - loss: 0.6942 - mse: 0.8746 - val_loss: 0.6953 - val_mse: 0.8834\n",
            "Epoch 39/100\n",
            "445/445 [==============================] - 19s 43ms/step - loss: 0.6934 - mse: 0.8726 - val_loss: 0.6944 - val_mse: 0.8813\n",
            "Epoch 40/100\n",
            "445/445 [==============================] - 19s 43ms/step - loss: 0.6925 - mse: 0.8706 - val_loss: 0.6935 - val_mse: 0.8794\n",
            "Epoch 41/100\n",
            "445/445 [==============================] - 19s 43ms/step - loss: 0.6917 - mse: 0.8688 - val_loss: 0.6927 - val_mse: 0.8775\n",
            "Epoch 42/100\n",
            "445/445 [==============================] - 19s 43ms/step - loss: 0.6909 - mse: 0.8669 - val_loss: 0.6919 - val_mse: 0.8756\n",
            "Epoch 43/100\n",
            "445/445 [==============================] - 19s 43ms/step - loss: 0.6901 - mse: 0.8650 - val_loss: 0.6910 - val_mse: 0.8736\n",
            "Epoch 44/100\n",
            "445/445 [==============================] - 19s 43ms/step - loss: 0.6893 - mse: 0.8631 - val_loss: 0.6902 - val_mse: 0.8717\n",
            "Epoch 45/100\n",
            "445/445 [==============================] - 19s 43ms/step - loss: 0.6885 - mse: 0.8613 - val_loss: 0.6895 - val_mse: 0.8699\n",
            "Epoch 46/100\n",
            "445/445 [==============================] - 19s 43ms/step - loss: 0.6878 - mse: 0.8596 - val_loss: 0.6887 - val_mse: 0.8682\n",
            "Epoch 47/100\n",
            "445/445 [==============================] - 19s 43ms/step - loss: 0.6871 - mse: 0.8580 - val_loss: 0.6880 - val_mse: 0.8666\n",
            "Epoch 48/100\n",
            "445/445 [==============================] - 19s 43ms/step - loss: 0.6864 - mse: 0.8564 - val_loss: 0.6873 - val_mse: 0.8650\n",
            "Epoch 49/100\n",
            "445/445 [==============================] - 19s 43ms/step - loss: 0.6857 - mse: 0.8549 - val_loss: 0.6867 - val_mse: 0.8635\n",
            "Epoch 50/100\n",
            "445/445 [==============================] - 19s 43ms/step - loss: 0.6851 - mse: 0.8535 - val_loss: 0.6860 - val_mse: 0.8620\n",
            "Epoch 51/100\n",
            "445/445 [==============================] - 19s 43ms/step - loss: 0.6844 - mse: 0.8520 - val_loss: 0.6854 - val_mse: 0.8606\n",
            "Epoch 52/100\n",
            "445/445 [==============================] - 19s 43ms/step - loss: 0.6838 - mse: 0.8507 - val_loss: 0.6847 - val_mse: 0.8591\n",
            "Epoch 53/100\n",
            "445/445 [==============================] - 19s 43ms/step - loss: 0.6832 - mse: 0.8492 - val_loss: 0.6841 - val_mse: 0.8577\n",
            "Epoch 54/100\n",
            "445/445 [==============================] - 19s 43ms/step - loss: 0.6826 - mse: 0.8479 - val_loss: 0.6835 - val_mse: 0.8563\n",
            "Epoch 55/100\n",
            "445/445 [==============================] - 19s 43ms/step - loss: 0.6820 - mse: 0.8466 - val_loss: 0.6829 - val_mse: 0.8550\n",
            "Epoch 56/100\n",
            "445/445 [==============================] - 19s 43ms/step - loss: 0.6814 - mse: 0.8452 - val_loss: 0.6823 - val_mse: 0.8535\n",
            "Epoch 57/100\n",
            "445/445 [==============================] - 19s 43ms/step - loss: 0.6808 - mse: 0.8438 - val_loss: 0.6816 - val_mse: 0.8520\n",
            "Epoch 58/100\n",
            "445/445 [==============================] - 19s 43ms/step - loss: 0.6802 - mse: 0.8424 - val_loss: 0.6810 - val_mse: 0.8507\n",
            "Epoch 59/100\n",
            "445/445 [==============================] - 19s 43ms/step - loss: 0.6796 - mse: 0.8411 - val_loss: 0.6804 - val_mse: 0.8494\n",
            "Epoch 60/100\n",
            "445/445 [==============================] - 19s 43ms/step - loss: 0.6790 - mse: 0.8398 - val_loss: 0.6799 - val_mse: 0.8481\n",
            "Epoch 61/100\n",
            "445/445 [==============================] - 19s 43ms/step - loss: 0.6785 - mse: 0.8386 - val_loss: 0.6793 - val_mse: 0.8468\n",
            "Epoch 62/100\n",
            "445/445 [==============================] - 19s 43ms/step - loss: 0.6779 - mse: 0.8374 - val_loss: 0.6788 - val_mse: 0.8456\n",
            "Epoch 63/100\n",
            "445/445 [==============================] - 19s 43ms/step - loss: 0.6774 - mse: 0.8362 - val_loss: 0.6782 - val_mse: 0.8445\n",
            "Epoch 64/100\n",
            "445/445 [==============================] - 19s 43ms/step - loss: 0.6769 - mse: 0.8351 - val_loss: 0.6778 - val_mse: 0.8433\n",
            "Epoch 65/100\n",
            "445/445 [==============================] - 19s 43ms/step - loss: 0.6765 - mse: 0.8341 - val_loss: 0.6773 - val_mse: 0.8423\n",
            "Epoch 66/100\n",
            "445/445 [==============================] - 19s 43ms/step - loss: 0.6760 - mse: 0.8330 - val_loss: 0.6768 - val_mse: 0.8411\n",
            "Epoch 67/100\n",
            "445/445 [==============================] - 19s 43ms/step - loss: 0.6755 - mse: 0.8318 - val_loss: 0.6762 - val_mse: 0.8400\n",
            "Epoch 68/100\n",
            "445/445 [==============================] - 19s 43ms/step - loss: 0.6750 - mse: 0.8308 - val_loss: 0.6758 - val_mse: 0.8389\n",
            "Epoch 69/100\n",
            "445/445 [==============================] - 19s 43ms/step - loss: 0.6745 - mse: 0.8298 - val_loss: 0.6753 - val_mse: 0.8379\n",
            "Epoch 70/100\n",
            "445/445 [==============================] - 19s 43ms/step - loss: 0.6741 - mse: 0.8289 - val_loss: 0.6749 - val_mse: 0.8369\n",
            "Epoch 71/100\n",
            "445/445 [==============================] - 19s 43ms/step - loss: 0.6737 - mse: 0.8279 - val_loss: 0.6744 - val_mse: 0.8359\n",
            "Epoch 72/100\n",
            "445/445 [==============================] - 19s 43ms/step - loss: 0.6733 - mse: 0.8269 - val_loss: 0.6740 - val_mse: 0.8349\n",
            "Epoch 73/100\n",
            "445/445 [==============================] - 19s 43ms/step - loss: 0.6728 - mse: 0.8260 - val_loss: 0.6736 - val_mse: 0.8340\n",
            "Epoch 74/100\n",
            "445/445 [==============================] - 19s 43ms/step - loss: 0.6724 - mse: 0.8250 - val_loss: 0.6732 - val_mse: 0.8330\n",
            "Epoch 75/100\n",
            "445/445 [==============================] - 19s 43ms/step - loss: 0.6720 - mse: 0.8242 - val_loss: 0.6727 - val_mse: 0.8322\n",
            "Epoch 76/100\n",
            "445/445 [==============================] - 19s 43ms/step - loss: 0.6716 - mse: 0.8233 - val_loss: 0.6723 - val_mse: 0.8313\n",
            "Epoch 77/100\n",
            "445/445 [==============================] - 19s 43ms/step - loss: 0.6712 - mse: 0.8224 - val_loss: 0.6720 - val_mse: 0.8304\n",
            "Epoch 78/100\n",
            "445/445 [==============================] - 19s 43ms/step - loss: 0.6708 - mse: 0.8216 - val_loss: 0.6716 - val_mse: 0.8296\n",
            "Epoch 79/100\n",
            "445/445 [==============================] - 19s 43ms/step - loss: 0.6705 - mse: 0.8208 - val_loss: 0.6712 - val_mse: 0.8287\n",
            "Epoch 80/100\n",
            "445/445 [==============================] - 19s 43ms/step - loss: 0.6701 - mse: 0.8199 - val_loss: 0.6708 - val_mse: 0.8278\n",
            "Epoch 81/100\n",
            "445/445 [==============================] - 19s 43ms/step - loss: 0.6697 - mse: 0.8190 - val_loss: 0.6704 - val_mse: 0.8269\n",
            "Epoch 82/100\n",
            "445/445 [==============================] - 19s 43ms/step - loss: 0.6693 - mse: 0.8182 - val_loss: 0.6700 - val_mse: 0.8261\n",
            "Epoch 83/100\n",
            "445/445 [==============================] - 19s 43ms/step - loss: 0.6690 - mse: 0.8174 - val_loss: 0.6696 - val_mse: 0.8252\n",
            "Epoch 84/100\n",
            "445/445 [==============================] - 19s 43ms/step - loss: 0.6686 - mse: 0.8165 - val_loss: 0.6693 - val_mse: 0.8243\n",
            "Epoch 85/100\n",
            "445/445 [==============================] - 19s 44ms/step - loss: 0.6682 - mse: 0.8157 - val_loss: 0.6689 - val_mse: 0.8235\n",
            "Epoch 86/100\n",
            "445/445 [==============================] - 19s 44ms/step - loss: 0.6679 - mse: 0.8149 - val_loss: 0.6685 - val_mse: 0.8228\n",
            "Epoch 87/100\n",
            "445/445 [==============================] - 19s 43ms/step - loss: 0.6675 - mse: 0.8142 - val_loss: 0.6682 - val_mse: 0.8219\n",
            "Epoch 88/100\n",
            "445/445 [==============================] - 19s 44ms/step - loss: 0.6671 - mse: 0.8134 - val_loss: 0.6678 - val_mse: 0.8211\n",
            "Epoch 89/100\n",
            "445/445 [==============================] - 19s 44ms/step - loss: 0.6668 - mse: 0.8126 - val_loss: 0.6674 - val_mse: 0.8204\n",
            "Epoch 90/100\n",
            "445/445 [==============================] - 19s 43ms/step - loss: 0.6665 - mse: 0.8119 - val_loss: 0.6671 - val_mse: 0.8196\n",
            "Epoch 91/100\n",
            "445/445 [==============================] - 19s 43ms/step - loss: 0.6661 - mse: 0.8111 - val_loss: 0.6667 - val_mse: 0.8188\n",
            "Epoch 92/100\n",
            "445/445 [==============================] - 19s 43ms/step - loss: 0.6658 - mse: 0.8103 - val_loss: 0.6664 - val_mse: 0.8181\n",
            "Epoch 93/100\n",
            "445/445 [==============================] - 19s 43ms/step - loss: 0.6654 - mse: 0.8096 - val_loss: 0.6661 - val_mse: 0.8173\n",
            "Epoch 94/100\n",
            "445/445 [==============================] - 19s 43ms/step - loss: 0.6651 - mse: 0.8089 - val_loss: 0.6657 - val_mse: 0.8166\n",
            "Epoch 95/100\n",
            "445/445 [==============================] - 19s 43ms/step - loss: 0.6648 - mse: 0.8082 - val_loss: 0.6654 - val_mse: 0.8158\n",
            "Epoch 96/100\n",
            "445/445 [==============================] - 19s 43ms/step - loss: 0.6644 - mse: 0.8075 - val_loss: 0.6650 - val_mse: 0.8151\n",
            "Epoch 97/100\n",
            "445/445 [==============================] - 19s 43ms/step - loss: 0.6641 - mse: 0.8068 - val_loss: 0.6647 - val_mse: 0.8144\n",
            "Epoch 98/100\n",
            "445/445 [==============================] - 19s 43ms/step - loss: 0.6638 - mse: 0.8061 - val_loss: 0.6644 - val_mse: 0.8137\n",
            "Epoch 99/100\n",
            "445/445 [==============================] - 19s 43ms/step - loss: 0.6635 - mse: 0.8055 - val_loss: 0.6641 - val_mse: 0.8131\n",
            "Epoch 100/100\n",
            "445/445 [==============================] - 19s 43ms/step - loss: 0.6632 - mse: 0.8048 - val_loss: 0.6638 - val_mse: 0.8124\n"
          ],
          "name": "stdout"
        }
      ]
    },
    {
      "cell_type": "code",
      "metadata": {
        "id": "QpFIZPFgW843",
        "outputId": "9b2e2fde-ddfc-4a74-e377-48af63a11760",
        "colab": {
          "base_uri": "https://localhost:8080/",
          "height": 281
        }
      },
      "source": [
        "%matplotlib inline\n",
        "import matplotlib.pyplot as plt\n",
        "loss = history.history['loss']\n",
        "val_loss = history.history['val_loss']\n",
        "\n",
        "epochs = range(len(loss))\n",
        "\n",
        "plt.plot(epochs, loss, 'r', label='Training Loss')\n",
        "plt.plot(epochs, val_loss, 'b', label='Validation Loss')\n",
        "plt.title('Training and validation loss')\n",
        "plt.legend()\n",
        "plt.show()\n"
      ],
      "execution_count": null,
      "outputs": [
        {
          "output_type": "display_data",
          "data": {
            "image/png": "[encoded data removed]",
            "text/plain": [
              "<Figure size 432x288 with 1 Axes>"
            ]
          },
          "metadata": {
            "tags": [],
            "needs_background": "light"
          }
        }
      ]
    },
    {
      "cell_type": "code",
      "metadata": {
        "id": "OVwfH7eKXAMQ"
      },
      "source": [
        "data1 = pd.DataFrame([history.history['loss'],history.history['val_loss']])\n",
        "data1.to_csv(\"sigmoid_cont.csv\")"
      ],
      "execution_count": null,
      "outputs": []
    },
    {
      "cell_type": "markdown",
      "metadata": {
        "id": "l1loywykjKYz"
      },
      "source": [
        "# Tanh Const"
      ]
    },
    {
      "cell_type": "code",
      "metadata": {
        "id": "o9GQ6_EDjRQS"
      },
      "source": [
        "from tensorflow.keras import models\n",
        "from tensorflow.keras import layers\n",
        "\n",
        "model = models.Sequential()\n",
        "model.add(layers.Dense(9000, activation='tanh', input_shape=(x_train.shape[1],)))\n",
        "model.add(layers.Dropout(0.2))\n",
        "model.add(layers.Dense(9000, activation='tanh'))\n",
        "model.add(layers.Dense(4760, activation='relu'))"
      ],
      "execution_count": null,
      "outputs": []
    },
    {
      "cell_type": "code",
      "metadata": {
        "id": "_cLCEhnvjR2o"
      },
      "source": [
        "optimizer = tf.keras.optimizers.Adam(5e-7)\n",
        "model.compile(loss='mae', optimizer=optimizer, metrics=[\"mse\"])"
      ],
      "execution_count": null,
      "outputs": []
    },
    {
      "cell_type": "code",
      "metadata": {
        "id": "B4IOYe8bjWG0",
        "outputId": "995f9a39-80c1-42c8-e118-55d0d9862892",
        "colab": {
          "base_uri": "https://localhost:8080/",
          "height": 1000
        }
      },
      "source": [
        "history=model.fit(x_train, y_train, epochs = 100, batch_size = 200,validation_data=(x_test,y_test))"
      ],
      "execution_count": null,
      "outputs": [
        {
          "output_type": "stream",
          "text": [
            "Epoch 1/100\n",
            "445/445 [==============================] - 19s 44ms/step - loss: 0.7615 - mse: 0.9991 - val_loss: 0.7250 - val_mse: 0.9255\n",
            "Epoch 2/100\n",
            "445/445 [==============================] - 19s 43ms/step - loss: 0.7120 - mse: 0.8880 - val_loss: 0.6889 - val_mse: 0.8454\n",
            "Epoch 3/100\n",
            "445/445 [==============================] - 19s 43ms/step - loss: 0.6855 - mse: 0.8282 - val_loss: 0.6683 - val_mse: 0.7993\n",
            "Epoch 4/100\n",
            "445/445 [==============================] - 19s 43ms/step - loss: 0.6689 - mse: 0.7906 - val_loss: 0.6543 - val_mse: 0.7679\n",
            "Epoch 5/100\n",
            "445/445 [==============================] - 19s 43ms/step - loss: 0.6570 - mse: 0.7638 - val_loss: 0.6439 - val_mse: 0.7448\n",
            "Epoch 6/100\n",
            "445/445 [==============================] - 19s 43ms/step - loss: 0.6478 - mse: 0.7436 - val_loss: 0.6358 - val_mse: 0.7272\n",
            "Epoch 7/100\n",
            "445/445 [==============================] - 19s 43ms/step - loss: 0.6405 - mse: 0.7279 - val_loss: 0.6293 - val_mse: 0.7135\n",
            "Epoch 8/100\n",
            "445/445 [==============================] - 19s 43ms/step - loss: 0.6346 - mse: 0.7153 - val_loss: 0.6239 - val_mse: 0.7024\n",
            "Epoch 9/100\n",
            "445/445 [==============================] - 19s 43ms/step - loss: 0.6297 - mse: 0.7051 - val_loss: 0.6194 - val_mse: 0.6932\n",
            "Epoch 10/100\n",
            "445/445 [==============================] - 19s 43ms/step - loss: 0.6255 - mse: 0.6964 - val_loss: 0.6156 - val_mse: 0.6855\n",
            "Epoch 11/100\n",
            "445/445 [==============================] - 19s 43ms/step - loss: 0.6219 - mse: 0.6891 - val_loss: 0.6123 - val_mse: 0.6789\n",
            "Epoch 12/100\n",
            "445/445 [==============================] - 19s 43ms/step - loss: 0.6187 - mse: 0.6827 - val_loss: 0.6093 - val_mse: 0.6731\n",
            "Epoch 13/100\n",
            "445/445 [==============================] - 19s 43ms/step - loss: 0.6158 - mse: 0.6771 - val_loss: 0.6067 - val_mse: 0.6680\n",
            "Epoch 14/100\n",
            "445/445 [==============================] - 19s 43ms/step - loss: 0.6132 - mse: 0.6720 - val_loss: 0.6043 - val_mse: 0.6634\n",
            "Epoch 15/100\n",
            "445/445 [==============================] - 19s 43ms/step - loss: 0.6109 - mse: 0.6675 - val_loss: 0.6021 - val_mse: 0.6593\n",
            "Epoch 16/100\n",
            "445/445 [==============================] - 19s 43ms/step - loss: 0.6087 - mse: 0.6634 - val_loss: 0.6001 - val_mse: 0.6556\n",
            "Epoch 17/100\n",
            "445/445 [==============================] - 19s 43ms/step - loss: 0.6068 - mse: 0.6596 - val_loss: 0.5983 - val_mse: 0.6522\n",
            "Epoch 18/100\n",
            "445/445 [==============================] - 19s 43ms/step - loss: 0.6049 - mse: 0.6562 - val_loss: 0.5966 - val_mse: 0.6490\n",
            "Epoch 19/100\n",
            "445/445 [==============================] - 19s 43ms/step - loss: 0.6032 - mse: 0.6530 - val_loss: 0.5950 - val_mse: 0.6462\n",
            "Epoch 20/100\n",
            "445/445 [==============================] - 19s 43ms/step - loss: 0.6016 - mse: 0.6501 - val_loss: 0.5935 - val_mse: 0.6435\n",
            "Epoch 21/100\n",
            "445/445 [==============================] - 19s 43ms/step - loss: 0.6001 - mse: 0.6473 - val_loss: 0.5922 - val_mse: 0.6410\n",
            "Epoch 22/100\n",
            "445/445 [==============================] - 19s 43ms/step - loss: 0.5987 - mse: 0.6447 - val_loss: 0.5909 - val_mse: 0.6387\n",
            "Epoch 23/100\n",
            "445/445 [==============================] - 19s 43ms/step - loss: 0.5974 - mse: 0.6424 - val_loss: 0.5897 - val_mse: 0.6366\n",
            "Epoch 24/100\n",
            "445/445 [==============================] - 19s 43ms/step - loss: 0.5962 - mse: 0.6401 - val_loss: 0.5885 - val_mse: 0.6345\n",
            "Epoch 25/100\n",
            "445/445 [==============================] - 19s 43ms/step - loss: 0.5950 - mse: 0.6380 - val_loss: 0.5875 - val_mse: 0.6327\n",
            "Epoch 26/100\n",
            "445/445 [==============================] - 19s 43ms/step - loss: 0.5939 - mse: 0.6360 - val_loss: 0.5864 - val_mse: 0.6309\n",
            "Epoch 27/100\n",
            "445/445 [==============================] - 19s 43ms/step - loss: 0.5928 - mse: 0.6341 - val_loss: 0.5855 - val_mse: 0.6292\n",
            "Epoch 28/100\n",
            "445/445 [==============================] - 19s 43ms/step - loss: 0.5918 - mse: 0.6323 - val_loss: 0.5845 - val_mse: 0.6276\n",
            "Epoch 29/100\n",
            "445/445 [==============================] - 19s 43ms/step - loss: 0.5908 - mse: 0.6306 - val_loss: 0.5837 - val_mse: 0.6261\n",
            "Epoch 30/100\n",
            "445/445 [==============================] - 19s 43ms/step - loss: 0.5899 - mse: 0.6290 - val_loss: 0.5828 - val_mse: 0.6246\n",
            "Epoch 31/100\n",
            "445/445 [==============================] - 19s 43ms/step - loss: 0.5890 - mse: 0.6275 - val_loss: 0.5820 - val_mse: 0.6233\n",
            "Epoch 32/100\n",
            "445/445 [==============================] - 19s 43ms/step - loss: 0.5882 - mse: 0.6260 - val_loss: 0.5813 - val_mse: 0.6219\n",
            "Epoch 33/100\n",
            "445/445 [==============================] - 19s 43ms/step - loss: 0.5873 - mse: 0.6246 - val_loss: 0.5805 - val_mse: 0.6207\n",
            "Epoch 34/100\n",
            "445/445 [==============================] - 19s 43ms/step - loss: 0.5866 - mse: 0.6233 - val_loss: 0.5798 - val_mse: 0.6195\n",
            "Epoch 35/100\n",
            "445/445 [==============================] - 19s 43ms/step - loss: 0.5858 - mse: 0.6220 - val_loss: 0.5791 - val_mse: 0.6184\n",
            "Epoch 36/100\n",
            "445/445 [==============================] - 19s 43ms/step - loss: 0.5851 - mse: 0.6208 - val_loss: 0.5785 - val_mse: 0.6173\n",
            "Epoch 37/100\n",
            "445/445 [==============================] - 19s 43ms/step - loss: 0.5844 - mse: 0.6196 - val_loss: 0.5779 - val_mse: 0.6162\n",
            "Epoch 38/100\n",
            "445/445 [==============================] - 19s 43ms/step - loss: 0.5837 - mse: 0.6184 - val_loss: 0.5773 - val_mse: 0.6152\n",
            "Epoch 39/100\n",
            "445/445 [==============================] - 19s 43ms/step - loss: 0.5831 - mse: 0.6173 - val_loss: 0.5767 - val_mse: 0.6142\n",
            "Epoch 40/100\n",
            "445/445 [==============================] - 19s 43ms/step - loss: 0.5825 - mse: 0.6163 - val_loss: 0.5761 - val_mse: 0.6133\n",
            "Epoch 41/100\n",
            "445/445 [==============================] - 19s 43ms/step - loss: 0.5818 - mse: 0.6152 - val_loss: 0.5756 - val_mse: 0.6124\n",
            "Epoch 42/100\n",
            "445/445 [==============================] - 19s 43ms/step - loss: 0.5812 - mse: 0.6142 - val_loss: 0.5750 - val_mse: 0.6115\n",
            "Epoch 43/100\n",
            "445/445 [==============================] - 19s 44ms/step - loss: 0.5807 - mse: 0.6133 - val_loss: 0.5745 - val_mse: 0.6107\n",
            "Epoch 44/100\n",
            "445/445 [==============================] - 19s 44ms/step - loss: 0.5801 - mse: 0.6124 - val_loss: 0.5741 - val_mse: 0.6099\n",
            "Epoch 45/100\n",
            "445/445 [==============================] - 19s 44ms/step - loss: 0.5796 - mse: 0.6115 - val_loss: 0.5736 - val_mse: 0.6091\n",
            "Epoch 46/100\n",
            "445/445 [==============================] - 19s 44ms/step - loss: 0.5791 - mse: 0.6106 - val_loss: 0.5731 - val_mse: 0.6083\n",
            "Epoch 47/100\n",
            "445/445 [==============================] - 19s 44ms/step - loss: 0.5786 - mse: 0.6097 - val_loss: 0.5727 - val_mse: 0.6076\n",
            "Epoch 48/100\n",
            "445/445 [==============================] - 19s 44ms/step - loss: 0.5781 - mse: 0.6089 - val_loss: 0.5722 - val_mse: 0.6069\n",
            "Epoch 49/100\n",
            "445/445 [==============================] - 19s 44ms/step - loss: 0.5776 - mse: 0.6081 - val_loss: 0.5718 - val_mse: 0.6062\n",
            "Epoch 50/100\n",
            "445/445 [==============================] - 19s 43ms/step - loss: 0.5771 - mse: 0.6074 - val_loss: 0.5714 - val_mse: 0.6055\n",
            "Epoch 51/100\n",
            "445/445 [==============================] - 19s 44ms/step - loss: 0.5767 - mse: 0.6066 - val_loss: 0.5710 - val_mse: 0.6049\n",
            "Epoch 52/100\n",
            "445/445 [==============================] - 19s 44ms/step - loss: 0.5762 - mse: 0.6059 - val_loss: 0.5706 - val_mse: 0.6042\n",
            "Epoch 53/100\n",
            "445/445 [==============================] - 19s 44ms/step - loss: 0.5758 - mse: 0.6052 - val_loss: 0.5702 - val_mse: 0.6036\n",
            "Epoch 54/100\n",
            "445/445 [==============================] - 19s 44ms/step - loss: 0.5754 - mse: 0.6045 - val_loss: 0.5699 - val_mse: 0.6030\n",
            "Epoch 55/100\n",
            "445/445 [==============================] - 19s 44ms/step - loss: 0.5750 - mse: 0.6038 - val_loss: 0.5695 - val_mse: 0.6024\n",
            "Epoch 56/100\n",
            "445/445 [==============================] - 19s 44ms/step - loss: 0.5746 - mse: 0.6032 - val_loss: 0.5692 - val_mse: 0.6019\n",
            "Epoch 57/100\n",
            "445/445 [==============================] - 19s 44ms/step - loss: 0.5742 - mse: 0.6025 - val_loss: 0.5688 - val_mse: 0.6013\n",
            "Epoch 58/100\n",
            "445/445 [==============================] - 19s 44ms/step - loss: 0.5738 - mse: 0.6019 - val_loss: 0.5685 - val_mse: 0.6008\n",
            "Epoch 59/100\n",
            "445/445 [==============================] - 19s 44ms/step - loss: 0.5734 - mse: 0.6013 - val_loss: 0.5682 - val_mse: 0.6003\n",
            "Epoch 60/100\n",
            "445/445 [==============================] - 19s 44ms/step - loss: 0.5731 - mse: 0.6007 - val_loss: 0.5679 - val_mse: 0.5997\n",
            "Epoch 61/100\n",
            "445/445 [==============================] - 19s 44ms/step - loss: 0.5727 - mse: 0.6002 - val_loss: 0.5676 - val_mse: 0.5992\n",
            "Epoch 62/100\n",
            "445/445 [==============================] - 19s 43ms/step - loss: 0.5724 - mse: 0.5996 - val_loss: 0.5673 - val_mse: 0.5988\n",
            "Epoch 63/100\n",
            "445/445 [==============================] - 19s 43ms/step - loss: 0.5720 - mse: 0.5990 - val_loss: 0.5670 - val_mse: 0.5983\n",
            "Epoch 64/100\n",
            "445/445 [==============================] - 19s 43ms/step - loss: 0.5717 - mse: 0.5985 - val_loss: 0.5667 - val_mse: 0.5978\n",
            "Epoch 65/100\n",
            "445/445 [==============================] - 19s 44ms/step - loss: 0.5714 - mse: 0.5980 - val_loss: 0.5664 - val_mse: 0.5974\n",
            "Epoch 66/100\n",
            "445/445 [==============================] - 19s 44ms/step - loss: 0.5711 - mse: 0.5975 - val_loss: 0.5661 - val_mse: 0.5969\n",
            "Epoch 67/100\n",
            "445/445 [==============================] - 19s 43ms/step - loss: 0.5708 - mse: 0.5970 - val_loss: 0.5659 - val_mse: 0.5965\n",
            "Epoch 68/100\n",
            "445/445 [==============================] - 19s 44ms/step - loss: 0.5705 - mse: 0.5965 - val_loss: 0.5656 - val_mse: 0.5961\n",
            "Epoch 69/100\n",
            "445/445 [==============================] - 19s 44ms/step - loss: 0.5702 - mse: 0.5960 - val_loss: 0.5653 - val_mse: 0.5957\n",
            "Epoch 70/100\n",
            "445/445 [==============================] - 19s 44ms/step - loss: 0.5699 - mse: 0.5955 - val_loss: 0.5651 - val_mse: 0.5953\n",
            "Epoch 71/100\n",
            "445/445 [==============================] - 19s 44ms/step - loss: 0.5696 - mse: 0.5951 - val_loss: 0.5648 - val_mse: 0.5949\n",
            "Epoch 72/100\n",
            "445/445 [==============================] - 19s 43ms/step - loss: 0.5693 - mse: 0.5946 - val_loss: 0.5646 - val_mse: 0.5945\n",
            "Epoch 73/100\n",
            "445/445 [==============================] - 19s 43ms/step - loss: 0.5690 - mse: 0.5942 - val_loss: 0.5644 - val_mse: 0.5941\n",
            "Epoch 74/100\n",
            "445/445 [==============================] - 19s 44ms/step - loss: 0.5688 - mse: 0.5937 - val_loss: 0.5641 - val_mse: 0.5938\n",
            "Epoch 75/100\n",
            "445/445 [==============================] - 19s 44ms/step - loss: 0.5685 - mse: 0.5933 - val_loss: 0.5639 - val_mse: 0.5934\n",
            "Epoch 76/100\n",
            "445/445 [==============================] - 19s 43ms/step - loss: 0.5682 - mse: 0.5929 - val_loss: 0.5637 - val_mse: 0.5931\n",
            "Epoch 77/100\n",
            "445/445 [==============================] - 19s 44ms/step - loss: 0.5680 - mse: 0.5925 - val_loss: 0.5635 - val_mse: 0.5927\n",
            "Epoch 78/100\n",
            "445/445 [==============================] - 19s 44ms/step - loss: 0.5677 - mse: 0.5921 - val_loss: 0.5633 - val_mse: 0.5924\n",
            "Epoch 79/100\n",
            "445/445 [==============================] - 19s 44ms/step - loss: 0.5675 - mse: 0.5917 - val_loss: 0.5631 - val_mse: 0.5920\n",
            "Epoch 80/100\n",
            "445/445 [==============================] - 19s 44ms/step - loss: 0.5673 - mse: 0.5913 - val_loss: 0.5629 - val_mse: 0.5917\n",
            "Epoch 81/100\n",
            "445/445 [==============================] - 19s 44ms/step - loss: 0.5670 - mse: 0.5909 - val_loss: 0.5627 - val_mse: 0.5914\n",
            "Epoch 82/100\n",
            "445/445 [==============================] - 19s 43ms/step - loss: 0.5668 - mse: 0.5905 - val_loss: 0.5625 - val_mse: 0.5911\n",
            "Epoch 83/100\n",
            "445/445 [==============================] - 19s 43ms/step - loss: 0.5666 - mse: 0.5902 - val_loss: 0.5623 - val_mse: 0.5908\n",
            "Epoch 84/100\n",
            "445/445 [==============================] - 19s 44ms/step - loss: 0.5663 - mse: 0.5898 - val_loss: 0.5621 - val_mse: 0.5905\n",
            "Epoch 85/100\n",
            "445/445 [==============================] - 19s 44ms/step - loss: 0.5661 - mse: 0.5895 - val_loss: 0.5619 - val_mse: 0.5902\n",
            "Epoch 86/100\n",
            "445/445 [==============================] - 19s 44ms/step - loss: 0.5659 - mse: 0.5891 - val_loss: 0.5617 - val_mse: 0.5899\n",
            "Epoch 87/100\n",
            "445/445 [==============================] - 19s 44ms/step - loss: 0.5657 - mse: 0.5888 - val_loss: 0.5616 - val_mse: 0.5896\n",
            "Epoch 88/100\n",
            "445/445 [==============================] - 19s 43ms/step - loss: 0.5655 - mse: 0.5884 - val_loss: 0.5614 - val_mse: 0.5893\n",
            "Epoch 89/100\n",
            "445/445 [==============================] - 19s 43ms/step - loss: 0.5653 - mse: 0.5881 - val_loss: 0.5612 - val_mse: 0.5890\n",
            "Epoch 90/100\n",
            "445/445 [==============================] - 19s 43ms/step - loss: 0.5651 - mse: 0.5878 - val_loss: 0.5611 - val_mse: 0.5888\n",
            "Epoch 91/100\n",
            "445/445 [==============================] - 19s 43ms/step - loss: 0.5649 - mse: 0.5875 - val_loss: 0.5609 - val_mse: 0.5885\n",
            "Epoch 92/100\n",
            "445/445 [==============================] - 19s 43ms/step - loss: 0.5647 - mse: 0.5872 - val_loss: 0.5607 - val_mse: 0.5883\n",
            "Epoch 93/100\n",
            "445/445 [==============================] - 19s 43ms/step - loss: 0.5645 - mse: 0.5869 - val_loss: 0.5606 - val_mse: 0.5880\n",
            "Epoch 94/100\n",
            "445/445 [==============================] - 19s 44ms/step - loss: 0.5643 - mse: 0.5866 - val_loss: 0.5604 - val_mse: 0.5878\n",
            "Epoch 95/100\n",
            "445/445 [==============================] - 19s 43ms/step - loss: 0.5641 - mse: 0.5863 - val_loss: 0.5603 - val_mse: 0.5875\n",
            "Epoch 96/100\n",
            "445/445 [==============================] - 19s 44ms/step - loss: 0.5640 - mse: 0.5860 - val_loss: 0.5601 - val_mse: 0.5873\n",
            "Epoch 97/100\n",
            "445/445 [==============================] - 19s 43ms/step - loss: 0.5638 - mse: 0.5857 - val_loss: 0.5600 - val_mse: 0.5870\n",
            "Epoch 98/100\n",
            "445/445 [==============================] - 19s 43ms/step - loss: 0.5636 - mse: 0.5854 - val_loss: 0.5598 - val_mse: 0.5868\n",
            "Epoch 99/100\n",
            "445/445 [==============================] - 19s 44ms/step - loss: 0.5634 - mse: 0.5851 - val_loss: 0.5597 - val_mse: 0.5866\n",
            "Epoch 100/100\n",
            "445/445 [==============================] - 19s 43ms/step - loss: 0.5633 - mse: 0.5849 - val_loss: 0.5595 - val_mse: 0.5863\n"
          ],
          "name": "stdout"
        }
      ]
    },
    {
      "cell_type": "code",
      "metadata": {
        "id": "qX-Qwvt6jYii",
        "outputId": "aaee975e-ae2b-4067-f4c7-8f5ca17fa428",
        "colab": {
          "base_uri": "https://localhost:8080/",
          "height": 281
        }
      },
      "source": [
        "%matplotlib inline\n",
        "import matplotlib.pyplot as plt\n",
        "loss = history.history['loss']\n",
        "val_loss = history.history['val_loss']\n",
        "\n",
        "epochs = range(len(loss))\n",
        "\n",
        "plt.plot(epochs, loss, 'r', label='Training Loss')\n",
        "plt.plot(epochs, val_loss, 'b', label='Validation Loss')\n",
        "plt.title('Training and validation loss')\n",
        "plt.legend()\n",
        "plt.show()\n"
      ],
      "execution_count": null,
      "outputs": [
        {
          "output_type": "display_data",
          "data": {
            "image/png": "[encoded data removed]",
            "text/plain": [
              "<Figure size 432x288 with 1 Axes>"
            ]
          },
          "metadata": {
            "tags": [],
            "needs_background": "light"
          }
        }
      ]
    },
    {
      "cell_type": "code",
      "metadata": {
        "id": "AK1V9OEnpXFT"
      },
      "source": [
        "data1 = pd.DataFrame([history.history['loss'],history.history['val_loss']])\n",
        "data1.to_csv(\"tanh_cont.csv\")"
      ],
      "execution_count": null,
      "outputs": []
    },
    {
      "cell_type": "markdown",
      "metadata": {
        "id": "G87hA7jorO8T"
      },
      "source": [
        "# A-relu Const"
      ]
    },
    {
      "cell_type": "code",
      "metadata": {
        "id": "QVwzkag2q0wY"
      },
      "source": [
        "import tensorflow as tf\n",
        "from keras.layers import Activation\n",
        "import tensorflow.keras.backend as K\n",
        "from tensorflow.keras import layers"
      ],
      "execution_count": null,
      "outputs": []
    },
    {
      "cell_type": "code",
      "metadata": {
        "id": "Limun03ErWsp"
      },
      "source": [
        "@tf.function\n",
        "def ARELU(act):\n",
        "  k = 0.54\n",
        "  n = 1.30\n",
        "  #print(act)\n",
        "  x = act-act\n",
        "  y = tf.where(act<=0,x,act)\n",
        "  y = k * K.pow(y,n)\n",
        "  t = tf.where(act<0,x,y)\n",
        "  return t"
      ],
      "execution_count": null,
      "outputs": []
    },
    {
      "cell_type": "code",
      "metadata": {
        "id": "CnJRmwd3rZwl"
      },
      "source": [
        "from tensorflow.keras import models\n",
        "from tensorflow.keras import layers\n",
        "\n",
        "model = models.Sequential()\n",
        "model.add(layers.Dense(9000,activation= ARELU,input_shape=(x_train.shape[1],)))\n",
        "model.add(layers.Dropout(0.2))\n",
        "model.add(layers.Dense(9000,activation = ARELU))\n",
        "model.add(layers.Dense(4760,activation = ARELU))"
      ],
      "execution_count": null,
      "outputs": []
    },
    {
      "cell_type": "code",
      "metadata": {
        "id": "Esb7Sb6yrcgh"
      },
      "source": [
        "optimizer = tf.keras.optimizers.Adam(5e-7)\n",
        "model.compile(loss='mae', optimizer=optimizer, metrics=[\"mse\"])"
      ],
      "execution_count": null,
      "outputs": []
    },
    {
      "cell_type": "code",
      "metadata": {
        "id": "tkdCP-nPrnXB",
        "outputId": "96e39164-100a-4ffc-c251-2a990b0677f4",
        "colab": {
          "base_uri": "https://localhost:8080/",
          "height": 1000
        }
      },
      "source": [
        "history=model.fit(x_train, y_train, epochs = 100, batch_size = 200,validation_data=(x_test,y_test))"
      ],
      "execution_count": null,
      "outputs": [
        {
          "output_type": "stream",
          "text": [
            "Epoch 1/100\n",
            "445/445 [==============================] - 21s 46ms/step - loss: 0.7501 - mse: 0.9963 - val_loss: 0.7529 - val_mse: 1.0092\n",
            "Epoch 2/100\n",
            "445/445 [==============================] - 20s 45ms/step - loss: 0.7488 - mse: 0.9932 - val_loss: 0.7503 - val_mse: 1.0026\n",
            "Epoch 3/100\n",
            "445/445 [==============================] - 20s 45ms/step - loss: 0.7417 - mse: 0.9757 - val_loss: 0.7357 - val_mse: 0.9672\n",
            "Epoch 4/100\n",
            "445/445 [==============================] - 20s 45ms/step - loss: 0.7233 - mse: 0.9325 - val_loss: 0.7174 - val_mse: 0.9240\n",
            "Epoch 5/100\n",
            "445/445 [==============================] - 20s 45ms/step - loss: 0.7090 - mse: 0.8988 - val_loss: 0.7053 - val_mse: 0.8953\n",
            "Epoch 6/100\n",
            "445/445 [==============================] - 20s 45ms/step - loss: 0.6983 - mse: 0.8738 - val_loss: 0.6952 - val_mse: 0.8718\n",
            "Epoch 7/100\n",
            "445/445 [==============================] - 20s 45ms/step - loss: 0.6892 - mse: 0.8527 - val_loss: 0.6865 - val_mse: 0.8520\n",
            "Epoch 8/100\n",
            "445/445 [==============================] - 20s 45ms/step - loss: 0.6814 - mse: 0.8350 - val_loss: 0.6792 - val_mse: 0.8352\n",
            "Epoch 9/100\n",
            "445/445 [==============================] - 20s 45ms/step - loss: 0.6748 - mse: 0.8199 - val_loss: 0.6729 - val_mse: 0.8208\n",
            "Epoch 10/100\n",
            "445/445 [==============================] - 20s 45ms/step - loss: 0.6690 - mse: 0.8070 - val_loss: 0.6673 - val_mse: 0.8085\n",
            "Epoch 11/100\n",
            "445/445 [==============================] - 20s 45ms/step - loss: 0.6641 - mse: 0.7959 - val_loss: 0.6625 - val_mse: 0.7979\n",
            "Epoch 12/100\n",
            "445/445 [==============================] - 20s 45ms/step - loss: 0.6597 - mse: 0.7863 - val_loss: 0.6582 - val_mse: 0.7885\n",
            "Epoch 13/100\n",
            "445/445 [==============================] - 20s 45ms/step - loss: 0.6557 - mse: 0.7776 - val_loss: 0.6543 - val_mse: 0.7800\n",
            "Epoch 14/100\n",
            "445/445 [==============================] - 20s 45ms/step - loss: 0.6521 - mse: 0.7698 - val_loss: 0.6508 - val_mse: 0.7724\n",
            "Epoch 15/100\n",
            "445/445 [==============================] - 20s 45ms/step - loss: 0.6489 - mse: 0.7629 - val_loss: 0.6477 - val_mse: 0.7658\n",
            "Epoch 16/100\n",
            "445/445 [==============================] - 20s 45ms/step - loss: 0.6461 - mse: 0.7568 - val_loss: 0.6449 - val_mse: 0.7597\n",
            "Epoch 17/100\n",
            "445/445 [==============================] - 20s 45ms/step - loss: 0.6435 - mse: 0.7512 - val_loss: 0.6423 - val_mse: 0.7543\n",
            "Epoch 18/100\n",
            "445/445 [==============================] - 20s 45ms/step - loss: 0.6411 - mse: 0.7462 - val_loss: 0.6400 - val_mse: 0.7493\n",
            "Epoch 19/100\n",
            "445/445 [==============================] - 20s 45ms/step - loss: 0.6390 - mse: 0.7415 - val_loss: 0.6378 - val_mse: 0.7446\n",
            "Epoch 20/100\n",
            "445/445 [==============================] - 20s 45ms/step - loss: 0.6369 - mse: 0.7371 - val_loss: 0.6357 - val_mse: 0.7402\n",
            "Epoch 21/100\n",
            "445/445 [==============================] - 20s 45ms/step - loss: 0.6350 - mse: 0.7330 - val_loss: 0.6338 - val_mse: 0.7362\n",
            "Epoch 22/100\n",
            "445/445 [==============================] - 20s 45ms/step - loss: 0.6332 - mse: 0.7293 - val_loss: 0.6321 - val_mse: 0.7325\n",
            "Epoch 23/100\n",
            "445/445 [==============================] - 20s 45ms/step - loss: 0.6316 - mse: 0.7258 - val_loss: 0.6304 - val_mse: 0.7291\n",
            "Epoch 24/100\n",
            "445/445 [==============================] - 20s 45ms/step - loss: 0.6301 - mse: 0.7226 - val_loss: 0.6289 - val_mse: 0.7261\n",
            "Epoch 25/100\n",
            "445/445 [==============================] - 20s 45ms/step - loss: 0.6287 - mse: 0.7197 - val_loss: 0.6275 - val_mse: 0.7232\n",
            "Epoch 26/100\n",
            "445/445 [==============================] - 20s 45ms/step - loss: 0.6273 - mse: 0.7170 - val_loss: 0.6261 - val_mse: 0.7205\n",
            "Epoch 27/100\n",
            "445/445 [==============================] - 20s 45ms/step - loss: 0.6260 - mse: 0.7144 - val_loss: 0.6249 - val_mse: 0.7179\n",
            "Epoch 28/100\n",
            "445/445 [==============================] - 20s 45ms/step - loss: 0.6249 - mse: 0.7120 - val_loss: 0.6237 - val_mse: 0.7155\n",
            "Epoch 29/100\n",
            "445/445 [==============================] - 20s 45ms/step - loss: 0.6237 - mse: 0.7097 - val_loss: 0.6225 - val_mse: 0.7133\n",
            "Epoch 30/100\n",
            "445/445 [==============================] - 20s 45ms/step - loss: 0.6226 - mse: 0.7075 - val_loss: 0.6215 - val_mse: 0.7112\n",
            "Epoch 31/100\n",
            "445/445 [==============================] - 20s 45ms/step - loss: 0.6216 - mse: 0.7055 - val_loss: 0.6204 - val_mse: 0.7091\n",
            "Epoch 32/100\n",
            "445/445 [==============================] - 20s 45ms/step - loss: 0.6206 - mse: 0.7034 - val_loss: 0.6194 - val_mse: 0.7071\n",
            "Epoch 33/100\n",
            "445/445 [==============================] - 20s 45ms/step - loss: 0.6196 - mse: 0.7014 - val_loss: 0.6184 - val_mse: 0.7051\n",
            "Epoch 34/100\n",
            "445/445 [==============================] - 20s 45ms/step - loss: 0.6187 - mse: 0.6995 - val_loss: 0.6175 - val_mse: 0.7032\n",
            "Epoch 35/100\n",
            "445/445 [==============================] - 20s 45ms/step - loss: 0.6178 - mse: 0.6978 - val_loss: 0.6166 - val_mse: 0.7015\n",
            "Epoch 36/100\n",
            "445/445 [==============================] - 20s 45ms/step - loss: 0.6170 - mse: 0.6961 - val_loss: 0.6157 - val_mse: 0.6998\n",
            "Epoch 37/100\n",
            "445/445 [==============================] - 20s 45ms/step - loss: 0.6161 - mse: 0.6945 - val_loss: 0.6149 - val_mse: 0.6983\n",
            "Epoch 38/100\n",
            "445/445 [==============================] - 20s 45ms/step - loss: 0.6154 - mse: 0.6929 - val_loss: 0.6141 - val_mse: 0.6967\n",
            "Epoch 39/100\n",
            "445/445 [==============================] - 20s 45ms/step - loss: 0.6146 - mse: 0.6914 - val_loss: 0.6133 - val_mse: 0.6952\n",
            "Epoch 40/100\n",
            "445/445 [==============================] - 20s 45ms/step - loss: 0.6138 - mse: 0.6899 - val_loss: 0.6126 - val_mse: 0.6937\n",
            "Epoch 41/100\n",
            "445/445 [==============================] - 20s 45ms/step - loss: 0.6131 - mse: 0.6885 - val_loss: 0.6118 - val_mse: 0.6923\n",
            "Epoch 42/100\n",
            "445/445 [==============================] - 20s 45ms/step - loss: 0.6124 - mse: 0.6871 - val_loss: 0.6111 - val_mse: 0.6909\n",
            "Epoch 43/100\n",
            "445/445 [==============================] - 20s 45ms/step - loss: 0.6117 - mse: 0.6857 - val_loss: 0.6105 - val_mse: 0.6896\n",
            "Epoch 44/100\n",
            "445/445 [==============================] - 20s 45ms/step - loss: 0.6111 - mse: 0.6844 - val_loss: 0.6098 - val_mse: 0.6883\n",
            "Epoch 45/100\n",
            "445/445 [==============================] - 20s 45ms/step - loss: 0.6105 - mse: 0.6832 - val_loss: 0.6092 - val_mse: 0.6871\n",
            "Epoch 46/100\n",
            "445/445 [==============================] - 20s 45ms/step - loss: 0.6099 - mse: 0.6820 - val_loss: 0.6086 - val_mse: 0.6859\n",
            "Epoch 47/100\n",
            "445/445 [==============================] - 20s 45ms/step - loss: 0.6093 - mse: 0.6809 - val_loss: 0.6080 - val_mse: 0.6848\n",
            "Epoch 48/100\n",
            "445/445 [==============================] - 20s 45ms/step - loss: 0.6087 - mse: 0.6798 - val_loss: 0.6074 - val_mse: 0.6837\n",
            "Epoch 49/100\n",
            "445/445 [==============================] - 20s 45ms/step - loss: 0.6081 - mse: 0.6787 - val_loss: 0.6068 - val_mse: 0.6826\n",
            "Epoch 50/100\n",
            "445/445 [==============================] - 20s 45ms/step - loss: 0.6076 - mse: 0.6777 - val_loss: 0.6063 - val_mse: 0.6816\n",
            "Epoch 51/100\n",
            "445/445 [==============================] - 20s 45ms/step - loss: 0.6071 - mse: 0.6766 - val_loss: 0.6057 - val_mse: 0.6805\n",
            "Epoch 52/100\n",
            "445/445 [==============================] - 20s 45ms/step - loss: 0.6066 - mse: 0.6756 - val_loss: 0.6052 - val_mse: 0.6796\n",
            "Epoch 53/100\n",
            "445/445 [==============================] - 20s 45ms/step - loss: 0.6060 - mse: 0.6746 - val_loss: 0.6047 - val_mse: 0.6785\n",
            "Epoch 54/100\n",
            "445/445 [==============================] - 20s 45ms/step - loss: 0.6055 - mse: 0.6736 - val_loss: 0.6042 - val_mse: 0.6776\n",
            "Epoch 55/100\n",
            "445/445 [==============================] - 20s 45ms/step - loss: 0.6050 - mse: 0.6727 - val_loss: 0.6037 - val_mse: 0.6767\n",
            "Epoch 56/100\n",
            "445/445 [==============================] - 20s 45ms/step - loss: 0.6046 - mse: 0.6718 - val_loss: 0.6032 - val_mse: 0.6758\n",
            "Epoch 57/100\n",
            "445/445 [==============================] - 20s 45ms/step - loss: 0.6041 - mse: 0.6709 - val_loss: 0.6028 - val_mse: 0.6749\n",
            "Epoch 58/100\n",
            "445/445 [==============================] - 20s 45ms/step - loss: 0.6037 - mse: 0.6701 - val_loss: 0.6023 - val_mse: 0.6741\n",
            "Epoch 59/100\n",
            "445/445 [==============================] - 20s 45ms/step - loss: 0.6032 - mse: 0.6692 - val_loss: 0.6019 - val_mse: 0.6732\n",
            "Epoch 60/100\n",
            "445/445 [==============================] - 20s 45ms/step - loss: 0.6028 - mse: 0.6684 - val_loss: 0.6014 - val_mse: 0.6724\n",
            "Epoch 61/100\n",
            "445/445 [==============================] - 20s 45ms/step - loss: 0.6024 - mse: 0.6676 - val_loss: 0.6010 - val_mse: 0.6716\n",
            "Epoch 62/100\n",
            "445/445 [==============================] - 20s 45ms/step - loss: 0.6020 - mse: 0.6668 - val_loss: 0.6006 - val_mse: 0.6708\n",
            "Epoch 63/100\n",
            "445/445 [==============================] - 20s 45ms/step - loss: 0.6015 - mse: 0.6660 - val_loss: 0.6001 - val_mse: 0.6700\n",
            "Epoch 64/100\n",
            "445/445 [==============================] - 20s 45ms/step - loss: 0.6011 - mse: 0.6651 - val_loss: 0.5997 - val_mse: 0.6692\n",
            "Epoch 65/100\n",
            "445/445 [==============================] - 20s 45ms/step - loss: 0.6007 - mse: 0.6644 - val_loss: 0.5993 - val_mse: 0.6685\n",
            "Epoch 66/100\n",
            "445/445 [==============================] - 20s 45ms/step - loss: 0.6003 - mse: 0.6637 - val_loss: 0.5989 - val_mse: 0.6678\n",
            "Epoch 67/100\n",
            "445/445 [==============================] - 20s 45ms/step - loss: 0.5999 - mse: 0.6630 - val_loss: 0.5986 - val_mse: 0.6671\n",
            "Epoch 68/100\n",
            "445/445 [==============================] - 20s 45ms/step - loss: 0.5996 - mse: 0.6623 - val_loss: 0.5982 - val_mse: 0.6664\n",
            "Epoch 69/100\n",
            "445/445 [==============================] - 20s 45ms/step - loss: 0.5992 - mse: 0.6616 - val_loss: 0.5978 - val_mse: 0.6657\n",
            "Epoch 70/100\n",
            "445/445 [==============================] - 20s 45ms/step - loss: 0.5989 - mse: 0.6609 - val_loss: 0.5975 - val_mse: 0.6651\n",
            "Epoch 71/100\n",
            "445/445 [==============================] - 20s 45ms/step - loss: 0.5985 - mse: 0.6603 - val_loss: 0.5971 - val_mse: 0.6644\n",
            "Epoch 72/100\n",
            "445/445 [==============================] - 20s 45ms/step - loss: 0.5981 - mse: 0.6596 - val_loss: 0.5967 - val_mse: 0.6637\n",
            "Epoch 73/100\n",
            "445/445 [==============================] - 20s 45ms/step - loss: 0.5978 - mse: 0.6589 - val_loss: 0.5964 - val_mse: 0.6631\n",
            "Epoch 74/100\n",
            "445/445 [==============================] - 20s 45ms/step - loss: 0.5974 - mse: 0.6583 - val_loss: 0.5960 - val_mse: 0.6624\n",
            "Epoch 75/100\n",
            "445/445 [==============================] - 20s 45ms/step - loss: 0.5971 - mse: 0.6576 - val_loss: 0.5957 - val_mse: 0.6618\n",
            "Epoch 76/100\n",
            "445/445 [==============================] - 20s 45ms/step - loss: 0.5968 - mse: 0.6571 - val_loss: 0.5954 - val_mse: 0.6612\n",
            "Epoch 77/100\n",
            "445/445 [==============================] - 20s 45ms/step - loss: 0.5965 - mse: 0.6565 - val_loss: 0.5951 - val_mse: 0.6606\n",
            "Epoch 78/100\n",
            "445/445 [==============================] - 20s 45ms/step - loss: 0.5961 - mse: 0.6559 - val_loss: 0.5947 - val_mse: 0.6601\n",
            "Epoch 79/100\n",
            "445/445 [==============================] - 20s 45ms/step - loss: 0.5958 - mse: 0.6553 - val_loss: 0.5944 - val_mse: 0.6595\n",
            "Epoch 80/100\n",
            "445/445 [==============================] - 20s 45ms/step - loss: 0.5955 - mse: 0.6548 - val_loss: 0.5941 - val_mse: 0.6590\n",
            "Epoch 81/100\n",
            "445/445 [==============================] - 20s 45ms/step - loss: 0.5952 - mse: 0.6542 - val_loss: 0.5938 - val_mse: 0.6585\n",
            "Epoch 82/100\n",
            "445/445 [==============================] - 20s 45ms/step - loss: 0.5949 - mse: 0.6537 - val_loss: 0.5935 - val_mse: 0.6579\n",
            "Epoch 83/100\n",
            "445/445 [==============================] - 20s 45ms/step - loss: 0.5946 - mse: 0.6532 - val_loss: 0.5933 - val_mse: 0.6574\n",
            "Epoch 84/100\n",
            "445/445 [==============================] - 20s 45ms/step - loss: 0.5944 - mse: 0.6527 - val_loss: 0.5930 - val_mse: 0.6569\n",
            "Epoch 85/100\n",
            "445/445 [==============================] - 20s 45ms/step - loss: 0.5941 - mse: 0.6522 - val_loss: 0.5927 - val_mse: 0.6565\n",
            "Epoch 86/100\n",
            "445/445 [==============================] - 20s 45ms/step - loss: 0.5938 - mse: 0.6517 - val_loss: 0.5924 - val_mse: 0.6560\n",
            "Epoch 87/100\n",
            "445/445 [==============================] - 20s 45ms/step - loss: 0.5936 - mse: 0.6513 - val_loss: 0.5922 - val_mse: 0.6556\n",
            "Epoch 88/100\n",
            "445/445 [==============================] - 20s 45ms/step - loss: 0.5933 - mse: 0.6508 - val_loss: 0.5919 - val_mse: 0.6551\n",
            "Epoch 89/100\n",
            "445/445 [==============================] - 20s 45ms/step - loss: 0.5930 - mse: 0.6503 - val_loss: 0.5917 - val_mse: 0.6547\n",
            "Epoch 90/100\n",
            "445/445 [==============================] - 20s 45ms/step - loss: 0.5928 - mse: 0.6499 - val_loss: 0.5914 - val_mse: 0.6543\n",
            "Epoch 91/100\n",
            "445/445 [==============================] - 20s 45ms/step - loss: 0.5925 - mse: 0.6495 - val_loss: 0.5912 - val_mse: 0.6538\n",
            "Epoch 92/100\n",
            "445/445 [==============================] - 20s 45ms/step - loss: 0.5923 - mse: 0.6490 - val_loss: 0.5909 - val_mse: 0.6533\n",
            "Epoch 93/100\n",
            "445/445 [==============================] - 20s 45ms/step - loss: 0.5920 - mse: 0.6486 - val_loss: 0.5907 - val_mse: 0.6529\n",
            "Epoch 94/100\n",
            "445/445 [==============================] - 20s 45ms/step - loss: 0.5918 - mse: 0.6481 - val_loss: 0.5904 - val_mse: 0.6525\n",
            "Epoch 95/100\n",
            "445/445 [==============================] - 20s 45ms/step - loss: 0.5916 - mse: 0.6477 - val_loss: 0.5902 - val_mse: 0.6521\n",
            "Epoch 96/100\n",
            "445/445 [==============================] - 20s 45ms/step - loss: 0.5913 - mse: 0.6472 - val_loss: 0.5899 - val_mse: 0.6516\n",
            "Epoch 97/100\n",
            "445/445 [==============================] - 20s 45ms/step - loss: 0.5911 - mse: 0.6468 - val_loss: 0.5897 - val_mse: 0.6511\n",
            "Epoch 98/100\n",
            "445/445 [==============================] - 20s 45ms/step - loss: 0.5908 - mse: 0.6463 - val_loss: 0.5894 - val_mse: 0.6507\n",
            "Epoch 99/100\n",
            "445/445 [==============================] - 20s 45ms/step - loss: 0.5906 - mse: 0.6459 - val_loss: 0.5892 - val_mse: 0.6503\n",
            "Epoch 100/100\n",
            "445/445 [==============================] - 20s 45ms/step - loss: 0.5904 - mse: 0.6455 - val_loss: 0.5890 - val_mse: 0.6499\n"
          ],
          "name": "stdout"
        }
      ]
    },
    {
      "cell_type": "code",
      "metadata": {
        "id": "l5KXEfOxrvSx",
        "outputId": "15fa4652-bc87-4344-b919-17da4dfffadf",
        "colab": {
          "base_uri": "https://localhost:8080/",
          "height": 281
        }
      },
      "source": [
        "%matplotlib inline\n",
        "import matplotlib.pyplot as plt\n",
        "loss = history.history['loss']\n",
        "val_loss = history.history['val_loss']\n",
        "\n",
        "epochs = range(len(loss))\n",
        "\n",
        "plt.plot(epochs, loss, 'r', label='Training Loss')\n",
        "plt.plot(epochs, val_loss, 'b', label='Validation Loss')\n",
        "plt.title('Training and validation loss')\n",
        "plt.legend()\n",
        "plt.show()\n"
      ],
      "execution_count": null,
      "outputs": [
        {
          "output_type": "display_data",
          "data": {
            "image/png": "[encoded data removed]",
            "text/plain": [
              "<Figure size 432x288 with 1 Axes>"
            ]
          },
          "metadata": {
            "tags": [],
            "needs_background": "light"
          }
        }
      ]
    },
    {
      "cell_type": "code",
      "metadata": {
        "id": "TigbCDJrryxp"
      },
      "source": [
        "data1 = pd.DataFrame([history.history['loss'],history.history['val_loss']])\n",
        "data1.to_csv(\"arelu_const.csv\")"
      ],
      "execution_count": null,
      "outputs": []
    },
    {
      "cell_type": "markdown",
      "metadata": {
        "id": "PAgXz2l6MKtz"
      },
      "source": [
        "# Relu Decay"
      ]
    },
    {
      "cell_type": "code",
      "metadata": {
        "id": "udoNoFAUvCCM"
      },
      "source": [
        "def lr_decay(epoch):\n",
        "  initial_lr=7e-5\n",
        "  calculated_lr = initial_lr*np.exp(-0.01*epoch)\n",
        "  if(epoch==0):\n",
        "    print(initial_lr)\n",
        "    return initial_lr\n",
        "  elif(calculated_lr<1e-5):\n",
        "    print('1e-5')\n",
        "    return 1e-5\n",
        "  else:\n",
        "    print(calculated_lr)\n",
        "    return calculated_lr"
      ],
      "execution_count": null,
      "outputs": []
    },
    {
      "cell_type": "code",
      "metadata": {
        "id": "y5VrhR6EdEEg"
      },
      "source": [
        "lr_decayer = LearningRateScheduler(lr_decay)"
      ],
      "execution_count": null,
      "outputs": []
    },
    {
      "cell_type": "code",
      "metadata": {
        "id": "a_vKgW69eGkc"
      },
      "source": [
        "from tensorflow.keras import models\n",
        "from tensorflow.keras import layers\n",
        "\n",
        "model = models.Sequential()\n",
        "model.add(layers.Dense(9000, activation='relu', input_shape=(x_train.shape[1],)))\n",
        "model.add(layers.Dropout(0.2))\n",
        "model.add(layers.Dense(9000, activation='relu'))\n",
        "model.add(layers.Dense(4760, activation='relu'))"
      ],
      "execution_count": null,
      "outputs": []
    },
    {
      "cell_type": "code",
      "metadata": {
        "id": "aq1tIrg1eMel"
      },
      "source": [
        "optimizer = 'adam'\n",
        "model.compile(loss='mae', optimizer=optimizer, metrics=[\"mse\"])"
      ],
      "execution_count": null,
      "outputs": []
    },
    {
      "cell_type": "code",
      "metadata": {
        "id": "337_wugnePSn",
        "outputId": "f6fcad73-8e28-4bd5-b68d-502826b0359c",
        "colab": {
          "base_uri": "https://localhost:8080/",
          "height": 1000
        }
      },
      "source": [
        "history=model.fit(x_train, y_train, epochs = 100, batch_size = 200,validation_data=(x_test,y_test),callbacks=[lr_decayer])"
      ],
      "execution_count": null,
      "outputs": [
        {
          "output_type": "stream",
          "text": [
            "7e-05\n",
            "Epoch 1/100\n",
            "  2/445 [..............................] - ETA: 18s - loss: 0.7663 - mse: 0.9890WARNING:tensorflow:Callbacks method `on_train_batch_end` is slow compared to the batch time (batch time: 0.0315s vs `on_train_batch_end` time: 0.0522s). Check your callbacks.\n",
            "445/445 [==============================] - 34s 77ms/step - loss: 0.6239 - mse: 0.7279 - val_loss: 0.5916 - val_mse: 0.6712\n",
            "6.930348836244176e-05\n",
            "Epoch 2/100\n",
            "445/445 [==============================] - 37s 84ms/step - loss: 0.5820 - mse: 0.6457 - val_loss: 0.5743 - val_mse: 0.6371\n",
            "6.861390713147286e-05\n",
            "Epoch 3/100\n",
            "445/445 [==============================] - 36s 81ms/step - loss: 0.5680 - mse: 0.6181 - val_loss: 0.5646 - val_mse: 0.6176\n",
            "6.793118734839557e-05\n",
            "Epoch 4/100\n",
            "445/445 [==============================] - 37s 83ms/step - loss: 0.5595 - mse: 0.6022 - val_loss: 0.5586 - val_mse: 0.6060\n",
            "6.725526074066261e-05\n",
            "Epoch 5/100\n",
            "445/445 [==============================] - 37s 83ms/step - loss: 0.5533 - mse: 0.5903 - val_loss: 0.5540 - val_mse: 0.5966\n",
            "6.658605971504998e-05\n",
            "Epoch 6/100\n",
            "445/445 [==============================] - 37s 83ms/step - loss: 0.5483 - mse: 0.5809 - val_loss: 0.5503 - val_mse: 0.5895\n",
            "6.59235173508974e-05\n",
            "Epoch 7/100\n",
            "445/445 [==============================] - 37s 83ms/step - loss: 0.5441 - mse: 0.5733 - val_loss: 0.5476 - val_mse: 0.5841\n",
            "6.526756739341637e-05\n",
            "Epoch 8/100\n",
            "445/445 [==============================] - 37s 83ms/step - loss: 0.5407 - mse: 0.5672 - val_loss: 0.5450 - val_mse: 0.5795\n",
            "6.46181442470645e-05\n",
            "Epoch 9/100\n",
            "445/445 [==============================] - 37s 82ms/step - loss: 0.5378 - mse: 0.5622 - val_loss: 0.5432 - val_mse: 0.5759\n",
            "6.397518296898597e-05\n",
            "Epoch 10/100\n",
            "445/445 [==============================] - 37s 82ms/step - loss: 0.5353 - mse: 0.5576 - val_loss: 0.5414 - val_mse: 0.5722\n",
            "6.333861926251716e-05\n",
            "Epoch 11/100\n",
            "445/445 [==============================] - 37s 83ms/step - loss: 0.5329 - mse: 0.5531 - val_loss: 0.5399 - val_mse: 0.5690\n",
            "6.270838947075697e-05\n",
            "Epoch 12/100\n",
            "445/445 [==============================] - 37s 83ms/step - loss: 0.5308 - mse: 0.5492 - val_loss: 0.5385 - val_mse: 0.5664\n",
            "6.208443057020102e-05\n",
            "Epoch 13/100\n",
            "445/445 [==============================] - 37s 83ms/step - loss: 0.5289 - mse: 0.5460 - val_loss: 0.5375 - val_mse: 0.5643\n",
            "6.146668016443928e-05\n",
            "Epoch 14/100\n",
            "445/445 [==============================] - 37s 83ms/step - loss: 0.5272 - mse: 0.5431 - val_loss: 0.5364 - val_mse: 0.5622\n",
            "6.0855076477916406e-05\n",
            "Epoch 15/100\n",
            "445/445 [==============================] - 37s 83ms/step - loss: 0.5254 - mse: 0.5401 - val_loss: 0.5355 - val_mse: 0.5601\n",
            "6.0249558349754044e-05\n",
            "Epoch 16/100\n",
            "445/445 [==============================] - 37s 83ms/step - loss: 0.5239 - mse: 0.5375 - val_loss: 0.5344 - val_mse: 0.5585\n",
            "5.965006522763479e-05\n",
            "Epoch 17/100\n",
            "445/445 [==============================] - 37s 82ms/step - loss: 0.5225 - mse: 0.5351 - val_loss: 0.5337 - val_mse: 0.5572\n",
            "5.905653716174685e-05\n",
            "Epoch 18/100\n",
            "445/445 [==============================] - 36s 82ms/step - loss: 0.5211 - mse: 0.5329 - val_loss: 0.5332 - val_mse: 0.5561\n",
            "5.846891479878904e-05\n",
            "Epoch 19/100\n",
            "445/445 [==============================] - 37s 82ms/step - loss: 0.5200 - mse: 0.5312 - val_loss: 0.5327 - val_mse: 0.5552\n",
            "5.7887139376035354e-05\n",
            "Epoch 20/100\n",
            "445/445 [==============================] - 37s 83ms/step - loss: 0.5190 - mse: 0.5295 - val_loss: 0.5322 - val_mse: 0.5546\n",
            "5.731115271545872e-05\n",
            "Epoch 21/100\n",
            "445/445 [==============================] - 37s 83ms/step - loss: 0.5178 - mse: 0.5276 - val_loss: 0.5314 - val_mse: 0.5531\n",
            "5.674089721791309e-05\n",
            "Epoch 22/100\n",
            "445/445 [==============================] - 36s 82ms/step - loss: 0.5167 - mse: 0.5259 - val_loss: 0.5311 - val_mse: 0.5522\n",
            "5.617631585737349e-05\n",
            "Epoch 23/100\n",
            "445/445 [==============================] - 36s 82ms/step - loss: 0.5158 - mse: 0.5243 - val_loss: 0.5306 - val_mse: 0.5513\n",
            "5.561735217523338e-05\n",
            "Epoch 24/100\n",
            "445/445 [==============================] - 37s 82ms/step - loss: 0.5148 - mse: 0.5229 - val_loss: 0.5303 - val_mse: 0.5509\n",
            "5.506395027465874e-05\n",
            "Epoch 25/100\n",
            "445/445 [==============================] - 37s 83ms/step - loss: 0.5140 - mse: 0.5215 - val_loss: 0.5301 - val_mse: 0.5505\n",
            "5.4516054814998336e-05\n",
            "Epoch 26/100\n",
            "445/445 [==============================] - 37s 82ms/step - loss: 0.5132 - mse: 0.5203 - val_loss: 0.5297 - val_mse: 0.5500\n",
            "5.397361100624963e-05\n",
            "Epoch 27/100\n",
            "445/445 [==============================] - 37s 82ms/step - loss: 0.5125 - mse: 0.5191 - val_loss: 0.5296 - val_mse: 0.5498\n",
            "5.343656460357972e-05\n",
            "Epoch 28/100\n",
            "445/445 [==============================] - 37s 82ms/step - loss: 0.5117 - mse: 0.5181 - val_loss: 0.5292 - val_mse: 0.5488\n",
            "5.2904861901900776e-05\n",
            "Epoch 29/100\n",
            "445/445 [==============================] - 37s 82ms/step - loss: 0.5109 - mse: 0.5166 - val_loss: 0.5289 - val_mse: 0.5485\n",
            "5.2378449730499564e-05\n",
            "Epoch 30/100\n",
            "445/445 [==============================] - 36s 82ms/step - loss: 0.5102 - mse: 0.5157 - val_loss: 0.5288 - val_mse: 0.5482\n",
            "5.1857275447720244e-05\n",
            "Epoch 31/100\n",
            "445/445 [==============================] - 36s 82ms/step - loss: 0.5096 - mse: 0.5147 - val_loss: 0.5286 - val_mse: 0.5479\n",
            "5.1341286935700245e-05\n",
            "Epoch 32/100\n",
            "445/445 [==============================] - 36s 82ms/step - loss: 0.5090 - mse: 0.5137 - val_loss: 0.5284 - val_mse: 0.5476\n",
            "5.0830432595158364e-05\n",
            "Epoch 33/100\n",
            "445/445 [==============================] - 36s 82ms/step - loss: 0.5084 - mse: 0.5128 - val_loss: 0.5282 - val_mse: 0.5474\n",
            "5.032466134023483e-05\n",
            "Epoch 34/100\n",
            "445/445 [==============================] - 36s 82ms/step - loss: 0.5077 - mse: 0.5118 - val_loss: 0.5280 - val_mse: 0.5469\n",
            "4.982392259338267e-05\n",
            "Epoch 35/100\n",
            "445/445 [==============================] - 36s 82ms/step - loss: 0.5072 - mse: 0.5110 - val_loss: 0.5280 - val_mse: 0.5468\n",
            "4.9328166280309935e-05\n",
            "Epoch 36/100\n",
            "445/445 [==============================] - 36s 82ms/step - loss: 0.5067 - mse: 0.5103 - val_loss: 0.5278 - val_mse: 0.5468\n",
            "4.8837342824972166e-05\n",
            "Epoch 37/100\n",
            "445/445 [==============================] - 36s 82ms/step - loss: 0.5062 - mse: 0.5094 - val_loss: 0.5276 - val_mse: 0.5463\n",
            "4.8351403144614824e-05\n",
            "Epoch 38/100\n",
            "445/445 [==============================] - 36s 82ms/step - loss: 0.5056 - mse: 0.5084 - val_loss: 0.5275 - val_mse: 0.5459\n",
            "4.78702986448649e-05\n",
            "Epoch 39/100\n",
            "445/445 [==============================] - 36s 82ms/step - loss: 0.5051 - mse: 0.5075 - val_loss: 0.5273 - val_mse: 0.5459\n",
            "4.739398121487152e-05\n",
            "Epoch 40/100\n",
            "445/445 [==============================] - 36s 82ms/step - loss: 0.5046 - mse: 0.5069 - val_loss: 0.5273 - val_mse: 0.5456\n",
            "4.692240322249475e-05\n",
            "Epoch 41/100\n",
            "445/445 [==============================] - 36s 82ms/step - loss: 0.5041 - mse: 0.5061 - val_loss: 0.5273 - val_mse: 0.5454\n",
            "4.6455517509542355e-05\n",
            "Epoch 42/100\n",
            "445/445 [==============================] - 36s 82ms/step - loss: 0.5036 - mse: 0.5053 - val_loss: 0.5270 - val_mse: 0.5451\n",
            "4.599327738705397e-05\n",
            "Epoch 43/100\n",
            "445/445 [==============================] - 37s 82ms/step - loss: 0.5031 - mse: 0.5045 - val_loss: 0.5269 - val_mse: 0.5450\n",
            "4.553563663063215e-05\n",
            "Epoch 44/100\n",
            "445/445 [==============================] - 36s 82ms/step - loss: 0.5027 - mse: 0.5039 - val_loss: 0.5268 - val_mse: 0.5446\n",
            "4.508254947581989e-05\n",
            "Epoch 45/100\n",
            "445/445 [==============================] - 36s 82ms/step - loss: 0.5022 - mse: 0.5031 - val_loss: 0.5267 - val_mse: 0.5446\n",
            "4.463397061352413e-05\n",
            "Epoch 46/100\n",
            "445/445 [==============================] - 37s 82ms/step - loss: 0.5018 - mse: 0.5025 - val_loss: 0.5266 - val_mse: 0.5445\n",
            "4.418985518548481e-05\n",
            "Epoch 47/100\n",
            "445/445 [==============================] - 37s 82ms/step - loss: 0.5014 - mse: 0.5020 - val_loss: 0.5265 - val_mse: 0.5443\n",
            "4.375015877978905e-05\n",
            "Epoch 48/100\n",
            "445/445 [==============================] - 36s 82ms/step - loss: 0.5010 - mse: 0.5013 - val_loss: 0.5266 - val_mse: 0.5442\n",
            "4.3314837426429856e-05\n",
            "Epoch 49/100\n",
            "445/445 [==============================] - 37s 82ms/step - loss: 0.5006 - mse: 0.5006 - val_loss: 0.5266 - val_mse: 0.5442\n",
            "4.2883847592909124e-05\n",
            "Epoch 50/100\n",
            "445/445 [==============================] - 36s 82ms/step - loss: 0.5003 - mse: 0.5002 - val_loss: 0.5264 - val_mse: 0.5442\n",
            "4.2457146179884336e-05\n",
            "Epoch 51/100\n",
            "445/445 [==============================] - 36s 82ms/step - loss: 0.5000 - mse: 0.4997 - val_loss: 0.5265 - val_mse: 0.5443\n",
            "4.203469051685861e-05\n",
            "Epoch 52/100\n",
            "445/445 [==============================] - 36s 82ms/step - loss: 0.4996 - mse: 0.4991 - val_loss: 0.5263 - val_mse: 0.5439\n",
            "4.16164383579136e-05\n",
            "Epoch 53/100\n",
            "445/445 [==============================] - 36s 82ms/step - loss: 0.4992 - mse: 0.4986 - val_loss: 0.5262 - val_mse: 0.5438\n",
            "4.120234787748486e-05\n",
            "Epoch 54/100\n",
            "445/445 [==============================] - 36s 81ms/step - loss: 0.4989 - mse: 0.4981 - val_loss: 0.5261 - val_mse: 0.5436\n",
            "4.079237766617927e-05\n",
            "Epoch 55/100\n",
            "445/445 [==============================] - 36s 82ms/step - loss: 0.4985 - mse: 0.4974 - val_loss: 0.5261 - val_mse: 0.5434\n",
            "4.038648672663406e-05\n",
            "Epoch 56/100\n",
            "445/445 [==============================] - 36s 81ms/step - loss: 0.4982 - mse: 0.4969 - val_loss: 0.5260 - val_mse: 0.5433\n",
            "3.9984634469417036e-05\n",
            "Epoch 57/100\n",
            "445/445 [==============================] - 36s 81ms/step - loss: 0.4979 - mse: 0.4964 - val_loss: 0.5260 - val_mse: 0.5433\n",
            "3.958678070896759e-05\n",
            "Epoch 58/100\n",
            "445/445 [==============================] - 36s 81ms/step - loss: 0.4976 - mse: 0.4959 - val_loss: 0.5260 - val_mse: 0.5431\n",
            "3.919288565957814e-05\n",
            "Epoch 59/100\n",
            "445/445 [==============================] - 36s 81ms/step - loss: 0.4973 - mse: 0.4956 - val_loss: 0.5260 - val_mse: 0.5432\n",
            "3.880290993141549e-05\n",
            "Epoch 60/100\n",
            "445/445 [==============================] - 36s 81ms/step - loss: 0.4970 - mse: 0.4950 - val_loss: 0.5259 - val_mse: 0.5429\n",
            "3.841681452658184e-05\n",
            "Epoch 61/100\n",
            "445/445 [==============================] - 36s 81ms/step - loss: 0.4967 - mse: 0.4944 - val_loss: 0.5259 - val_mse: 0.5428\n",
            "3.803456083521498e-05\n",
            "Epoch 62/100\n",
            "445/445 [==============================] - 36s 82ms/step - loss: 0.4964 - mse: 0.4939 - val_loss: 0.5257 - val_mse: 0.5425\n",
            "3.765611063162721e-05\n",
            "Epoch 63/100\n",
            "445/445 [==============================] - 37s 82ms/step - loss: 0.4962 - mse: 0.4936 - val_loss: 0.5258 - val_mse: 0.5426\n",
            "3.72814260704828e-05\n",
            "Epoch 64/100\n",
            "445/445 [==============================] - 36s 82ms/step - loss: 0.4959 - mse: 0.4932 - val_loss: 0.5257 - val_mse: 0.5426\n",
            "3.691046968301339e-05\n",
            "Epoch 65/100\n",
            "445/445 [==============================] - 37s 82ms/step - loss: 0.4956 - mse: 0.4928 - val_loss: 0.5257 - val_mse: 0.5425\n",
            "3.654320437327112e-05\n",
            "Epoch 66/100\n",
            "445/445 [==============================] - 36s 82ms/step - loss: 0.4954 - mse: 0.4924 - val_loss: 0.5256 - val_mse: 0.5423\n",
            "3.617959341441894e-05\n",
            "Epoch 67/100\n",
            "445/445 [==============================] - 36s 82ms/step - loss: 0.4951 - mse: 0.4920 - val_loss: 0.5257 - val_mse: 0.5422\n",
            "3.581960044505797e-05\n",
            "Epoch 68/100\n",
            "445/445 [==============================] - 36s 82ms/step - loss: 0.4949 - mse: 0.4916 - val_loss: 0.5255 - val_mse: 0.5422\n",
            "3.546318946559126e-05\n",
            "Epoch 69/100\n",
            "445/445 [==============================] - 36s 82ms/step - loss: 0.4946 - mse: 0.4912 - val_loss: 0.5256 - val_mse: 0.5422\n",
            "3.511032483462388e-05\n",
            "Epoch 70/100\n",
            "445/445 [==============================] - 36s 81ms/step - loss: 0.4944 - mse: 0.4909 - val_loss: 0.5255 - val_mse: 0.5421\n",
            "3.476097126539866e-05\n",
            "Epoch 71/100\n",
            "445/445 [==============================] - 36s 81ms/step - loss: 0.4942 - mse: 0.4906 - val_loss: 0.5255 - val_mse: 0.5421\n",
            "3.4415093822267557e-05\n",
            "Epoch 72/100\n",
            "445/445 [==============================] - 36s 81ms/step - loss: 0.4939 - mse: 0.4903 - val_loss: 0.5255 - val_mse: 0.5421\n",
            "3.407265791719801e-05\n",
            "Epoch 73/100\n",
            "445/445 [==============================] - 36s 81ms/step - loss: 0.4937 - mse: 0.4900 - val_loss: 0.5255 - val_mse: 0.5421\n",
            "3.373362930631417e-05\n",
            "Epoch 74/100\n",
            "445/445 [==============================] - 36s 81ms/step - loss: 0.4935 - mse: 0.4897 - val_loss: 0.5255 - val_mse: 0.5420\n",
            "3.3397974086472404e-05\n",
            "Epoch 75/100\n",
            "445/445 [==============================] - 36s 82ms/step - loss: 0.4933 - mse: 0.4893 - val_loss: 0.5255 - val_mse: 0.5419\n",
            "3.306565869187102e-05\n",
            "Epoch 76/100\n",
            "445/445 [==============================] - 37s 82ms/step - loss: 0.4931 - mse: 0.4890 - val_loss: 0.5255 - val_mse: 0.5418\n",
            "3.273664989069364e-05\n",
            "Epoch 77/100\n",
            "445/445 [==============================] - 37s 82ms/step - loss: 0.4929 - mse: 0.4887 - val_loss: 0.5255 - val_mse: 0.5419\n",
            "3.241091478178596e-05\n",
            "Epoch 78/100\n",
            "445/445 [==============================] - 36s 82ms/step - loss: 0.4927 - mse: 0.4885 - val_loss: 0.5255 - val_mse: 0.5419\n",
            "3.208842079136564e-05\n",
            "Epoch 79/100\n",
            "445/445 [==============================] - 36s 81ms/step - loss: 0.4925 - mse: 0.4882 - val_loss: 0.5255 - val_mse: 0.5419\n",
            "3.1769135669764906e-05\n",
            "Epoch 80/100\n",
            "445/445 [==============================] - 36s 82ms/step - loss: 0.4923 - mse: 0.4879 - val_loss: 0.5254 - val_mse: 0.5417\n",
            "3.1453027488205504e-05\n",
            "Epoch 81/100\n",
            "445/445 [==============================] - 36s 81ms/step - loss: 0.4921 - mse: 0.4875 - val_loss: 0.5254 - val_mse: 0.5416\n",
            "3.114006463560587e-05\n",
            "Epoch 82/100\n",
            "445/445 [==============================] - 36s 82ms/step - loss: 0.4919 - mse: 0.4873 - val_loss: 0.5254 - val_mse: 0.5417\n",
            "3.0830215815419946e-05\n",
            "Epoch 83/100\n",
            "445/445 [==============================] - 36s 82ms/step - loss: 0.4917 - mse: 0.4870 - val_loss: 0.5253 - val_mse: 0.5417\n",
            "3.0523450042507484e-05\n",
            "Epoch 84/100\n",
            "445/445 [==============================] - 36s 82ms/step - loss: 0.4916 - mse: 0.4868 - val_loss: 0.5254 - val_mse: 0.5416\n",
            "3.0219736640035578e-05\n",
            "Epoch 85/100\n",
            "445/445 [==============================] - 36s 82ms/step - loss: 0.4914 - mse: 0.4865 - val_loss: 0.5253 - val_mse: 0.5415\n",
            "2.9919045236410866e-05\n",
            "Epoch 86/100\n",
            "445/445 [==============================] - 36s 81ms/step - loss: 0.4912 - mse: 0.4862 - val_loss: 0.5253 - val_mse: 0.5414\n",
            "2.9621345762242415e-05\n",
            "Epoch 87/100\n",
            "445/445 [==============================] - 36s 81ms/step - loss: 0.4910 - mse: 0.4860 - val_loss: 0.5253 - val_mse: 0.5416\n",
            "2.932660844733473e-05\n",
            "Epoch 88/100\n",
            "445/445 [==============================] - 36s 81ms/step - loss: 0.4909 - mse: 0.4858 - val_loss: 0.5253 - val_mse: 0.5416\n",
            "2.9034803817710693e-05\n",
            "Epoch 89/100\n",
            "445/445 [==============================] - 36s 82ms/step - loss: 0.4908 - mse: 0.4856 - val_loss: 0.5254 - val_mse: 0.5416\n",
            "2.8745902692664182e-05\n",
            "Epoch 90/100\n",
            "445/445 [==============================] - 36s 82ms/step - loss: 0.4906 - mse: 0.4854 - val_loss: 0.5253 - val_mse: 0.5415\n",
            "2.8459876181841934e-05\n",
            "Epoch 91/100\n",
            "445/445 [==============================] - 36s 82ms/step - loss: 0.4905 - mse: 0.4852 - val_loss: 0.5253 - val_mse: 0.5415\n",
            "2.8176695682354516e-05\n",
            "Epoch 92/100\n",
            "445/445 [==============================] - 36s 82ms/step - loss: 0.4903 - mse: 0.4849 - val_loss: 0.5252 - val_mse: 0.5413\n",
            "2.7896332875915988e-05\n",
            "Epoch 93/100\n",
            "445/445 [==============================] - 36s 81ms/step - loss: 0.4901 - mse: 0.4847 - val_loss: 0.5253 - val_mse: 0.5415\n",
            "2.7618759726012073e-05\n",
            "Epoch 94/100\n",
            "445/445 [==============================] - 36s 81ms/step - loss: 0.4900 - mse: 0.4845 - val_loss: 0.5253 - val_mse: 0.5415\n",
            "2.7343948475096473e-05\n",
            "Epoch 95/100\n",
            "445/445 [==============================] - 36s 82ms/step - loss: 0.4899 - mse: 0.4844 - val_loss: 0.5252 - val_mse: 0.5414\n",
            "2.707187164181508e-05\n",
            "Epoch 96/100\n",
            "445/445 [==============================] - 36s 81ms/step - loss: 0.4897 - mse: 0.4842 - val_loss: 0.5253 - val_mse: 0.5414\n",
            "2.680250201825784e-05\n",
            "Epoch 97/100\n",
            "445/445 [==============================] - 36s 81ms/step - loss: 0.4896 - mse: 0.4840 - val_loss: 0.5253 - val_mse: 0.5415\n",
            "2.6535812667237916e-05\n",
            "Epoch 98/100\n",
            "445/445 [==============================] - 36s 81ms/step - loss: 0.4895 - mse: 0.4838 - val_loss: 0.5253 - val_mse: 0.5415\n",
            "2.6271776919597968e-05\n",
            "Epoch 99/100\n",
            "445/445 [==============================] - 36s 81ms/step - loss: 0.4893 - mse: 0.4836 - val_loss: 0.5253 - val_mse: 0.5414\n",
            "2.6010368371543196e-05\n",
            "Epoch 100/100\n",
            "445/445 [==============================] - 36s 81ms/step - loss: 0.4892 - mse: 0.4834 - val_loss: 0.5253 - val_mse: 0.5415\n"
          ],
          "name": "stdout"
        }
      ]
    },
    {
      "cell_type": "code",
      "metadata": {
        "id": "mIVMfIlReT8Y",
        "outputId": "7d67d96a-5d72-4bd4-96a6-d8b1a467acb5",
        "colab": {
          "base_uri": "https://localhost:8080/",
          "height": 281
        }
      },
      "source": [
        "%matplotlib inline\n",
        "import matplotlib.pyplot as plt\n",
        "loss = history.history['loss']\n",
        "val_loss = history.history['val_loss']\n",
        "\n",
        "epochs = range(len(loss))\n",
        "\n",
        "plt.plot(epochs, loss, 'r', label='Training Loss')\n",
        "plt.plot(epochs, val_loss, 'b', label='Validation Loss')\n",
        "plt.title('Training and validation loss')\n",
        "plt.legend()\n",
        "plt.show()\n"
      ],
      "execution_count": null,
      "outputs": [
        {
          "output_type": "display_data",
          "data": {
            "image/png": "[encoded data removed]",
            "text/plain": [
              "<Figure size 432x288 with 1 Axes>"
            ]
          },
          "metadata": {
            "tags": [],
            "needs_background": "light"
          }
        }
      ]
    },
    {
      "cell_type": "code",
      "metadata": {
        "id": "uWlRkYmIwR9H"
      },
      "source": [
        "data1 = pd.DataFrame([history.history['loss'],history.history['val_loss']])\n",
        "data1.to_csv(\"relu_decay.csv\")"
      ],
      "execution_count": null,
      "outputs": []
    },
    {
      "cell_type": "markdown",
      "metadata": {
        "id": "yjmK10Ufy0NB"
      },
      "source": [
        "# Sigmoid Decay"
      ]
    },
    {
      "cell_type": "code",
      "metadata": {
        "id": "ICToU2C6wY5O"
      },
      "source": [
        "def lr_decay(epoch):\n",
        "  initial_lr=7e-5\n",
        "  calculated_lr = initial_lr*np.exp(-0.01*epoch)\n",
        "  if(epoch==0):\n",
        "    print(initial_lr)\n",
        "    return initial_lr\n",
        "  elif(calculated_lr<1e-5):\n",
        "    print('1e-5')\n",
        "    return 1e-5\n",
        "  else:\n",
        "    print(calculated_lr)\n",
        "    return calculated_lr"
      ],
      "execution_count": 5,
      "outputs": []
    },
    {
      "cell_type": "code",
      "metadata": {
        "id": "tXWbiVGizA61"
      },
      "source": [
        "lr_decayer = LearningRateScheduler(lr_decay)"
      ],
      "execution_count": 6,
      "outputs": []
    },
    {
      "cell_type": "code",
      "metadata": {
        "id": "J9-R4zTPzEUx"
      },
      "source": [
        "from tensorflow.keras import models\n",
        "from tensorflow.keras import layers\n",
        "\n",
        "model = models.Sequential()\n",
        "model.add(layers.Dense(9000, activation='sigmoid', input_shape=(x_train.shape[1],)))\n",
        "model.add(layers.Dropout(0.2))\n",
        "model.add(layers.Dense(9000, activation='sigmoid'))\n",
        "model.add(layers.Dense(4760, activation='relu'))"
      ],
      "execution_count": 7,
      "outputs": []
    },
    {
      "cell_type": "code",
      "metadata": {
        "id": "vdHT2FP1zSmJ"
      },
      "source": [
        "optimizer = 'adam'\n",
        "model.compile(loss='mae', optimizer=optimizer, metrics=[\"mse\"])"
      ],
      "execution_count": 8,
      "outputs": []
    },
    {
      "cell_type": "code",
      "metadata": {
        "id": "QGY_X9xLzVKI",
        "outputId": "0be8a9d6-60ab-45e4-da5f-4f168dea73ce",
        "colab": {
          "base_uri": "https://localhost:8080/",
          "height": 1000
        }
      },
      "source": [
        "history=model.fit(x_train, y_train, epochs = 100, batch_size = 200,validation_data=(x_test,y_test),callbacks=[lr_decayer])"
      ],
      "execution_count": 9,
      "outputs": [
        {
          "output_type": "stream",
          "text": [
            "7e-05\n",
            "Epoch 1/100\n",
            "  2/445 [..............................] - ETA: 21s - loss: 0.7975 - mse: 1.0730WARNING:tensorflow:Callbacks method `on_train_batch_end` is slow compared to the batch time (batch time: 0.0329s vs `on_train_batch_end` time: 0.0642s). Check your callbacks.\n",
            "445/445 [==============================] - 30s 68ms/step - loss: 0.7461 - mse: 0.9916 - val_loss: 0.7473 - val_mse: 1.0017\n",
            "6.930348836244176e-05\n",
            "Epoch 2/100\n",
            "445/445 [==============================] - 31s 69ms/step - loss: 0.7430 - mse: 0.9866 - val_loss: 0.7458 - val_mse: 0.9994\n",
            "6.861390713147286e-05\n",
            "Epoch 3/100\n",
            "445/445 [==============================] - 32s 72ms/step - loss: 0.7418 - mse: 0.9846 - val_loss: 0.7448 - val_mse: 0.9978\n",
            "6.793118734839557e-05\n",
            "Epoch 4/100\n",
            "445/445 [==============================] - 32s 73ms/step - loss: 0.7407 - mse: 0.9829 - val_loss: 0.7437 - val_mse: 0.9958\n",
            "6.725526074066261e-05\n",
            "Epoch 5/100\n",
            "445/445 [==============================] - 33s 74ms/step - loss: 0.7398 - mse: 0.9813 - val_loss: 0.7427 - val_mse: 0.9941\n",
            "6.658605971504998e-05\n",
            "Epoch 6/100\n",
            "445/445 [==============================] - 34s 75ms/step - loss: 0.7385 - mse: 0.9789 - val_loss: 0.7411 - val_mse: 0.9913\n",
            "6.59235173508974e-05\n",
            "Epoch 7/100\n",
            "445/445 [==============================] - 34s 77ms/step - loss: 0.7369 - mse: 0.9759 - val_loss: 0.7392 - val_mse: 0.9877\n",
            "6.526756739341637e-05\n",
            "Epoch 8/100\n",
            "445/445 [==============================] - 35s 78ms/step - loss: 0.7349 - mse: 0.9721 - val_loss: 0.7370 - val_mse: 0.9834\n",
            "6.46181442470645e-05\n",
            "Epoch 9/100\n",
            "445/445 [==============================] - 35s 79ms/step - loss: 0.7319 - mse: 0.9663 - val_loss: 0.7334 - val_mse: 0.9762\n",
            "6.397518296898597e-05\n",
            "Epoch 10/100\n",
            "445/445 [==============================] - 35s 80ms/step - loss: 0.7285 - mse: 0.9594 - val_loss: 0.7297 - val_mse: 0.9686\n",
            "6.333861926251716e-05\n",
            "Epoch 11/100\n",
            "445/445 [==============================] - 36s 80ms/step - loss: 0.7235 - mse: 0.9492 - val_loss: 0.7239 - val_mse: 0.9571\n",
            "6.270838947075697e-05\n",
            "Epoch 12/100\n",
            "445/445 [==============================] - 36s 81ms/step - loss: 0.7180 - mse: 0.9382 - val_loss: 0.7181 - val_mse: 0.9450\n",
            "6.208443057020102e-05\n",
            "Epoch 13/100\n",
            "445/445 [==============================] - 36s 81ms/step - loss: 0.7106 - mse: 0.9230 - val_loss: 0.7090 - val_mse: 0.9269\n",
            "6.146668016443928e-05\n",
            "Epoch 14/100\n",
            "445/445 [==============================] - 36s 81ms/step - loss: 0.7011 - mse: 0.9039 - val_loss: 0.6987 - val_mse: 0.9056\n",
            "6.0855076477916406e-05\n",
            "Epoch 15/100\n",
            "445/445 [==============================] - 36s 81ms/step - loss: 0.6907 - mse: 0.8823 - val_loss: 0.6883 - val_mse: 0.8839\n",
            "6.0249558349754044e-05\n",
            "Epoch 16/100\n",
            "445/445 [==============================] - 36s 81ms/step - loss: 0.6798 - mse: 0.8592 - val_loss: 0.6769 - val_mse: 0.8594\n",
            "5.965006522763479e-05\n",
            "Epoch 17/100\n",
            "445/445 [==============================] - 36s 82ms/step - loss: 0.6693 - mse: 0.8372 - val_loss: 0.6668 - val_mse: 0.8384\n",
            "5.905653716174685e-05\n",
            "Epoch 18/100\n",
            "445/445 [==============================] - 36s 82ms/step - loss: 0.6598 - mse: 0.8173 - val_loss: 0.6573 - val_mse: 0.8185\n",
            "5.846891479878904e-05\n",
            "Epoch 19/100\n",
            "445/445 [==============================] - 36s 82ms/step - loss: 0.6507 - mse: 0.7983 - val_loss: 0.6485 - val_mse: 0.7993\n",
            "5.7887139376035354e-05\n",
            "Epoch 20/100\n",
            "445/445 [==============================] - 37s 82ms/step - loss: 0.6418 - mse: 0.7790 - val_loss: 0.6397 - val_mse: 0.7807\n",
            "5.731115271545872e-05\n",
            "Epoch 21/100\n",
            "445/445 [==============================] - 37s 82ms/step - loss: 0.6334 - mse: 0.7614 - val_loss: 0.6317 - val_mse: 0.7636\n",
            "5.674089721791309e-05\n",
            "Epoch 22/100\n",
            "445/445 [==============================] - 37s 82ms/step - loss: 0.6255 - mse: 0.7448 - val_loss: 0.6241 - val_mse: 0.7476\n",
            "5.617631585737349e-05\n",
            "Epoch 23/100\n",
            "445/445 [==============================] - 37s 83ms/step - loss: 0.6190 - mse: 0.7312 - val_loss: 0.6184 - val_mse: 0.7357\n",
            "5.561735217523338e-05\n",
            "Epoch 24/100\n",
            "445/445 [==============================] - 37s 83ms/step - loss: 0.6129 - mse: 0.7187 - val_loss: 0.6122 - val_mse: 0.7225\n",
            "5.506395027465874e-05\n",
            "Epoch 25/100\n",
            "445/445 [==============================] - 37s 83ms/step - loss: 0.6066 - mse: 0.7056 - val_loss: 0.6063 - val_mse: 0.7102\n",
            "5.4516054814998336e-05\n",
            "Epoch 26/100\n",
            "445/445 [==============================] - 37s 83ms/step - loss: 0.6013 - mse: 0.6941 - val_loss: 0.6014 - val_mse: 0.6993\n",
            "5.397361100624963e-05\n",
            "Epoch 27/100\n",
            "445/445 [==============================] - 37s 83ms/step - loss: 0.5962 - mse: 0.6836 - val_loss: 0.5964 - val_mse: 0.6893\n",
            "5.343656460357972e-05\n",
            "Epoch 28/100\n",
            "445/445 [==============================] - 37s 83ms/step - loss: 0.5914 - mse: 0.6742 - val_loss: 0.5923 - val_mse: 0.6810\n",
            "5.2904861901900776e-05\n",
            "Epoch 29/100\n",
            "445/445 [==============================] - 37s 83ms/step - loss: 0.5871 - mse: 0.6655 - val_loss: 0.5879 - val_mse: 0.6716\n",
            "5.2378449730499564e-05\n",
            "Epoch 30/100\n",
            "445/445 [==============================] - 37s 83ms/step - loss: 0.5831 - mse: 0.6571 - val_loss: 0.5842 - val_mse: 0.6637\n",
            "5.1857275447720244e-05\n",
            "Epoch 31/100\n",
            "445/445 [==============================] - 37s 83ms/step - loss: 0.5792 - mse: 0.6488 - val_loss: 0.5807 - val_mse: 0.6562\n",
            "5.1341286935700245e-05\n",
            "Epoch 32/100\n",
            "445/445 [==============================] - 37s 83ms/step - loss: 0.5755 - mse: 0.6412 - val_loss: 0.5773 - val_mse: 0.6490\n",
            "5.0830432595158364e-05\n",
            "Epoch 33/100\n",
            "445/445 [==============================] - 37s 83ms/step - loss: 0.5727 - mse: 0.6357 - val_loss: 0.5751 - val_mse: 0.6445\n",
            "5.032466134023483e-05\n",
            "Epoch 34/100\n",
            "445/445 [==============================] - 37s 83ms/step - loss: 0.5701 - mse: 0.6307 - val_loss: 0.5727 - val_mse: 0.6400\n",
            "4.982392259338267e-05\n",
            "Epoch 35/100\n",
            "445/445 [==============================] - 37s 83ms/step - loss: 0.5675 - mse: 0.6256 - val_loss: 0.5699 - val_mse: 0.6344\n",
            "4.9328166280309935e-05\n",
            "Epoch 36/100\n",
            "445/445 [==============================] - 37s 83ms/step - loss: 0.5648 - mse: 0.6202 - val_loss: 0.5676 - val_mse: 0.6295\n",
            "4.8837342824972166e-05\n",
            "Epoch 37/100\n",
            "445/445 [==============================] - 37s 83ms/step - loss: 0.5625 - mse: 0.6157 - val_loss: 0.5658 - val_mse: 0.6257\n",
            "4.8351403144614824e-05\n",
            "Epoch 38/100\n",
            "445/445 [==============================] - 37s 83ms/step - loss: 0.5606 - mse: 0.6120 - val_loss: 0.5640 - val_mse: 0.6221\n",
            "4.78702986448649e-05\n",
            "Epoch 39/100\n",
            "445/445 [==============================] - 37s 83ms/step - loss: 0.5584 - mse: 0.6074 - val_loss: 0.5620 - val_mse: 0.6176\n",
            "4.739398121487152e-05\n",
            "Epoch 40/100\n",
            "445/445 [==============================] - 37s 83ms/step - loss: 0.5566 - mse: 0.6040 - val_loss: 0.5605 - val_mse: 0.6147\n",
            "4.692240322249475e-05\n",
            "Epoch 41/100\n",
            "445/445 [==============================] - 37s 83ms/step - loss: 0.5549 - mse: 0.6009 - val_loss: 0.5593 - val_mse: 0.6125\n",
            "4.6455517509542355e-05\n",
            "Epoch 42/100\n",
            "445/445 [==============================] - 37s 83ms/step - loss: 0.5533 - mse: 0.5979 - val_loss: 0.5579 - val_mse: 0.6096\n",
            "4.599327738705397e-05\n",
            "Epoch 43/100\n",
            "445/445 [==============================] - 37s 83ms/step - loss: 0.5519 - mse: 0.5952 - val_loss: 0.5566 - val_mse: 0.6070\n",
            "4.553563663063215e-05\n",
            "Epoch 44/100\n",
            "445/445 [==============================] - 37s 83ms/step - loss: 0.5505 - mse: 0.5924 - val_loss: 0.5553 - val_mse: 0.6042\n",
            "4.508254947581989e-05\n",
            "Epoch 45/100\n",
            "445/445 [==============================] - 37s 83ms/step - loss: 0.5491 - mse: 0.5897 - val_loss: 0.5541 - val_mse: 0.6017\n",
            "4.463397061352413e-05\n",
            "Epoch 46/100\n",
            "445/445 [==============================] - 37s 83ms/step - loss: 0.5476 - mse: 0.5867 - val_loss: 0.5530 - val_mse: 0.5991\n",
            "4.418985518548481e-05\n",
            "Epoch 47/100\n",
            "445/445 [==============================] - 37s 83ms/step - loss: 0.5464 - mse: 0.5843 - val_loss: 0.5520 - val_mse: 0.5970\n",
            "4.375015877978905e-05\n",
            "Epoch 48/100\n",
            "445/445 [==============================] - 37s 83ms/step - loss: 0.5453 - mse: 0.5822 - val_loss: 0.5509 - val_mse: 0.5948\n",
            "4.3314837426429856e-05\n",
            "Epoch 49/100\n",
            "445/445 [==============================] - 37s 83ms/step - loss: 0.5438 - mse: 0.5793 - val_loss: 0.5497 - val_mse: 0.5921\n",
            "4.2883847592909124e-05\n",
            "Epoch 50/100\n",
            "445/445 [==============================] - 37s 83ms/step - loss: 0.5426 - mse: 0.5765 - val_loss: 0.5488 - val_mse: 0.5897\n",
            "4.2457146179884336e-05\n",
            "Epoch 51/100\n",
            "445/445 [==============================] - 37s 83ms/step - loss: 0.5415 - mse: 0.5745 - val_loss: 0.5480 - val_mse: 0.5880\n",
            "4.203469051685861e-05\n",
            "Epoch 52/100\n",
            "445/445 [==============================] - 37s 83ms/step - loss: 0.5405 - mse: 0.5724 - val_loss: 0.5471 - val_mse: 0.5862\n",
            "4.16164383579136e-05\n",
            "Epoch 53/100\n",
            "445/445 [==============================] - 37s 83ms/step - loss: 0.5396 - mse: 0.5708 - val_loss: 0.5465 - val_mse: 0.5852\n",
            "4.120234787748486e-05\n",
            "Epoch 54/100\n",
            "445/445 [==============================] - 37s 83ms/step - loss: 0.5387 - mse: 0.5691 - val_loss: 0.5457 - val_mse: 0.5832\n",
            "4.079237766617927e-05\n",
            "Epoch 55/100\n",
            "445/445 [==============================] - 37s 83ms/step - loss: 0.5377 - mse: 0.5673 - val_loss: 0.5448 - val_mse: 0.5815\n",
            "4.038648672663406e-05\n",
            "Epoch 56/100\n",
            "445/445 [==============================] - 37s 83ms/step - loss: 0.5368 - mse: 0.5654 - val_loss: 0.5441 - val_mse: 0.5800\n",
            "3.9984634469417036e-05\n",
            "Epoch 57/100\n",
            "445/445 [==============================] - 37s 83ms/step - loss: 0.5359 - mse: 0.5637 - val_loss: 0.5435 - val_mse: 0.5787\n",
            "3.958678070896759e-05\n",
            "Epoch 58/100\n",
            "445/445 [==============================] - 37s 83ms/step - loss: 0.5352 - mse: 0.5622 - val_loss: 0.5429 - val_mse: 0.5772\n",
            "3.919288565957814e-05\n",
            "Epoch 59/100\n",
            "445/445 [==============================] - 37s 83ms/step - loss: 0.5344 - mse: 0.5607 - val_loss: 0.5424 - val_mse: 0.5762\n",
            "3.880290993141549e-05\n",
            "Epoch 60/100\n",
            "445/445 [==============================] - 37s 83ms/step - loss: 0.5338 - mse: 0.5595 - val_loss: 0.5419 - val_mse: 0.5751\n",
            "3.841681452658184e-05\n",
            "Epoch 61/100\n",
            "445/445 [==============================] - 37s 83ms/step - loss: 0.5331 - mse: 0.5582 - val_loss: 0.5414 - val_mse: 0.5739\n",
            "3.803456083521498e-05\n",
            "Epoch 62/100\n",
            "445/445 [==============================] - 37s 83ms/step - loss: 0.5324 - mse: 0.5570 - val_loss: 0.5410 - val_mse: 0.5730\n",
            "3.765611063162721e-05\n",
            "Epoch 63/100\n",
            "445/445 [==============================] - 37s 83ms/step - loss: 0.5319 - mse: 0.5559 - val_loss: 0.5406 - val_mse: 0.5722\n",
            "3.72814260704828e-05\n",
            "Epoch 64/100\n",
            "445/445 [==============================] - 37s 83ms/step - loss: 0.5313 - mse: 0.5549 - val_loss: 0.5402 - val_mse: 0.5714\n",
            "3.691046968301339e-05\n",
            "Epoch 65/100\n",
            "445/445 [==============================] - 37s 83ms/step - loss: 0.5307 - mse: 0.5540 - val_loss: 0.5398 - val_mse: 0.5707\n",
            "3.654320437327112e-05\n",
            "Epoch 66/100\n",
            "445/445 [==============================] - 37s 83ms/step - loss: 0.5303 - mse: 0.5531 - val_loss: 0.5396 - val_mse: 0.5701\n",
            "3.617959341441894e-05\n",
            "Epoch 67/100\n",
            "445/445 [==============================] - 37s 83ms/step - loss: 0.5298 - mse: 0.5524 - val_loss: 0.5392 - val_mse: 0.5695\n",
            "3.581960044505797e-05\n",
            "Epoch 68/100\n",
            "445/445 [==============================] - 37s 83ms/step - loss: 0.5293 - mse: 0.5514 - val_loss: 0.5387 - val_mse: 0.5683\n",
            "3.546318946559126e-05\n",
            "Epoch 69/100\n",
            "445/445 [==============================] - 37s 83ms/step - loss: 0.5287 - mse: 0.5503 - val_loss: 0.5385 - val_mse: 0.5678\n",
            "3.511032483462388e-05\n",
            "Epoch 70/100\n",
            "445/445 [==============================] - 37s 83ms/step - loss: 0.5282 - mse: 0.5495 - val_loss: 0.5380 - val_mse: 0.5669\n",
            "3.476097126539866e-05\n",
            "Epoch 71/100\n",
            "445/445 [==============================] - 37s 83ms/step - loss: 0.5277 - mse: 0.5485 - val_loss: 0.5376 - val_mse: 0.5661\n",
            "3.4415093822267557e-05\n",
            "Epoch 72/100\n",
            "445/445 [==============================] - 37s 83ms/step - loss: 0.5272 - mse: 0.5477 - val_loss: 0.5373 - val_mse: 0.5655\n",
            "3.407265791719801e-05\n",
            "Epoch 73/100\n",
            "445/445 [==============================] - 37s 83ms/step - loss: 0.5268 - mse: 0.5469 - val_loss: 0.5371 - val_mse: 0.5649\n",
            "3.373362930631417e-05\n",
            "Epoch 74/100\n",
            "445/445 [==============================] - 37s 83ms/step - loss: 0.5264 - mse: 0.5461 - val_loss: 0.5368 - val_mse: 0.5642\n",
            "3.3397974086472404e-05\n",
            "Epoch 75/100\n",
            "445/445 [==============================] - 37s 83ms/step - loss: 0.5260 - mse: 0.5454 - val_loss: 0.5366 - val_mse: 0.5637\n",
            "3.306565869187102e-05\n",
            "Epoch 76/100\n",
            "445/445 [==============================] - 37s 83ms/step - loss: 0.5257 - mse: 0.5448 - val_loss: 0.5364 - val_mse: 0.5632\n",
            "3.273664989069364e-05\n",
            "Epoch 77/100\n",
            "445/445 [==============================] - 37s 83ms/step - loss: 0.5252 - mse: 0.5441 - val_loss: 0.5361 - val_mse: 0.5627\n",
            "3.241091478178596e-05\n",
            "Epoch 78/100\n",
            "445/445 [==============================] - 37s 83ms/step - loss: 0.5249 - mse: 0.5436 - val_loss: 0.5360 - val_mse: 0.5624\n",
            "3.208842079136564e-05\n",
            "Epoch 79/100\n",
            "445/445 [==============================] - 37s 83ms/step - loss: 0.5245 - mse: 0.5429 - val_loss: 0.5357 - val_mse: 0.5619\n",
            "3.1769135669764906e-05\n",
            "Epoch 80/100\n",
            "445/445 [==============================] - 37s 83ms/step - loss: 0.5242 - mse: 0.5424 - val_loss: 0.5355 - val_mse: 0.5615\n",
            "3.1453027488205504e-05\n",
            "Epoch 81/100\n",
            "445/445 [==============================] - 37s 83ms/step - loss: 0.5239 - mse: 0.5420 - val_loss: 0.5354 - val_mse: 0.5613\n",
            "3.114006463560587e-05\n",
            "Epoch 82/100\n",
            "445/445 [==============================] - 37s 83ms/step - loss: 0.5236 - mse: 0.5414 - val_loss: 0.5351 - val_mse: 0.5607\n",
            "3.0830215815419946e-05\n",
            "Epoch 83/100\n",
            "445/445 [==============================] - 37s 83ms/step - loss: 0.5232 - mse: 0.5408 - val_loss: 0.5349 - val_mse: 0.5604\n",
            "3.0523450042507484e-05\n",
            "Epoch 84/100\n",
            "445/445 [==============================] - 37s 83ms/step - loss: 0.5229 - mse: 0.5403 - val_loss: 0.5347 - val_mse: 0.5598\n",
            "3.0219736640035578e-05\n",
            "Epoch 85/100\n",
            "445/445 [==============================] - 37s 83ms/step - loss: 0.5225 - mse: 0.5396 - val_loss: 0.5345 - val_mse: 0.5594\n",
            "2.9919045236410866e-05\n",
            "Epoch 86/100\n",
            "445/445 [==============================] - 37s 83ms/step - loss: 0.5223 - mse: 0.5392 - val_loss: 0.5344 - val_mse: 0.5593\n",
            "2.9621345762242415e-05\n",
            "Epoch 87/100\n",
            "445/445 [==============================] - 37s 83ms/step - loss: 0.5220 - mse: 0.5388 - val_loss: 0.5343 - val_mse: 0.5590\n",
            "2.932660844733473e-05\n",
            "Epoch 88/100\n",
            "445/445 [==============================] - 37s 83ms/step - loss: 0.5218 - mse: 0.5385 - val_loss: 0.5342 - val_mse: 0.5589\n",
            "2.9034803817710693e-05\n",
            "Epoch 89/100\n",
            "445/445 [==============================] - 37s 83ms/step - loss: 0.5215 - mse: 0.5381 - val_loss: 0.5340 - val_mse: 0.5586\n",
            "2.8745902692664182e-05\n",
            "Epoch 90/100\n",
            "445/445 [==============================] - 37s 83ms/step - loss: 0.5213 - mse: 0.5377 - val_loss: 0.5339 - val_mse: 0.5582\n",
            "2.8459876181841934e-05\n",
            "Epoch 91/100\n",
            "445/445 [==============================] - 37s 83ms/step - loss: 0.5210 - mse: 0.5372 - val_loss: 0.5337 - val_mse: 0.5579\n",
            "2.8176695682354516e-05\n",
            "Epoch 92/100\n",
            "445/445 [==============================] - 37s 83ms/step - loss: 0.5206 - mse: 0.5367 - val_loss: 0.5335 - val_mse: 0.5575\n",
            "2.7896332875915988e-05\n",
            "Epoch 93/100\n",
            "445/445 [==============================] - 37s 83ms/step - loss: 0.5204 - mse: 0.5363 - val_loss: 0.5333 - val_mse: 0.5572\n",
            "2.7618759726012073e-05\n",
            "Epoch 94/100\n",
            "445/445 [==============================] - 37s 83ms/step - loss: 0.5201 - mse: 0.5358 - val_loss: 0.5331 - val_mse: 0.5569\n",
            "2.7343948475096473e-05\n",
            "Epoch 95/100\n",
            "445/445 [==============================] - 37s 83ms/step - loss: 0.5199 - mse: 0.5355 - val_loss: 0.5331 - val_mse: 0.5568\n",
            "2.707187164181508e-05\n",
            "Epoch 96/100\n",
            "445/445 [==============================] - 37s 83ms/step - loss: 0.5196 - mse: 0.5351 - val_loss: 0.5329 - val_mse: 0.5564\n",
            "2.680250201825784e-05\n",
            "Epoch 97/100\n",
            "445/445 [==============================] - 37s 83ms/step - loss: 0.5194 - mse: 0.5347 - val_loss: 0.5328 - val_mse: 0.5563\n",
            "2.6535812667237916e-05\n",
            "Epoch 98/100\n",
            "445/445 [==============================] - 37s 83ms/step - loss: 0.5192 - mse: 0.5344 - val_loss: 0.5327 - val_mse: 0.5559\n",
            "2.6271776919597968e-05\n",
            "Epoch 99/100\n",
            "445/445 [==============================] - 37s 83ms/step - loss: 0.5189 - mse: 0.5340 - val_loss: 0.5326 - val_mse: 0.5558\n",
            "2.6010368371543196e-05\n",
            "Epoch 100/100\n",
            "445/445 [==============================] - 37s 83ms/step - loss: 0.5188 - mse: 0.5337 - val_loss: 0.5325 - val_mse: 0.5556\n"
          ],
          "name": "stdout"
        }
      ]
    },
    {
      "cell_type": "code",
      "metadata": {
        "id": "OH_Aglg5zXQ7",
        "outputId": "309affff-c5e4-432e-8e75-49efd72c6cd5",
        "colab": {
          "base_uri": "https://localhost:8080/",
          "height": 281
        }
      },
      "source": [
        "%matplotlib inline\n",
        "import matplotlib.pyplot as plt\n",
        "loss = history.history['loss']\n",
        "val_loss = history.history['val_loss']\n",
        "\n",
        "epochs = range(len(loss))\n",
        "\n",
        "plt.plot(epochs, loss, 'r', label='Training Loss')\n",
        "plt.plot(epochs, val_loss, 'b', label='Validation Loss')\n",
        "plt.title('Training and validation loss')\n",
        "plt.legend()\n",
        "plt.show()\n"
      ],
      "execution_count": 10,
      "outputs": [
        {
          "output_type": "display_data",
          "data": {
            "image/png": "[encoded data removed]",
            "text/plain": [
              "<Figure size 432x288 with 1 Axes>"
            ]
          },
          "metadata": {
            "tags": [],
            "needs_background": "light"
          }
        }
      ]
    },
    {
      "cell_type": "code",
      "metadata": {
        "id": "DYtiSaHqKDhf"
      },
      "source": [
        "data1 = pd.DataFrame([history.history['loss'],history.history['val_loss']])\n",
        "data1.to_csv(\"sigmoid_decay.csv\")"
      ],
      "execution_count": 11,
      "outputs": []
    },
    {
      "cell_type": "markdown",
      "metadata": {
        "id": "4K5C7lIHLsap"
      },
      "source": [
        "# A-ReLU Decay"
      ]
    },
    {
      "cell_type": "code",
      "metadata": {
        "id": "N5vogzdFK8Kv"
      },
      "source": [
        "import tensorflow as tf\n",
        "from keras.layers import Activation\n",
        "import tensorflow.keras.backend as K\n",
        "from tensorflow.keras import layers"
      ],
      "execution_count": 5,
      "outputs": []
    },
    {
      "cell_type": "code",
      "metadata": {
        "id": "uGCoA6a3L2p_"
      },
      "source": [
        "@tf.function\n",
        "def ARELU(act):\n",
        "  k = 0.54\n",
        "  n = 1.30\n",
        "  #print(act)\n",
        "  x = act-act\n",
        "  y = tf.where(act<=0,x,act)\n",
        "  y = k * K.pow(y,n)\n",
        "  t = tf.where(act<0,x,y)\n",
        "  return t"
      ],
      "execution_count": 6,
      "outputs": []
    },
    {
      "cell_type": "code",
      "metadata": {
        "id": "4GeiNfkmL6YQ"
      },
      "source": [
        "from tensorflow.keras import models\n",
        "from tensorflow.keras import layers\n",
        "\n",
        "model = models.Sequential()\n",
        "model.add(layers.Dense(9000,activation= ARELU,input_shape=(x_train.shape[1],)))\n",
        "model.add(layers.Dropout(0.2))\n",
        "model.add(layers.Dense(9000,activation = ARELU))\n",
        "model.add(layers.Dense(4760,activation = ARELU))"
      ],
      "execution_count": 7,
      "outputs": []
    },
    {
      "cell_type": "code",
      "metadata": {
        "id": "HVPBgvTmL9u-"
      },
      "source": [
        "def lr_decay(epoch):\n",
        "  initial_lr=7e-5\n",
        "  calculated_lr = initial_lr*np.exp(-0.01*epoch)\n",
        "  if(epoch==0):\n",
        "    print(initial_lr)\n",
        "    return initial_lr\n",
        "  elif(calculated_lr<1e-5):\n",
        "    print('1e-5')\n",
        "    return 1e-5\n",
        "  else:\n",
        "    print(calculated_lr)\n",
        "    return calculated_lr"
      ],
      "execution_count": 8,
      "outputs": []
    },
    {
      "cell_type": "code",
      "metadata": {
        "id": "E-6hpJGNMEJb"
      },
      "source": [
        "lr_decayer = LearningRateScheduler(lr_decay)"
      ],
      "execution_count": 9,
      "outputs": []
    },
    {
      "cell_type": "code",
      "metadata": {
        "id": "lmGlh7clMH7v"
      },
      "source": [
        "optimizer = 'adam'\n",
        "model.compile(loss='mae', optimizer=optimizer, metrics=[\"mse\"])"
      ],
      "execution_count": 10,
      "outputs": []
    },
    {
      "cell_type": "code",
      "metadata": {
        "id": "GS8lx6QqMMcA"
      },
      "source": [
        "history=model.fit(x_train, y_train, epochs = 100, batch_size = 200,validation_data=(x_test,y_test),callbacks=[lr_decayer])"
      ],
      "execution_count": null,
      "outputs": []
    },
    {
      "cell_type": "code",
      "metadata": {
        "id": "IVZKsFblMdZW"
      },
      "source": [
        "%matplotlib inline\n",
        "import matplotlib.pyplot as plt\n",
        "loss = history.history['loss']\n",
        "val_loss = history.history['val_loss']\n",
        "\n",
        "epochs = range(len(loss))\n",
        "\n",
        "plt.plot(epochs, loss, 'r', label='Training Loss')\n",
        "plt.plot(epochs, val_loss, 'b', label='Validation Loss')\n",
        "plt.title('Training and validation loss')\n",
        "plt.legend()\n",
        "plt.show()\n"
      ],
      "execution_count": null,
      "outputs": []
    },
    {
      "cell_type": "code",
      "metadata": {
        "id": "p0zwvd0fY7kp"
      },
      "source": [
        "data1 = pd.DataFrame([history.history['loss'],history.history['val_loss']])\n",
        "data1.to_csv(\"arelu_decay.csv\")"
      ],
      "execution_count": null,
      "outputs": []
    },
    {
      "cell_type": "markdown",
      "metadata": {
        "id": "7Grz5850bPgo"
      },
      "source": [
        "# Tanh Decay"
      ]
    },
    {
      "cell_type": "code",
      "metadata": {
        "id": "p1Klc7wvbXCi"
      },
      "source": [
        "import tensorflow as tf\n",
        "from keras.layers import Activation\n",
        "import tensorflow.keras.backend as K\n",
        "from tensorflow.keras import layers"
      ],
      "execution_count": 12,
      "outputs": []
    },
    {
      "cell_type": "code",
      "metadata": {
        "id": "YERNOjfnZ0IO"
      },
      "source": [
        "from tensorflow.keras import models\n",
        "from tensorflow.keras import layers\n",
        "\n",
        "model = models.Sequential()\n",
        "model.add(layers.Dense(9000,activation= 'tanh',input_shape=(x_train.shape[1],)))\n",
        "model.add(layers.Dropout(0.2))\n",
        "model.add(layers.Dense(9000,activation = 'tanh'))\n",
        "model.add(layers.Dense(4760,activation = 'relu'))"
      ],
      "execution_count": 13,
      "outputs": []
    },
    {
      "cell_type": "code",
      "metadata": {
        "id": "dUW-0MwEbbwr"
      },
      "source": [
        "def lr_decay(epoch):\n",
        "  initial_lr=7e-5\n",
        "  calculated_lr = initial_lr*np.exp(-0.01*epoch)\n",
        "  if(epoch==0):\n",
        "    print(initial_lr)\n",
        "    return initial_lr\n",
        "  elif(calculated_lr<1e-5):\n",
        "    print('1e-5')\n",
        "    return 1e-5\n",
        "  else:\n",
        "    print(calculated_lr)\n",
        "    return calculated_lr"
      ],
      "execution_count": 14,
      "outputs": []
    },
    {
      "cell_type": "code",
      "metadata": {
        "id": "mf_JL75Gbeds"
      },
      "source": [
        "lr_decayer = LearningRateScheduler(lr_decay)"
      ],
      "execution_count": 15,
      "outputs": []
    },
    {
      "cell_type": "code",
      "metadata": {
        "id": "GjR_kKr1bg3i"
      },
      "source": [
        "optimizer = 'adam'\n",
        "model.compile(loss='mae', optimizer=optimizer, metrics=[\"mse\"])"
      ],
      "execution_count": 16,
      "outputs": []
    },
    {
      "cell_type": "code",
      "metadata": {
        "id": "7anvAOWcbjPF",
        "outputId": "d297c68a-bad1-4222-de08-aa187af0155b",
        "colab": {
          "base_uri": "https://localhost:8080/",
          "height": 1000
        }
      },
      "source": [
        "history=model.fit(x_train, y_train, epochs = 100, batch_size = 200,validation_data=(x_test,y_test),callbacks=[lr_decayer])"
      ],
      "execution_count": 17,
      "outputs": [
        {
          "output_type": "stream",
          "text": [
            "7e-05\n",
            "Epoch 1/100\n",
            "  2/445 [..............................] - ETA: 21s - loss: 0.7779 - mse: 1.0351WARNING:tensorflow:Callbacks method `on_train_batch_end` is slow compared to the batch time (batch time: 0.0311s vs `on_train_batch_end` time: 0.0658s). Check your callbacks.\n",
            "445/445 [==============================] - 36s 81ms/step - loss: 0.5896 - mse: 0.6301 - val_loss: 0.5620 - val_mse: 0.5878\n",
            "6.930348836244176e-05\n",
            "Epoch 2/100\n",
            "445/445 [==============================] - 40s 90ms/step - loss: 0.5610 - mse: 0.5790 - val_loss: 0.5560 - val_mse: 0.5775\n",
            "6.861390713147286e-05\n",
            "Epoch 3/100\n",
            "445/445 [==============================] - 40s 90ms/step - loss: 0.5559 - mse: 0.5704 - val_loss: 0.5538 - val_mse: 0.5738\n",
            "6.793118734839557e-05\n",
            "Epoch 4/100\n",
            "445/445 [==============================] - 40s 89ms/step - loss: 0.5532 - mse: 0.5660 - val_loss: 0.5532 - val_mse: 0.5721\n",
            "6.725526074066261e-05\n",
            "Epoch 5/100\n",
            "445/445 [==============================] - 40s 91ms/step - loss: 0.5514 - mse: 0.5630 - val_loss: 0.5515 - val_mse: 0.5698\n",
            "6.658605971504998e-05\n",
            "Epoch 6/100\n",
            "445/445 [==============================] - 40s 89ms/step - loss: 0.5499 - mse: 0.5607 - val_loss: 0.5510 - val_mse: 0.5687\n",
            "6.59235173508974e-05\n",
            "Epoch 7/100\n",
            "445/445 [==============================] - 40s 90ms/step - loss: 0.5485 - mse: 0.5584 - val_loss: 0.5499 - val_mse: 0.5675\n",
            "6.526756739341637e-05\n",
            "Epoch 8/100\n",
            "445/445 [==============================] - 40s 90ms/step - loss: 0.5470 - mse: 0.5563 - val_loss: 0.5489 - val_mse: 0.5661\n",
            "6.46181442470645e-05\n",
            "Epoch 9/100\n",
            "445/445 [==============================] - 40s 90ms/step - loss: 0.5456 - mse: 0.5543 - val_loss: 0.5480 - val_mse: 0.5647\n",
            "6.397518296898597e-05\n",
            "Epoch 10/100\n",
            "445/445 [==============================] - 40s 90ms/step - loss: 0.5441 - mse: 0.5522 - val_loss: 0.5470 - val_mse: 0.5631\n",
            "6.333861926251716e-05\n",
            "Epoch 11/100\n",
            "445/445 [==============================] - 40s 90ms/step - loss: 0.5426 - mse: 0.5500 - val_loss: 0.5459 - val_mse: 0.5617\n",
            "6.270838947075697e-05\n",
            "Epoch 12/100\n",
            "445/445 [==============================] - 40s 90ms/step - loss: 0.5412 - mse: 0.5479 - val_loss: 0.5450 - val_mse: 0.5604\n",
            "6.208443057020102e-05\n",
            "Epoch 13/100\n",
            "445/445 [==============================] - 40s 90ms/step - loss: 0.5398 - mse: 0.5459 - val_loss: 0.5442 - val_mse: 0.5590\n",
            "6.146668016443928e-05\n",
            "Epoch 14/100\n",
            "445/445 [==============================] - 40s 90ms/step - loss: 0.5384 - mse: 0.5440 - val_loss: 0.5432 - val_mse: 0.5579\n",
            "6.0855076477916406e-05\n",
            "Epoch 15/100\n",
            "445/445 [==============================] - 40s 90ms/step - loss: 0.5371 - mse: 0.5422 - val_loss: 0.5424 - val_mse: 0.5567\n",
            "6.0249558349754044e-05\n",
            "Epoch 16/100\n",
            "445/445 [==============================] - 40s 90ms/step - loss: 0.5358 - mse: 0.5405 - val_loss: 0.5418 - val_mse: 0.5558\n",
            "5.965006522763479e-05\n",
            "Epoch 17/100\n",
            "445/445 [==============================] - 40s 91ms/step - loss: 0.5347 - mse: 0.5389 - val_loss: 0.5409 - val_mse: 0.5547\n",
            "5.905653716174685e-05\n",
            "Epoch 18/100\n",
            "445/445 [==============================] - 40s 90ms/step - loss: 0.5336 - mse: 0.5374 - val_loss: 0.5401 - val_mse: 0.5537\n",
            "5.846891479878904e-05\n",
            "Epoch 19/100\n",
            "445/445 [==============================] - 40s 90ms/step - loss: 0.5325 - mse: 0.5359 - val_loss: 0.5394 - val_mse: 0.5527\n",
            "5.7887139376035354e-05\n",
            "Epoch 20/100\n",
            "445/445 [==============================] - 40s 90ms/step - loss: 0.5315 - mse: 0.5345 - val_loss: 0.5389 - val_mse: 0.5520\n",
            "5.731115271545872e-05\n",
            "Epoch 21/100\n",
            "445/445 [==============================] - 40s 90ms/step - loss: 0.5305 - mse: 0.5332 - val_loss: 0.5385 - val_mse: 0.5514\n",
            "5.674089721791309e-05\n",
            "Epoch 22/100\n",
            "445/445 [==============================] - 40s 90ms/step - loss: 0.5296 - mse: 0.5320 - val_loss: 0.5378 - val_mse: 0.5507\n",
            "5.617631585737349e-05\n",
            "Epoch 23/100\n",
            "445/445 [==============================] - 40s 90ms/step - loss: 0.5287 - mse: 0.5308 - val_loss: 0.5376 - val_mse: 0.5503\n",
            "5.561735217523338e-05\n",
            "Epoch 24/100\n",
            "445/445 [==============================] - 40s 90ms/step - loss: 0.5279 - mse: 0.5297 - val_loss: 0.5370 - val_mse: 0.5495\n",
            "5.506395027465874e-05\n",
            "Epoch 25/100\n",
            "445/445 [==============================] - 40s 90ms/step - loss: 0.5270 - mse: 0.5286 - val_loss: 0.5368 - val_mse: 0.5490\n",
            "5.4516054814998336e-05\n",
            "Epoch 26/100\n",
            "445/445 [==============================] - 40s 90ms/step - loss: 0.5263 - mse: 0.5276 - val_loss: 0.5361 - val_mse: 0.5484\n",
            "5.397361100624963e-05\n",
            "Epoch 27/100\n",
            "445/445 [==============================] - 40s 90ms/step - loss: 0.5255 - mse: 0.5267 - val_loss: 0.5362 - val_mse: 0.5481\n",
            "5.343656460357972e-05\n",
            "Epoch 28/100\n",
            "445/445 [==============================] - 40s 90ms/step - loss: 0.5248 - mse: 0.5257 - val_loss: 0.5356 - val_mse: 0.5474\n",
            "5.2904861901900776e-05\n",
            "Epoch 29/100\n",
            "445/445 [==============================] - 40s 90ms/step - loss: 0.5240 - mse: 0.5247 - val_loss: 0.5357 - val_mse: 0.5474\n",
            "5.2378449730499564e-05\n",
            "Epoch 30/100\n",
            "445/445 [==============================] - 40s 90ms/step - loss: 0.5234 - mse: 0.5239 - val_loss: 0.5349 - val_mse: 0.5467\n",
            "5.1857275447720244e-05\n",
            "Epoch 31/100\n",
            "445/445 [==============================] - 40s 90ms/step - loss: 0.5227 - mse: 0.5230 - val_loss: 0.5346 - val_mse: 0.5463\n",
            "5.1341286935700245e-05\n",
            "Epoch 32/100\n",
            "445/445 [==============================] - 40s 90ms/step - loss: 0.5221 - mse: 0.5223 - val_loss: 0.5345 - val_mse: 0.5460\n",
            "5.0830432595158364e-05\n",
            "Epoch 33/100\n",
            "445/445 [==============================] - 40s 90ms/step - loss: 0.5214 - mse: 0.5213 - val_loss: 0.5343 - val_mse: 0.5457\n",
            "5.032466134023483e-05\n",
            "Epoch 34/100\n",
            "445/445 [==============================] - 40s 90ms/step - loss: 0.5209 - mse: 0.5206 - val_loss: 0.5339 - val_mse: 0.5453\n",
            "4.982392259338267e-05\n",
            "Epoch 35/100\n",
            "445/445 [==============================] - 40s 90ms/step - loss: 0.5203 - mse: 0.5198 - val_loss: 0.5337 - val_mse: 0.5450\n",
            "4.9328166280309935e-05\n",
            "Epoch 36/100\n",
            "445/445 [==============================] - 40s 90ms/step - loss: 0.5197 - mse: 0.5192 - val_loss: 0.5335 - val_mse: 0.5448\n",
            "4.8837342824972166e-05\n",
            "Epoch 37/100\n",
            "445/445 [==============================] - 40s 90ms/step - loss: 0.5192 - mse: 0.5185 - val_loss: 0.5333 - val_mse: 0.5445\n",
            "4.8351403144614824e-05\n",
            "Epoch 38/100\n",
            "445/445 [==============================] - 40s 90ms/step - loss: 0.5187 - mse: 0.5178 - val_loss: 0.5330 - val_mse: 0.5443\n",
            "4.78702986448649e-05\n",
            "Epoch 39/100\n",
            "445/445 [==============================] - 40s 91ms/step - loss: 0.5182 - mse: 0.5172 - val_loss: 0.5330 - val_mse: 0.5439\n",
            "4.739398121487152e-05\n",
            "Epoch 40/100\n",
            "445/445 [==============================] - 40s 90ms/step - loss: 0.5177 - mse: 0.5165 - val_loss: 0.5328 - val_mse: 0.5440\n",
            "4.692240322249475e-05\n",
            "Epoch 41/100\n",
            "445/445 [==============================] - 40s 90ms/step - loss: 0.5172 - mse: 0.5159 - val_loss: 0.5327 - val_mse: 0.5437\n",
            "4.6455517509542355e-05\n",
            "Epoch 42/100\n",
            "445/445 [==============================] - 40s 90ms/step - loss: 0.5167 - mse: 0.5153 - val_loss: 0.5324 - val_mse: 0.5434\n",
            "4.599327738705397e-05\n",
            "Epoch 43/100\n",
            "445/445 [==============================] - 40s 90ms/step - loss: 0.5162 - mse: 0.5147 - val_loss: 0.5321 - val_mse: 0.5431\n",
            "4.553563663063215e-05\n",
            "Epoch 44/100\n",
            "445/445 [==============================] - 40s 90ms/step - loss: 0.5158 - mse: 0.5141 - val_loss: 0.5320 - val_mse: 0.5430\n",
            "4.508254947581989e-05\n",
            "Epoch 45/100\n",
            "445/445 [==============================] - 40s 90ms/step - loss: 0.5154 - mse: 0.5137 - val_loss: 0.5321 - val_mse: 0.5430\n",
            "4.463397061352413e-05\n",
            "Epoch 46/100\n",
            "445/445 [==============================] - 40s 90ms/step - loss: 0.5150 - mse: 0.5131 - val_loss: 0.5318 - val_mse: 0.5427\n",
            "4.418985518548481e-05\n",
            "Epoch 47/100\n",
            "445/445 [==============================] - 40s 90ms/step - loss: 0.5145 - mse: 0.5126 - val_loss: 0.5319 - val_mse: 0.5427\n",
            "4.375015877978905e-05\n",
            "Epoch 48/100\n",
            "445/445 [==============================] - 40s 90ms/step - loss: 0.5141 - mse: 0.5121 - val_loss: 0.5317 - val_mse: 0.5425\n",
            "4.3314837426429856e-05\n",
            "Epoch 49/100\n",
            "445/445 [==============================] - 40s 90ms/step - loss: 0.5137 - mse: 0.5116 - val_loss: 0.5316 - val_mse: 0.5424\n",
            "4.2883847592909124e-05\n",
            "Epoch 50/100\n",
            "445/445 [==============================] - 40s 90ms/step - loss: 0.5134 - mse: 0.5111 - val_loss: 0.5315 - val_mse: 0.5422\n",
            "4.2457146179884336e-05\n",
            "Epoch 51/100\n",
            "445/445 [==============================] - 40s 90ms/step - loss: 0.5130 - mse: 0.5107 - val_loss: 0.5315 - val_mse: 0.5422\n",
            "4.203469051685861e-05\n",
            "Epoch 52/100\n",
            "445/445 [==============================] - 40s 90ms/step - loss: 0.5126 - mse: 0.5102 - val_loss: 0.5313 - val_mse: 0.5420\n",
            "4.16164383579136e-05\n",
            "Epoch 53/100\n",
            "445/445 [==============================] - 40s 90ms/step - loss: 0.5123 - mse: 0.5098 - val_loss: 0.5312 - val_mse: 0.5419\n",
            "4.120234787748486e-05\n",
            "Epoch 54/100\n",
            "445/445 [==============================] - 40s 90ms/step - loss: 0.5119 - mse: 0.5093 - val_loss: 0.5312 - val_mse: 0.5419\n",
            "4.079237766617927e-05\n",
            "Epoch 55/100\n",
            "445/445 [==============================] - 40s 90ms/step - loss: 0.5116 - mse: 0.5089 - val_loss: 0.5311 - val_mse: 0.5417\n",
            "4.038648672663406e-05\n",
            "Epoch 56/100\n",
            "445/445 [==============================] - 40s 90ms/step - loss: 0.5112 - mse: 0.5085 - val_loss: 0.5309 - val_mse: 0.5415\n",
            "3.9984634469417036e-05\n",
            "Epoch 57/100\n",
            "445/445 [==============================] - 40s 90ms/step - loss: 0.5109 - mse: 0.5081 - val_loss: 0.5310 - val_mse: 0.5415\n",
            "3.958678070896759e-05\n",
            "Epoch 58/100\n",
            "445/445 [==============================] - 40s 90ms/step - loss: 0.5106 - mse: 0.5077 - val_loss: 0.5309 - val_mse: 0.5414\n",
            "3.919288565957814e-05\n",
            "Epoch 59/100\n",
            "445/445 [==============================] - 40s 90ms/step - loss: 0.5103 - mse: 0.5073 - val_loss: 0.5308 - val_mse: 0.5414\n",
            "3.880290993141549e-05\n",
            "Epoch 60/100\n",
            "445/445 [==============================] - 40s 90ms/step - loss: 0.5100 - mse: 0.5069 - val_loss: 0.5307 - val_mse: 0.5413\n",
            "3.841681452658184e-05\n",
            "Epoch 61/100\n",
            "445/445 [==============================] - 40s 90ms/step - loss: 0.5097 - mse: 0.5066 - val_loss: 0.5306 - val_mse: 0.5412\n",
            "3.803456083521498e-05\n",
            "Epoch 62/100\n",
            "445/445 [==============================] - 40s 90ms/step - loss: 0.5094 - mse: 0.5062 - val_loss: 0.5307 - val_mse: 0.5413\n",
            "3.765611063162721e-05\n",
            "Epoch 63/100\n",
            "445/445 [==============================] - 40s 90ms/step - loss: 0.5091 - mse: 0.5059 - val_loss: 0.5305 - val_mse: 0.5411\n",
            "3.72814260704828e-05\n",
            "Epoch 64/100\n",
            "445/445 [==============================] - 40s 90ms/step - loss: 0.5089 - mse: 0.5056 - val_loss: 0.5305 - val_mse: 0.5410\n",
            "3.691046968301339e-05\n",
            "Epoch 65/100\n",
            "445/445 [==============================] - 40s 90ms/step - loss: 0.5085 - mse: 0.5052 - val_loss: 0.5305 - val_mse: 0.5410\n",
            "3.654320437327112e-05\n",
            "Epoch 66/100\n",
            "445/445 [==============================] - 40s 90ms/step - loss: 0.5083 - mse: 0.5049 - val_loss: 0.5304 - val_mse: 0.5409\n",
            "3.617959341441894e-05\n",
            "Epoch 67/100\n",
            "445/445 [==============================] - 40s 90ms/step - loss: 0.5080 - mse: 0.5046 - val_loss: 0.5304 - val_mse: 0.5408\n",
            "3.581960044505797e-05\n",
            "Epoch 68/100\n",
            "445/445 [==============================] - 40s 90ms/step - loss: 0.5078 - mse: 0.5042 - val_loss: 0.5306 - val_mse: 0.5410\n",
            "3.546318946559126e-05\n",
            "Epoch 69/100\n",
            "445/445 [==============================] - 40s 90ms/step - loss: 0.5075 - mse: 0.5039 - val_loss: 0.5303 - val_mse: 0.5407\n",
            "3.511032483462388e-05\n",
            "Epoch 70/100\n",
            "445/445 [==============================] - 40s 90ms/step - loss: 0.5073 - mse: 0.5036 - val_loss: 0.5303 - val_mse: 0.5408\n",
            "3.476097126539866e-05\n",
            "Epoch 71/100\n",
            "445/445 [==============================] - 40s 90ms/step - loss: 0.5070 - mse: 0.5033 - val_loss: 0.5302 - val_mse: 0.5407\n",
            "3.4415093822267557e-05\n",
            "Epoch 72/100\n",
            "445/445 [==============================] - 40s 90ms/step - loss: 0.5068 - mse: 0.5031 - val_loss: 0.5302 - val_mse: 0.5407\n",
            "3.407265791719801e-05\n",
            "Epoch 73/100\n",
            "445/445 [==============================] - 40s 90ms/step - loss: 0.5066 - mse: 0.5028 - val_loss: 0.5302 - val_mse: 0.5407\n",
            "3.373362930631417e-05\n",
            "Epoch 74/100\n",
            "445/445 [==============================] - 40s 90ms/step - loss: 0.5063 - mse: 0.5025 - val_loss: 0.5301 - val_mse: 0.5406\n",
            "3.3397974086472404e-05\n",
            "Epoch 75/100\n",
            "445/445 [==============================] - 40s 90ms/step - loss: 0.5061 - mse: 0.5022 - val_loss: 0.5300 - val_mse: 0.5405\n",
            "3.306565869187102e-05\n",
            "Epoch 76/100\n",
            "445/445 [==============================] - 40s 90ms/step - loss: 0.5059 - mse: 0.5019 - val_loss: 0.5301 - val_mse: 0.5406\n",
            "3.273664989069364e-05\n",
            "Epoch 77/100\n",
            "445/445 [==============================] - 40s 90ms/step - loss: 0.5057 - mse: 0.5017 - val_loss: 0.5301 - val_mse: 0.5405\n",
            "3.241091478178596e-05\n",
            "Epoch 78/100\n",
            "445/445 [==============================] - 40s 90ms/step - loss: 0.5055 - mse: 0.5014 - val_loss: 0.5300 - val_mse: 0.5405\n",
            "3.208842079136564e-05\n",
            "Epoch 79/100\n",
            "445/445 [==============================] - 40s 90ms/step - loss: 0.5053 - mse: 0.5012 - val_loss: 0.5301 - val_mse: 0.5406\n",
            "3.1769135669764906e-05\n",
            "Epoch 80/100\n",
            "445/445 [==============================] - 40s 90ms/step - loss: 0.5051 - mse: 0.5010 - val_loss: 0.5301 - val_mse: 0.5405\n",
            "3.1453027488205504e-05\n",
            "Epoch 81/100\n",
            "445/445 [==============================] - 40s 90ms/step - loss: 0.5048 - mse: 0.5007 - val_loss: 0.5300 - val_mse: 0.5405\n",
            "3.114006463560587e-05\n",
            "Epoch 82/100\n",
            "445/445 [==============================] - 40s 90ms/step - loss: 0.5047 - mse: 0.5005 - val_loss: 0.5299 - val_mse: 0.5403\n",
            "3.0830215815419946e-05\n",
            "Epoch 83/100\n",
            "445/445 [==============================] - 40s 90ms/step - loss: 0.5045 - mse: 0.5003 - val_loss: 0.5299 - val_mse: 0.5405\n",
            "3.0523450042507484e-05\n",
            "Epoch 84/100\n",
            "445/445 [==============================] - 40s 90ms/step - loss: 0.5043 - mse: 0.5000 - val_loss: 0.5299 - val_mse: 0.5404\n",
            "3.0219736640035578e-05\n",
            "Epoch 85/100\n",
            "445/445 [==============================] - 40s 90ms/step - loss: 0.5041 - mse: 0.4998 - val_loss: 0.5300 - val_mse: 0.5404\n",
            "2.9919045236410866e-05\n",
            "Epoch 86/100\n",
            "445/445 [==============================] - 40s 90ms/step - loss: 0.5039 - mse: 0.4996 - val_loss: 0.5299 - val_mse: 0.5404\n",
            "2.9621345762242415e-05\n",
            "Epoch 87/100\n",
            "445/445 [==============================] - 40s 90ms/step - loss: 0.5037 - mse: 0.4994 - val_loss: 0.5299 - val_mse: 0.5403\n",
            "2.932660844733473e-05\n",
            "Epoch 88/100\n",
            "445/445 [==============================] - 40s 91ms/step - loss: 0.5035 - mse: 0.4992 - val_loss: 0.5299 - val_mse: 0.5403\n",
            "2.9034803817710693e-05\n",
            "Epoch 89/100\n",
            "445/445 [==============================] - 40s 90ms/step - loss: 0.5034 - mse: 0.4990 - val_loss: 0.5299 - val_mse: 0.5403\n",
            "2.8745902692664182e-05\n",
            "Epoch 90/100\n",
            "445/445 [==============================] - 40s 90ms/step - loss: 0.5032 - mse: 0.4988 - val_loss: 0.5299 - val_mse: 0.5403\n",
            "2.8459876181841934e-05\n",
            "Epoch 91/100\n",
            "445/445 [==============================] - 40s 90ms/step - loss: 0.5031 - mse: 0.4986 - val_loss: 0.5298 - val_mse: 0.5403\n",
            "2.8176695682354516e-05\n",
            "Epoch 92/100\n",
            "445/445 [==============================] - 40s 90ms/step - loss: 0.5029 - mse: 0.4984 - val_loss: 0.5299 - val_mse: 0.5404\n",
            "2.7896332875915988e-05\n",
            "Epoch 93/100\n",
            "445/445 [==============================] - 40s 90ms/step - loss: 0.5027 - mse: 0.4982 - val_loss: 0.5298 - val_mse: 0.5402\n",
            "2.7618759726012073e-05\n",
            "Epoch 94/100\n",
            "445/445 [==============================] - 40s 90ms/step - loss: 0.5026 - mse: 0.4980 - val_loss: 0.5298 - val_mse: 0.5402\n",
            "2.7343948475096473e-05\n",
            "Epoch 95/100\n",
            "445/445 [==============================] - 40s 90ms/step - loss: 0.5024 - mse: 0.4978 - val_loss: 0.5298 - val_mse: 0.5402\n",
            "2.707187164181508e-05\n",
            "Epoch 96/100\n",
            "445/445 [==============================] - 40s 90ms/step - loss: 0.5022 - mse: 0.4976 - val_loss: 0.5298 - val_mse: 0.5403\n",
            "2.680250201825784e-05\n",
            "Epoch 97/100\n",
            "445/445 [==============================] - 40s 90ms/step - loss: 0.5021 - mse: 0.4974 - val_loss: 0.5298 - val_mse: 0.5403\n",
            "2.6535812667237916e-05\n",
            "Epoch 98/100\n",
            "445/445 [==============================] - 40s 90ms/step - loss: 0.5020 - mse: 0.4973 - val_loss: 0.5298 - val_mse: 0.5403\n",
            "2.6271776919597968e-05\n",
            "Epoch 99/100\n",
            "445/445 [==============================] - 40s 90ms/step - loss: 0.5018 - mse: 0.4971 - val_loss: 0.5298 - val_mse: 0.5403\n",
            "2.6010368371543196e-05\n",
            "Epoch 100/100\n",
            "445/445 [==============================] - 40s 91ms/step - loss: 0.5017 - mse: 0.4969 - val_loss: 0.5297 - val_mse: 0.5402\n"
          ],
          "name": "stdout"
        }
      ]
    },
    {
      "cell_type": "code",
      "metadata": {
        "id": "c0yMxSO6bneN",
        "outputId": "cb830822-96d5-41d9-ad93-711b09eedec6",
        "colab": {
          "base_uri": "https://localhost:8080/",
          "height": 281
        }
      },
      "source": [
        "%matplotlib inline\n",
        "import matplotlib.pyplot as plt\n",
        "loss = history.history['loss']\n",
        "val_loss = history.history['val_loss']\n",
        "\n",
        "epochs = range(len(loss))\n",
        "\n",
        "plt.plot(epochs, loss, 'r', label='Training Loss')\n",
        "plt.plot(epochs, val_loss, 'b', label='Validation Loss')\n",
        "plt.title('Training and validation loss')\n",
        "plt.legend()\n",
        "plt.show()\n"
      ],
      "execution_count": 18,
      "outputs": [
        {
          "output_type": "display_data",
          "data": {
            "image/png": "[encoded data removed]",
            "text/plain": [
              "<Figure size 432x288 with 1 Axes>"
            ]
          },
          "metadata": {
            "tags": [],
            "needs_background": "light"
          }
        }
      ]
    },
    {
      "cell_type": "code",
      "metadata": {
        "id": "WEJH-YGu2Co5"
      },
      "source": [
        "data1 = pd.DataFrame([history.history['loss'],history.history['val_loss']])\n",
        "data1.to_csv(\"tanh_decay.csv\")"
      ],
      "execution_count": 19,
      "outputs": []
    },
    {
      "cell_type": "code",
      "metadata": {
        "id": "Ta9mK1y83JXF",
        "outputId": "94058664-880f-4552-f3eb-4fc61be5c0f0",
        "colab": {
          "base_uri": "https://localhost:8080/",
          "height": 225
        }
      },
      "source": [
        "arelu.iloc[1][:]"
      ],
      "execution_count": 45,
      "outputs": [
        {
          "output_type": "execute_result",
          "data": {
            "text/plain": [
              "Unnamed: 0    1.000000\n",
              "0             0.580835\n",
              "1             0.547901\n",
              "2             0.544326\n",
              "3             0.541455\n",
              "                ...   \n",
              "95            0.522591\n",
              "96            0.522383\n",
              "97            0.522581\n",
              "98            0.522138\n",
              "99            0.522328\n",
              "Name: 1, Length: 101, dtype: float64"
            ]
          },
          "metadata": {
            "tags": []
          },
          "execution_count": 45
        }
      ]
    },
    {
      "cell_type": "markdown",
      "metadata": {
        "id": "_saHh-QbBVyE"
      },
      "source": [
        "# Visualization"
      ]
    },
    {
      "cell_type": "code",
      "metadata": {
        "id": "aKWBnNVtBovP",
        "outputId": "716ab1c9-f1d9-484e-a907-96f653f5896e",
        "colab": {
          "base_uri": "https://localhost:8080/",
          "height": 34
        }
      },
      "source": [
        "cd My\\ Drive/Parsimonious_data"
      ],
      "execution_count": 28,
      "outputs": [
        {
          "output_type": "stream",
          "text": [
            "/content/drive/My Drive/Parsimonious_data\n"
          ],
          "name": "stdout"
        }
      ]
    },
    {
      "cell_type": "code",
      "metadata": {
        "id": "b0R2HtKKBXw5"
      },
      "source": [
        "arelu_const = pd.read_csv(\"arelu_const.csv\")\n",
        "relu_const = pd.read_csv(\"relu_const.csv\")\n",
        "sigmoid_const = pd.read_csv(\"sigmoid_const.csv\")\n",
        "tanh_const = pd.read_csv(\"tanh_const.csv\")\n",
        "\n",
        "arelu = pd.read_csv(\"arelu.csv\")\n",
        "relu = pd.read_csv(\"relu.csv\")\n",
        "sigmoid = pd.read_csv(\"sigmoid.csv\")\n",
        "tanh = pd.read_csv(\"tanh.csv\")\n",
        "\n",
        "arelu_decay = pd.read_csv(\"arelu_decay.csv\")\n",
        "relu_decay = pd.read_csv(\"relu_decay.csv\")\n",
        "sigmoid_decay = pd.read_csv(\"sigmoid_decay.csv\")\n",
        "tanh_decay = pd.read_csv(\"tanh_decay.csv\")"
      ],
      "execution_count": 38,
      "outputs": []
    },
    {
      "cell_type": "code",
      "metadata": {
        "id": "zBsmmH0nBbXj",
        "outputId": "fa201d1f-2286-4aff-d720-d80948992b46",
        "colab": {
          "base_uri": "https://localhost:8080/",
          "height": 281
        }
      },
      "source": [
        "%matplotlib inline\n",
        "import matplotlib.pyplot as plt\n",
        "arelu_const_loss = arelu_const.iloc[0][1:]\n",
        "relu_const_loss = relu_const.iloc[0][1:]\n",
        "sigmoid_const_loss = sigmoid_const.iloc[0][1:]\n",
        "tanh_const_loss = tanh_const.iloc[0][1:]\n",
        "\n",
        "epochs = range(len(arelu_const_loss))\n",
        "\n",
        "plt.plot(epochs, arelu_const_loss, 'r', label='A-ReLU')\n",
        "plt.plot(epochs, relu_const_loss, 'b', label='ReLU')\n",
        "plt.plot(epochs, sigmoid_const_loss, 'g', label='Sigmoid')\n",
        "plt.plot(epochs, tanh_const_loss, 'y', label='Tanh')\n",
        "plt.title('Performance of Different Activation values under constant LR')\n",
        "plt.legend()\n",
        "plt.show()\n"
      ],
      "execution_count": 55,
      "outputs": [
        {
          "output_type": "display_data",
          "data": {
            "image/png": "[encoded data removed]",
            "text/plain": [
              "<Figure size 432x288 with 1 Axes>"
            ]
          },
          "metadata": {
            "tags": [],
            "needs_background": "light"
          }
        }
      ]
    },
    {
      "cell_type": "code",
      "metadata": {
        "id": "evACETuHL6Z0",
        "outputId": "e65446de-c806-4d4e-e1e0-182b6ed46f08",
        "colab": {
          "base_uri": "https://localhost:8080/",
          "height": 281
        }
      },
      "source": [
        "%matplotlib inline\n",
        "import matplotlib.pyplot as plt\n",
        "arelu_const_loss = arelu_const.iloc[0][1:]\n",
        "relu_const_loss = relu_const.iloc[0][1:]\n",
        "sigmoid_const_loss = sigmoid_const.iloc[0][1:]\n",
        "tanh_const_loss = tanh_const.iloc[0][1:]\n",
        "\n",
        "epochs = range(len(arelu_const_loss))\n",
        "\n",
        "plt.plot(epochs, arelu_const_loss, 'r', label='A-ReLU')\n",
        "plt.plot(epochs, relu_const_loss, 'b', label='ReLU')\n",
        "plt.plot(epochs, sigmoid_const_loss, 'g', label='Sigmoid')\n",
        "plt.plot(epochs, tanh_const_loss, 'y', label='Tanh')\n",
        "plt.ylim(0.56,0.7)\n",
        "plt.title('Performance of Different Activation values under constant LR')\n",
        "plt.legend()\n",
        "plt.show()\n"
      ],
      "execution_count": 70,
      "outputs": [
        {
          "output_type": "display_data",
          "data": {
            "image/png": "[encoded data removed]",
            "text/plain": [
              "<Figure size 432x288 with 1 Axes>"
            ]
          },
          "metadata": {
            "tags": [],
            "needs_background": "light"
          }
        }
      ]
    },
    {
      "cell_type": "code",
      "metadata": {
        "id": "OhKVHJ3HBbfv",
        "outputId": "9c351763-a46c-4862-8e40-0e7a91f42178",
        "colab": {
          "base_uri": "https://localhost:8080/",
          "height": 281
        }
      },
      "source": [
        "%matplotlib inline\n",
        "import matplotlib.pyplot as plt\n",
        "arelu_lalr_loss = arelu.iloc[0][1:]\n",
        "relu_lalr_loss = relu.iloc[0][1:]\n",
        "sigmoid_lalr_loss = sigmoid.iloc[0][1:]\n",
        "tanh_lalr_loss = tanh.iloc[0][1:]\n",
        "\n",
        "epochs = range(len(arelu_lalr_loss))\n",
        "\n",
        "plt.plot(epochs, relu_lalr_loss, 'r', label='A-ReLU')\n",
        "plt.plot(epochs, arelu_lalr_loss, 'b', label='ReLU')\n",
        "plt.plot(epochs, sigmoid_lalr_loss, 'g', label='Sigmoid')\n",
        "plt.plot(epochs, tanh_lalr_loss, 'y', label='Tanh')\n",
        "plt.title('Performance of Different Activation values under Lipschitz Adaptive LR')\n",
        "plt.legend()\n",
        "plt.show()\n"
      ],
      "execution_count": 62,
      "outputs": [
        {
          "output_type": "display_data",
          "data": {
            "image/png": "[encoded data removed]",
            "text/plain": [
              "<Figure size 432x288 with 1 Axes>"
            ]
          },
          "metadata": {
            "tags": [],
            "needs_background": "light"
          }
        }
      ]
    },
    {
      "cell_type": "code",
      "metadata": {
        "id": "jXqhuVYoBbjw",
        "outputId": "d9d57d47-01eb-4139-9631-111f3f7bdc07",
        "colab": {
          "base_uri": "https://localhost:8080/",
          "height": 281
        }
      },
      "source": [
        "%matplotlib inline\n",
        "import matplotlib.pyplot as plt\n",
        "arelu_lalr_loss = arelu.iloc[0][1:]\n",
        "relu_lalr_loss = relu.iloc[0][1:]\n",
        "sigmoid_lalr_loss = sigmoid.iloc[0][1:]\n",
        "tanh_lalr_loss = tanh.iloc[0][1:]\n",
        "\n",
        "epochs = range(len(arelu_lalr_loss))\n",
        "\n",
        "plt.plot(epochs, relu_lalr_loss, 'r', label='A-ReLU')\n",
        "plt.plot(epochs, arelu_lalr_loss, 'b', label='ReLU')\n",
        "plt.plot(epochs, sigmoid_lalr_loss, 'g', label='Sigmoid')\n",
        "plt.plot(epochs, tanh_lalr_loss, 'y', label='Tanh')\n",
        "plt.ylim(0.48,0.55)\n",
        "plt.title('Performance of Different Activation values under Lipschitz Adaptive LR')\n",
        "plt.legend()\n",
        "plt.show()\n"
      ],
      "execution_count": 61,
      "outputs": [
        {
          "output_type": "display_data",
          "data": {
            "image/png": "[encoded data removed]",
            "text/plain": [
              "<Figure size 432x288 with 1 Axes>"
            ]
          },
          "metadata": {
            "tags": [],
            "needs_background": "light"
          }
        }
      ]
    },
    {
      "cell_type": "code",
      "metadata": {
        "id": "PygwBBdOBbiq",
        "outputId": "bb7bee3a-6201-443c-f19b-58ac814169a5",
        "colab": {
          "base_uri": "https://localhost:8080/",
          "height": 281
        }
      },
      "source": [
        "%matplotlib inline\n",
        "import matplotlib.pyplot as plt\n",
        "arelu_decay_loss = arelu_decay.iloc[0][1:]\n",
        "relu_decay_loss = relu_decay.iloc[0][1:]\n",
        "sigmoid_decay_loss = sigmoid_decay.iloc[0][1:]\n",
        "tanh_decay_loss = tanh_decay.iloc[0][1:]\n",
        "\n",
        "epochs = range(len(arelu_decay_loss))\n",
        "\n",
        "plt.plot(epochs, arelu_decay_loss, 'r', label='A-ReLU')\n",
        "plt.plot(epochs, relu_decay_loss, 'b', label='ReLU')\n",
        "plt.plot(epochs, sigmoid_decay_loss, 'g', label='Sigmoid')\n",
        "plt.plot(epochs, tanh_decay_loss, 'y', label='Tanh')\n",
        "plt.title('Performance of Different Activation values under Decay LR')\n",
        "plt.legend()\n",
        "plt.show()\n"
      ],
      "execution_count": 63,
      "outputs": [
        {
          "output_type": "display_data",
          "data": {
            "image/png": "[encoded data removed]",
            "text/plain": [
              "<Figure size 432x288 with 1 Axes>"
            ]
          },
          "metadata": {
            "tags": [],
            "needs_background": "light"
          }
        }
      ]
    },
    {
      "cell_type": "code",
      "metadata": {
        "id": "S6I49OxNBbbm",
        "outputId": "d69c7fd0-9535-4482-fe53-d33350bd241b",
        "colab": {
          "base_uri": "https://localhost:8080/",
          "height": 281
        }
      },
      "source": [
        "%matplotlib inline\n",
        "import matplotlib.pyplot as plt\n",
        "arelu_decay_loss = arelu_decay.iloc[0][1:]\n",
        "relu_decay_loss = relu_decay.iloc[0][1:]\n",
        "sigmoid_decay_loss = sigmoid_decay.iloc[0][1:]\n",
        "tanh_decay_loss = tanh_decay.iloc[0][1:]\n",
        "\n",
        "epochs = range(len(arelu_decay_loss))\n",
        "\n",
        "plt.plot(epochs, arelu_decay_loss, 'r', label='A-ReLU')\n",
        "plt.plot(epochs, relu_decay_loss, 'b', label='ReLU')\n",
        "plt.plot(epochs, sigmoid_decay_loss, 'g', label='Sigmoid')\n",
        "plt.plot(epochs, tanh_decay_loss, 'y', label='Tanh')\n",
        "plt.ylim(0.48,0.54)\n",
        "plt.title('Performance of Different Activation values under Decay LR')\n",
        "plt.legend()\n",
        "plt.show()\n"
      ],
      "execution_count": 66,
      "outputs": [
        {
          "output_type": "display_data",
          "data": {
            "image/png": "[encoded data removed]",
            "text/plain": [
              "<Figure size 432x288 with 1 Axes>"
            ]
          },
          "metadata": {
            "tags": [],
            "needs_background": "light"
          }
        }
      ]
    },
    {
      "cell_type": "code",
      "metadata": {
        "id": "e70Pz1cKId4e"
      },
      "source": [
        ""
      ],
      "execution_count": null,
      "outputs": []
    }
  ]
}